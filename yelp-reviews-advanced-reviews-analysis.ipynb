{
 "cells": [
  {
   "cell_type": "markdown",
   "id": "33055576",
   "metadata": {
    "execution": {
     "iopub.execute_input": "2024-04-29T22:29:18.096032Z",
     "iopub.status.busy": "2024-04-29T22:29:18.095066Z",
     "iopub.status.idle": "2024-04-29T22:29:18.111511Z",
     "shell.execute_reply": "2024-04-29T22:29:18.109775Z",
     "shell.execute_reply.started": "2024-04-29T22:29:18.095987Z"
    },
    "papermill": {
     "duration": 0.009828,
     "end_time": "2024-04-30T04:02:50.232827",
     "exception": false,
     "start_time": "2024-04-30T04:02:50.222999",
     "status": "completed"
    },
    "tags": []
   },
   "source": [
    "* [Yelp, Not Kaggle Data Source](https://www.yelp.com/dataset/download)\n",
    "* [Data Dictionary](https://www.yelp.com/dataset/documentation/main)"
   ]
  },
  {
   "cell_type": "markdown",
   "id": "0ede3be2",
   "metadata": {
    "execution": {
     "iopub.execute_input": "2024-04-29T22:25:47.780951Z",
     "iopub.status.busy": "2024-04-29T22:25:47.780396Z",
     "iopub.status.idle": "2024-04-29T22:25:47.787945Z",
     "shell.execute_reply": "2024-04-29T22:25:47.786257Z",
     "shell.execute_reply.started": "2024-04-29T22:25:47.780911Z"
    },
    "papermill": {
     "duration": 0.00763,
     "end_time": "2024-04-30T04:02:50.248991",
     "exception": false,
     "start_time": "2024-04-30T04:02:50.241361",
     "status": "completed"
    },
    "tags": []
   },
   "source": [
    "* [ ] Get data into csv to work in pandas\n",
    "* [ ] Perform sentiment classification with Hugging Face model\n",
    "* [ ] Extract from text key words that resulted in sentiment class\n",
    "* [ ] topic modeling?\n",
    "* [ ] other advanced analytics for reviews using LLM/HuggingFace\n",
    "* [ ] compare competition side-by-side (Japanese restaurants)\n",
    "* [ ] get criteria for ranking/qualities in school based on aggregation of reviews"
   ]
  },
  {
   "cell_type": "code",
   "execution_count": 1,
   "id": "147cf935",
   "metadata": {
    "execution": {
     "iopub.execute_input": "2024-04-30T04:02:50.270389Z",
     "iopub.status.busy": "2024-04-30T04:02:50.268935Z",
     "iopub.status.idle": "2024-04-30T04:03:12.242718Z",
     "shell.execute_reply": "2024-04-30T04:03:12.240890Z"
    },
    "papermill": {
     "duration": 21.987496,
     "end_time": "2024-04-30T04:03:12.246037",
     "exception": false,
     "start_time": "2024-04-30T04:02:50.258541",
     "status": "completed"
    },
    "tags": []
   },
   "outputs": [],
   "source": [
    "!pip install duckdb jupysql --quiet"
   ]
  },
  {
   "cell_type": "code",
   "execution_count": 2,
   "id": "2f61eff1",
   "metadata": {
    "_cell_guid": "b1076dfc-b9ad-4769-8c92-a6c4dae69d19",
    "_uuid": "8f2839f25d086af736a60e9eeb907d3b93b6e0e5",
    "execution": {
     "iopub.execute_input": "2024-04-30T04:03:12.265008Z",
     "iopub.status.busy": "2024-04-30T04:03:12.264591Z",
     "iopub.status.idle": "2024-04-30T04:03:15.377757Z",
     "shell.execute_reply": "2024-04-30T04:03:15.376155Z"
    },
    "papermill": {
     "duration": 3.126616,
     "end_time": "2024-04-30T04:03:15.381141",
     "exception": false,
     "start_time": "2024-04-30T04:03:12.254525",
     "status": "completed"
    },
    "tags": []
   },
   "outputs": [
    {
     "name": "stdout",
     "output_type": "stream",
     "text": [
      "Deploy Flask apps for free on Ploomber Cloud! Learn more: https://ploomber.io/s/signup\n"
     ]
    }
   ],
   "source": [
    "import pandas as pd\n",
    "import duckdb\n",
    "\n",
    "%load_ext sql\n",
    "conn = duckdb.connect()\n",
    "%sql conn --alias duckdb"
   ]
  },
  {
   "cell_type": "markdown",
   "id": "338d8f42",
   "metadata": {
    "papermill": {
     "duration": 0.008571,
     "end_time": "2024-04-30T04:03:15.398459",
     "exception": false,
     "start_time": "2024-04-30T04:03:15.389888",
     "status": "completed"
    },
    "tags": []
   },
   "source": [
    "# Get relevant data (business, review, user)\n",
    "Data Ingestion credit: https://towardsdatascience.com/converting-yelp-dataset-to-csv-using-pandas-2a4c8f03bd88"
   ]
  },
  {
   "cell_type": "code",
   "execution_count": 3,
   "id": "a803c164",
   "metadata": {
    "execution": {
     "iopub.execute_input": "2024-04-30T04:03:15.417975Z",
     "iopub.status.busy": "2024-04-30T04:03:15.417271Z",
     "iopub.status.idle": "2024-04-30T04:03:22.876979Z",
     "shell.execute_reply": "2024-04-30T04:03:22.875694Z"
    },
    "papermill": {
     "duration": 7.473493,
     "end_time": "2024-04-30T04:03:22.880188",
     "exception": false,
     "start_time": "2024-04-30T04:03:15.406695",
     "status": "completed"
    },
    "tags": []
   },
   "outputs": [
    {
     "data": {
      "text/html": [
       "<div>\n",
       "<style scoped>\n",
       "    .dataframe tbody tr th:only-of-type {\n",
       "        vertical-align: middle;\n",
       "    }\n",
       "\n",
       "    .dataframe tbody tr th {\n",
       "        vertical-align: top;\n",
       "    }\n",
       "\n",
       "    .dataframe thead th {\n",
       "        text-align: right;\n",
       "    }\n",
       "</style>\n",
       "<table border=\"1\" class=\"dataframe\">\n",
       "  <thead>\n",
       "    <tr style=\"text-align: right;\">\n",
       "      <th></th>\n",
       "      <th>business_id</th>\n",
       "      <th>name</th>\n",
       "      <th>address</th>\n",
       "      <th>city</th>\n",
       "      <th>state</th>\n",
       "      <th>postal_code</th>\n",
       "      <th>latitude</th>\n",
       "      <th>longitude</th>\n",
       "      <th>stars</th>\n",
       "      <th>review_count</th>\n",
       "      <th>is_open</th>\n",
       "      <th>attributes</th>\n",
       "      <th>categories</th>\n",
       "      <th>hours</th>\n",
       "    </tr>\n",
       "  </thead>\n",
       "  <tbody>\n",
       "    <tr>\n",
       "      <th>0</th>\n",
       "      <td>Pns2l4eNsfO8kk83dixA6A</td>\n",
       "      <td>Abby Rappoport, LAC, CMQ</td>\n",
       "      <td>1616 Chapala St, Ste 2</td>\n",
       "      <td>Santa Barbara</td>\n",
       "      <td>CA</td>\n",
       "      <td>93101</td>\n",
       "      <td>34.426679</td>\n",
       "      <td>-119.711197</td>\n",
       "      <td>5.0</td>\n",
       "      <td>7</td>\n",
       "      <td>0</td>\n",
       "      <td>{'ByAppointmentOnly': 'True'}</td>\n",
       "      <td>Doctors, Traditional Chinese Medicine, Naturop...</td>\n",
       "      <td>None</td>\n",
       "    </tr>\n",
       "    <tr>\n",
       "      <th>1</th>\n",
       "      <td>mpf3x-BjTdTEA3yCZrAYPw</td>\n",
       "      <td>The UPS Store</td>\n",
       "      <td>87 Grasso Plaza Shopping Center</td>\n",
       "      <td>Affton</td>\n",
       "      <td>MO</td>\n",
       "      <td>63123</td>\n",
       "      <td>38.551126</td>\n",
       "      <td>-90.335695</td>\n",
       "      <td>3.0</td>\n",
       "      <td>15</td>\n",
       "      <td>1</td>\n",
       "      <td>{'BusinessAcceptsCreditCards': 'True'}</td>\n",
       "      <td>Shipping Centers, Local Services, Notaries, Ma...</td>\n",
       "      <td>{'Monday': '0:0-0:0', 'Tuesday': '8:0-18:30', ...</td>\n",
       "    </tr>\n",
       "    <tr>\n",
       "      <th>2</th>\n",
       "      <td>tUFrWirKiKi_TAnsVWINQQ</td>\n",
       "      <td>Target</td>\n",
       "      <td>5255 E Broadway Blvd</td>\n",
       "      <td>Tucson</td>\n",
       "      <td>AZ</td>\n",
       "      <td>85711</td>\n",
       "      <td>32.223236</td>\n",
       "      <td>-110.880452</td>\n",
       "      <td>3.5</td>\n",
       "      <td>22</td>\n",
       "      <td>0</td>\n",
       "      <td>{'BikeParking': 'True', 'BusinessAcceptsCredit...</td>\n",
       "      <td>Department Stores, Shopping, Fashion, Home &amp; G...</td>\n",
       "      <td>{'Monday': '8:0-22:0', 'Tuesday': '8:0-22:0', ...</td>\n",
       "    </tr>\n",
       "    <tr>\n",
       "      <th>3</th>\n",
       "      <td>MTSW4McQd7CbVtyjqoe9mw</td>\n",
       "      <td>St Honore Pastries</td>\n",
       "      <td>935 Race St</td>\n",
       "      <td>Philadelphia</td>\n",
       "      <td>PA</td>\n",
       "      <td>19107</td>\n",
       "      <td>39.955505</td>\n",
       "      <td>-75.155564</td>\n",
       "      <td>4.0</td>\n",
       "      <td>80</td>\n",
       "      <td>1</td>\n",
       "      <td>{'RestaurantsDelivery': 'False', 'OutdoorSeati...</td>\n",
       "      <td>Restaurants, Food, Bubble Tea, Coffee &amp; Tea, B...</td>\n",
       "      <td>{'Monday': '7:0-20:0', 'Tuesday': '7:0-20:0', ...</td>\n",
       "    </tr>\n",
       "    <tr>\n",
       "      <th>4</th>\n",
       "      <td>mWMc6_wTdE0EUBKIGXDVfA</td>\n",
       "      <td>Perkiomen Valley Brewery</td>\n",
       "      <td>101 Walnut St</td>\n",
       "      <td>Green Lane</td>\n",
       "      <td>PA</td>\n",
       "      <td>18054</td>\n",
       "      <td>40.338183</td>\n",
       "      <td>-75.471659</td>\n",
       "      <td>4.5</td>\n",
       "      <td>13</td>\n",
       "      <td>1</td>\n",
       "      <td>{'BusinessAcceptsCreditCards': 'True', 'Wheelc...</td>\n",
       "      <td>Brewpubs, Breweries, Food</td>\n",
       "      <td>{'Wednesday': '14:0-22:0', 'Thursday': '16:0-2...</td>\n",
       "    </tr>\n",
       "  </tbody>\n",
       "</table>\n",
       "</div>"
      ],
      "text/plain": [
       "              business_id                      name  \\\n",
       "0  Pns2l4eNsfO8kk83dixA6A  Abby Rappoport, LAC, CMQ   \n",
       "1  mpf3x-BjTdTEA3yCZrAYPw             The UPS Store   \n",
       "2  tUFrWirKiKi_TAnsVWINQQ                    Target   \n",
       "3  MTSW4McQd7CbVtyjqoe9mw        St Honore Pastries   \n",
       "4  mWMc6_wTdE0EUBKIGXDVfA  Perkiomen Valley Brewery   \n",
       "\n",
       "                           address           city state postal_code  \\\n",
       "0           1616 Chapala St, Ste 2  Santa Barbara    CA       93101   \n",
       "1  87 Grasso Plaza Shopping Center         Affton    MO       63123   \n",
       "2             5255 E Broadway Blvd         Tucson    AZ       85711   \n",
       "3                      935 Race St   Philadelphia    PA       19107   \n",
       "4                    101 Walnut St     Green Lane    PA       18054   \n",
       "\n",
       "    latitude   longitude  stars  review_count  is_open  \\\n",
       "0  34.426679 -119.711197    5.0             7        0   \n",
       "1  38.551126  -90.335695    3.0            15        1   \n",
       "2  32.223236 -110.880452    3.5            22        0   \n",
       "3  39.955505  -75.155564    4.0            80        1   \n",
       "4  40.338183  -75.471659    4.5            13        1   \n",
       "\n",
       "                                          attributes  \\\n",
       "0                      {'ByAppointmentOnly': 'True'}   \n",
       "1             {'BusinessAcceptsCreditCards': 'True'}   \n",
       "2  {'BikeParking': 'True', 'BusinessAcceptsCredit...   \n",
       "3  {'RestaurantsDelivery': 'False', 'OutdoorSeati...   \n",
       "4  {'BusinessAcceptsCreditCards': 'True', 'Wheelc...   \n",
       "\n",
       "                                          categories  \\\n",
       "0  Doctors, Traditional Chinese Medicine, Naturop...   \n",
       "1  Shipping Centers, Local Services, Notaries, Ma...   \n",
       "2  Department Stores, Shopping, Fashion, Home & G...   \n",
       "3  Restaurants, Food, Bubble Tea, Coffee & Tea, B...   \n",
       "4                          Brewpubs, Breweries, Food   \n",
       "\n",
       "                                               hours  \n",
       "0                                               None  \n",
       "1  {'Monday': '0:0-0:0', 'Tuesday': '8:0-18:30', ...  \n",
       "2  {'Monday': '8:0-22:0', 'Tuesday': '8:0-22:0', ...  \n",
       "3  {'Monday': '7:0-20:0', 'Tuesday': '7:0-20:0', ...  \n",
       "4  {'Wednesday': '14:0-22:0', 'Thursday': '16:0-2...  "
      ]
     },
     "execution_count": 3,
     "metadata": {},
     "output_type": "execute_result"
    }
   ],
   "source": [
    "business_json_path = '/kaggle/input/yelp-dataset/yelp_academic_dataset_business.json'\n",
    "df_b = pd.read_json(business_json_path, lines=True)\n",
    "df_b.head()"
   ]
  },
  {
   "cell_type": "markdown",
   "id": "2a851216",
   "metadata": {
    "papermill": {
     "duration": 0.008382,
     "end_time": "2024-04-30T04:03:22.898873",
     "exception": false,
     "start_time": "2024-04-30T04:03:22.890491",
     "status": "completed"
    },
    "tags": []
   },
   "source": [
    "# Clean biz file"
   ]
  },
  {
   "cell_type": "code",
   "execution_count": 4,
   "id": "c80ab67c",
   "metadata": {
    "execution": {
     "iopub.execute_input": "2024-04-30T04:03:22.918819Z",
     "iopub.status.busy": "2024-04-30T04:03:22.918355Z",
     "iopub.status.idle": "2024-04-30T04:03:23.055200Z",
     "shell.execute_reply": "2024-04-30T04:03:23.053791Z"
    },
    "papermill": {
     "duration": 0.150511,
     "end_time": "2024-04-30T04:03:23.058031",
     "exception": false,
     "start_time": "2024-04-30T04:03:22.907520",
     "status": "completed"
    },
    "tags": []
   },
   "outputs": [
    {
     "data": {
      "text/html": [
       "<div>\n",
       "<style scoped>\n",
       "    .dataframe tbody tr th:only-of-type {\n",
       "        vertical-align: middle;\n",
       "    }\n",
       "\n",
       "    .dataframe tbody tr th {\n",
       "        vertical-align: top;\n",
       "    }\n",
       "\n",
       "    .dataframe thead th {\n",
       "        text-align: right;\n",
       "    }\n",
       "</style>\n",
       "<table border=\"1\" class=\"dataframe\">\n",
       "  <thead>\n",
       "    <tr style=\"text-align: right;\">\n",
       "      <th></th>\n",
       "      <th>business_id</th>\n",
       "      <th>name</th>\n",
       "      <th>address</th>\n",
       "      <th>city</th>\n",
       "      <th>state</th>\n",
       "      <th>postal_code</th>\n",
       "      <th>latitude</th>\n",
       "      <th>longitude</th>\n",
       "      <th>stars</th>\n",
       "      <th>review_count</th>\n",
       "      <th>attributes</th>\n",
       "      <th>categories</th>\n",
       "    </tr>\n",
       "  </thead>\n",
       "  <tbody>\n",
       "    <tr>\n",
       "      <th>1</th>\n",
       "      <td>mpf3x-BjTdTEA3yCZrAYPw</td>\n",
       "      <td>The UPS Store</td>\n",
       "      <td>87 Grasso Plaza Shopping Center</td>\n",
       "      <td>Affton</td>\n",
       "      <td>MO</td>\n",
       "      <td>63123</td>\n",
       "      <td>38.551126</td>\n",
       "      <td>-90.335695</td>\n",
       "      <td>3.0</td>\n",
       "      <td>15</td>\n",
       "      <td>{'BusinessAcceptsCreditCards': 'True'}</td>\n",
       "      <td>Shipping Centers, Local Services, Notaries, Ma...</td>\n",
       "    </tr>\n",
       "  </tbody>\n",
       "</table>\n",
       "</div>"
      ],
      "text/plain": [
       "              business_id           name                          address  \\\n",
       "1  mpf3x-BjTdTEA3yCZrAYPw  The UPS Store  87 Grasso Plaza Shopping Center   \n",
       "\n",
       "     city state postal_code   latitude  longitude  stars  review_count  \\\n",
       "1  Affton    MO       63123  38.551126 -90.335695    3.0            15   \n",
       "\n",
       "                               attributes  \\\n",
       "1  {'BusinessAcceptsCreditCards': 'True'}   \n",
       "\n",
       "                                          categories  \n",
       "1  Shipping Centers, Local Services, Notaries, Ma...  "
      ]
     },
     "execution_count": 4,
     "metadata": {},
     "output_type": "execute_result"
    }
   ],
   "source": [
    "# 1 = open, 0 = closed\n",
    "df_b = df_b[df_b['is_open']==1] # getting biz in operation only\n",
    "\n",
    "\n",
    "drop_columns = ['hours','is_open']\n",
    "df_b.drop(drop_columns, axis=1, inplace=True)\n",
    "df_b.head(1)"
   ]
  },
  {
   "cell_type": "code",
   "execution_count": 5,
   "id": "ae9bd404",
   "metadata": {
    "execution": {
     "iopub.execute_input": "2024-04-30T04:03:23.078348Z",
     "iopub.status.busy": "2024-04-30T04:03:23.077892Z",
     "iopub.status.idle": "2024-04-30T04:03:32.814159Z",
     "shell.execute_reply": "2024-04-30T04:03:32.812679Z"
    },
    "papermill": {
     "duration": 9.750352,
     "end_time": "2024-04-30T04:03:32.817826",
     "exception": false,
     "start_time": "2024-04-30T04:03:23.067474",
     "status": "completed"
    },
    "tags": []
   },
   "outputs": [
    {
     "data": {
      "application/vnd.jupyter.widget-view+json": {
       "model_id": "61020aa4712549e9ad7ba7a3ddb93af1",
       "version_major": 2,
       "version_minor": 0
      },
      "text/plain": [
       "FloatProgress(value=0.0, layout=Layout(width='auto'), style=ProgressStyle(bar_color='black'))"
      ]
     },
     "metadata": {},
     "output_type": "display_data"
    },
    {
     "data": {
      "text/html": [
       "<div>\n",
       "<style scoped>\n",
       "    .dataframe tbody tr th:only-of-type {\n",
       "        vertical-align: middle;\n",
       "    }\n",
       "\n",
       "    .dataframe tbody tr th {\n",
       "        vertical-align: top;\n",
       "    }\n",
       "\n",
       "    .dataframe thead th {\n",
       "        text-align: right;\n",
       "    }\n",
       "</style>\n",
       "<table border=\"1\" class=\"dataframe\">\n",
       "  <thead>\n",
       "    <tr style=\"text-align: right;\">\n",
       "      <th></th>\n",
       "      <th>business_id</th>\n",
       "      <th>name</th>\n",
       "      <th>address</th>\n",
       "      <th>city</th>\n",
       "      <th>state</th>\n",
       "      <th>postal_code</th>\n",
       "      <th>latitude</th>\n",
       "      <th>longitude</th>\n",
       "      <th>stars</th>\n",
       "      <th>review_count</th>\n",
       "      <th>attributes</th>\n",
       "      <th>categories</th>\n",
       "    </tr>\n",
       "  </thead>\n",
       "  <tbody>\n",
       "    <tr>\n",
       "      <th>0</th>\n",
       "      <td>MTSW4McQd7CbVtyjqoe9mw</td>\n",
       "      <td>St Honore Pastries</td>\n",
       "      <td>935 Race St</td>\n",
       "      <td>Philadelphia</td>\n",
       "      <td>PA</td>\n",
       "      <td>19107</td>\n",
       "      <td>39.955505</td>\n",
       "      <td>-75.155564</td>\n",
       "      <td>4.0</td>\n",
       "      <td>80</td>\n",
       "      <td>{'key': ['RestaurantsDelivery', 'OutdoorSeatin...</td>\n",
       "      <td>Restaurants, Food, Bubble Tea, Coffee &amp; Tea, B...</td>\n",
       "    </tr>\n",
       "    <tr>\n",
       "      <th>1</th>\n",
       "      <td>CF33F8-E6oudUQ46HnavjQ</td>\n",
       "      <td>Sonic Drive-In</td>\n",
       "      <td>615 S Main St</td>\n",
       "      <td>Ashland City</td>\n",
       "      <td>TN</td>\n",
       "      <td>37015</td>\n",
       "      <td>36.269593</td>\n",
       "      <td>-87.058943</td>\n",
       "      <td>2.0</td>\n",
       "      <td>6</td>\n",
       "      <td>{'key': ['BusinessParking', 'BusinessAcceptsCr...</td>\n",
       "      <td>Burgers, Fast Food, Sandwiches, Food, Ice Crea...</td>\n",
       "    </tr>\n",
       "    <tr>\n",
       "      <th>2</th>\n",
       "      <td>bBDDEgkFA1Otx9Lfe7BZUQ</td>\n",
       "      <td>Sonic Drive-In</td>\n",
       "      <td>2312 Dickerson Pike</td>\n",
       "      <td>Nashville</td>\n",
       "      <td>TN</td>\n",
       "      <td>37207</td>\n",
       "      <td>36.208102</td>\n",
       "      <td>-86.768170</td>\n",
       "      <td>1.5</td>\n",
       "      <td>10</td>\n",
       "      <td>{'key': ['RestaurantsAttire', 'RestaurantsGood...</td>\n",
       "      <td>Ice Cream &amp; Frozen Yogurt, Fast Food, Burgers,...</td>\n",
       "    </tr>\n",
       "    <tr>\n",
       "      <th>3</th>\n",
       "      <td>eEOYSgkmpB90uNA7lDOMRA</td>\n",
       "      <td>Vietnamese Food Truck</td>\n",
       "      <td></td>\n",
       "      <td>Tampa Bay</td>\n",
       "      <td>FL</td>\n",
       "      <td>33602</td>\n",
       "      <td>27.955269</td>\n",
       "      <td>-82.456320</td>\n",
       "      <td>4.0</td>\n",
       "      <td>10</td>\n",
       "      <td>{'key': ['Alcohol', 'OutdoorSeating', 'Restaur...</td>\n",
       "      <td>Vietnamese, Food, Restaurants, Food Trucks</td>\n",
       "    </tr>\n",
       "    <tr>\n",
       "      <th>4</th>\n",
       "      <td>il_Ro8jwPlHresjw9EGmBg</td>\n",
       "      <td>Denny's</td>\n",
       "      <td>8901 US 31 S</td>\n",
       "      <td>Indianapolis</td>\n",
       "      <td>IN</td>\n",
       "      <td>46227</td>\n",
       "      <td>39.637133</td>\n",
       "      <td>-86.127217</td>\n",
       "      <td>2.5</td>\n",
       "      <td>28</td>\n",
       "      <td>{'key': ['RestaurantsReservations', 'Restauran...</td>\n",
       "      <td>American (Traditional), Restaurants, Diners, B...</td>\n",
       "    </tr>\n",
       "  </tbody>\n",
       "</table>\n",
       "</div>"
      ],
      "text/plain": [
       "              business_id                   name              address  \\\n",
       "0  MTSW4McQd7CbVtyjqoe9mw     St Honore Pastries          935 Race St   \n",
       "1  CF33F8-E6oudUQ46HnavjQ         Sonic Drive-In        615 S Main St   \n",
       "2  bBDDEgkFA1Otx9Lfe7BZUQ         Sonic Drive-In  2312 Dickerson Pike   \n",
       "3  eEOYSgkmpB90uNA7lDOMRA  Vietnamese Food Truck                        \n",
       "4  il_Ro8jwPlHresjw9EGmBg                Denny's         8901 US 31 S   \n",
       "\n",
       "           city state postal_code   latitude  longitude  stars  review_count  \\\n",
       "0  Philadelphia    PA       19107  39.955505 -75.155564    4.0            80   \n",
       "1  Ashland City    TN       37015  36.269593 -87.058943    2.0             6   \n",
       "2     Nashville    TN       37207  36.208102 -86.768170    1.5            10   \n",
       "3     Tampa Bay    FL       33602  27.955269 -82.456320    4.0            10   \n",
       "4  Indianapolis    IN       46227  39.637133 -86.127217    2.5            28   \n",
       "\n",
       "                                          attributes  \\\n",
       "0  {'key': ['RestaurantsDelivery', 'OutdoorSeatin...   \n",
       "1  {'key': ['BusinessParking', 'BusinessAcceptsCr...   \n",
       "2  {'key': ['RestaurantsAttire', 'RestaurantsGood...   \n",
       "3  {'key': ['Alcohol', 'OutdoorSeating', 'Restaur...   \n",
       "4  {'key': ['RestaurantsReservations', 'Restauran...   \n",
       "\n",
       "                                          categories  \n",
       "0  Restaurants, Food, Bubble Tea, Coffee & Tea, B...  \n",
       "1  Burgers, Fast Food, Sandwiches, Food, Ice Crea...  \n",
       "2  Ice Cream & Frozen Yogurt, Fast Food, Burgers,...  \n",
       "3         Vietnamese, Food, Restaurants, Food Trucks  \n",
       "4  American (Traditional), Restaurants, Diners, B...  "
      ]
     },
     "execution_count": 5,
     "metadata": {},
     "output_type": "execute_result"
    }
   ],
   "source": [
    "# Getting restaurant related businesses\n",
    "# get task and prompt columns only\n",
    "query = \"\"\"\n",
    "select *\n",
    "from df_b\n",
    "where lower(categories) like '%restaurants%'\n",
    "\"\"\"\n",
    "biz_rest =duckdb.query(query).df()\n",
    "biz_rest.head()"
   ]
  },
  {
   "cell_type": "code",
   "execution_count": 6,
   "id": "c916bd90",
   "metadata": {
    "execution": {
     "iopub.execute_input": "2024-04-30T04:03:32.844372Z",
     "iopub.status.busy": "2024-04-30T04:03:32.842961Z",
     "iopub.status.idle": "2024-04-30T04:03:32.916373Z",
     "shell.execute_reply": "2024-04-30T04:03:32.914034Z"
    },
    "papermill": {
     "duration": 0.088737,
     "end_time": "2024-04-30T04:03:32.919373",
     "exception": false,
     "start_time": "2024-04-30T04:03:32.830636",
     "status": "completed"
    },
    "tags": []
   },
   "outputs": [
    {
     "name": "stdout",
     "output_type": "stream",
     "text": [
      "<class 'pandas.core.frame.DataFrame'>\n",
      "RangeIndex: 34987 entries, 0 to 34986\n",
      "Data columns (total 12 columns):\n",
      " #   Column        Non-Null Count  Dtype  \n",
      "---  ------        --------------  -----  \n",
      " 0   business_id   34987 non-null  object \n",
      " 1   name          34987 non-null  object \n",
      " 2   address       34987 non-null  object \n",
      " 3   city          34987 non-null  object \n",
      " 4   state         34987 non-null  object \n",
      " 5   postal_code   34987 non-null  object \n",
      " 6   latitude      34987 non-null  float64\n",
      " 7   longitude     34987 non-null  float64\n",
      " 8   stars         34987 non-null  float64\n",
      " 9   review_count  34987 non-null  int64  \n",
      " 10  attributes    34547 non-null  object \n",
      " 11  categories    34987 non-null  object \n",
      "dtypes: float64(3), int64(1), object(8)\n",
      "memory usage: 3.2+ MB\n"
     ]
    }
   ],
   "source": [
    "biz_rest.info()"
   ]
  },
  {
   "cell_type": "markdown",
   "id": "be8c46cb",
   "metadata": {
    "papermill": {
     "duration": 0.008721,
     "end_time": "2024-04-30T04:03:32.937258",
     "exception": false,
     "start_time": "2024-04-30T04:03:32.928537",
     "status": "completed"
    },
    "tags": []
   },
   "source": [
    "# Bring in review data and retain businesses with reviews only"
   ]
  },
  {
   "cell_type": "code",
   "execution_count": 7,
   "id": "921a21fe",
   "metadata": {
    "execution": {
     "iopub.execute_input": "2024-04-30T04:03:32.957941Z",
     "iopub.status.busy": "2024-04-30T04:03:32.957431Z",
     "iopub.status.idle": "2024-04-30T04:03:32.969751Z",
     "shell.execute_reply": "2024-04-30T04:03:32.968273Z"
    },
    "papermill": {
     "duration": 0.02652,
     "end_time": "2024-04-30T04:03:32.972841",
     "exception": false,
     "start_time": "2024-04-30T04:03:32.946321",
     "status": "completed"
    },
    "tags": []
   },
   "outputs": [],
   "source": [
    "review_json_path = '/kaggle/input/yelp-dataset/yelp_academic_dataset_review.json'\n",
    "\n",
    "size = 1000000\n",
    "review = pd.read_json(review_json_path, lines=True,\n",
    "                      dtype={'review_id':str,'user_id':str,\n",
    "                             'business_id':str,'stars':int,\n",
    "                             'date':str,'text':str,'useful':int,\n",
    "                             'funny':int,'cool':int},\n",
    "                      chunksize=size)"
   ]
  },
  {
   "cell_type": "code",
   "execution_count": 8,
   "id": "7c1cb55f",
   "metadata": {
    "execution": {
     "iopub.execute_input": "2024-04-30T04:03:32.996835Z",
     "iopub.status.busy": "2024-04-30T04:03:32.995262Z",
     "iopub.status.idle": "2024-04-30T04:08:23.686146Z",
     "shell.execute_reply": "2024-04-30T04:08:23.684222Z"
    },
    "papermill": {
     "duration": 290.707202,
     "end_time": "2024-04-30T04:08:23.690373",
     "exception": false,
     "start_time": "2024-04-30T04:03:32.983171",
     "status": "completed"
    },
    "tags": []
   },
   "outputs": [
    {
     "name": "stdout",
     "output_type": "stream",
     "text": [
      "540141 out of 1,000,000 related reviews\n",
      "549947 out of 1,000,000 related reviews\n",
      "524365 out of 1,000,000 related reviews\n",
      "529735 out of 1,000,000 related reviews\n",
      "546958 out of 1,000,000 related reviews\n",
      "544052 out of 1,000,000 related reviews\n",
      "538572 out of 1,000,000 related reviews\n"
     ]
    }
   ],
   "source": [
    "# There are multiple chunks to be read\n",
    "chunk_list = []\n",
    "for chunk_review in review:\n",
    "    # Drop columns that aren't needed\n",
    "    chunk_review = chunk_review.drop(['useful','funny','cool'], axis=1)\n",
    "    # Renaming column name to avoid conflict with business overall star rating\n",
    "    chunk_review = chunk_review.rename(columns={'stars': 'review_stars'})\n",
    "    # Inner join with edited business file so only reviews related to the business remain\n",
    "    chunk_merged = pd.merge(biz_rest, chunk_review, on='business_id', how='inner')\n",
    "    # Show feedback on progress\n",
    "    print(f\"{chunk_merged.shape[0]} out of {size:,} related reviews\")\n",
    "    chunk_list.append(chunk_merged)\n",
    "# After trimming down the review file, concatenate all relevant data back to one dataframe\n",
    "df = pd.concat(chunk_list, ignore_index=True, join='outer', axis=0)"
   ]
  },
  {
   "cell_type": "code",
   "execution_count": 9,
   "id": "912775a8",
   "metadata": {
    "execution": {
     "iopub.execute_input": "2024-04-30T04:08:23.715893Z",
     "iopub.status.busy": "2024-04-30T04:08:23.715433Z",
     "iopub.status.idle": "2024-04-30T04:08:23.750960Z",
     "shell.execute_reply": "2024-04-30T04:08:23.749347Z"
    },
    "papermill": {
     "duration": 0.052798,
     "end_time": "2024-04-30T04:08:23.755181",
     "exception": false,
     "start_time": "2024-04-30T04:08:23.702383",
     "status": "completed"
    },
    "tags": []
   },
   "outputs": [
    {
     "data": {
      "text/html": [
       "<div>\n",
       "<style scoped>\n",
       "    .dataframe tbody tr th:only-of-type {\n",
       "        vertical-align: middle;\n",
       "    }\n",
       "\n",
       "    .dataframe tbody tr th {\n",
       "        vertical-align: top;\n",
       "    }\n",
       "\n",
       "    .dataframe thead th {\n",
       "        text-align: right;\n",
       "    }\n",
       "</style>\n",
       "<table border=\"1\" class=\"dataframe\">\n",
       "  <thead>\n",
       "    <tr style=\"text-align: right;\">\n",
       "      <th></th>\n",
       "      <th>business_id</th>\n",
       "      <th>name</th>\n",
       "      <th>address</th>\n",
       "      <th>city</th>\n",
       "      <th>state</th>\n",
       "      <th>postal_code</th>\n",
       "      <th>latitude</th>\n",
       "      <th>longitude</th>\n",
       "      <th>stars</th>\n",
       "      <th>review_count</th>\n",
       "      <th>attributes</th>\n",
       "      <th>categories</th>\n",
       "      <th>review_id</th>\n",
       "      <th>user_id</th>\n",
       "      <th>review_stars</th>\n",
       "      <th>text</th>\n",
       "      <th>date</th>\n",
       "    </tr>\n",
       "  </thead>\n",
       "  <tbody>\n",
       "    <tr>\n",
       "      <th>0</th>\n",
       "      <td>MTSW4McQd7CbVtyjqoe9mw</td>\n",
       "      <td>St Honore Pastries</td>\n",
       "      <td>935 Race St</td>\n",
       "      <td>Philadelphia</td>\n",
       "      <td>PA</td>\n",
       "      <td>19107</td>\n",
       "      <td>39.955505</td>\n",
       "      <td>-75.155564</td>\n",
       "      <td>4.0</td>\n",
       "      <td>80</td>\n",
       "      <td>{'key': ['RestaurantsDelivery', 'OutdoorSeatin...</td>\n",
       "      <td>Restaurants, Food, Bubble Tea, Coffee &amp; Tea, B...</td>\n",
       "      <td>BXQcBN0iAi1lAUxibGLFzA</td>\n",
       "      <td>6_SpY41LIHZuIaiDs5FMKA</td>\n",
       "      <td>4</td>\n",
       "      <td>This is nice little Chinese bakery in the hear...</td>\n",
       "      <td>2014-05-26 01:09:53</td>\n",
       "    </tr>\n",
       "    <tr>\n",
       "      <th>1</th>\n",
       "      <td>MTSW4McQd7CbVtyjqoe9mw</td>\n",
       "      <td>St Honore Pastries</td>\n",
       "      <td>935 Race St</td>\n",
       "      <td>Philadelphia</td>\n",
       "      <td>PA</td>\n",
       "      <td>19107</td>\n",
       "      <td>39.955505</td>\n",
       "      <td>-75.155564</td>\n",
       "      <td>4.0</td>\n",
       "      <td>80</td>\n",
       "      <td>{'key': ['RestaurantsDelivery', 'OutdoorSeatin...</td>\n",
       "      <td>Restaurants, Food, Bubble Tea, Coffee &amp; Tea, B...</td>\n",
       "      <td>uduvUCvi9w3T2bSGivCfXg</td>\n",
       "      <td>tCXElwhzekJEH6QJe3xs7Q</td>\n",
       "      <td>4</td>\n",
       "      <td>This is the bakery I usually go to in Chinatow...</td>\n",
       "      <td>2013-10-05 15:19:06</td>\n",
       "    </tr>\n",
       "    <tr>\n",
       "      <th>2</th>\n",
       "      <td>MTSW4McQd7CbVtyjqoe9mw</td>\n",
       "      <td>St Honore Pastries</td>\n",
       "      <td>935 Race St</td>\n",
       "      <td>Philadelphia</td>\n",
       "      <td>PA</td>\n",
       "      <td>19107</td>\n",
       "      <td>39.955505</td>\n",
       "      <td>-75.155564</td>\n",
       "      <td>4.0</td>\n",
       "      <td>80</td>\n",
       "      <td>{'key': ['RestaurantsDelivery', 'OutdoorSeatin...</td>\n",
       "      <td>Restaurants, Food, Bubble Tea, Coffee &amp; Tea, B...</td>\n",
       "      <td>a0vwPOqDXXZuJkbBW2356g</td>\n",
       "      <td>WqfKtI-aGMmvbA9pPUxNQQ</td>\n",
       "      <td>5</td>\n",
       "      <td>A delightful find in Chinatown! Very clean, an...</td>\n",
       "      <td>2013-10-25 01:34:57</td>\n",
       "    </tr>\n",
       "    <tr>\n",
       "      <th>3</th>\n",
       "      <td>MTSW4McQd7CbVtyjqoe9mw</td>\n",
       "      <td>St Honore Pastries</td>\n",
       "      <td>935 Race St</td>\n",
       "      <td>Philadelphia</td>\n",
       "      <td>PA</td>\n",
       "      <td>19107</td>\n",
       "      <td>39.955505</td>\n",
       "      <td>-75.155564</td>\n",
       "      <td>4.0</td>\n",
       "      <td>80</td>\n",
       "      <td>{'key': ['RestaurantsDelivery', 'OutdoorSeatin...</td>\n",
       "      <td>Restaurants, Food, Bubble Tea, Coffee &amp; Tea, B...</td>\n",
       "      <td>MKNp_CdR2k2202-c8GN5Dw</td>\n",
       "      <td>3-1va0IQfK-9tUMzfHWfTA</td>\n",
       "      <td>5</td>\n",
       "      <td>I ordered a graduation cake for my niece and i...</td>\n",
       "      <td>2018-05-20 17:58:57</td>\n",
       "    </tr>\n",
       "    <tr>\n",
       "      <th>4</th>\n",
       "      <td>MTSW4McQd7CbVtyjqoe9mw</td>\n",
       "      <td>St Honore Pastries</td>\n",
       "      <td>935 Race St</td>\n",
       "      <td>Philadelphia</td>\n",
       "      <td>PA</td>\n",
       "      <td>19107</td>\n",
       "      <td>39.955505</td>\n",
       "      <td>-75.155564</td>\n",
       "      <td>4.0</td>\n",
       "      <td>80</td>\n",
       "      <td>{'key': ['RestaurantsDelivery', 'OutdoorSeatin...</td>\n",
       "      <td>Restaurants, Food, Bubble Tea, Coffee &amp; Tea, B...</td>\n",
       "      <td>D1GisLDPe84Rrk_R4X2brQ</td>\n",
       "      <td>EouCKoDfzaVG0klEgdDvCQ</td>\n",
       "      <td>4</td>\n",
       "      <td>HK-STYLE MILK TEA:  FOUR STARS\\n\\nNot quite su...</td>\n",
       "      <td>2013-10-25 02:31:35</td>\n",
       "    </tr>\n",
       "  </tbody>\n",
       "</table>\n",
       "</div>"
      ],
      "text/plain": [
       "              business_id                name      address          city  \\\n",
       "0  MTSW4McQd7CbVtyjqoe9mw  St Honore Pastries  935 Race St  Philadelphia   \n",
       "1  MTSW4McQd7CbVtyjqoe9mw  St Honore Pastries  935 Race St  Philadelphia   \n",
       "2  MTSW4McQd7CbVtyjqoe9mw  St Honore Pastries  935 Race St  Philadelphia   \n",
       "3  MTSW4McQd7CbVtyjqoe9mw  St Honore Pastries  935 Race St  Philadelphia   \n",
       "4  MTSW4McQd7CbVtyjqoe9mw  St Honore Pastries  935 Race St  Philadelphia   \n",
       "\n",
       "  state postal_code   latitude  longitude  stars  review_count  \\\n",
       "0    PA       19107  39.955505 -75.155564    4.0            80   \n",
       "1    PA       19107  39.955505 -75.155564    4.0            80   \n",
       "2    PA       19107  39.955505 -75.155564    4.0            80   \n",
       "3    PA       19107  39.955505 -75.155564    4.0            80   \n",
       "4    PA       19107  39.955505 -75.155564    4.0            80   \n",
       "\n",
       "                                          attributes  \\\n",
       "0  {'key': ['RestaurantsDelivery', 'OutdoorSeatin...   \n",
       "1  {'key': ['RestaurantsDelivery', 'OutdoorSeatin...   \n",
       "2  {'key': ['RestaurantsDelivery', 'OutdoorSeatin...   \n",
       "3  {'key': ['RestaurantsDelivery', 'OutdoorSeatin...   \n",
       "4  {'key': ['RestaurantsDelivery', 'OutdoorSeatin...   \n",
       "\n",
       "                                          categories               review_id  \\\n",
       "0  Restaurants, Food, Bubble Tea, Coffee & Tea, B...  BXQcBN0iAi1lAUxibGLFzA   \n",
       "1  Restaurants, Food, Bubble Tea, Coffee & Tea, B...  uduvUCvi9w3T2bSGivCfXg   \n",
       "2  Restaurants, Food, Bubble Tea, Coffee & Tea, B...  a0vwPOqDXXZuJkbBW2356g   \n",
       "3  Restaurants, Food, Bubble Tea, Coffee & Tea, B...  MKNp_CdR2k2202-c8GN5Dw   \n",
       "4  Restaurants, Food, Bubble Tea, Coffee & Tea, B...  D1GisLDPe84Rrk_R4X2brQ   \n",
       "\n",
       "                  user_id  review_stars  \\\n",
       "0  6_SpY41LIHZuIaiDs5FMKA             4   \n",
       "1  tCXElwhzekJEH6QJe3xs7Q             4   \n",
       "2  WqfKtI-aGMmvbA9pPUxNQQ             5   \n",
       "3  3-1va0IQfK-9tUMzfHWfTA             5   \n",
       "4  EouCKoDfzaVG0klEgdDvCQ             4   \n",
       "\n",
       "                                                text                 date  \n",
       "0  This is nice little Chinese bakery in the hear...  2014-05-26 01:09:53  \n",
       "1  This is the bakery I usually go to in Chinatow...  2013-10-05 15:19:06  \n",
       "2  A delightful find in Chinatown! Very clean, an...  2013-10-25 01:34:57  \n",
       "3  I ordered a graduation cake for my niece and i...  2018-05-20 17:58:57  \n",
       "4  HK-STYLE MILK TEA:  FOUR STARS\\n\\nNot quite su...  2013-10-25 02:31:35  "
      ]
     },
     "execution_count": 9,
     "metadata": {},
     "output_type": "execute_result"
    }
   ],
   "source": [
    "df.head()"
   ]
  },
  {
   "cell_type": "code",
   "execution_count": 10,
   "id": "193ee917",
   "metadata": {
    "execution": {
     "iopub.execute_input": "2024-04-30T04:08:23.780313Z",
     "iopub.status.busy": "2024-04-30T04:08:23.778937Z",
     "iopub.status.idle": "2024-04-30T04:08:23.787478Z",
     "shell.execute_reply": "2024-04-30T04:08:23.786158Z"
    },
    "papermill": {
     "duration": 0.024125,
     "end_time": "2024-04-30T04:08:23.790446",
     "exception": false,
     "start_time": "2024-04-30T04:08:23.766321",
     "status": "completed"
    },
    "tags": []
   },
   "outputs": [
    {
     "data": {
      "text/plain": [
       "(34987, 3773770)"
      ]
     },
     "execution_count": 10,
     "metadata": {},
     "output_type": "execute_result"
    }
   ],
   "source": [
    "len(biz_rest), len(df) # length of df should be longer with reviews fanning out on businesses (multiple reviews)"
   ]
  },
  {
   "cell_type": "code",
   "execution_count": 11,
   "id": "d46b0d5f",
   "metadata": {
    "execution": {
     "iopub.execute_input": "2024-04-30T04:08:23.818306Z",
     "iopub.status.busy": "2024-04-30T04:08:23.817522Z",
     "iopub.status.idle": "2024-04-30T04:08:24.067607Z",
     "shell.execute_reply": "2024-04-30T04:08:24.066005Z"
    },
    "papermill": {
     "duration": 0.267317,
     "end_time": "2024-04-30T04:08:24.070716",
     "exception": false,
     "start_time": "2024-04-30T04:08:23.803399",
     "status": "completed"
    },
    "tags": []
   },
   "outputs": [
    {
     "data": {
      "text/html": [
       "<div>\n",
       "<style scoped>\n",
       "    .dataframe tbody tr th:only-of-type {\n",
       "        vertical-align: middle;\n",
       "    }\n",
       "\n",
       "    .dataframe tbody tr th {\n",
       "        vertical-align: top;\n",
       "    }\n",
       "\n",
       "    .dataframe thead th {\n",
       "        text-align: right;\n",
       "    }\n",
       "</style>\n",
       "<table border=\"1\" class=\"dataframe\">\n",
       "  <thead>\n",
       "    <tr style=\"text-align: right;\">\n",
       "      <th></th>\n",
       "      <th>name</th>\n",
       "      <th>total_reviews</th>\n",
       "    </tr>\n",
       "  </thead>\n",
       "  <tbody>\n",
       "    <tr>\n",
       "      <th>0</th>\n",
       "      <td>McDonald's</td>\n",
       "      <td>17309</td>\n",
       "    </tr>\n",
       "    <tr>\n",
       "      <th>1</th>\n",
       "      <td>Chipotle Mexican Grill</td>\n",
       "      <td>9438</td>\n",
       "    </tr>\n",
       "    <tr>\n",
       "      <th>2</th>\n",
       "      <td>First Watch</td>\n",
       "      <td>9076</td>\n",
       "    </tr>\n",
       "    <tr>\n",
       "      <th>3</th>\n",
       "      <td>Acme Oyster House</td>\n",
       "      <td>8461</td>\n",
       "    </tr>\n",
       "    <tr>\n",
       "      <th>4</th>\n",
       "      <td>Taco Bell</td>\n",
       "      <td>8320</td>\n",
       "    </tr>\n",
       "    <tr>\n",
       "      <th>5</th>\n",
       "      <td>Chick-fil-A</td>\n",
       "      <td>8315</td>\n",
       "    </tr>\n",
       "    <tr>\n",
       "      <th>6</th>\n",
       "      <td>Oceana Grill</td>\n",
       "      <td>7516</td>\n",
       "    </tr>\n",
       "    <tr>\n",
       "      <th>7</th>\n",
       "      <td>Buffalo Wild Wings</td>\n",
       "      <td>7063</td>\n",
       "    </tr>\n",
       "    <tr>\n",
       "      <th>8</th>\n",
       "      <td>Panera Bread</td>\n",
       "      <td>6906</td>\n",
       "    </tr>\n",
       "    <tr>\n",
       "      <th>9</th>\n",
       "      <td>Domino's Pizza</td>\n",
       "      <td>6335</td>\n",
       "    </tr>\n",
       "  </tbody>\n",
       "</table>\n",
       "</div>"
      ],
      "text/plain": [
       "                     name  total_reviews\n",
       "0              McDonald's          17309\n",
       "1  Chipotle Mexican Grill           9438\n",
       "2             First Watch           9076\n",
       "3       Acme Oyster House           8461\n",
       "4               Taco Bell           8320\n",
       "5             Chick-fil-A           8315\n",
       "6            Oceana Grill           7516\n",
       "7      Buffalo Wild Wings           7063\n",
       "8            Panera Bread           6906\n",
       "9          Domino's Pizza           6335"
      ]
     },
     "execution_count": 11,
     "metadata": {},
     "output_type": "execute_result"
    }
   ],
   "source": [
    "# which restaurants have the most reviews\n",
    "query = \"\"\"\n",
    "select name\n",
    ", count(*) as total_reviews\n",
    "from df\n",
    "group by 1\n",
    "order by 2 desc\n",
    "limit 10\n",
    "\"\"\"\n",
    "duckdb.query(query).df()"
   ]
  },
  {
   "cell_type": "markdown",
   "id": "7788ce9d",
   "metadata": {
    "papermill": {
     "duration": 0.011731,
     "end_time": "2024-04-30T04:08:24.093857",
     "exception": false,
     "start_time": "2024-04-30T04:08:24.082126",
     "status": "completed"
    },
    "tags": []
   },
   "source": [
    "# Get user data\n",
    "Might be useful to pivot by user to see how they perform reviews in future iteration"
   ]
  },
  {
   "cell_type": "markdown",
   "id": "2450efaf",
   "metadata": {
    "papermill": {
     "duration": 0.013757,
     "end_time": "2024-04-30T04:08:24.120230",
     "exception": false,
     "start_time": "2024-04-30T04:08:24.106473",
     "status": "completed"
    },
    "tags": []
   },
   "source": [
    "## Need to perform chunking with user data as well"
   ]
  },
  {
   "cell_type": "code",
   "execution_count": 12,
   "id": "ffc5d0a6",
   "metadata": {
    "execution": {
     "iopub.execute_input": "2024-04-30T04:08:24.149805Z",
     "iopub.status.busy": "2024-04-30T04:08:24.149255Z",
     "iopub.status.idle": "2024-04-30T04:08:24.175828Z",
     "shell.execute_reply": "2024-04-30T04:08:24.174098Z"
    },
    "papermill": {
     "duration": 0.044548,
     "end_time": "2024-04-30T04:08:24.178903",
     "exception": false,
     "start_time": "2024-04-30T04:08:24.134355",
     "status": "completed"
    },
    "tags": []
   },
   "outputs": [],
   "source": [
    "user_json_path = '/kaggle/input/yelp-dataset/yelp_academic_dataset_user.json'\n",
    "\n",
    "size = 900000\n",
    "user = pd.read_json(user_json_path, lines=True,\n",
    "                      dtype={'user_id':str,'name':str,\n",
    "                             'review_count':int,'yelping_since':str,\n",
    "                             'friends':object,'useful':int,\n",
    "                             'funny':int,'cool':int,\n",
    "                             'fans':int, 'elite':object,\n",
    "                            'average_stars':float, 'compliment_hot':int,\n",
    "                            'compliment_more':int, 'compliment_profile':int,\n",
    "                            'compliment_cute':int, 'compliment_list':int,\n",
    "                            'compliment_note':int, 'compliment_plain':int,\n",
    "                            'compliment_cool':int, 'compliment_funny':int,\n",
    "                            'compliment_writer':int, 'compliment_photos':int},\n",
    "                      chunksize=size)"
   ]
  },
  {
   "cell_type": "code",
   "execution_count": 13,
   "id": "1957feef",
   "metadata": {
    "execution": {
     "iopub.execute_input": "2024-04-30T04:08:24.207418Z",
     "iopub.status.busy": "2024-04-30T04:08:24.206650Z",
     "iopub.status.idle": "2024-04-30T04:11:30.657665Z",
     "shell.execute_reply": "2024-04-30T04:11:30.656152Z"
    },
    "papermill": {
     "duration": 186.46919,
     "end_time": "2024-04-30T04:11:30.660696",
     "exception": false,
     "start_time": "2024-04-30T04:08:24.191506",
     "status": "completed"
    },
    "tags": []
   },
   "outputs": [
    {
     "name": "stdout",
     "output_type": "stream",
     "text": [
      "2984785 out of 900,000 related reviews\n",
      "690844 out of 900,000 related reviews\n",
      "98134 out of 900,000 related reviews\n"
     ]
    }
   ],
   "source": [
    "# There are multiple chunks to be read\n",
    "chunk_list = []\n",
    "for chunk_user in user:\n",
    "    # Renaming column name to avoid conflict with business name\n",
    "    chunk_user = chunk_user.rename(columns={'name': 'customer_name', 'review_count': 'customer_review_count'})\n",
    "    # Inner join with edited business file so only reviews related to the business remain\n",
    "    chunk_merged = pd.merge(df, chunk_user, on='user_id', how='inner') # only keep user that have made restaurant review\n",
    "    # Show feedback on progress\n",
    "    print(f\"{chunk_merged.shape[0]} out of {size:,} related reviews\")\n",
    "    chunk_list.append(chunk_merged)\n",
    "# After trimming down the review file, concatenate all relevant data back to one dataframe\n",
    "df = pd.concat(chunk_list, ignore_index=True, join='outer', axis=0)"
   ]
  },
  {
   "cell_type": "code",
   "execution_count": 14,
   "id": "305c412f",
   "metadata": {
    "execution": {
     "iopub.execute_input": "2024-04-30T04:11:30.685854Z",
     "iopub.status.busy": "2024-04-30T04:11:30.685439Z",
     "iopub.status.idle": "2024-04-30T04:11:30.709947Z",
     "shell.execute_reply": "2024-04-30T04:11:30.708447Z"
    },
    "papermill": {
     "duration": 0.040556,
     "end_time": "2024-04-30T04:11:30.712646",
     "exception": false,
     "start_time": "2024-04-30T04:11:30.672090",
     "status": "completed"
    },
    "tags": []
   },
   "outputs": [
    {
     "data": {
      "text/html": [
       "<div>\n",
       "<style scoped>\n",
       "    .dataframe tbody tr th:only-of-type {\n",
       "        vertical-align: middle;\n",
       "    }\n",
       "\n",
       "    .dataframe tbody tr th {\n",
       "        vertical-align: top;\n",
       "    }\n",
       "\n",
       "    .dataframe thead th {\n",
       "        text-align: right;\n",
       "    }\n",
       "</style>\n",
       "<table border=\"1\" class=\"dataframe\">\n",
       "  <thead>\n",
       "    <tr style=\"text-align: right;\">\n",
       "      <th></th>\n",
       "      <th>business_id</th>\n",
       "      <th>name</th>\n",
       "      <th>address</th>\n",
       "      <th>city</th>\n",
       "      <th>state</th>\n",
       "      <th>postal_code</th>\n",
       "      <th>latitude</th>\n",
       "      <th>longitude</th>\n",
       "      <th>stars</th>\n",
       "      <th>review_count</th>\n",
       "      <th>...</th>\n",
       "      <th>compliment_more</th>\n",
       "      <th>compliment_profile</th>\n",
       "      <th>compliment_cute</th>\n",
       "      <th>compliment_list</th>\n",
       "      <th>compliment_note</th>\n",
       "      <th>compliment_plain</th>\n",
       "      <th>compliment_cool</th>\n",
       "      <th>compliment_funny</th>\n",
       "      <th>compliment_writer</th>\n",
       "      <th>compliment_photos</th>\n",
       "    </tr>\n",
       "  </thead>\n",
       "  <tbody>\n",
       "    <tr>\n",
       "      <th>0</th>\n",
       "      <td>MTSW4McQd7CbVtyjqoe9mw</td>\n",
       "      <td>St Honore Pastries</td>\n",
       "      <td>935 Race St</td>\n",
       "      <td>Philadelphia</td>\n",
       "      <td>PA</td>\n",
       "      <td>19107</td>\n",
       "      <td>39.955505</td>\n",
       "      <td>-75.155564</td>\n",
       "      <td>4.0</td>\n",
       "      <td>80</td>\n",
       "      <td>...</td>\n",
       "      <td>0</td>\n",
       "      <td>0</td>\n",
       "      <td>0</td>\n",
       "      <td>0</td>\n",
       "      <td>0</td>\n",
       "      <td>0</td>\n",
       "      <td>0</td>\n",
       "      <td>0</td>\n",
       "      <td>1</td>\n",
       "      <td>0</td>\n",
       "    </tr>\n",
       "  </tbody>\n",
       "</table>\n",
       "<p>1 rows × 38 columns</p>\n",
       "</div>"
      ],
      "text/plain": [
       "              business_id                name      address          city  \\\n",
       "0  MTSW4McQd7CbVtyjqoe9mw  St Honore Pastries  935 Race St  Philadelphia   \n",
       "\n",
       "  state postal_code   latitude  longitude  stars  review_count  ...  \\\n",
       "0    PA       19107  39.955505 -75.155564    4.0            80  ...   \n",
       "\n",
       "  compliment_more compliment_profile compliment_cute compliment_list  \\\n",
       "0               0                  0               0               0   \n",
       "\n",
       "   compliment_note compliment_plain compliment_cool compliment_funny  \\\n",
       "0                0                0               0                0   \n",
       "\n",
       "   compliment_writer compliment_photos  \n",
       "0                  1                 0  \n",
       "\n",
       "[1 rows x 38 columns]"
      ]
     },
     "execution_count": 14,
     "metadata": {},
     "output_type": "execute_result"
    }
   ],
   "source": [
    "df.head(1)"
   ]
  },
  {
   "cell_type": "code",
   "execution_count": 15,
   "id": "d334cf0e",
   "metadata": {
    "execution": {
     "iopub.execute_input": "2024-04-30T04:11:30.738110Z",
     "iopub.status.busy": "2024-04-30T04:11:30.737624Z",
     "iopub.status.idle": "2024-04-30T04:11:30.747258Z",
     "shell.execute_reply": "2024-04-30T04:11:30.745878Z"
    },
    "papermill": {
     "duration": 0.025256,
     "end_time": "2024-04-30T04:11:30.750022",
     "exception": false,
     "start_time": "2024-04-30T04:11:30.724766",
     "status": "completed"
    },
    "tags": []
   },
   "outputs": [
    {
     "data": {
      "text/plain": [
       "['business_id',\n",
       " 'name',\n",
       " 'address',\n",
       " 'city',\n",
       " 'state',\n",
       " 'postal_code',\n",
       " 'latitude',\n",
       " 'longitude',\n",
       " 'stars',\n",
       " 'review_count',\n",
       " 'attributes',\n",
       " 'categories',\n",
       " 'review_id',\n",
       " 'user_id',\n",
       " 'review_stars',\n",
       " 'text',\n",
       " 'date',\n",
       " 'customer_name',\n",
       " 'customer_review_count',\n",
       " 'yelping_since',\n",
       " 'useful',\n",
       " 'funny',\n",
       " 'cool',\n",
       " 'elite',\n",
       " 'friends',\n",
       " 'fans',\n",
       " 'average_stars',\n",
       " 'compliment_hot',\n",
       " 'compliment_more',\n",
       " 'compliment_profile',\n",
       " 'compliment_cute',\n",
       " 'compliment_list',\n",
       " 'compliment_note',\n",
       " 'compliment_plain',\n",
       " 'compliment_cool',\n",
       " 'compliment_funny',\n",
       " 'compliment_writer',\n",
       " 'compliment_photos']"
      ]
     },
     "execution_count": 15,
     "metadata": {},
     "output_type": "execute_result"
    }
   ],
   "source": [
    "list(df)"
   ]
  },
  {
   "cell_type": "code",
   "execution_count": 16,
   "id": "8c488742",
   "metadata": {
    "execution": {
     "iopub.execute_input": "2024-04-30T04:11:30.775621Z",
     "iopub.status.busy": "2024-04-30T04:11:30.775235Z",
     "iopub.status.idle": "2024-04-30T04:29:19.540799Z",
     "shell.execute_reply": "2024-04-30T04:29:19.536774Z"
    },
    "papermill": {
     "duration": 1068.782524,
     "end_time": "2024-04-30T04:29:19.544333",
     "exception": false,
     "start_time": "2024-04-30T04:11:30.761809",
     "status": "completed"
    },
    "tags": []
   },
   "outputs": [],
   "source": [
    "df.to_csv('yelp_final.csv')"
   ]
  },
  {
   "cell_type": "code",
   "execution_count": null,
   "id": "3ca148ce",
   "metadata": {
    "papermill": {
     "duration": 0.012147,
     "end_time": "2024-04-30T04:29:19.569769",
     "exception": false,
     "start_time": "2024-04-30T04:29:19.557622",
     "status": "completed"
    },
    "tags": []
   },
   "outputs": [],
   "source": []
  }
 ],
 "metadata": {
  "kaggle": {
   "accelerator": "none",
   "dataSources": [
    {
     "datasetId": 10100,
     "sourceId": 3316532,
     "sourceType": "datasetVersion"
    }
   ],
   "dockerImageVersionId": 30698,
   "isGpuEnabled": false,
   "isInternetEnabled": true,
   "language": "python",
   "sourceType": "notebook"
  },
  "kernelspec": {
   "display_name": "Python 3",
   "language": "python",
   "name": "python3"
  },
  "language_info": {
   "codemirror_mode": {
    "name": "ipython",
    "version": 3
   },
   "file_extension": ".py",
   "mimetype": "text/x-python",
   "name": "python",
   "nbconvert_exporter": "python",
   "pygments_lexer": "ipython3",
   "version": "3.10.13"
  },
  "papermill": {
   "default_parameters": {},
   "duration": 1596.492766,
   "end_time": "2024-04-30T04:29:23.128700",
   "environment_variables": {},
   "exception": null,
   "input_path": "__notebook__.ipynb",
   "output_path": "__notebook__.ipynb",
   "parameters": {},
   "start_time": "2024-04-30T04:02:46.635934",
   "version": "2.5.0"
  },
  "widgets": {
   "application/vnd.jupyter.widget-state+json": {
    "state": {
     "07b5ba9b76ea4b998d1f16d831547076": {
      "model_module": "@jupyter-widgets/controls",
      "model_module_version": "1.5.0",
      "model_name": "ProgressStyleModel",
      "state": {
       "_model_module": "@jupyter-widgets/controls",
       "_model_module_version": "1.5.0",
       "_model_name": "ProgressStyleModel",
       "_view_count": null,
       "_view_module": "@jupyter-widgets/base",
       "_view_module_version": "1.2.0",
       "_view_name": "StyleView",
       "bar_color": "black",
       "description_width": ""
      }
     },
     "61020aa4712549e9ad7ba7a3ddb93af1": {
      "model_module": "@jupyter-widgets/controls",
      "model_module_version": "1.5.0",
      "model_name": "FloatProgressModel",
      "state": {
       "_dom_classes": [],
       "_model_module": "@jupyter-widgets/controls",
       "_model_module_version": "1.5.0",
       "_model_name": "FloatProgressModel",
       "_view_count": null,
       "_view_module": "@jupyter-widgets/controls",
       "_view_module_version": "1.5.0",
       "_view_name": "ProgressView",
       "bar_style": "",
       "description": "",
       "description_tooltip": null,
       "layout": "IPY_MODEL_dcfaef5b7bde4c4f9a75b4530dca9816",
       "max": 100.0,
       "min": 0.0,
       "orientation": "horizontal",
       "style": "IPY_MODEL_07b5ba9b76ea4b998d1f16d831547076",
       "value": 100.0
      }
     },
     "dcfaef5b7bde4c4f9a75b4530dca9816": {
      "model_module": "@jupyter-widgets/base",
      "model_module_version": "1.2.0",
      "model_name": "LayoutModel",
      "state": {
       "_model_module": "@jupyter-widgets/base",
       "_model_module_version": "1.2.0",
       "_model_name": "LayoutModel",
       "_view_count": null,
       "_view_module": "@jupyter-widgets/base",
       "_view_module_version": "1.2.0",
       "_view_name": "LayoutView",
       "align_content": null,
       "align_items": null,
       "align_self": null,
       "border": null,
       "bottom": null,
       "display": null,
       "flex": null,
       "flex_flow": null,
       "grid_area": null,
       "grid_auto_columns": null,
       "grid_auto_flow": null,
       "grid_auto_rows": null,
       "grid_column": null,
       "grid_gap": null,
       "grid_row": null,
       "grid_template_areas": null,
       "grid_template_columns": null,
       "grid_template_rows": null,
       "height": null,
       "justify_content": null,
       "justify_items": null,
       "left": null,
       "margin": null,
       "max_height": null,
       "max_width": null,
       "min_height": null,
       "min_width": null,
       "object_fit": null,
       "object_position": null,
       "order": null,
       "overflow": null,
       "overflow_x": null,
       "overflow_y": null,
       "padding": null,
       "right": null,
       "top": null,
       "visibility": null,
       "width": "auto"
      }
     }
    },
    "version_major": 2,
    "version_minor": 0
   }
  }
 },
 "nbformat": 4,
 "nbformat_minor": 5
}
