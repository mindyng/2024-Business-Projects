{
 "cells": [
  {
   "cell_type": "markdown",
   "id": "5f7fd90d",
   "metadata": {
    "papermill": {
     "duration": 0.007278,
     "end_time": "2024-04-25T01:15:44.978450",
     "exception": false,
     "start_time": "2024-04-25T01:15:44.971172",
     "status": "completed"
    },
    "tags": []
   },
   "source": [
    "Credit for Selenium: https://www.kaggle.com/code/cristaliss/selenium-on-kaggle-easy-tutorial\n",
    "\n",
    "# 🎯 Selenium on Kaggle: A Comprehensive Tutorial\n",
    "\n",
    "This notebook aims to provide a detailed guide on using Selenium effectively within Kaggle environments. Selenium offers powerful web automation capabilities, but specific configurations are often required for successful execution on Kaggle. This tutorial addresses these challenges and presents a step-by-step approach to using Selenium for web scraping and interaction within Kaggle notebooks.\n",
    "\n",
    "\n",
    "### Introduction\n",
    "**Selenium** is a powerful web automation tool that allows you to interact with web pages programmatically. It is a popular choice for web scraping, automating repetitive tasks, and testing web applications.\n",
    "\n",
    "### Why Selenium?\n",
    "\n",
    "There are several advantages of using Selenium over other web scraping libraries:\n",
    "\n",
    "* **Wide browser support**: Selenium supports a wide range of browsers, including Chrome, Firefox, and Safari.\n",
    "* **Easy to use**: Selenium provides a simple and intuitive API for interacting with web pages.\n",
    "* **Powerful**: Selenium can be used to automate complex tasks, such as filling out forms, clicking buttons, and scrolling through pages.\n",
    "* **Extensible**: Selenium can be extended with custom code to meet your specific needs."
   ]
  },
  {
   "cell_type": "markdown",
   "id": "6dce72bc",
   "metadata": {
    "papermill": {
     "duration": 0.006988,
     "end_time": "2024-04-25T01:15:44.993080",
     "exception": false,
     "start_time": "2024-04-25T01:15:44.986092",
     "status": "completed"
    },
    "tags": []
   },
   "source": [
    "# 1. Setting Up the Environment\n",
    "\n",
    "## 1.1. Install dependencies:\n",
    "This command updates the system's package list and installs various libraries required for running Chrome and Selenium."
   ]
  },
  {
   "cell_type": "code",
   "execution_count": 1,
   "id": "1e266155",
   "metadata": {
    "execution": {
     "iopub.execute_input": "2024-04-25T01:15:45.008884Z",
     "iopub.status.busy": "2024-04-25T01:15:45.008190Z",
     "iopub.status.idle": "2024-04-25T01:15:59.653881Z",
     "shell.execute_reply": "2024-04-25T01:15:59.652820Z"
    },
    "papermill": {
     "duration": 14.656048,
     "end_time": "2024-04-25T01:15:59.655955",
     "exception": false,
     "start_time": "2024-04-25T01:15:44.999907",
     "status": "completed"
    },
    "tags": []
   },
   "outputs": [
    {
     "name": "stdout",
     "output_type": "stream",
     "text": [
      "Hit:1 http://archive.ubuntu.com/ubuntu focal InRelease\r\n",
      "Get:2 http://security.ubuntu.com/ubuntu focal-security InRelease [114 kB]\r\n",
      "Get:3 https://packages.cloud.google.com/apt cloud-sdk InRelease [6361 B]\r\n",
      "Get:4 http://archive.ubuntu.com/ubuntu focal-updates InRelease [114 kB]\r\n",
      "Get:5 http://packages.cloud.google.com/apt gcsfuse-focal InRelease [1225 B]\r\n",
      "Hit:6 http://archive.ubuntu.com/ubuntu focal-backports InRelease\r\n",
      "Get:7 https://packages.cloud.google.com/apt cloud-sdk/main amd64 Packages [629 kB]\r\n",
      "Get:8 http://security.ubuntu.com/ubuntu focal-security/main amd64 Packages [3594 kB]\r\n",
      "Get:9 http://archive.ubuntu.com/ubuntu focal-updates/restricted amd64 Packages [3686 kB]\r\n",
      "Get:10 http://security.ubuntu.com/ubuntu focal-security/restricted amd64 Packages [3536 kB]\r\n",
      "Get:11 http://security.ubuntu.com/ubuntu focal-security/universe amd64 Packages [1200 kB]\r\n",
      "Get:12 http://security.ubuntu.com/ubuntu focal-security/multiverse amd64 Packages [29.8 kB]\r\n",
      "Get:13 http://archive.ubuntu.com/ubuntu focal-updates/multiverse amd64 Packages [32.5 kB]\r\n",
      "Get:14 http://archive.ubuntu.com/ubuntu focal-updates/main amd64 Packages [4068 kB]\r\n",
      "Get:15 http://archive.ubuntu.com/ubuntu focal-updates/universe amd64 Packages [1496 kB]\r\n",
      "\r\n",
      "E: Repository 'http://packages.cloud.google.com/apt gcsfuse-focal InRelease' changed its 'Origin' value from 'namespaces/gcs-fuse-prod/repositories/gcsfuse-focal' to 'gcsfuse-focal'\r\n",
      "E: Repository 'http://packages.cloud.google.com/apt gcsfuse-focal InRelease' changed its 'Label' value from 'namespaces/gcs-fuse-prod/repositories/gcsfuse-focal' to 'gcsfuse-focal'\r\n",
      "N: This must be accepted explicitly before updates for this repository can be applied. See apt-secure(8) manpage for details.\r\n",
      "\r\n",
      "\r\n",
      "\r\n",
      "libfontconfig1 is already the newest version (2.13.1-2ubuntu3).\r\n",
      "libvulkan1 is already the newest version (1.2.131.2-1).\r\n",
      "libvulkan1 set to manually installed.\r\n",
      "libglib2.0-0 is already the newest version (2.64.6-1~ubuntu20.04.6).\r\n",
      "The following NEW packages will be installed:\r\n",
      "  gconf-service gconf-service-backend gconf2-common libdbus-glib-1-2 libgbm1\r\n",
      "  libgconf-2-4 libu2f-udev libwayland-server0 udev\r\n",
      "The following packages will be upgraded:\r\n",
      "  libnss3 libudev1\r\n",
      "2 upgraded, 9 newly installed, 0 to remove and 112 not upgraded.\r\n",
      "Need to get 3818 kB of archives.\r\n",
      "After this operation, 18.4 MB of additional disk space will be used.\r\n",
      "Get:1 http://archive.ubuntu.com/ubuntu focal-updates/main amd64 libudev1 amd64 245.4-4ubuntu3.23 [75.6 kB]\r\n",
      "Get:2 http://archive.ubuntu.com/ubuntu focal-updates/main amd64 udev amd64 245.4-4ubuntu3.23 [1366 kB]\r\n",
      "Get:3 http://archive.ubuntu.com/ubuntu focal/main amd64 libdbus-glib-1-2 amd64 0.110-5fakssync1 [59.1 kB]\r\n",
      "Get:4 http://archive.ubuntu.com/ubuntu focal/universe amd64 gconf2-common all 3.2.6-6ubuntu1 [698 kB]\r\n",
      "Get:5 http://archive.ubuntu.com/ubuntu focal/universe amd64 libgconf-2-4 amd64 3.2.6-6ubuntu1 [84.8 kB]\r\n",
      "Get:6 http://archive.ubuntu.com/ubuntu focal/universe amd64 gconf-service-backend amd64 3.2.6-6ubuntu1 [58.6 kB]\r\n",
      "Get:7 http://archive.ubuntu.com/ubuntu focal/universe amd64 gconf-service amd64 3.2.6-6ubuntu1 [17.4 kB]\r\n",
      "Get:8 http://archive.ubuntu.com/ubuntu focal-updates/main amd64 libwayland-server0 amd64 1.18.0-1ubuntu0.1 [31.3 kB]\r\n",
      "Get:9 http://archive.ubuntu.com/ubuntu focal-updates/main amd64 libgbm1 amd64 21.2.6-0ubuntu0.1~20.04.2 [29.2 kB]\r\n",
      "Get:10 http://archive.ubuntu.com/ubuntu focal-updates/main amd64 libnss3 amd64 2:3.98-0ubuntu0.20.04.2 [1391 kB]\r\n",
      "Get:11 http://archive.ubuntu.com/ubuntu focal/main amd64 libu2f-udev all 1.1.10-1 [6108 B]\r\n",
      "Fetched 3818 kB in 0s (13.1 MB/s)\r\n",
      "(Reading database ... 108782 files and directories currently installed.)\r\n",
      "Preparing to unpack .../libudev1_245.4-4ubuntu3.23_amd64.deb ...\r\n",
      "Unpacking libudev1:amd64 (245.4-4ubuntu3.23) over (245.4-4ubuntu3.22) ...\r\n",
      "Setting up libudev1:amd64 (245.4-4ubuntu3.23) ...\r\n",
      "Selecting previously unselected package udev.\r\n",
      "(Reading database ... 108782 files and directories currently installed.)\r\n",
      "Preparing to unpack .../0-udev_245.4-4ubuntu3.23_amd64.deb ...\r\n",
      "Unpacking udev (245.4-4ubuntu3.23) ...\r\n",
      "Selecting previously unselected package libdbus-glib-1-2:amd64.\r\n",
      "Preparing to unpack .../1-libdbus-glib-1-2_0.110-5fakssync1_amd64.deb ...\r\n",
      "Unpacking libdbus-glib-1-2:amd64 (0.110-5fakssync1) ...\r\n",
      "Selecting previously unselected package gconf2-common.\r\n",
      "Preparing to unpack .../2-gconf2-common_3.2.6-6ubuntu1_all.deb ...\r\n",
      "Unpacking gconf2-common (3.2.6-6ubuntu1) ...\r\n",
      "Selecting previously unselected package libgconf-2-4:amd64.\r\n",
      "Preparing to unpack .../3-libgconf-2-4_3.2.6-6ubuntu1_amd64.deb ...\r\n",
      "Unpacking libgconf-2-4:amd64 (3.2.6-6ubuntu1) ...\r\n",
      "Selecting previously unselected package gconf-service-backend.\r\n",
      "Preparing to unpack .../4-gconf-service-backend_3.2.6-6ubuntu1_amd64.deb ...\r\n",
      "Unpacking gconf-service-backend (3.2.6-6ubuntu1) ...\r\n",
      "Selecting previously unselected package gconf-service.\r\n",
      "Preparing to unpack .../5-gconf-service_3.2.6-6ubuntu1_amd64.deb ...\r\n",
      "Unpacking gconf-service (3.2.6-6ubuntu1) ...\r\n",
      "Selecting previously unselected package libwayland-server0:amd64.\r\n",
      "Preparing to unpack .../6-libwayland-server0_1.18.0-1ubuntu0.1_amd64.deb ...\r\n",
      "Unpacking libwayland-server0:amd64 (1.18.0-1ubuntu0.1) ...\r\n",
      "Selecting previously unselected package libgbm1:amd64.\r\n",
      "Preparing to unpack .../7-libgbm1_21.2.6-0ubuntu0.1~20.04.2_amd64.deb ...\r\n",
      "Unpacking libgbm1:amd64 (21.2.6-0ubuntu0.1~20.04.2) ...\r\n",
      "Preparing to unpack .../8-libnss3_2%3a3.98-0ubuntu0.20.04.2_amd64.deb ...\r\n",
      "Unpacking libnss3:amd64 (2:3.98-0ubuntu0.20.04.2) over (2:3.49.1-1ubuntu1.9) ...\r\n",
      "Selecting previously unselected package libu2f-udev.\r\n",
      "Preparing to unpack .../9-libu2f-udev_1.1.10-1_all.deb ...\r\n",
      "Unpacking libu2f-udev (1.1.10-1) ...\r\n",
      "Setting up libwayland-server0:amd64 (1.18.0-1ubuntu0.1) ...\r\n",
      "Setting up libgbm1:amd64 (21.2.6-0ubuntu0.1~20.04.2) ...\r\n",
      "Setting up libnss3:amd64 (2:3.98-0ubuntu0.20.04.2) ...\r\n",
      "Setting up gconf2-common (3.2.6-6ubuntu1) ...\r\n",
      "\r\n",
      "Creating config file /etc/gconf/2/path with new version\r\n",
      "Setting up libdbus-glib-1-2:amd64 (0.110-5fakssync1) ...\r\n",
      "Setting up udev (245.4-4ubuntu3.23) ...\r\n",
      "invoke-rc.d: could not determine current runlevel\r\n",
      "invoke-rc.d: policy-rc.d denied execution of start.\r\n",
      "Setting up libgconf-2-4:amd64 (3.2.6-6ubuntu1) ...\r\n",
      "Setting up libu2f-udev (1.1.10-1) ...\r\n",
      "Failed to send reload request: No such file or directory\r\n",
      "Setting up gconf-service (3.2.6-6ubuntu1) ...\r\n",
      "Setting up gconf-service-backend (3.2.6-6ubuntu1) ...\r\n",
      "Processing triggers for libc-bin (2.31-0ubuntu9.9) ...\r\n",
      "Processing triggers for systemd (245.4-4ubuntu3.22) ...\r\n",
      "Processing triggers for man-db (2.9.1-1) ...\r\n",
      "\r\n",
      "\r\n",
      "\r\n",
      "0 upgraded, 0 newly installed, 0 to remove and 112 not upgraded.\r\n"
     ]
    }
   ],
   "source": [
    "!apt-get update -y\n",
    "!apt-get install -y \\\n",
    "libglib2.0-0 \\\n",
    "libnss3 \\\n",
    "libdbus-glib-1-2 \\\n",
    "libgconf-2-4 \\\n",
    "libfontconfig1 \\\n",
    "libvulkan1 \\\n",
    "gconf2-common \\\n",
    "libwayland-server0 \\\n",
    "libgbm1 \\\n",
    "udev \\\n",
    "libu2f-udev \n",
    "!apt --fix-broken install -y  "
   ]
  },
  {
   "cell_type": "markdown",
   "id": "b83a5163",
   "metadata": {
    "papermill": {
     "duration": 0.01297,
     "end_time": "2024-04-25T01:15:59.682439",
     "exception": false,
     "start_time": "2024-04-25T01:15:59.669469",
     "status": "completed"
    },
    "tags": []
   },
   "source": [
    "## 1.2. Download and extract Chrome:\n",
    "\n",
    "To use Selenium, you will need to download and install Chrome and Chromedriver.\n",
    "\n",
    "* **Chrome**: Chrome is a popular web browser that is known for its speed and security.\n",
    "* **Chromedriver**: Chromedriver is a tool that allows Selenium to interact with Chrome.\n",
    "\n",
    "Downloads the latest stable version of Chrome for Linux and extracts it to the /usr/bin directory."
   ]
  },
  {
   "cell_type": "code",
   "execution_count": 2,
   "id": "d8971d23",
   "metadata": {
    "execution": {
     "iopub.execute_input": "2024-04-25T01:15:59.710400Z",
     "iopub.status.busy": "2024-04-25T01:15:59.710070Z",
     "iopub.status.idle": "2024-04-25T01:16:06.153604Z",
     "shell.execute_reply": "2024-04-25T01:16:06.152427Z"
    },
    "papermill": {
     "duration": 6.460165,
     "end_time": "2024-04-25T01:16:06.155789",
     "exception": false,
     "start_time": "2024-04-25T01:15:59.695624",
     "status": "completed"
    },
    "tags": []
   },
   "outputs": [
    {
     "name": "stdout",
     "output_type": "stream",
     "text": [
      "--2024-04-25 01:15:59--  https://edgedl.me.gvt1.com/edgedl/chrome/chrome-for-testing/116.0.5845.96/linux64/chrome-linux64.zip\r\n",
      "Resolving edgedl.me.gvt1.com (edgedl.me.gvt1.com)... 34.104.35.123, 2600:1900:4110:86f::\r\n",
      "Connecting to edgedl.me.gvt1.com (edgedl.me.gvt1.com)|34.104.35.123|:443... connected.\r\n",
      "HTTP request sent, awaiting response... 200 OK\r\n",
      "Length: 145898081 (139M) [application/octet-stream]\r\n",
      "Saving to: '/tmp/chrome-linux64.zip'\r\n",
      "\r\n",
      "chrome-linux64.zip  100%[===================>] 139.14M  52.9MB/s    in 2.6s    \r\n",
      "\r\n",
      "2024-04-25 01:16:02 (52.9 MB/s) - '/tmp/chrome-linux64.zip' saved [145898081/145898081]\r\n",
      "\r\n",
      "Archive:  /tmp/chrome-linux64.zip\r\n",
      "  inflating: /usr/bin/chrome-linux64/MEIPreload/manifest.json  \r\n",
      "  inflating: /usr/bin/chrome-linux64/MEIPreload/preloaded_data.pb  \r\n",
      "  inflating: /usr/bin/chrome-linux64/chrome  \r\n",
      "  inflating: /usr/bin/chrome-linux64/chrome-wrapper  \r\n",
      "  inflating: /usr/bin/chrome-linux64/chrome_100_percent.pak  \r\n",
      "  inflating: /usr/bin/chrome-linux64/chrome_200_percent.pak  \r\n",
      "  inflating: /usr/bin/chrome-linux64/chrome_crashpad_handler  \r\n",
      "  inflating: /usr/bin/chrome-linux64/chrome_sandbox  \r\n",
      "  inflating: /usr/bin/chrome-linux64/icudtl.dat  \r\n",
      "  inflating: /usr/bin/chrome-linux64/libEGL.so  \r\n",
      "  inflating: /usr/bin/chrome-linux64/libGLESv2.so  \r\n",
      "  inflating: /usr/bin/chrome-linux64/libvk_swiftshader.so  \r\n",
      "  inflating: /usr/bin/chrome-linux64/libvulkan.so.1  \r\n",
      "  inflating: /usr/bin/chrome-linux64/nacl_helper  \r\n",
      "  inflating: /usr/bin/chrome-linux64/nacl_helper_bootstrap  \r\n",
      "  inflating: /usr/bin/chrome-linux64/nacl_irt_x86_64.nexe  \r\n",
      " extracting: /usr/bin/chrome-linux64/product_logo_48.png  \r\n",
      "  inflating: /usr/bin/chrome-linux64/resources.pak  \r\n",
      "  inflating: /usr/bin/chrome-linux64/v8_context_snapshot.bin  \r\n",
      "  inflating: /usr/bin/chrome-linux64/vk_swiftshader_icd.json  \r\n",
      "  inflating: /usr/bin/chrome-linux64/xdg-mime  \r\n",
      "  inflating: /usr/bin/chrome-linux64/xdg-settings  \r\n",
      "   creating: /usr/bin/chrome-linux64/locales/\r\n",
      "  inflating: /usr/bin/chrome-linux64/locales/fr.pak.info  \r\n",
      "  inflating: /usr/bin/chrome-linux64/locales/ur.pak.info  \r\n",
      "  inflating: /usr/bin/chrome-linux64/locales/sw.pak  \r\n",
      "  inflating: /usr/bin/chrome-linux64/locales/ar.pak  \r\n",
      "  inflating: /usr/bin/chrome-linux64/locales/sk.pak.info  \r\n",
      "  inflating: /usr/bin/chrome-linux64/locales/hu.pak.info  \r\n",
      "  inflating: /usr/bin/chrome-linux64/locales/ms.pak  \r\n",
      "  inflating: /usr/bin/chrome-linux64/locales/vi.pak.info  \r\n",
      "  inflating: /usr/bin/chrome-linux64/locales/es.pak  \r\n",
      "  inflating: /usr/bin/chrome-linux64/locales/he.pak.info  \r\n",
      "  inflating: /usr/bin/chrome-linux64/locales/hr.pak  \r\n",
      "  inflating: /usr/bin/chrome-linux64/locales/en-GB.pak  \r\n",
      "  inflating: /usr/bin/chrome-linux64/locales/zh-CN.pak  \r\n",
      "  inflating: /usr/bin/chrome-linux64/locales/pt-BR.pak.info  \r\n",
      "  inflating: /usr/bin/chrome-linux64/locales/en-US.pak.info  \r\n",
      "  inflating: /usr/bin/chrome-linux64/locales/de.pak.info  \r\n",
      "  inflating: /usr/bin/chrome-linux64/locales/af.pak.info  \r\n",
      "  inflating: /usr/bin/chrome-linux64/locales/fil.pak  \r\n",
      "  inflating: /usr/bin/chrome-linux64/locales/el.pak  \r\n",
      "  inflating: /usr/bin/chrome-linux64/locales/bg.pak  \r\n",
      "  inflating: /usr/bin/chrome-linux64/locales/fa.pak  \r\n",
      "  inflating: /usr/bin/chrome-linux64/locales/uk.pak  \r\n",
      "  inflating: /usr/bin/chrome-linux64/locales/kn.pak  \r\n",
      "  inflating: /usr/bin/chrome-linux64/locales/en-GB.pak.info  \r\n",
      "  inflating: /usr/bin/chrome-linux64/locales/sl.pak  \r\n",
      "  inflating: /usr/bin/chrome-linux64/locales/sv.pak.info  \r\n",
      "  inflating: /usr/bin/chrome-linux64/locales/ko.pak  \r\n",
      "  inflating: /usr/bin/chrome-linux64/locales/nb.pak  \r\n",
      "  inflating: /usr/bin/chrome-linux64/locales/tr.pak  \r\n",
      "  inflating: /usr/bin/chrome-linux64/locales/th.pak.info  \r\n",
      "  inflating: /usr/bin/chrome-linux64/locales/ar.pak.info  \r\n",
      "  inflating: /usr/bin/chrome-linux64/locales/pt-PT.pak.info  \r\n",
      "  inflating: /usr/bin/chrome-linux64/locales/pt-PT.pak  \r\n",
      "  inflating: /usr/bin/chrome-linux64/locales/vi.pak  \r\n",
      "  inflating: /usr/bin/chrome-linux64/locales/ml.pak.info  \r\n",
      "  inflating: /usr/bin/chrome-linux64/locales/es.pak.info  \r\n",
      "  inflating: /usr/bin/chrome-linux64/locales/mr.pak.info  \r\n",
      "  inflating: /usr/bin/chrome-linux64/locales/tr.pak.info  \r\n",
      "  inflating: /usr/bin/chrome-linux64/locales/hi.pak.info  \r\n",
      "  inflating: /usr/bin/chrome-linux64/locales/fa.pak.info  \r\n",
      "  inflating: /usr/bin/chrome-linux64/locales/ja.pak  \r\n",
      "  inflating: /usr/bin/chrome-linux64/locales/bg.pak.info  \r\n",
      "  inflating: /usr/bin/chrome-linux64/locales/sr.pak.info  \r\n",
      "  inflating: /usr/bin/chrome-linux64/locales/fi.pak  \r\n",
      "  inflating: /usr/bin/chrome-linux64/locales/ca.pak  \r\n",
      "  inflating: /usr/bin/chrome-linux64/locales/et.pak.info  \r\n",
      "  inflating: /usr/bin/chrome-linux64/locales/ko.pak.info  \r\n",
      "  inflating: /usr/bin/chrome-linux64/locales/gu.pak  \r\n",
      "  inflating: /usr/bin/chrome-linux64/locales/et.pak  \r\n",
      "  inflating: /usr/bin/chrome-linux64/locales/it.pak.info  \r\n",
      "  inflating: /usr/bin/chrome-linux64/locales/lv.pak.info  \r\n",
      "  inflating: /usr/bin/chrome-linux64/locales/sr.pak  \r\n",
      "  inflating: /usr/bin/chrome-linux64/locales/bn.pak  \r\n",
      "  inflating: /usr/bin/chrome-linux64/locales/pl.pak  \r\n",
      "  inflating: /usr/bin/chrome-linux64/locales/el.pak.info  \r\n",
      "  inflating: /usr/bin/chrome-linux64/locales/lv.pak  \r\n",
      "  inflating: /usr/bin/chrome-linux64/locales/ca.pak.info  \r\n",
      "  inflating: /usr/bin/chrome-linux64/locales/uk.pak.info  \r\n",
      "  inflating: /usr/bin/chrome-linux64/locales/nl.pak  \r\n",
      "  inflating: /usr/bin/chrome-linux64/locales/sw.pak.info  \r\n",
      "  inflating: /usr/bin/chrome-linux64/locales/de.pak  \r\n",
      "  inflating: /usr/bin/chrome-linux64/locales/af.pak  \r\n",
      "  inflating: /usr/bin/chrome-linux64/locales/hi.pak  \r\n",
      "  inflating: /usr/bin/chrome-linux64/locales/pl.pak.info  \r\n",
      "  inflating: /usr/bin/chrome-linux64/locales/he.pak  \r\n",
      "  inflating: /usr/bin/chrome-linux64/locales/sv.pak  \r\n",
      "  inflating: /usr/bin/chrome-linux64/locales/ms.pak.info  \r\n",
      "  inflating: /usr/bin/chrome-linux64/locales/sk.pak  \r\n",
      "  inflating: /usr/bin/chrome-linux64/locales/bn.pak.info  \r\n",
      "  inflating: /usr/bin/chrome-linux64/locales/cs.pak.info  \r\n",
      "  inflating: /usr/bin/chrome-linux64/locales/kn.pak.info  \r\n",
      "  inflating: /usr/bin/chrome-linux64/locales/zh-CN.pak.info  \r\n",
      "  inflating: /usr/bin/chrome-linux64/locales/id.pak.info  \r\n",
      "  inflating: /usr/bin/chrome-linux64/locales/es-419.pak.info  \r\n",
      "  inflating: /usr/bin/chrome-linux64/locales/lt.pak  \r\n",
      "  inflating: /usr/bin/chrome-linux64/locales/ur.pak  \r\n",
      "  inflating: /usr/bin/chrome-linux64/locales/ta.pak.info  \r\n",
      "  inflating: /usr/bin/chrome-linux64/locales/zh-TW.pak  \r\n",
      "  inflating: /usr/bin/chrome-linux64/locales/te.pak  \r\n",
      "  inflating: /usr/bin/chrome-linux64/locales/ja.pak.info  \r\n",
      "  inflating: /usr/bin/chrome-linux64/locales/en-US.pak  \r\n",
      "  inflating: /usr/bin/chrome-linux64/locales/nb.pak.info  \r\n",
      "  inflating: /usr/bin/chrome-linux64/locales/it.pak  \r\n",
      "  inflating: /usr/bin/chrome-linux64/locales/es-419.pak  \r\n",
      "  inflating: /usr/bin/chrome-linux64/locales/nl.pak.info  \r\n",
      "  inflating: /usr/bin/chrome-linux64/locales/cs.pak  \r\n",
      "  inflating: /usr/bin/chrome-linux64/locales/zh-TW.pak.info  \r\n",
      "  inflating: /usr/bin/chrome-linux64/locales/ru.pak.info  \r\n",
      "  inflating: /usr/bin/chrome-linux64/locales/da.pak  \r\n",
      "  inflating: /usr/bin/chrome-linux64/locales/lt.pak.info  \r\n",
      "  inflating: /usr/bin/chrome-linux64/locales/ml.pak  \r\n",
      "  inflating: /usr/bin/chrome-linux64/locales/mr.pak  \r\n",
      "  inflating: /usr/bin/chrome-linux64/locales/pt-BR.pak  \r\n",
      "  inflating: /usr/bin/chrome-linux64/locales/da.pak.info  \r\n",
      "  inflating: /usr/bin/chrome-linux64/locales/te.pak.info  \r\n",
      "  inflating: /usr/bin/chrome-linux64/locales/fil.pak.info  \r\n",
      "  inflating: /usr/bin/chrome-linux64/locales/ta.pak  \r\n",
      "  inflating: /usr/bin/chrome-linux64/locales/id.pak  \r\n",
      "  inflating: /usr/bin/chrome-linux64/locales/am.pak.info  \r\n",
      "  inflating: /usr/bin/chrome-linux64/locales/am.pak  \r\n",
      "  inflating: /usr/bin/chrome-linux64/locales/hu.pak  \r\n",
      "  inflating: /usr/bin/chrome-linux64/locales/fi.pak.info  \r\n",
      "  inflating: /usr/bin/chrome-linux64/locales/sl.pak.info  \r\n",
      "  inflating: /usr/bin/chrome-linux64/locales/ro.pak  \r\n",
      "  inflating: /usr/bin/chrome-linux64/locales/th.pak  \r\n",
      "  inflating: /usr/bin/chrome-linux64/locales/fr.pak  \r\n",
      "  inflating: /usr/bin/chrome-linux64/locales/gu.pak.info  \r\n",
      "  inflating: /usr/bin/chrome-linux64/locales/ru.pak  \r\n",
      "  inflating: /usr/bin/chrome-linux64/locales/ro.pak.info  \r\n",
      "  inflating: /usr/bin/chrome-linux64/locales/hr.pak.info  \r\n",
      "   creating: /usr/bin/chrome-linux64/resources/\r\n",
      "   creating: /usr/bin/chrome-linux64/resources/inspector_overlay/\r\n",
      "  inflating: /usr/bin/chrome-linux64/resources/inspector_overlay/inspector_overlay_resources.grd  \r\n",
      "  inflating: /usr/bin/chrome-linux64/resources/inspector_overlay/main.js  \r\n"
     ]
    }
   ],
   "source": [
    "!wget -P /tmp https://edgedl.me.gvt1.com/edgedl/chrome/chrome-for-testing/116.0.5845.96/linux64/chrome-linux64.zip\n",
    "!unzip /tmp/chrome-linux64.zip -d /usr/bin/"
   ]
  },
  {
   "cell_type": "markdown",
   "id": "a6a0d69d",
   "metadata": {
    "papermill": {
     "duration": 0.016675,
     "end_time": "2024-04-25T01:16:06.188514",
     "exception": false,
     "start_time": "2024-04-25T01:16:06.171839",
     "status": "completed"
    },
    "tags": []
   },
   "source": [
    "## 1.3. Download and extract Chromedriver:\n",
    "\n",
    "As it was done in the previous code."
   ]
  },
  {
   "cell_type": "code",
   "execution_count": 3,
   "id": "94a9525f",
   "metadata": {
    "execution": {
     "iopub.execute_input": "2024-04-25T01:16:06.221448Z",
     "iopub.status.busy": "2024-04-25T01:16:06.221092Z",
     "iopub.status.idle": "2024-04-25T01:16:07.482707Z",
     "shell.execute_reply": "2024-04-25T01:16:07.481340Z"
    },
    "papermill": {
     "duration": 1.28093,
     "end_time": "2024-04-25T01:16:07.485045",
     "exception": false,
     "start_time": "2024-04-25T01:16:06.204115",
     "status": "completed"
    },
    "tags": []
   },
   "outputs": [
    {
     "name": "stdout",
     "output_type": "stream",
     "text": [
      "--2024-04-25 01:16:06--  https://edgedl.me.gvt1.com/edgedl/chrome/chrome-for-testing/116.0.5845.96/linux64/chromedriver-linux64.zip\r\n",
      "Resolving edgedl.me.gvt1.com (edgedl.me.gvt1.com)... 34.104.35.123, 2600:1900:4110:86f::\r\n",
      "Connecting to edgedl.me.gvt1.com (edgedl.me.gvt1.com)|34.104.35.123|:443... connected.\r\n",
      "HTTP request sent, awaiting response... 200 OK\r\n",
      "Length: 7271942 (6.9M) [application/octet-stream]\r\n",
      "Saving to: '/tmp/chromedriver-linux64.zip'\r\n",
      "\r\n",
      "chromedriver-linux6 100%[===================>]   6.93M  32.5MB/s    in 0.2s    \r\n",
      "\r\n",
      "2024-04-25 01:16:06 (32.5 MB/s) - '/tmp/chromedriver-linux64.zip' saved [7271942/7271942]\r\n",
      "\r\n",
      "Archive:  /tmp/chromedriver-linux64.zip\r\n",
      "  inflating: /usr/bin/chromedriver-linux64/LICENSE.chromedriver  \r\n",
      "  inflating: /usr/bin/chromedriver-linux64/chromedriver  \r\n"
     ]
    }
   ],
   "source": [
    "!wget -P /tmp https://edgedl.me.gvt1.com/edgedl/chrome/chrome-for-testing/116.0.5845.96/linux64/chromedriver-linux64.zip\n",
    "!unzip /tmp/chromedriver-linux64.zip -d /usr/bin/"
   ]
  },
  {
   "cell_type": "markdown",
   "id": "e8c7bdbd",
   "metadata": {
    "papermill": {
     "duration": 0.015576,
     "end_time": "2024-04-25T01:16:07.517132",
     "exception": false,
     "start_time": "2024-04-25T01:16:07.501556",
     "status": "completed"
    },
    "tags": []
   },
   "source": [
    "## 1.4. Install Python libraries"
   ]
  },
  {
   "cell_type": "code",
   "execution_count": 4,
   "id": "ba00bb4d",
   "metadata": {
    "execution": {
     "iopub.execute_input": "2024-04-25T01:16:07.552097Z",
     "iopub.status.busy": "2024-04-25T01:16:07.551663Z",
     "iopub.status.idle": "2024-04-25T01:16:30.927750Z",
     "shell.execute_reply": "2024-04-25T01:16:30.926690Z"
    },
    "papermill": {
     "duration": 23.396757,
     "end_time": "2024-04-25T01:16:30.930809",
     "exception": false,
     "start_time": "2024-04-25T01:16:07.534052",
     "status": "completed"
    },
    "tags": []
   },
   "outputs": [
    {
     "name": "stdout",
     "output_type": "stream",
     "text": [
      "\r\n",
      "\r\n",
      "\r\n",
      "The following additional packages will be installed:\r\n",
      "  apparmor chromium-browser chromium-chromedriver liblzo2-2 snapd\r\n",
      "  squashfs-tools\r\n",
      "Suggested packages:\r\n",
      "  apparmor-profiles-extra apparmor-utils zenity | kdialog\r\n",
      "The following NEW packages will be installed:\r\n",
      "  apparmor chromium-browser chromium-chromedriver liblzo2-2 python3-selenium\r\n",
      "  snapd squashfs-tools\r\n",
      "0 upgraded, 7 newly installed, 0 to remove and 112 not upgraded.\r\n",
      "Need to get 25.2 MB of archives.\r\n",
      "After this operation, 104 MB of additional disk space will be used.\r\n",
      "Get:1 http://archive.ubuntu.com/ubuntu focal-updates/main amd64 apparmor amd64 2.13.3-7ubuntu5.3 [502 kB]\r\n",
      "Get:2 http://archive.ubuntu.com/ubuntu focal/main amd64 liblzo2-2 amd64 2.10-2 [50.8 kB]\r\n",
      "Get:3 http://archive.ubuntu.com/ubuntu focal-updates/main amd64 squashfs-tools amd64 1:4.4-1ubuntu0.3 [117 kB]\r\n",
      "Get:4 http://archive.ubuntu.com/ubuntu focal-updates/main amd64 snapd amd64 2.61.3+20.04 [24.4 MB]\r\n",
      "Get:5 http://archive.ubuntu.com/ubuntu focal-updates/universe amd64 chromium-browser amd64 1:85.0.4183.83-0ubuntu0.20.04.3 [48.5 kB]\r\n",
      "Get:6 http://archive.ubuntu.com/ubuntu focal-updates/universe amd64 chromium-chromedriver amd64 1:85.0.4183.83-0ubuntu0.20.04.3 [2496 B]\r\n",
      "Get:7 http://archive.ubuntu.com/ubuntu focal/universe amd64 python3-selenium all 4.0.0~a1+dfsg1-1.1 [86.2 kB]\r\n",
      "Fetched 25.2 MB in 1s (49.8 MB/s)\r\n",
      "Preconfiguring packages ...\r\n",
      "\n",
      "\u001b7\u001b[0;23r\u001b8\u001b[1ASelecting previously unselected package apparmor.\r\n",
      "(Reading database ... 109076 files and directories currently installed.)\r\n",
      "Preparing to unpack .../apparmor_2.13.3-7ubuntu5.3_amd64.deb ...\r\n",
      "\u001b7\u001b[24;0f\u001b[42m\u001b[30mProgress: [  0%]\u001b[49m\u001b[39m [..........................................................] \u001b8\u001b7\u001b[24;0f\u001b[42m\u001b[30mProgress: [  3%]\u001b[49m\u001b[39m [##........................................................] \u001b8Unpacking apparmor (2.13.3-7ubuntu5.3) ...\r\n",
      "\u001b7\u001b[24;0f\u001b[42m\u001b[30mProgress: [  7%]\u001b[49m\u001b[39m [####......................................................] \u001b8Selecting previously unselected package liblzo2-2:amd64.\r\n",
      "Preparing to unpack .../liblzo2-2_2.10-2_amd64.deb ...\r\n",
      "\u001b7\u001b[24;0f\u001b[42m\u001b[30mProgress: [ 10%]\u001b[49m\u001b[39m [######....................................................] \u001b8Unpacking liblzo2-2:amd64 (2.10-2) ...\r\n",
      "\u001b7\u001b[24;0f\u001b[42m\u001b[30mProgress: [ 14%]\u001b[49m\u001b[39m [########..................................................] \u001b8Selecting previously unselected package squashfs-tools.\r\n",
      "Preparing to unpack .../squashfs-tools_1%3a4.4-1ubuntu0.3_amd64.deb ...\r\n",
      "\u001b7\u001b[24;0f\u001b[42m\u001b[30mProgress: [ 17%]\u001b[49m\u001b[39m [#########.................................................] \u001b8Unpacking squashfs-tools (1:4.4-1ubuntu0.3) ...\r\n",
      "\u001b7\u001b[24;0f\u001b[42m\u001b[30mProgress: [ 21%]\u001b[49m\u001b[39m [############..............................................] \u001b8Selecting previously unselected package snapd.\r\n",
      "Preparing to unpack .../snapd_2.61.3+20.04_amd64.deb ...\r\n",
      "\u001b7\u001b[24;0f\u001b[42m\u001b[30mProgress: [ 24%]\u001b[49m\u001b[39m [##############............................................] \u001b8Unpacking snapd (2.61.3+20.04) ...\r\n",
      "\u001b7\u001b[24;0f\u001b[42m\u001b[30mProgress: [ 28%]\u001b[49m\u001b[39m [################..........................................] \u001b8Setting up apparmor (2.13.3-7ubuntu5.3) ...\r\n",
      "\u001b7\u001b[24;0f\u001b[42m\u001b[30mProgress: [ 31%]\u001b[49m\u001b[39m [##################........................................] \u001b8Created symlink /etc/systemd/system/sysinit.target.wants/apparmor.service -> /lib/systemd/system/apparmor.service.\r\n",
      "\u001b7\u001b[24;0f\u001b[42m\u001b[30mProgress: [ 34%]\u001b[49m\u001b[39m [###################.......................................] \u001b8Setting up liblzo2-2:amd64 (2.10-2) ...\r\n",
      "\u001b7\u001b[24;0f\u001b[42m\u001b[30mProgress: [ 38%]\u001b[49m\u001b[39m [######################....................................] \u001b8\u001b7\u001b[24;0f\u001b[42m\u001b[30mProgress: [ 41%]\u001b[49m\u001b[39m [########################..................................] \u001b8Setting up squashfs-tools (1:4.4-1ubuntu0.3) ...\r\n",
      "\u001b7\u001b[24;0f\u001b[42m\u001b[30mProgress: [ 45%]\u001b[49m\u001b[39m [##########################................................] \u001b8\u001b7\u001b[24;0f\u001b[42m\u001b[30mProgress: [ 48%]\u001b[49m\u001b[39m [############################..............................] \u001b8Setting up snapd (2.61.3+20.04) ...\r\n",
      "\u001b7\u001b[24;0f\u001b[42m\u001b[30mProgress: [ 52%]\u001b[49m\u001b[39m [#############################.............................] \u001b8Created symlink /etc/systemd/system/multi-user.target.wants/snapd.apparmor.service -> /lib/systemd/system/snapd.apparmor.service.\r\n",
      "Created symlink /etc/systemd/system/multi-user.target.wants/snapd.autoimport.service -> /lib/systemd/system/snapd.autoimport.service.\r\n",
      "Created symlink /etc/systemd/system/multi-user.target.wants/snapd.core-fixup.service -> /lib/systemd/system/snapd.core-fixup.service.\r\n",
      "Created symlink /etc/systemd/system/multi-user.target.wants/snapd.recovery-chooser-trigger.service -> /lib/systemd/system/snapd.recovery-chooser-trigger.service.\r\n",
      "Created symlink /etc/systemd/system/multi-user.target.wants/snapd.seeded.service -> /lib/systemd/system/snapd.seeded.service.\r\n",
      "Created symlink /etc/systemd/system/cloud-final.service.wants/snapd.seeded.service -> /lib/systemd/system/snapd.seeded.service.\r\n",
      "Created symlink /etc/systemd/system/multi-user.target.wants/snapd.service -> /lib/systemd/system/snapd.service.\r\n",
      "Created symlink /etc/systemd/system/timers.target.wants/snapd.snap-repair.timer -> /lib/systemd/system/snapd.snap-repair.timer.\r\n",
      "Created symlink /etc/systemd/system/sockets.target.wants/snapd.socket -> /lib/systemd/system/snapd.socket.\r\n",
      "Created symlink /etc/systemd/system/final.target.wants/snapd.system-shutdown.service -> /lib/systemd/system/snapd.system-shutdown.service.\r\n",
      "\u001b7\u001b[24;0f\u001b[42m\u001b[30mProgress: [ 55%]\u001b[49m\u001b[39m [################################..........................] \u001b8Selecting previously unselected package chromium-browser.\r\n",
      "(Reading database ... 109369 files and directories currently installed.)\r\n",
      "Preparing to unpack .../chromium-browser_1%3a85.0.4183.83-0ubuntu0.20.04.3_amd64.deb ...\r\n",
      "\u001b7\u001b[24;0f\u001b[42m\u001b[30mProgress: [ 59%]\u001b[49m\u001b[39m [##################################........................] \u001b8=> Installing the chromium snap\r\n",
      "==> Checking connectivity with the snap store\r\n",
      "===> System doesn't have a working snapd, skipping\r\n",
      "Unpacking chromium-browser (1:85.0.4183.83-0ubuntu0.20.04.3) ...\r\n",
      "\u001b7\u001b[24;0f\u001b[42m\u001b[30mProgress: [ 62%]\u001b[49m\u001b[39m [####################################......................] \u001b8Selecting previously unselected package chromium-chromedriver.\r\n",
      "Preparing to unpack .../chromium-chromedriver_1%3a85.0.4183.83-0ubuntu0.20.04.3_amd64.deb ...\r\n",
      "\u001b7\u001b[24;0f\u001b[42m\u001b[30mProgress: [ 66%]\u001b[49m\u001b[39m [######################################....................] \u001b8Unpacking chromium-chromedriver (1:85.0.4183.83-0ubuntu0.20.04.3) ...\r\n",
      "\u001b7\u001b[24;0f\u001b[42m\u001b[30mProgress: [ 69%]\u001b[49m\u001b[39m [#######################################...................] \u001b8Selecting previously unselected package python3-selenium.\r\n",
      "Preparing to unpack .../python3-selenium_4.0.0~a1+dfsg1-1.1_all.deb ...\r\n",
      "\u001b7\u001b[24;0f\u001b[42m\u001b[30mProgress: [ 72%]\u001b[49m\u001b[39m [##########################################................] \u001b8Unpacking python3-selenium (4.0.0~a1+dfsg1-1.1) ...\r\n",
      "\u001b7\u001b[24;0f\u001b[42m\u001b[30mProgress: [ 76%]\u001b[49m\u001b[39m [############################################..............] \u001b8Setting up python3-selenium (4.0.0~a1+dfsg1-1.1) ...\r\n",
      "\u001b7\u001b[24;0f\u001b[42m\u001b[30mProgress: [ 79%]\u001b[49m\u001b[39m [##############################################............] \u001b8\u001b7\u001b[24;0f\u001b[42m\u001b[30mProgress: [ 83%]\u001b[49m\u001b[39m [################################################..........] \u001b8Setting up chromium-browser (1:85.0.4183.83-0ubuntu0.20.04.3) ...\r\n",
      "\u001b7\u001b[24;0f\u001b[42m\u001b[30mProgress: [ 86%]\u001b[49m\u001b[39m [##################################################........] \u001b8update-alternatives: using /usr/bin/chromium-browser to provide /usr/bin/x-www-browser (x-www-browser) in auto mode\r\n",
      "update-alternatives: using /usr/bin/chromium-browser to provide /usr/bin/gnome-www-browser (gnome-www-browser) in auto mode\r\n",
      "\u001b7\u001b[24;0f\u001b[42m\u001b[30mProgress: [ 90%]\u001b[49m\u001b[39m [####################################################......] \u001b8Setting up chromium-chromedriver (1:85.0.4183.83-0ubuntu0.20.04.3) ...\r\n",
      "\u001b7\u001b[24;0f\u001b[42m\u001b[30mProgress: [ 93%]\u001b[49m\u001b[39m [#####################################################.....] \u001b8\u001b7\u001b[24;0f\u001b[42m\u001b[30mProgress: [ 97%]\u001b[49m\u001b[39m [########################################################..] \u001b8Processing triggers for mime-support (3.64ubuntu1) ...\r\n",
      "Processing triggers for hicolor-icon-theme (0.17-2) ...\r\n",
      "Processing triggers for libc-bin (2.31-0ubuntu9.9) ...\r\n",
      "Processing triggers for systemd (245.4-4ubuntu3.22) ...\r\n",
      "Processing triggers for man-db (2.9.1-1) ...\r\n",
      "Processing triggers for dbus (1.12.16-2ubuntu2.3) ...\r\n",
      "\r\n",
      "\u001b7\u001b[0;24r\u001b8\u001b[1A\u001b[JCollecting selenium==3.141.0\r\n",
      "  Obtaining dependency information for selenium==3.141.0 from https://files.pythonhosted.org/packages/80/d6/4294f0b4bce4de0abf13e17190289f9d0613b0a44e5dd6a7f5ca98459853/selenium-3.141.0-py2.py3-none-any.whl.metadata\r\n",
      "  Downloading selenium-3.141.0-py2.py3-none-any.whl.metadata (6.6 kB)\r\n",
      "Requirement already satisfied: urllib3 in /opt/conda/lib/python3.10/site-packages (from selenium==3.141.0) (1.26.15)\r\n",
      "Downloading selenium-3.141.0-py2.py3-none-any.whl (904 kB)\r\n",
      "\u001b[2K   \u001b[90m━━━━━━━━━━━━━━━━━━━━━━━━━━━━━━━━━━━━━━━━\u001b[0m \u001b[32m904.6/904.6 kB\u001b[0m \u001b[31m10.8 MB/s\u001b[0m eta \u001b[36m0:00:00\u001b[0m\r\n",
      "\u001b[?25hInstalling collected packages: selenium\r\n",
      "Successfully installed selenium-3.141.0\r\n"
     ]
    }
   ],
   "source": [
    "!apt install -y python3-selenium\n",
    "!pip install selenium==3.141.0"
   ]
  },
  {
   "cell_type": "markdown",
   "id": "6bea9459",
   "metadata": {
    "papermill": {
     "duration": 0.020063,
     "end_time": "2024-04-25T01:16:30.971628",
     "exception": false,
     "start_time": "2024-04-25T01:16:30.951565",
     "status": "completed"
    },
    "tags": []
   },
   "source": [
    "# 2.Importing Libraries\n",
    "\n",
    "You will also need to install the following Python libraries:\n",
    "\n",
    "* **selenium**: The Selenium library provides the API for interacting with web pages.\n",
    "* **webdriver**: The webdriver library provides a way to interact with web drivers, such as Chromedriver.\n",
    "* **BeautifulSoup**: The BeautifulSoup library is used for parsing HTML content."
   ]
  },
  {
   "cell_type": "code",
   "execution_count": 5,
   "id": "46f91cda",
   "metadata": {
    "_cell_guid": "b1076dfc-b9ad-4769-8c92-a6c4dae69d19",
    "_uuid": "8f2839f25d086af736a60e9eeb907d3b93b6e0e5",
    "execution": {
     "iopub.execute_input": "2024-04-25T01:16:31.014896Z",
     "iopub.status.busy": "2024-04-25T01:16:31.014566Z",
     "iopub.status.idle": "2024-04-25T01:16:32.081405Z",
     "shell.execute_reply": "2024-04-25T01:16:32.080691Z"
    },
    "papermill": {
     "duration": 1.091664,
     "end_time": "2024-04-25T01:16:32.083587",
     "exception": false,
     "start_time": "2024-04-25T01:16:30.991923",
     "status": "completed"
    },
    "tags": []
   },
   "outputs": [],
   "source": [
    "import pandas as pd # data processing, CSV file I/O (e.g. pd.read_csv)\n",
    "import requests\n",
    "from bs4 import BeautifulSoup\n",
    "from tqdm import tqdm"
   ]
  },
  {
   "cell_type": "code",
   "execution_count": 6,
   "id": "a4ec4a4e",
   "metadata": {
    "execution": {
     "iopub.execute_input": "2024-04-25T01:16:32.167202Z",
     "iopub.status.busy": "2024-04-25T01:16:32.166669Z",
     "iopub.status.idle": "2024-04-25T01:16:32.174615Z",
     "shell.execute_reply": "2024-04-25T01:16:32.173513Z"
    },
    "papermill": {
     "duration": 0.072569,
     "end_time": "2024-04-25T01:16:32.176668",
     "exception": false,
     "start_time": "2024-04-25T01:16:32.104099",
     "status": "completed"
    },
    "tags": []
   },
   "outputs": [],
   "source": [
    "from retrying import retry\n",
    "import time\n",
    "import traceback"
   ]
  },
  {
   "cell_type": "markdown",
   "id": "a6547f14",
   "metadata": {
    "papermill": {
     "duration": 0.021337,
     "end_time": "2024-04-25T01:16:32.219452",
     "exception": false,
     "start_time": "2024-04-25T01:16:32.198115",
     "status": "completed"
    },
    "tags": []
   },
   "source": [
    "# 3. Configuring Chrome Driver\n",
    "\n",
    "These functions define the locations of Chrome and Chromedriver executables. Additionally, initialize_driver creates a Chrome webdriver instance with specific options:\n",
    "\n",
    "* *--headless*: Runs Chrome in headless mode, making it invisible.\n",
    "* *--no-sandbox*: Disables the sandbox for improved performance.\n",
    "* *--start-fullscreen*: Starts Chrome in fullscreen mode.\n",
    "* *--allow-insecure-localhost*: Allows access to insecure local websites (if needed).\n",
    "* *--disable-dev-shm-usage*: Disables shared memory usage for Chrome.\n",
    "* *user-agent*: Sets the user agent string to mimic a regular browser."
   ]
  },
  {
   "cell_type": "code",
   "execution_count": 7,
   "id": "555496f3",
   "metadata": {
    "execution": {
     "iopub.execute_input": "2024-04-25T01:16:32.261412Z",
     "iopub.status.busy": "2024-04-25T01:16:32.261067Z",
     "iopub.status.idle": "2024-04-25T01:16:32.287780Z",
     "shell.execute_reply": "2024-04-25T01:16:32.286337Z"
    },
    "papermill": {
     "duration": 0.050314,
     "end_time": "2024-04-25T01:16:32.290114",
     "exception": false,
     "start_time": "2024-04-25T01:16:32.239800",
     "status": "completed"
    },
    "tags": []
   },
   "outputs": [],
   "source": [
    "from selenium import webdriver\n",
    "from selenium.webdriver.chrome.options import Options\n",
    "from selenium.webdriver.common.by import By\n",
    "from selenium.webdriver.support.ui import WebDriverWait\n",
    "from selenium.webdriver.support import expected_conditions as EC\n",
    "from selenium.webdriver.common.action_chains import ActionChains\n",
    "\n",
    "CHROME_BINARY_LOCATION = \"/usr/bin/chrome-linux64/chrome\"\n",
    "CHROMEDRIVER_BINARY_LOCATION = \"/usr/bin/chromedriver-linux64/chromedriver\"\n",
    "\n",
    "def add_driver_options(options):\n",
    "    \"\"\"\n",
    "    Add configurable options\n",
    "    \"\"\"\n",
    "    chrome_options = Options()\n",
    "    for opt in options:\n",
    "        chrome_options.add_argument(opt)\n",
    "    return chrome_options\n",
    "\n",
    "def initialize_driver():\n",
    "    \"\"\"\n",
    "    Initialize the web driver\n",
    "    \"\"\"\n",
    "    driver_config = {\n",
    "        \"options\": [\n",
    "            \"--headless\",\n",
    "            \"--no-sandbox\",\n",
    "            \"--start-fullscreen\",\n",
    "            \"--allow-insecure-localhost\",\n",
    "            \"--disable-dev-shm-usage\",\n",
    "            \"user-agent=Chrome/116.0.5845.96\"\n",
    "        ],\n",
    "    }\n",
    "    options = add_driver_options(driver_config[\"options\"])\n",
    "    options.binary_location = CHROME_BINARY_LOCATION\n",
    "    driver = webdriver.Chrome(\n",
    "        executable_path=CHROMEDRIVER_BINARY_LOCATION,\n",
    "        options=options)\n",
    "    return driver\n"
   ]
  },
  {
   "cell_type": "markdown",
   "id": "668e485f",
   "metadata": {
    "papermill": {
     "duration": 0.020169,
     "end_time": "2024-04-25T01:16:32.331004",
     "exception": false,
     "start_time": "2024-04-25T01:16:32.310835",
     "status": "completed"
    },
    "tags": []
   },
   "source": [
    "# 4. Using Selenium: Example\n",
    "\n",
    "Here's a breakdown of how I'm using Selenium to extract book information from Goodreads, with a practical example:\n",
    "\n",
    "\n",
    "If you want a full version of this dataset, you can check and vote it in https://www.kaggle.com/datasets/cristaliss/ultimate-book-collection-top-100-books-up-to-2023"
   ]
  },
  {
   "cell_type": "code",
   "execution_count": 8,
   "id": "2411f3a5",
   "metadata": {
    "execution": {
     "iopub.execute_input": "2024-04-25T01:16:32.373008Z",
     "iopub.status.busy": "2024-04-25T01:16:32.372672Z",
     "iopub.status.idle": "2024-04-25T01:19:44.808331Z",
     "shell.execute_reply": "2024-04-25T01:19:44.807065Z"
    },
    "papermill": {
     "duration": 192.459678,
     "end_time": "2024-04-25T01:19:44.810893",
     "exception": false,
     "start_time": "2024-04-25T01:16:32.351215",
     "status": "completed"
    },
    "tags": []
   },
   "outputs": [
    {
     "name": "stderr",
     "output_type": "stream",
     "text": [
      "Processing Books: 100%|██████████| 100/100 [03:06<00:00,  1.87s/it]\n"
     ]
    }
   ],
   "source": [
    "def extract_series_info(series_string):\n",
    "    # Split the series string based on ', #' or ' #'\n",
    "    if ', #' in series_string:\n",
    "        series_list = series_string.split(', #')\n",
    "    elif ' #' in series_string:\n",
    "        series_list = series_string.split(' #')\n",
    "    else:\n",
    "        # If no separator is found, assume the whole string is the series name\n",
    "        return series_string, ''\n",
    "\n",
    "    # Extract the series name and release number\n",
    "    series_name = series_list[0]\n",
    "    release_number = series_list[1]\n",
    "\n",
    "    return series_name, release_number\n",
    "\n",
    "def extract_series_and_release(title_name):\n",
    "    series_info_temp = title_name.split('(')\n",
    "    if len(series_info_temp) > 1:\n",
    "        release_info = series_info_temp[-1].replace(')', '')\n",
    "        if len(release_info.split(';')) > 1:\n",
    "            series_temp = []\n",
    "            release_temp = []\n",
    "            for b in release_info.split(\";\"):\n",
    "                series_list, release_list = extract_series_info(b)\n",
    "                series_temp.append(series_list)\n",
    "                release_temp.append(release_list)\n",
    "            series_list = ','.join(series_temp)\n",
    "            release_list = ','.join(release_temp)\n",
    "        else:\n",
    "            series_list, release_list = extract_series_info(release_info)\n",
    "\n",
    "        title_name = title_name.replace(f' ({release_info})', '')\n",
    "    else:\n",
    "        series_list = ''\n",
    "        release_list = ''\n",
    "\n",
    "    return series_list, release_list\n",
    "\n",
    "\n",
    "def extract_books_info(driver, url):\n",
    "    \"\"\"\n",
    "    Extracts book information from a Goodreads URL using Selenium.\n",
    "\n",
    "    Args:\n",
    "        driver (selenium.webdriver.chrome.webdriver.WebDriver): The initialized Chrome driver.\n",
    "        url (str): The URL of the Goodreads page containing book information.\n",
    "\n",
    "    Returns:\n",
    "        pd.DataFrame: A DataFrame containing the extracted book data.\n",
    "\n",
    "    Raises:\n",
    "        Exception: If an error occurs during the scraping process.\n",
    "    \"\"\"\n",
    "    try:\n",
    "        driver.get(url)\n",
    "\n",
    "        # Wait for the page to load completely\n",
    "        WebDriverWait(driver, 10).until(\n",
    "            EC.presence_of_element_located((By.CLASS_NAME, \"bookTitle\"))\n",
    "        )\n",
    "\n",
    "        # Extract book elements using Selenium\n",
    "        title_elements = driver.find_elements(By.CLASS_NAME, \"bookTitle\")\n",
    "        author_elements = driver.find_elements(By.CLASS_NAME, \"authorName\")\n",
    "\n",
    "        book_data = {\n",
    "            'book_titles': [],\n",
    "            'series_info': [],\n",
    "            'release_numbers': [],\n",
    "            'authors_raw': []\n",
    "        }\n",
    "\n",
    "        for title in tqdm(title_elements, total=len(title_elements), desc='Processing Books'):\n",
    "            book_url = \"https://www.goodreads.com\" + title.get_attribute('href')\n",
    "\n",
    "            # Extract title using Selenium\n",
    "            title_span = title.find_element(By.TAG_NAME, 'span')\n",
    "            title_name = title_span.get_attribute('innerHTML').strip()\n",
    "\n",
    "            # Extract series and release information using Selenium\n",
    "            series_list, release_list = extract_series_and_release(title_name)\n",
    "            book_data['series_info'].append(series_list)\n",
    "            book_data['release_numbers'].append(release_list)\n",
    "            book_data['book_titles'].append(title_name)\n",
    "\n",
    "            # Extract authors using Selenium\n",
    "            authors_raw = []\n",
    "            for author in author_elements:\n",
    "                author_element = author.find_element(By.TAG_NAME, 'span')\n",
    "                if author_element:\n",
    "                    authors_raw.append(author_element.get_attribute('innerHTML').strip())\n",
    "                else:\n",
    "                    authors_raw.append('')\n",
    "            book_data['authors_raw'] = authors_raw\n",
    "\n",
    "        df_book = pd.DataFrame(book_data)\n",
    "\n",
    "        return df_book\n",
    "\n",
    "    except Exception as e:\n",
    "        print(f\"An error occurred during scraping: {e}\")\n",
    "        raise\n",
    "\n",
    "# Example usage\n",
    "driver = initialize_driver()\n",
    "url = \"https://www.goodreads.com/list/best_of_year/2023\"\n",
    "books = extract_books_info(driver, url)"
   ]
  },
  {
   "cell_type": "code",
   "execution_count": 9,
   "id": "020063de",
   "metadata": {
    "execution": {
     "iopub.execute_input": "2024-04-25T01:19:44.866897Z",
     "iopub.status.busy": "2024-04-25T01:19:44.866574Z",
     "iopub.status.idle": "2024-04-25T01:19:44.892466Z",
     "shell.execute_reply": "2024-04-25T01:19:44.890912Z"
    },
    "papermill": {
     "duration": 0.056849,
     "end_time": "2024-04-25T01:19:44.894781",
     "exception": false,
     "start_time": "2024-04-25T01:19:44.837932",
     "status": "completed"
    },
    "tags": []
   },
   "outputs": [
    {
     "data": {
      "text/html": [
       "<div>\n",
       "<style scoped>\n",
       "    .dataframe tbody tr th:only-of-type {\n",
       "        vertical-align: middle;\n",
       "    }\n",
       "\n",
       "    .dataframe tbody tr th {\n",
       "        vertical-align: top;\n",
       "    }\n",
       "\n",
       "    .dataframe thead th {\n",
       "        text-align: right;\n",
       "    }\n",
       "</style>\n",
       "<table border=\"1\" class=\"dataframe\">\n",
       "  <thead>\n",
       "    <tr style=\"text-align: right;\">\n",
       "      <th></th>\n",
       "      <th>book_titles</th>\n",
       "      <th>series_info</th>\n",
       "      <th>release_numbers</th>\n",
       "      <th>authors_raw</th>\n",
       "    </tr>\n",
       "  </thead>\n",
       "  <tbody>\n",
       "    <tr>\n",
       "      <th>0</th>\n",
       "      <td>Fourth Wing (The Empyrean, #1)</td>\n",
       "      <td>The Empyrean</td>\n",
       "      <td>1</td>\n",
       "      <td>Rebecca Yarros</td>\n",
       "    </tr>\n",
       "    <tr>\n",
       "      <th>1</th>\n",
       "      <td>Happy Place</td>\n",
       "      <td></td>\n",
       "      <td></td>\n",
       "      <td>Emily Henry</td>\n",
       "    </tr>\n",
       "    <tr>\n",
       "      <th>2</th>\n",
       "      <td>Yellowface</td>\n",
       "      <td></td>\n",
       "      <td></td>\n",
       "      <td>R.F. Kuang</td>\n",
       "    </tr>\n",
       "    <tr>\n",
       "      <th>3</th>\n",
       "      <td>Divine Rivals (Letters of Enchantment, #1)</td>\n",
       "      <td>Letters of Enchantment</td>\n",
       "      <td>1</td>\n",
       "      <td>Rebecca   Ross</td>\n",
       "    </tr>\n",
       "    <tr>\n",
       "      <th>4</th>\n",
       "      <td>Love, Theoretically</td>\n",
       "      <td></td>\n",
       "      <td></td>\n",
       "      <td>Ali Hazelwood</td>\n",
       "    </tr>\n",
       "    <tr>\n",
       "      <th>...</th>\n",
       "      <td>...</td>\n",
       "      <td>...</td>\n",
       "      <td>...</td>\n",
       "      <td>...</td>\n",
       "    </tr>\n",
       "    <tr>\n",
       "      <th>95</th>\n",
       "      <td>A Fire in the Flesh (Flesh and Fire, #3)</td>\n",
       "      <td>Flesh and Fire</td>\n",
       "      <td>3</td>\n",
       "      <td>Jennifer L. Armentrout</td>\n",
       "    </tr>\n",
       "    <tr>\n",
       "      <th>96</th>\n",
       "      <td>Stone Cold Fox</td>\n",
       "      <td></td>\n",
       "      <td></td>\n",
       "      <td>Rachel Koller Croft</td>\n",
       "    </tr>\n",
       "    <tr>\n",
       "      <th>97</th>\n",
       "      <td>The Heaven &amp;amp; Earth Grocery Store</td>\n",
       "      <td></td>\n",
       "      <td></td>\n",
       "      <td>James   McBride</td>\n",
       "    </tr>\n",
       "    <tr>\n",
       "      <th>98</th>\n",
       "      <td>Finlay Donovan Jumps the Gun (Finlay Donovan, #3)</td>\n",
       "      <td>Finlay Donovan</td>\n",
       "      <td>3</td>\n",
       "      <td>Elle Cosimano</td>\n",
       "    </tr>\n",
       "    <tr>\n",
       "      <th>99</th>\n",
       "      <td>The Crown of Oaths and Curses (The Mortal Fate...</td>\n",
       "      <td>The Mortal Fates</td>\n",
       "      <td>1</td>\n",
       "      <td>J.  Bree</td>\n",
       "    </tr>\n",
       "  </tbody>\n",
       "</table>\n",
       "<p>100 rows × 4 columns</p>\n",
       "</div>"
      ],
      "text/plain": [
       "                                          book_titles             series_info  \\\n",
       "0                      Fourth Wing (The Empyrean, #1)            The Empyrean   \n",
       "1                                         Happy Place                           \n",
       "2                                          Yellowface                           \n",
       "3          Divine Rivals (Letters of Enchantment, #1)  Letters of Enchantment   \n",
       "4                                 Love, Theoretically                           \n",
       "..                                                ...                     ...   \n",
       "95           A Fire in the Flesh (Flesh and Fire, #3)          Flesh and Fire   \n",
       "96                                     Stone Cold Fox                           \n",
       "97               The Heaven &amp; Earth Grocery Store                           \n",
       "98  Finlay Donovan Jumps the Gun (Finlay Donovan, #3)          Finlay Donovan   \n",
       "99  The Crown of Oaths and Curses (The Mortal Fate...        The Mortal Fates   \n",
       "\n",
       "   release_numbers             authors_raw  \n",
       "0                1          Rebecca Yarros  \n",
       "1                              Emily Henry  \n",
       "2                               R.F. Kuang  \n",
       "3                1          Rebecca   Ross  \n",
       "4                            Ali Hazelwood  \n",
       "..             ...                     ...  \n",
       "95               3  Jennifer L. Armentrout  \n",
       "96                     Rachel Koller Croft  \n",
       "97                         James   McBride  \n",
       "98               3           Elle Cosimano  \n",
       "99               1                J.  Bree  \n",
       "\n",
       "[100 rows x 4 columns]"
      ]
     },
     "execution_count": 9,
     "metadata": {},
     "output_type": "execute_result"
    }
   ],
   "source": [
    "books"
   ]
  },
  {
   "cell_type": "markdown",
   "id": "a243cfce",
   "metadata": {
    "papermill": {
     "duration": 0.027261,
     "end_time": "2024-04-25T01:19:44.949740",
     "exception": false,
     "start_time": "2024-04-25T01:19:44.922479",
     "status": "completed"
    },
    "tags": []
   },
   "source": [
    "# Farewell and a Call to Action:\n",
    "\n",
    "**Thank you** for following along with this **Selenium** tutorial! I hope you found it informative and helpful.\n",
    "\n",
    "If you enjoyed this tutorial:\n",
    "\n",
    "* ❤️ **Vote it up!** Your feedback helps me improve my content and create more valuable resources for the community.\n",
    "* 💬 **Leave a comment below**: Share your thoughts, questions, or suggestions. I'd love to hear from you!\n",
    "* 🔔 **Check out my other notebooks**: Explore my collection of tutorials on various topics, including web scraping, data analysis, and machine learning.\n",
    "\n",
    "Keep learning and growing your skills! Selenium is a powerful tool that can unlock a wide range of possibilities in web scraping. With continued practice and exploration, you can master Selenium and use it to achieve your goals.\n",
    "\n",
    "**Farewell for now, and happy coding!**"
   ]
  },
  {
   "cell_type": "markdown",
   "id": "f05c1dde",
   "metadata": {
    "papermill": {
     "duration": 0.026479,
     "end_time": "2024-04-25T01:19:45.003498",
     "exception": false,
     "start_time": "2024-04-25T01:19:44.977019",
     "status": "completed"
    },
    "tags": []
   },
   "source": [
    "_______"
   ]
  },
  {
   "cell_type": "code",
   "execution_count": 10,
   "id": "d3685202",
   "metadata": {
    "execution": {
     "iopub.execute_input": "2024-04-25T01:19:45.059065Z",
     "iopub.status.busy": "2024-04-25T01:19:45.058715Z",
     "iopub.status.idle": "2024-04-25T01:19:46.426410Z",
     "shell.execute_reply": "2024-04-25T01:19:46.425324Z"
    },
    "papermill": {
     "duration": 1.39839,
     "end_time": "2024-04-25T01:19:46.428777",
     "exception": false,
     "start_time": "2024-04-25T01:19:45.030387",
     "status": "completed"
    },
    "tags": []
   },
   "outputs": [],
   "source": [
    "import json\n",
    "import matplotlib.pyplot as plt\n",
    "import seaborn as sb\n",
    "\n",
    "%matplotlib inline"
   ]
  },
  {
   "cell_type": "code",
   "execution_count": 11,
   "id": "e69c1e7b",
   "metadata": {
    "execution": {
     "iopub.execute_input": "2024-04-25T01:19:46.484670Z",
     "iopub.status.busy": "2024-04-25T01:19:46.484368Z",
     "iopub.status.idle": "2024-04-25T01:19:50.491691Z",
     "shell.execute_reply": "2024-04-25T01:19:50.491021Z"
    },
    "papermill": {
     "duration": 4.037952,
     "end_time": "2024-04-25T01:19:50.494056",
     "exception": false,
     "start_time": "2024-04-25T01:19:46.456104",
     "status": "completed"
    },
    "tags": []
   },
   "outputs": [],
   "source": [
    "# Using this Selenium instance for glassdoor\n",
    "\n",
    "\n",
    "# Replace the website link of Glassdoor job search if needed\n",
    "#website = \"https://www.glassdoor.com/Job/jobs.htm?sc.occupationParam=%22data+analyst%22\"\n",
    "website = \"https://www.glassdoor.com/Job/palo-alto-ca-us-product-analyst-jobs-SRCH_IL.0,15_IC1147434_KO16,31.htm\"\n",
    "\n",
    "driver.get(website)"
   ]
  },
  {
   "cell_type": "code",
   "execution_count": 12,
   "id": "ce422922",
   "metadata": {
    "execution": {
     "iopub.execute_input": "2024-04-25T01:19:50.550198Z",
     "iopub.status.busy": "2024-04-25T01:19:50.549796Z",
     "iopub.status.idle": "2024-04-25T01:19:50.555177Z",
     "shell.execute_reply": "2024-04-25T01:19:50.554085Z"
    },
    "papermill": {
     "duration": 0.035127,
     "end_time": "2024-04-25T01:19:50.557412",
     "exception": false,
     "start_time": "2024-04-25T01:19:50.522285",
     "status": "completed"
    },
    "tags": []
   },
   "outputs": [],
   "source": [
    "def close_login_popup(driver):\n",
    "    \"\"\"\n",
    "    Closes the login popup window if it is present.\n",
    "\n",
    "    Input:\n",
    "    - driver: Selenium WebDriver object.\n",
    "    \"\"\"\n",
    "    try:\n",
    "        # Check for login popup, if present then click CloseButton\n",
    "        close_login_popup = driver.find_element(By.CLASS_NAME,\"CloseButton\")\n",
    "        close_login_popup.click()\n",
    "        close_login_popup.click()\n",
    "    except:\n",
    "        time.sleep(0)"
   ]
  },
  {
   "cell_type": "code",
   "execution_count": 13,
   "id": "b2d2b86b",
   "metadata": {
    "execution": {
     "iopub.execute_input": "2024-04-25T01:19:50.614298Z",
     "iopub.status.busy": "2024-04-25T01:19:50.613990Z",
     "iopub.status.idle": "2024-04-25T01:19:50.619222Z",
     "shell.execute_reply": "2024-04-25T01:19:50.618381Z"
    },
    "papermill": {
     "duration": 0.034158,
     "end_time": "2024-04-25T01:19:50.620766",
     "exception": false,
     "start_time": "2024-04-25T01:19:50.586608",
     "status": "completed"
    },
    "tags": []
   },
   "outputs": [],
   "source": [
    "def click_show_more(driver, num_iteration):\n",
    "    \"\"\"\n",
    "    Clicks the 'Show more jobs' button a specified number of times.\n",
    "\n",
    "    Inputs:\n",
    "    - driver: Selenium WebDriver object.\n",
    "    - num_iteration (int): Number of times to click the 'Show more jobs' button.\n",
    "    \"\"\"\n",
    "    for i in tqdm(range(num_iteration), desc =\"Progress\"):\n",
    "\n",
    "        close_login_popup(driver)\n",
    "\n",
    "        try:\n",
    "            time.sleep(3)\n",
    "            all_matches_button = driver.find_element(By.CSS_SELECTOR, '[data-test=\"load-more\"]')\n",
    "        except:\n",
    "            time.sleep(0)\n",
    "            print(\"Show more jobs button not found\")\n",
    "\n",
    "        close_login_popup(driver)\n",
    "        all_matches_button.click()"
   ]
  },
  {
   "cell_type": "code",
   "execution_count": 14,
   "id": "bc250d8c",
   "metadata": {
    "execution": {
     "iopub.execute_input": "2024-04-25T01:19:50.677577Z",
     "iopub.status.busy": "2024-04-25T01:19:50.677077Z",
     "iopub.status.idle": "2024-04-25T01:19:50.692655Z",
     "shell.execute_reply": "2024-04-25T01:19:50.691948Z"
    },
    "papermill": {
     "duration": 0.047349,
     "end_time": "2024-04-25T01:19:50.694837",
     "exception": false,
     "start_time": "2024-04-25T01:19:50.647488",
     "status": "completed"
    },
    "tags": []
   },
   "outputs": [],
   "source": [
    "def glassdoor_web_scraping_v2(driver):\n",
    "    \"\"\"\n",
    "    Scrapes job details from Glassdoor website using the provided Selenium driver.\n",
    "\n",
    "    Input:\n",
    "    - driver: Selenium WebDriver object.\n",
    "\n",
    "    Output:\n",
    "    - job_dataset: DataFrame containing scraped job details.\n",
    "    \"\"\"\n",
    "    job_records = []\n",
    "\n",
    "    close_login_popup(driver)\n",
    "    all_jobs_list = driver.find_elements(By.XPATH, \"//li[@class='JobsList_jobListItem__wjTHv']\")\n",
    "\n",
    "    for job in tqdm(all_jobs_list, desc=\"Progress\"):\n",
    "\n",
    "        job_record = {}\n",
    "\n",
    "        close_login_popup(driver)\n",
    "        job.click()\n",
    "        time.sleep(4)\n",
    "\n",
    "        try:\n",
    "            show_more_button = driver.find_element(By.CLASS_NAME, \"JobDetails_showMore___Le6L\")\n",
    "            close_login_popup(driver)\n",
    "            show_more_button.click()\n",
    "        except:\n",
    "            time.sleep(0)\n",
    "\n",
    "        job_details_tab = driver.find_element(By.CLASS_NAME, \"JobDetails_jobDetailsContainer__y9P3L\")\n",
    "\n",
    "#         job_record[\"job_id\"] = \"\"\n",
    "        job_record[\"company\"] = \"\"\n",
    "        job_record[\"job_title\"] = \"\"\n",
    "        job_record[\"company_rating\"] = \"\"\n",
    "        job_record[\"job_description\"] = \"\"\n",
    "        job_record[\"location\"] = \"\"\n",
    "        job_record[\"salary_median_estimate\"] = \"\"\n",
    "        job_record[\"salary_estimate_payperiod\"] = \"\"\n",
    "        job_record[\"company_size\"] = \"\"\n",
    "        job_record[\"company_founded\"] = \"\"\n",
    "        job_record[\"employment_type\"] = \"\"\n",
    "        job_record[\"industry\"] = \"\"\n",
    "        job_record[\"sector\"] = \"\"\n",
    "        job_record[\"revenue\"] = \"\"\n",
    "        job_record[\"career_opportunities_rating\"] = \"\"\n",
    "        job_record[\"comp_and_benefits_rating\"] = \"\"\n",
    "        job_record[\"culture_and_values_rating\"] = \"\"\n",
    "        job_record[\"senior_management_rating\"] = \"\"\n",
    "        job_record[\"work_life_balance_rating\"] = \"\"\n",
    "\n",
    "#         try:\n",
    "#             job_id = all_jobs_list.get_attribute('data-jobid')\n",
    "#             job_record[\"job_id\"] = job_id\n",
    "\n",
    "#         except:\n",
    "#             pass   \n",
    "\n",
    "        try:    \n",
    "            company = job_details_tab.find_element(By.CLASS_NAME, \"heading_Heading__BqX5J.heading_Subhead__Ip1aW\") \n",
    "            job_record[\"company\"] = company.text \n",
    "        except:\n",
    "            pass\n",
    "\n",
    "        try:    \n",
    "            job_title = job_details_tab.find_element(By.CLASS_NAME, \"heading_Heading__BqX5J.heading_Level1__soLZs\") \n",
    "            job_record[\"job_title\"] = job_title.text \n",
    "        except:\n",
    "            pass\n",
    "\n",
    "        try:\n",
    "            company_rating = job_details_tab.find_element(By.CLASS_NAME, \"EmployerProfile_ratingContainer__ul0Ef\")\n",
    "            job_record[\"company_rating\"] = company_rating.text\n",
    "        except:\n",
    "            pass\n",
    "\n",
    "        try:\n",
    "            job_description = job_details_tab.find_element(By.CLASS_NAME, \"JobDetails_jobDescription__uW_fK\")\n",
    "            job_record[\"job_description\"] = job_description.text\n",
    "        except:\n",
    "            pass\n",
    "\n",
    "        try:\n",
    "            location = job_details_tab.find_element(By.CLASS_NAME, \"JobDetails_location__mSg5h\") \n",
    "            job_record[\"location\"] = location.text\n",
    "        except:\n",
    "            pass\n",
    "\n",
    "        try:\n",
    "            salary_estimate = job_details_tab.find_element(By.CLASS_NAME, \"SalaryEstimate_medianEstimate__fOYN1\") \n",
    "            job_record[\"salary_median_estimate\"] = salary_estimate.text\n",
    "        except:\n",
    "            pass\n",
    "\n",
    "        try:\n",
    "            salary_estimate_payperiod = job_details_tab.find_element(By.CLASS_NAME, \"SalaryEstimate_payPeriod__RsvG_\")\n",
    "            job_record[\"salary_estimate_payperiod\"] = salary_estimate_payperiod.text\n",
    "        except:\n",
    "            pass\n",
    "\n",
    "        try:\n",
    "            company_overview_values = job_details_tab.find_elements(By.CLASS_NAME, \"JobDetails_overviewItemValue__xn8EF\")\n",
    "            if len(company_overview_values) == 6:\n",
    "                job_record.update({\n",
    "                    \"company_size\": company_overview_values[0].text,\n",
    "                    \"company_founded\": company_overview_values[1].text,\n",
    "                    \"employment_type\": company_overview_values[2].text,\n",
    "                    \"industry\": company_overview_values[3].text,\n",
    "                    \"sector\": company_overview_values[4].text,\n",
    "                    \"revenue\": company_overview_values[5].text\n",
    "                })\n",
    "        except:\n",
    "            pass\n",
    "\n",
    "        try:\n",
    "            company_ratings = job_details_tab.find_elements(By.CLASS_NAME, \"JobDetails_ratingScore___xSXK\")\n",
    "            if len(company_ratings) == 5:\n",
    "                job_record.update({\n",
    "                    \"career_opportunities_rating\": company_ratings[0].text,\n",
    "                    \"comp_and_benefits_rating\": company_ratings[1].text,\n",
    "                    \"culture_and_values_rating\": company_ratings[2].text,\n",
    "                    \"senior_management_rating\": company_ratings[3].text,\n",
    "                    \"work_life_balance_rating\": company_ratings[4].text\n",
    "                })\n",
    "        except:\n",
    "            pass\n",
    "\n",
    "        job_records.append(job_record)\n",
    "\n",
    "    job_dataset = pd.concat([pd.DataFrame([record]) for record in job_records], ignore_index=True)\n",
    "    return job_dataset"
   ]
  },
  {
   "cell_type": "code",
   "execution_count": 15,
   "id": "ac27e295",
   "metadata": {
    "execution": {
     "iopub.execute_input": "2024-04-25T01:19:50.752068Z",
     "iopub.status.busy": "2024-04-25T01:19:50.751703Z",
     "iopub.status.idle": "2024-04-25T01:22:13.132050Z",
     "shell.execute_reply": "2024-04-25T01:22:13.131042Z"
    },
    "papermill": {
     "duration": 142.411487,
     "end_time": "2024-04-25T01:22:13.134378",
     "exception": false,
     "start_time": "2024-04-25T01:19:50.722891",
     "status": "completed"
    },
    "tags": []
   },
   "outputs": [
    {
     "name": "stderr",
     "output_type": "stream",
     "text": [
      "Progress: 100%|██████████| 30/30 [02:22<00:00,  4.74s/it]\n"
     ]
    },
    {
     "data": {
      "text/html": [
       "<div>\n",
       "<style scoped>\n",
       "    .dataframe tbody tr th:only-of-type {\n",
       "        vertical-align: middle;\n",
       "    }\n",
       "\n",
       "    .dataframe tbody tr th {\n",
       "        vertical-align: top;\n",
       "    }\n",
       "\n",
       "    .dataframe thead th {\n",
       "        text-align: right;\n",
       "    }\n",
       "</style>\n",
       "<table border=\"1\" class=\"dataframe\">\n",
       "  <thead>\n",
       "    <tr style=\"text-align: right;\">\n",
       "      <th></th>\n",
       "      <th>company</th>\n",
       "      <th>job_title</th>\n",
       "      <th>company_rating</th>\n",
       "      <th>job_description</th>\n",
       "      <th>location</th>\n",
       "      <th>salary_median_estimate</th>\n",
       "      <th>salary_estimate_payperiod</th>\n",
       "      <th>company_size</th>\n",
       "      <th>company_founded</th>\n",
       "      <th>employment_type</th>\n",
       "      <th>industry</th>\n",
       "      <th>sector</th>\n",
       "      <th>revenue</th>\n",
       "      <th>career_opportunities_rating</th>\n",
       "      <th>comp_and_benefits_rating</th>\n",
       "      <th>culture_and_values_rating</th>\n",
       "      <th>senior_management_rating</th>\n",
       "      <th>work_life_balance_rating</th>\n",
       "    </tr>\n",
       "  </thead>\n",
       "  <tbody>\n",
       "    <tr>\n",
       "      <th>0</th>\n",
       "      <td>Visa</td>\n",
       "      <td>Product Analyst</td>\n",
       "      <td>4.1</td>\n",
       "      <td>Company Description\\n\\nVisa is a world leader ...</td>\n",
       "      <td>Foster City, CA</td>\n",
       "      <td>$137K</td>\n",
       "      <td>/yr (Employer est.)</td>\n",
       "      <td>10000+ Employees</td>\n",
       "      <td>1958</td>\n",
       "      <td>Company - Public</td>\n",
       "      <td>Information Technology Support Services</td>\n",
       "      <td>Information Technology</td>\n",
       "      <td>$10+ billion (USD)</td>\n",
       "      <td>3.8</td>\n",
       "      <td>4.0</td>\n",
       "      <td>4.1</td>\n",
       "      <td>3.6</td>\n",
       "      <td>4.1</td>\n",
       "    </tr>\n",
       "    <tr>\n",
       "      <th>1</th>\n",
       "      <td>Tipalti</td>\n",
       "      <td>Competitive Intelligence Analyst - Product Str...</td>\n",
       "      <td>3.9</td>\n",
       "      <td>Position Summary\\nAs a Competitive Intelligenc...</td>\n",
       "      <td>Foster City, CA</td>\n",
       "      <td>$90K</td>\n",
       "      <td>/yr (Employer est.)</td>\n",
       "      <td>501 to 1000 Employees</td>\n",
       "      <td>2010</td>\n",
       "      <td>Company - Private</td>\n",
       "      <td>Enterprise Software &amp; Network Solutions</td>\n",
       "      <td>Information Technology</td>\n",
       "      <td>Unknown / Non-Applicable</td>\n",
       "      <td>3.8</td>\n",
       "      <td>3.6</td>\n",
       "      <td>4.0</td>\n",
       "      <td>3.6</td>\n",
       "      <td>4.1</td>\n",
       "    </tr>\n",
       "    <tr>\n",
       "      <th>2</th>\n",
       "      <td>Systems Planning and Analysis, Inc.</td>\n",
       "      <td>Senior Product Support Analyst - Navy Training</td>\n",
       "      <td>4.3</td>\n",
       "      <td>Overview:\\nSystems Planning and Analysis, Inc....</td>\n",
       "      <td>United States</td>\n",
       "      <td></td>\n",
       "      <td></td>\n",
       "      <td>1001 to 5000 Employees</td>\n",
       "      <td>1972</td>\n",
       "      <td>Company - Private</td>\n",
       "      <td>Aerospace &amp; Defense</td>\n",
       "      <td>Aerospace &amp; Defense</td>\n",
       "      <td>$100 to $500 million (USD)</td>\n",
       "      <td>4.1</td>\n",
       "      <td>4.2</td>\n",
       "      <td>4.4</td>\n",
       "      <td>3.9</td>\n",
       "      <td>4.3</td>\n",
       "    </tr>\n",
       "    <tr>\n",
       "      <th>3</th>\n",
       "      <td>Apple</td>\n",
       "      <td>Financial Analyst (Product Cost)</td>\n",
       "      <td>4.2</td>\n",
       "      <td>Summary\\n\\nPosted: Feb 14, 2024\\n\\nRole Number...</td>\n",
       "      <td>Sunnyvale, CA</td>\n",
       "      <td>$132K</td>\n",
       "      <td>/yr (Employer est.)</td>\n",
       "      <td>10000+ Employees</td>\n",
       "      <td>1976</td>\n",
       "      <td>Company - Public</td>\n",
       "      <td>Computer Hardware Development</td>\n",
       "      <td>Information Technology</td>\n",
       "      <td>$10+ billion (USD)</td>\n",
       "      <td>3.7</td>\n",
       "      <td>4.2</td>\n",
       "      <td>4.1</td>\n",
       "      <td>3.6</td>\n",
       "      <td>3.6</td>\n",
       "    </tr>\n",
       "    <tr>\n",
       "      <th>4</th>\n",
       "      <td>CentralReach</td>\n",
       "      <td>Product Manager - Clinical</td>\n",
       "      <td>4.3</td>\n",
       "      <td>CentralReach is the #1 provider of SaaS softwa...</td>\n",
       "      <td>United States</td>\n",
       "      <td></td>\n",
       "      <td></td>\n",
       "      <td>51 to 200 Employees</td>\n",
       "      <td>2012</td>\n",
       "      <td>Company - Private</td>\n",
       "      <td>Enterprise Software &amp; Network Solutions</td>\n",
       "      <td>Information Technology</td>\n",
       "      <td>$25 to $100 million (USD)</td>\n",
       "      <td>4.2</td>\n",
       "      <td>4.1</td>\n",
       "      <td>4.3</td>\n",
       "      <td>4.2</td>\n",
       "      <td>4.3</td>\n",
       "    </tr>\n",
       "  </tbody>\n",
       "</table>\n",
       "</div>"
      ],
      "text/plain": [
       "                               company  \\\n",
       "0                                 Visa   \n",
       "1                              Tipalti   \n",
       "2  Systems Planning and Analysis, Inc.   \n",
       "3                                Apple   \n",
       "4                         CentralReach   \n",
       "\n",
       "                                           job_title company_rating  \\\n",
       "0                                    Product Analyst            4.1   \n",
       "1  Competitive Intelligence Analyst - Product Str...            3.9   \n",
       "2     Senior Product Support Analyst - Navy Training            4.3   \n",
       "3                   Financial Analyst (Product Cost)            4.2   \n",
       "4                         Product Manager - Clinical            4.3   \n",
       "\n",
       "                                     job_description         location  \\\n",
       "0  Company Description\\n\\nVisa is a world leader ...  Foster City, CA   \n",
       "1  Position Summary\\nAs a Competitive Intelligenc...  Foster City, CA   \n",
       "2  Overview:\\nSystems Planning and Analysis, Inc....    United States   \n",
       "3  Summary\\n\\nPosted: Feb 14, 2024\\n\\nRole Number...    Sunnyvale, CA   \n",
       "4  CentralReach is the #1 provider of SaaS softwa...    United States   \n",
       "\n",
       "  salary_median_estimate salary_estimate_payperiod            company_size  \\\n",
       "0                  $137K       /yr (Employer est.)        10000+ Employees   \n",
       "1                   $90K       /yr (Employer est.)   501 to 1000 Employees   \n",
       "2                                                   1001 to 5000 Employees   \n",
       "3                  $132K       /yr (Employer est.)        10000+ Employees   \n",
       "4                                                      51 to 200 Employees   \n",
       "\n",
       "  company_founded    employment_type                                 industry  \\\n",
       "0            1958   Company - Public  Information Technology Support Services   \n",
       "1            2010  Company - Private  Enterprise Software & Network Solutions   \n",
       "2            1972  Company - Private                      Aerospace & Defense   \n",
       "3            1976   Company - Public            Computer Hardware Development   \n",
       "4            2012  Company - Private  Enterprise Software & Network Solutions   \n",
       "\n",
       "                   sector                     revenue  \\\n",
       "0  Information Technology          $10+ billion (USD)   \n",
       "1  Information Technology    Unknown / Non-Applicable   \n",
       "2     Aerospace & Defense  $100 to $500 million (USD)   \n",
       "3  Information Technology          $10+ billion (USD)   \n",
       "4  Information Technology   $25 to $100 million (USD)   \n",
       "\n",
       "  career_opportunities_rating comp_and_benefits_rating  \\\n",
       "0                         3.8                      4.0   \n",
       "1                         3.8                      3.6   \n",
       "2                         4.1                      4.2   \n",
       "3                         3.7                      4.2   \n",
       "4                         4.2                      4.1   \n",
       "\n",
       "  culture_and_values_rating senior_management_rating work_life_balance_rating  \n",
       "0                       4.1                      3.6                      4.1  \n",
       "1                       4.0                      3.6                      4.1  \n",
       "2                       4.4                      3.9                      4.3  \n",
       "3                       4.1                      3.6                      3.6  \n",
       "4                       4.3                      4.2                      4.3  "
      ]
     },
     "execution_count": 15,
     "metadata": {},
     "output_type": "execute_result"
    }
   ],
   "source": [
    "df2 = glassdoor_web_scraping_v2(driver)\n",
    "df2.head()"
   ]
  },
  {
   "cell_type": "code",
   "execution_count": 16,
   "id": "1f5e9aa1",
   "metadata": {
    "execution": {
     "iopub.execute_input": "2024-04-25T01:22:13.195870Z",
     "iopub.status.busy": "2024-04-25T01:22:13.195335Z",
     "iopub.status.idle": "2024-04-25T01:22:13.199697Z",
     "shell.execute_reply": "2024-04-25T01:22:13.198659Z"
    },
    "papermill": {
     "duration": 0.037428,
     "end_time": "2024-04-25T01:22:13.201934",
     "exception": false,
     "start_time": "2024-04-25T01:22:13.164506",
     "status": "completed"
    },
    "tags": []
   },
   "outputs": [],
   "source": [
    "# click_show_more(driver, 40)"
   ]
  },
  {
   "cell_type": "code",
   "execution_count": 17,
   "id": "c8b94913",
   "metadata": {
    "execution": {
     "iopub.execute_input": "2024-04-25T01:22:13.263898Z",
     "iopub.status.busy": "2024-04-25T01:22:13.263417Z",
     "iopub.status.idle": "2024-04-25T01:22:13.276725Z",
     "shell.execute_reply": "2024-04-25T01:22:13.275331Z"
    },
    "papermill": {
     "duration": 0.046912,
     "end_time": "2024-04-25T01:22:13.279429",
     "exception": false,
     "start_time": "2024-04-25T01:22:13.232517",
     "status": "completed"
    },
    "tags": []
   },
   "outputs": [],
   "source": [
    "# create csv so that don't need to run this again\n",
    "df2.to_csv('LLM_df.csv')"
   ]
  },
  {
   "cell_type": "code",
   "execution_count": 18,
   "id": "e9f12f95",
   "metadata": {
    "execution": {
     "iopub.execute_input": "2024-04-25T01:22:13.340835Z",
     "iopub.status.busy": "2024-04-25T01:22:13.340465Z",
     "iopub.status.idle": "2024-04-25T01:22:13.419285Z",
     "shell.execute_reply": "2024-04-25T01:22:13.418444Z"
    },
    "papermill": {
     "duration": 0.111521,
     "end_time": "2024-04-25T01:22:13.421395",
     "exception": false,
     "start_time": "2024-04-25T01:22:13.309874",
     "status": "completed"
    },
    "tags": []
   },
   "outputs": [],
   "source": [
    "# time.sleep(10)\n",
    "driver.quit()"
   ]
  },
  {
   "cell_type": "markdown",
   "id": "d90921bd",
   "metadata": {
    "papermill": {
     "duration": 0.029326,
     "end_time": "2024-04-25T01:22:13.481566",
     "exception": false,
     "start_time": "2024-04-25T01:22:13.452240",
     "status": "completed"
    },
    "tags": []
   },
   "source": [
    "# EDA/Clean Job Description Column"
   ]
  },
  {
   "cell_type": "code",
   "execution_count": 19,
   "id": "76319247",
   "metadata": {
    "execution": {
     "iopub.execute_input": "2024-04-25T01:22:13.541863Z",
     "iopub.status.busy": "2024-04-25T01:22:13.541345Z",
     "iopub.status.idle": "2024-04-25T01:22:13.570037Z",
     "shell.execute_reply": "2024-04-25T01:22:13.569199Z"
    },
    "papermill": {
     "duration": 0.061179,
     "end_time": "2024-04-25T01:22:13.571870",
     "exception": false,
     "start_time": "2024-04-25T01:22:13.510691",
     "status": "completed"
    },
    "tags": []
   },
   "outputs": [
    {
     "name": "stdout",
     "output_type": "stream",
     "text": [
      "<class 'pandas.core.frame.DataFrame'>\n",
      "RangeIndex: 30 entries, 0 to 29\n",
      "Data columns (total 18 columns):\n",
      " #   Column                       Non-Null Count  Dtype \n",
      "---  ------                       --------------  ----- \n",
      " 0   company                      30 non-null     object\n",
      " 1   job_title                    30 non-null     object\n",
      " 2   company_rating               30 non-null     object\n",
      " 3   job_description              30 non-null     object\n",
      " 4   location                     30 non-null     object\n",
      " 5   salary_median_estimate       30 non-null     object\n",
      " 6   salary_estimate_payperiod    30 non-null     object\n",
      " 7   company_size                 30 non-null     object\n",
      " 8   company_founded              30 non-null     object\n",
      " 9   employment_type              30 non-null     object\n",
      " 10  industry                     30 non-null     object\n",
      " 11  sector                       30 non-null     object\n",
      " 12  revenue                      30 non-null     object\n",
      " 13  career_opportunities_rating  30 non-null     object\n",
      " 14  comp_and_benefits_rating     30 non-null     object\n",
      " 15  culture_and_values_rating    30 non-null     object\n",
      " 16  senior_management_rating     30 non-null     object\n",
      " 17  work_life_balance_rating     30 non-null     object\n",
      "dtypes: object(18)\n",
      "memory usage: 4.3+ KB\n"
     ]
    }
   ],
   "source": [
    "df2.info()"
   ]
  },
  {
   "cell_type": "code",
   "execution_count": 20,
   "id": "6335503f",
   "metadata": {
    "execution": {
     "iopub.execute_input": "2024-04-25T01:22:13.631953Z",
     "iopub.status.busy": "2024-04-25T01:22:13.631148Z",
     "iopub.status.idle": "2024-04-25T01:22:13.638240Z",
     "shell.execute_reply": "2024-04-25T01:22:13.637431Z"
    },
    "papermill": {
     "duration": 0.039017,
     "end_time": "2024-04-25T01:22:13.640112",
     "exception": false,
     "start_time": "2024-04-25T01:22:13.601095",
     "status": "completed"
    },
    "tags": []
   },
   "outputs": [
    {
     "data": {
      "text/plain": [
       "company                        0\n",
       "job_title                      0\n",
       "company_rating                 0\n",
       "job_description                0\n",
       "location                       0\n",
       "salary_median_estimate         0\n",
       "salary_estimate_payperiod      0\n",
       "company_size                   0\n",
       "company_founded                0\n",
       "employment_type                0\n",
       "industry                       0\n",
       "sector                         0\n",
       "revenue                        0\n",
       "career_opportunities_rating    0\n",
       "comp_and_benefits_rating       0\n",
       "culture_and_values_rating      0\n",
       "senior_management_rating       0\n",
       "work_life_balance_rating       0\n",
       "dtype: int64"
      ]
     },
     "execution_count": 20,
     "metadata": {},
     "output_type": "execute_result"
    }
   ],
   "source": [
    "df2.isnull().sum()"
   ]
  },
  {
   "cell_type": "code",
   "execution_count": 21,
   "id": "f495591d",
   "metadata": {
    "execution": {
     "iopub.execute_input": "2024-04-25T01:22:13.703482Z",
     "iopub.status.busy": "2024-04-25T01:22:13.702814Z",
     "iopub.status.idle": "2024-04-25T01:22:13.713055Z",
     "shell.execute_reply": "2024-04-25T01:22:13.712203Z"
    },
    "papermill": {
     "duration": 0.042383,
     "end_time": "2024-04-25T01:22:13.714954",
     "exception": false,
     "start_time": "2024-04-25T01:22:13.672571",
     "status": "completed"
    },
    "tags": []
   },
   "outputs": [
    {
     "data": {
      "text/plain": [
       "0"
      ]
     },
     "execution_count": 21,
     "metadata": {},
     "output_type": "execute_result"
    }
   ],
   "source": [
    "df2.duplicated().sum()"
   ]
  },
  {
   "cell_type": "code",
   "execution_count": 22,
   "id": "8daec673",
   "metadata": {
    "execution": {
     "iopub.execute_input": "2024-04-25T01:22:13.776281Z",
     "iopub.status.busy": "2024-04-25T01:22:13.775904Z",
     "iopub.status.idle": "2024-04-25T01:22:13.784798Z",
     "shell.execute_reply": "2024-04-25T01:22:13.783554Z"
    },
    "papermill": {
     "duration": 0.041745,
     "end_time": "2024-04-25T01:22:13.787013",
     "exception": false,
     "start_time": "2024-04-25T01:22:13.745268",
     "status": "completed"
    },
    "tags": []
   },
   "outputs": [
    {
     "data": {
      "text/plain": [
       "job_title\n",
       "Product Analyst                                                               2\n",
       "Director of Product Management                                                2\n",
       "Competitive Intelligence Analyst - Product Strategy                           1\n",
       "Product Lifecycle Management Analyst                                          1\n",
       "Principal Outbound Product Manager – App Engine                               1\n",
       "Product Marketing Manager, Data Security                                      1\n",
       "Director, Product and Technology Communications                               1\n",
       "Senior Director, Product Marketing (Customer Solutions)                       1\n",
       "Product Manager - In-Game Media Data Solutions                                1\n",
       "Intel Product Order to Cash Business Analyst                                  1\n",
       "Sr. Data Scientist, Product Analytics                                         1\n",
       "Product Manager Reliability - Product Development                             1\n",
       "Senior Manager of Product Analysis                                            1\n",
       "Senior Product Manager - TurboTax Live Full Service                           1\n",
       "Product Analytics, Manager                                                    1\n",
       "Product Manager - Additive Manufacturing System                               1\n",
       "Product Growth Analyst                                                        1\n",
       "Product Manager, Sustainability Regulations & Standards (San Mateo hybrid)    1\n",
       "Senior Product Data Analyst                                                   1\n",
       "Senior Product Strategy Analyst                                               1\n",
       "Ergonomics Product Analyst - Apple Vision Pro                                 1\n",
       "Product Analyst, Samsung Ads - MTV                                            1\n",
       "Manager, Program and Product Cost Finance                                     1\n",
       "Business Analyst - Global Monetization Product & Tech                         1\n",
       "Product Manager - Clinical                                                    1\n",
       "Financial Analyst (Product Cost)                                              1\n",
       "Senior Product Support Analyst - Navy Training                                1\n",
       "Senior Product Marketing Manager - Endpoint & Identity Security               1\n",
       "Name: count, dtype: int64"
      ]
     },
     "execution_count": 22,
     "metadata": {},
     "output_type": "execute_result"
    }
   ],
   "source": [
    "df2['job_title'].value_counts()"
   ]
  },
  {
   "cell_type": "markdown",
   "id": "44da9cd0",
   "metadata": {
    "papermill": {
     "duration": 0.029938,
     "end_time": "2024-04-25T01:22:13.847756",
     "exception": false,
     "start_time": "2024-04-25T01:22:13.817818",
     "status": "completed"
    },
    "tags": []
   },
   "source": [
    "Lot of variations of Product Analyst title"
   ]
  },
  {
   "cell_type": "code",
   "execution_count": 23,
   "id": "c9420cc1",
   "metadata": {
    "execution": {
     "iopub.execute_input": "2024-04-25T01:22:13.908557Z",
     "iopub.status.busy": "2024-04-25T01:22:13.907979Z",
     "iopub.status.idle": "2024-04-25T01:22:13.914721Z",
     "shell.execute_reply": "2024-04-25T01:22:13.913471Z"
    },
    "papermill": {
     "duration": 0.0399,
     "end_time": "2024-04-25T01:22:13.917262",
     "exception": false,
     "start_time": "2024-04-25T01:22:13.877362",
     "status": "completed"
    },
    "tags": []
   },
   "outputs": [
    {
     "data": {
      "text/plain": [
       "company                        object\n",
       "job_title                      object\n",
       "company_rating                 object\n",
       "job_description                object\n",
       "location                       object\n",
       "salary_median_estimate         object\n",
       "salary_estimate_payperiod      object\n",
       "company_size                   object\n",
       "company_founded                object\n",
       "employment_type                object\n",
       "industry                       object\n",
       "sector                         object\n",
       "revenue                        object\n",
       "career_opportunities_rating    object\n",
       "comp_and_benefits_rating       object\n",
       "culture_and_values_rating      object\n",
       "senior_management_rating       object\n",
       "work_life_balance_rating       object\n",
       "dtype: object"
      ]
     },
     "execution_count": 23,
     "metadata": {},
     "output_type": "execute_result"
    }
   ],
   "source": [
    "df2.dtypes"
   ]
  },
  {
   "cell_type": "code",
   "execution_count": 24,
   "id": "4c3025e0",
   "metadata": {
    "execution": {
     "iopub.execute_input": "2024-04-25T01:22:13.978457Z",
     "iopub.status.busy": "2024-04-25T01:22:13.978127Z",
     "iopub.status.idle": "2024-04-25T01:22:13.983812Z",
     "shell.execute_reply": "2024-04-25T01:22:13.983073Z"
    },
    "papermill": {
     "duration": 0.037945,
     "end_time": "2024-04-25T01:22:13.985462",
     "exception": false,
     "start_time": "2024-04-25T01:22:13.947517",
     "status": "completed"
    },
    "tags": []
   },
   "outputs": [
    {
     "data": {
      "text/plain": [
       "'Company Description\\n\\nVisa is a world leader in payments and technology, with over 259 billion payments transactions flowing safely between consumers, merchants, financial institutions, and government entities in more than 200 countries and territories each year. Our mission is to connect the world through the most innovative, convenient, reliable, and secure payments network, enabling individuals, businesses, and economies to thrive while driven by a common purpose – to uplift everyone, everywhere by being the best way to pay and be paid.\\nMake an impact with a purpose-driven industry leader. Join us today and experience Life at Visa.\\n\\nJob Description\\n\\nVisa Digital Products team is on the forefront of Visa’s innovation responsible for building digital platforms such as Visa Token Services and Visa Click to Pay (a.k.a., Secure Remote Commerce/SRC). This team is also responsible for setting standards in the payment industry level (EMVCo and W3C) for digital commerce. Platform product team is responsible for defining product requirements for Visa Click to Pay and Token products, collaborate with cross functional teams including, but not limited to, Product, Technology, Commercialization, UX Design/Research, Legal, Marketing, Branding, and different Visa Regional teams to build great products at scale and drive adoption.\\nThis position will be responsible for shaping and developing the product strategy, requirements and delivery of digital and physical token provisioning solutions leveraging Visa Token Service.\\nJob Description\\nWant to build the future payment experience for Visa cardholders around the world?\\nImagine being part of an agile team where your ideas transform the payment experience for millions of Visa cardholders globally. Visa Digital Platform team is looking for Product Managers to join our diverse team, to build new product capabilities and enhancing existing ones. Our platform capabilities will be used by merchants, PSPs and wallets to enable payment experience in their online and physical checkouts.\\nEssential Functions\\nDefining product and market requirements by understanding the needs of issuers and merchants/token requestors during token provisioning process.\\nEstablish detailed business requirements and specifications for existing and new services and products.\\nCollaborate deeply with-in product and other cross-functional teams such as development, architecture, testing, integration, design etc.\\nAnalyze data to provide actionable insights and iterate product capabilities.\\nProactively identify gaps in the current product offering and lead the effort to develop solutions that drive business value.\\nTrack payment industry trends, standards and competitive offerings in the e-commerce and mobile payments arena. Identify opportunities for new value-added and differentiated features.\\nCoordinate with the regional product teams and internal teams to ensure country/market and regulatory requirements are met, delivered, and tested for a successful launch.\\nParticipate in client facing discussions, provide feedback, learn, evaluate, and apply in defining product.\\nMaintain in-depth knowledge of services (APIs) offered by Digital Solutions Product team.\\nManaging, grooming, planning and execution of a steady product backlog in a very fast paced agile environment.\\nPerform triage on critical issues, escalating as necessary and communicating consistently and clearly with all concerned parties.\\nThis is a hybrid position. Hybrid employees can alternate time between both remote and office. Employees in hybrid roles are expected to work from the office 2-3 set days a week (determined by leadership/site), with a general guidepost of being in the office 50% or more of the time based on business needs.\\n\\nQualifications\\n\\nBasic Qualifications\\n2 or more years of work experience with a Bachelor’s Degree or an Advanced Degree (e.g. Masters, MBA, JD, MD, or PhD)\\nE-commerce and payment industry knowledge.\\nExperience in driving product strategy and go to market.\\nProduct experience that enables excellent user experiences, especially with services for e-commerce or payment systems or financial systems.\\nExperience demonstrating strong leadership, self-motivation, accountability, and team player.\\nPreferred Qualifications\\n3 or more years of work experience with a Bachelor’s Degree or more than 2 years of work experience with an Advanced Degree (e.g. Masters, MBA, JD, MD)\\nStrong collaboration and communication skills with the ability to effectively work cross-organizationally.\\nDemonstrate strong customer centric mindset.\\nSuccessful demonstration of product delivery in either or both Agile (e.g., scrum) and waterfall software development methodologies\\nAbility to lead, drive consensus and deliver in a matrix organization with multiple stakeholders.\\nCreativity and resourcefulness to overcome unexpected roadblocks.\\nProven track record of taking ownership and driving meaningful results.\\nAbility to deliver initiatives from conception through completion.\\nSuperior analytical and problem-solving skills to synthesize and communicate complex information effectively.\\n\\nAdditional Information\\n\\nWork Hours: Varies upon the needs of the department.\\nTravel Requirements: This position requires travel 5-10% of the time.\\nMental/Physical Requirements: This position will be performed in an office setting. The position will require the incumbent to sit and stand at a desk, communicate in person and by telephone, frequently operate standard office equipment, such as telephones and computers.\\nVisa is an EEO Employer. Qualified applicants will receive consideration for employment without regard to race, color, religion, sex, national origin, sexual orientation, gender identity, disability or protected veteran status. Visa will also consider for employment qualified applicants with criminal histories in a manner consistent with EEOC guidelines and applicable local law.\\nVisa will consider for employment qualified applicants with criminal histories in a manner consistent with applicable local law, including the requirements of Article 49 of the San Francisco Police Code.\\nU.S. APPLICANTS ONLY: The estimated salary range for a new hire into this position is 113,700.00 to 160,600.00 USD per year, which may include potential sales incentive payments (if applicable). Salary may vary depending on job-related factors which may include knowledge, skills, experience, and location. In addition, this position may be eligible for bonus and equity. Visa has a comprehensive benefits package for which this position may be eligible that includes Medical, Dental, Vision, 401 (k), FSA/HSA, Life Insurance, Paid Time Off, and Wellness Program.'"
      ]
     },
     "execution_count": 24,
     "metadata": {},
     "output_type": "execute_result"
    }
   ],
   "source": [
    "df2['job_description'][0]"
   ]
  },
  {
   "cell_type": "code",
   "execution_count": null,
   "id": "59c143e1",
   "metadata": {
    "papermill": {
     "duration": 0.028958,
     "end_time": "2024-04-25T01:22:14.043895",
     "exception": false,
     "start_time": "2024-04-25T01:22:14.014937",
     "status": "completed"
    },
    "tags": []
   },
   "outputs": [],
   "source": []
  }
 ],
 "metadata": {
  "kaggle": {
   "accelerator": "none",
   "dataSources": [
    {
     "datasetId": 4413046,
     "sourceId": 7581027,
     "sourceType": "datasetVersion"
    }
   ],
   "dockerImageVersionId": 30635,
   "isGpuEnabled": false,
   "isInternetEnabled": true,
   "language": "python",
   "sourceType": "notebook"
  },
  "kernelspec": {
   "display_name": "Python 3",
   "language": "python",
   "name": "python3"
  },
  "language_info": {
   "codemirror_mode": {
    "name": "ipython",
    "version": 3
   },
   "file_extension": ".py",
   "mimetype": "text/x-python",
   "name": "python",
   "nbconvert_exporter": "python",
   "pygments_lexer": "ipython3",
   "version": "3.10.12"
  },
  "papermill": {
   "default_parameters": {},
   "duration": 393.147634,
   "end_time": "2024-04-25T01:22:14.593621",
   "environment_variables": {},
   "exception": null,
   "input_path": "__notebook__.ipynb",
   "output_path": "__notebook__.ipynb",
   "parameters": {},
   "start_time": "2024-04-25T01:15:41.445987",
   "version": "2.4.0"
  }
 },
 "nbformat": 4,
 "nbformat_minor": 5
}
