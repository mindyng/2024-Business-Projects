{
 "cells": [
  {
   "cell_type": "markdown",
   "id": "6d306f62",
   "metadata": {
    "_cell_guid": "b1076dfc-b9ad-4769-8c92-a6c4dae69d19",
    "_uuid": "8f2839f25d086af736a60e9eeb907d3b93b6e0e5",
    "papermill": {
     "duration": 0.012769,
     "end_time": "2024-03-07T01:07:19.781785",
     "exception": false,
     "start_time": "2024-03-07T01:07:19.769016",
     "status": "completed"
    },
    "tags": []
   },
   "source": [
    "# Objective: \n",
    "\n",
    "Experimentation is key to innovation at big tech companies. And to measure its success, there needs to be statistical rigor and not just lift in the test group.\n",
    "\n",
    "After helping to build out v0 experimentation framework at Mercari, I wanted to dig deeper into A/B testing advancements when it comes to more rigorous and modern techniques. \n",
    "\n",
    "This notebook serves as a Python code application of this [Towards Data Science article](https://towardsdatascience.com/how-to-select-the-right-statistical-tests-for-different-a-b-metrics-c8a1865851e) about how experimentation was done at TikTok as well as answers to [interview questions](https://prepfully.com/interview-questions/stitch-fix/data-scientist?page=3) from Stitch Fix's Data Scientist team."
   ]
  },
  {
   "cell_type": "code",
   "execution_count": 1,
   "id": "0203146a",
   "metadata": {
    "execution": {
     "iopub.execute_input": "2024-03-07T01:07:19.808856Z",
     "iopub.status.busy": "2024-03-07T01:07:19.808482Z",
     "iopub.status.idle": "2024-03-07T01:07:40.306965Z",
     "shell.execute_reply": "2024-03-07T01:07:40.305494Z"
    },
    "papermill": {
     "duration": 20.515326,
     "end_time": "2024-03-07T01:07:40.309867",
     "exception": false,
     "start_time": "2024-03-07T01:07:19.794541",
     "status": "completed"
    },
    "tags": []
   },
   "outputs": [],
   "source": [
    "!pip install duckdb jupysql --quiet #dask-expr"
   ]
  },
  {
   "cell_type": "code",
   "execution_count": 2,
   "id": "845c34d3",
   "metadata": {
    "execution": {
     "iopub.execute_input": "2024-03-07T01:07:40.336463Z",
     "iopub.status.busy": "2024-03-07T01:07:40.335993Z",
     "iopub.status.idle": "2024-03-07T01:07:44.476200Z",
     "shell.execute_reply": "2024-03-07T01:07:44.475049Z"
    },
    "papermill": {
     "duration": 4.156948,
     "end_time": "2024-03-07T01:07:44.479055",
     "exception": false,
     "start_time": "2024-03-07T01:07:40.322107",
     "status": "completed"
    },
    "tags": []
   },
   "outputs": [
    {
     "name": "stdout",
     "output_type": "stream",
     "text": [
      "Deploy Shiny apps for free on Ploomber Cloud! Learn more: https://ploomber.io/s/signup\n"
     ]
    }
   ],
   "source": [
    "# Data Maniupulation\n",
    "\n",
    "# import dask\n",
    "# dask.config.set({'dataframe.query-planning': True})\n",
    "# import dask.dataframe as dd\n",
    "\n",
    "import duckdb\n",
    "%load_ext sql\n",
    "conn = duckdb.connect()\n",
    "%sql conn --alias duckdb \n",
    "# import dask\n",
    "# dask.config.set({'dataframe.query-planning': True})\n",
    "# import dask.dataframe as dd\n",
    "\n",
    "import numpy as np\n",
    "import pandas as pd\n",
    "\n",
    "# Statistics\n",
    "from scipy import stats\n",
    "import scipy.stats\n",
    "\n",
    "# Test for Normality\n",
    "from scipy.stats import shapiro\n",
    "\n",
    "# Statistical Test\n",
    "from scipy.stats import mannwhitneyu\n",
    "\n",
    "# Visualizations\n",
    "import matplotlib.pyplot as plt\n",
    "import seaborn as sns"
   ]
  },
  {
   "cell_type": "markdown",
   "id": "4799636c",
   "metadata": {
    "papermill": {
     "duration": 0.01214,
     "end_time": "2024-03-07T01:07:44.503708",
     "exception": false,
     "start_time": "2024-03-07T01:07:44.491568",
     "status": "completed"
    },
    "tags": []
   },
   "source": [
    "# What is the Python code for calculating the confidence intervals for a mean?"
   ]
  },
  {
   "cell_type": "code",
   "execution_count": 3,
   "id": "d98b7311",
   "metadata": {
    "execution": {
     "iopub.execute_input": "2024-03-07T01:07:44.529963Z",
     "iopub.status.busy": "2024-03-07T01:07:44.529333Z",
     "iopub.status.idle": "2024-03-07T01:07:44.543415Z",
     "shell.execute_reply": "2024-03-07T01:07:44.542282Z"
    },
    "papermill": {
     "duration": 0.029903,
     "end_time": "2024-03-07T01:07:44.545837",
     "exception": false,
     "start_time": "2024-03-07T01:07:44.515934",
     "status": "completed"
    },
    "tags": []
   },
   "outputs": [
    {
     "name": "stdout",
     "output_type": "stream",
     "text": [
      "Sample Mean: 4.94107688262016\n",
      "Standard Error of the Mean (SEM): 0.19419162724287448\n",
      "Confidence Interval (95.0%): (4.555758564003793, 5.326395201236527)\n"
     ]
    }
   ],
   "source": [
    "#ChatGPT 3.5\n",
    "\n",
    "# Generate some sample datanp.random.seed(42)  # For reproducibility\n",
    "data = np.random.normal(loc=5, scale=2, size=100)  # Sample data with mean 5 and standard deviation 2\n",
    "\n",
    "# Calculate mean and standard error of the mean (SEM)\n",
    "mean = np.mean(data)\n",
    "sem = stats.sem(data)\n",
    "\n",
    "# Define confidence level (e.g., 95%)\n",
    "confidence_level = 0.95\n",
    "\n",
    "# Calculate margin of error\n",
    "margin_of_error = sem * stats.t.ppf((1 + confidence_level) / 2, len(data) - 1)\n",
    "\n",
    "# Calculate confidence interval\n",
    "confidence_interval = (mean - margin_of_error, mean + margin_of_error)\n",
    "\n",
    "print(\"Sample Mean:\", mean)\n",
    "print(\"Standard Error of the Mean (SEM):\", sem)\n",
    "print(f\"Confidence Interval ({confidence_level * 100}%):\", confidence_interval)\n"
   ]
  },
  {
   "cell_type": "code",
   "execution_count": 4,
   "id": "6e29da84",
   "metadata": {
    "execution": {
     "iopub.execute_input": "2024-03-07T01:07:44.572600Z",
     "iopub.status.busy": "2024-03-07T01:07:44.572014Z",
     "iopub.status.idle": "2024-03-07T01:07:44.581598Z",
     "shell.execute_reply": "2024-03-07T01:07:44.580287Z"
    },
    "papermill": {
     "duration": 0.025433,
     "end_time": "2024-03-07T01:07:44.583806",
     "exception": false,
     "start_time": "2024-03-07T01:07:44.558373",
     "status": "completed"
    },
    "tags": []
   },
   "outputs": [
    {
     "name": "stdout",
     "output_type": "stream",
     "text": [
      "The confidence interval is: (3.3341494103866087, 7.665850589613392)\n"
     ]
    }
   ],
   "source": [
    "#ChatGPT 4.0 Turbo:\n",
    "\n",
    "# Let's assume you have some data in a Python list\n",
    "data = [1, 2, 3, 4, 5, 6, 7, 8, 9, 10]\n",
    "\n",
    "# Calculate the mean and standard error\n",
    "mean = np.mean(data)\n",
    "standard_error = scipy.stats.sem(data)\n",
    "\n",
    "# Define the confidence level to be 95%\n",
    "confidence_level = 0.95\n",
    "\n",
    "# Calculate the confidence interval\n",
    "confidence_interval = scipy.stats.t.interval(confidence_level, len(data)-1, loc=mean, scale=standard_error)\n",
    "\n",
    "print(f\"The confidence interval is: {confidence_interval}\")"
   ]
  },
  {
   "cell_type": "code",
   "execution_count": 5,
   "id": "f3a1b368",
   "metadata": {
    "execution": {
     "iopub.execute_input": "2024-03-07T01:07:44.611573Z",
     "iopub.status.busy": "2024-03-07T01:07:44.610851Z",
     "iopub.status.idle": "2024-03-07T01:07:44.880176Z",
     "shell.execute_reply": "2024-03-07T01:07:44.879109Z"
    },
    "papermill": {
     "duration": 0.286658,
     "end_time": "2024-03-07T01:07:44.883555",
     "exception": false,
     "start_time": "2024-03-07T01:07:44.596897",
     "status": "completed"
    },
    "tags": []
   },
   "outputs": [
    {
     "data": {
      "image/png": "[encoded data removed]",
      "text/plain": [
       "<Figure size 640x480 with 1 Axes>"
      ]
     },
     "metadata": {},
     "output_type": "display_data"
    }
   ],
   "source": [
    "# Plot the CI intervals\n",
    "\n",
    "# Create a figure and a subplot\n",
    "fig, ax = plt.subplots()\n",
    "\n",
    "# Plot the mean as a red line\n",
    "ax.axhline(mean, color='red')\n",
    "\n",
    "# Plot the confidence interval as a blue band\n",
    "ax.fill_between(range(len(data)), confidence_interval[0], confidence_interval[1], color='blue', alpha=0.2)\n",
    "\n",
    "# Plot the data points\n",
    "ax.plot(data, 'ko')\n",
    "\n",
    "# Show the plot\n",
    "plt.show()"
   ]
  },
  {
   "cell_type": "code",
   "execution_count": 6,
   "id": "473b282f",
   "metadata": {
    "execution": {
     "iopub.execute_input": "2024-03-07T01:07:44.912073Z",
     "iopub.status.busy": "2024-03-07T01:07:44.911680Z",
     "iopub.status.idle": "2024-03-07T01:07:44.916555Z",
     "shell.execute_reply": "2024-03-07T01:07:44.915395Z"
    },
    "papermill": {
     "duration": 0.02138,
     "end_time": "2024-03-07T01:07:44.919016",
     "exception": false,
     "start_time": "2024-03-07T01:07:44.897636",
     "status": "completed"
    },
    "tags": []
   },
   "outputs": [],
   "source": [
    "# Trying to use whole dataframe without it crashing\n",
    "# cust_behav = dd.read_csv('/kaggle/input/ecommerce-behavior-data-from-multi-category-store/2019-Oct.csv')"
   ]
  },
  {
   "cell_type": "code",
   "execution_count": 7,
   "id": "7cff1562",
   "metadata": {
    "execution": {
     "iopub.execute_input": "2024-03-07T01:07:44.945896Z",
     "iopub.status.busy": "2024-03-07T01:07:44.945520Z",
     "iopub.status.idle": "2024-03-07T01:07:44.950666Z",
     "shell.execute_reply": "2024-03-07T01:07:44.949561Z"
    },
    "papermill": {
     "duration": 0.021475,
     "end_time": "2024-03-07T01:07:44.953154",
     "exception": false,
     "start_time": "2024-03-07T01:07:44.931679",
     "status": "completed"
    },
    "tags": []
   },
   "outputs": [],
   "source": [
    "# Let us use some more realistic data from e-commerce store (which is what TikTok article referenced as well as similar to current Stitch Fix biz model - Freestyle)\n",
    "# cust_behav = pd.read_csv('/kaggle/input/ecommerce-behavior-data-from-multi-category-store/2019-Oct.csv')\n",
    "# cust_behav"
   ]
  },
  {
   "cell_type": "code",
   "execution_count": 8,
   "id": "d36dd308",
   "metadata": {
    "execution": {
     "iopub.execute_input": "2024-03-07T01:07:44.981531Z",
     "iopub.status.busy": "2024-03-07T01:07:44.980899Z",
     "iopub.status.idle": "2024-03-07T01:07:44.985798Z",
     "shell.execute_reply": "2024-03-07T01:07:44.984693Z"
    },
    "papermill": {
     "duration": 0.022141,
     "end_time": "2024-03-07T01:07:44.988223",
     "exception": false,
     "start_time": "2024-03-07T01:07:44.966082",
     "status": "completed"
    },
    "tags": []
   },
   "outputs": [],
   "source": [
    "# cust_behav['event_type'].value_counts(normalize=True)"
   ]
  },
  {
   "cell_type": "code",
   "execution_count": 9,
   "id": "ee5396ce",
   "metadata": {
    "execution": {
     "iopub.execute_input": "2024-03-07T01:07:45.015725Z",
     "iopub.status.busy": "2024-03-07T01:07:45.015334Z",
     "iopub.status.idle": "2024-03-07T01:07:45.019964Z",
     "shell.execute_reply": "2024-03-07T01:07:45.018762Z"
    },
    "papermill": {
     "duration": 0.021238,
     "end_time": "2024-03-07T01:07:45.022269",
     "exception": false,
     "start_time": "2024-03-07T01:07:45.001031",
     "status": "completed"
    },
    "tags": []
   },
   "outputs": [],
   "source": [
    "# %%timeit\n",
    "\n",
    "# cust_behav2 = pd.read_csv('/kaggle/input/ecommerce-behavior-data-from-multi-category-store/2019-Nov.csv')\n",
    "# cust_behav2"
   ]
  },
  {
   "cell_type": "code",
   "execution_count": 10,
   "id": "cfd97bbd",
   "metadata": {
    "execution": {
     "iopub.execute_input": "2024-03-07T01:07:45.049540Z",
     "iopub.status.busy": "2024-03-07T01:07:45.049097Z",
     "iopub.status.idle": "2024-03-07T01:07:45.053886Z",
     "shell.execute_reply": "2024-03-07T01:07:45.052799Z"
    },
    "papermill": {
     "duration": 0.021233,
     "end_time": "2024-03-07T01:07:45.056309",
     "exception": false,
     "start_time": "2024-03-07T01:07:45.035076",
     "status": "completed"
    },
    "tags": []
   },
   "outputs": [],
   "source": [
    "# Will reduce the dataset to 80% and see if notebook crashes\n",
    "# cb_sample = cust_behav.sample(frac=0.50)"
   ]
  },
  {
   "cell_type": "code",
   "execution_count": 11,
   "id": "65cf05e8",
   "metadata": {
    "execution": {
     "iopub.execute_input": "2024-03-07T01:07:45.083257Z",
     "iopub.status.busy": "2024-03-07T01:07:45.082888Z",
     "iopub.status.idle": "2024-03-07T01:09:34.182732Z",
     "shell.execute_reply": "2024-03-07T01:09:34.181520Z"
    },
    "papermill": {
     "duration": 109.128786,
     "end_time": "2024-03-07T01:09:34.197772",
     "exception": false,
     "start_time": "2024-03-07T01:07:45.068986",
     "status": "completed"
    },
    "tags": []
   },
   "outputs": [
    {
     "data": {
      "text/html": [
       "<div>\n",
       "<style scoped>\n",
       "    .dataframe tbody tr th:only-of-type {\n",
       "        vertical-align: middle;\n",
       "    }\n",
       "\n",
       "    .dataframe tbody tr th {\n",
       "        vertical-align: top;\n",
       "    }\n",
       "\n",
       "    .dataframe thead th {\n",
       "        text-align: right;\n",
       "    }\n",
       "</style>\n",
       "<table border=\"1\" class=\"dataframe\">\n",
       "  <thead>\n",
       "    <tr style=\"text-align: right;\">\n",
       "      <th></th>\n",
       "      <th>Unnamed: 0</th>\n",
       "      <th>event_time</th>\n",
       "      <th>event_type</th>\n",
       "      <th>product_id</th>\n",
       "      <th>category_id</th>\n",
       "      <th>category_code</th>\n",
       "      <th>brand</th>\n",
       "      <th>price</th>\n",
       "      <th>user_id</th>\n",
       "      <th>user_session</th>\n",
       "    </tr>\n",
       "  </thead>\n",
       "  <tbody>\n",
       "    <tr>\n",
       "      <th>0</th>\n",
       "      <td>40314660</td>\n",
       "      <td>2019-10-30 07:37:25 UTC</td>\n",
       "      <td>view</td>\n",
       "      <td>13901154</td>\n",
       "      <td>2053013557343158789</td>\n",
       "      <td>construction.components.faucet</td>\n",
       "      <td>genebre</td>\n",
       "      <td>127.96</td>\n",
       "      <td>527374947</td>\n",
       "      <td>1c147519-8b26-4aa0-bc78-b593fb16ae87</td>\n",
       "    </tr>\n",
       "    <tr>\n",
       "      <th>1</th>\n",
       "      <td>2338187</td>\n",
       "      <td>2019-10-02 18:32:55 UTC</td>\n",
       "      <td>view</td>\n",
       "      <td>4801946</td>\n",
       "      <td>2053013554658804075</td>\n",
       "      <td>electronics.audio.headphone</td>\n",
       "      <td>apple</td>\n",
       "      <td>25.45</td>\n",
       "      <td>525642970</td>\n",
       "      <td>7e7b0311-0a76-4888-b915-6c2a240b67bb</td>\n",
       "    </tr>\n",
       "    <tr>\n",
       "      <th>2</th>\n",
       "      <td>5052611</td>\n",
       "      <td>2019-10-05 03:05:49 UTC</td>\n",
       "      <td>view</td>\n",
       "      <td>2300244</td>\n",
       "      <td>2053013560530830019</td>\n",
       "      <td>electronics.camera.video</td>\n",
       "      <td>sjcam</td>\n",
       "      <td>213.56</td>\n",
       "      <td>554631275</td>\n",
       "      <td>7c3b8b60-d7fa-4c9c-87b0-6b2f753d8807</td>\n",
       "    </tr>\n",
       "    <tr>\n",
       "      <th>3</th>\n",
       "      <td>3182699</td>\n",
       "      <td>2019-10-03 15:11:16 UTC</td>\n",
       "      <td>view</td>\n",
       "      <td>4802587</td>\n",
       "      <td>2053013554658804075</td>\n",
       "      <td>electronics.audio.headphone</td>\n",
       "      <td>ergo</td>\n",
       "      <td>6.41</td>\n",
       "      <td>519968351</td>\n",
       "      <td>1629fd4b-1669-48e7-876b-ac3a9676d8d8</td>\n",
       "    </tr>\n",
       "    <tr>\n",
       "      <th>4</th>\n",
       "      <td>27866997</td>\n",
       "      <td>2019-10-21 02:28:29 UTC</td>\n",
       "      <td>view</td>\n",
       "      <td>1003304</td>\n",
       "      <td>2053013555631882655</td>\n",
       "      <td>electronics.smartphone</td>\n",
       "      <td>apple</td>\n",
       "      <td>577.66</td>\n",
       "      <td>519451311</td>\n",
       "      <td>4aa7ae59-de22-4411-aadf-d69ef2b11e82</td>\n",
       "    </tr>\n",
       "    <tr>\n",
       "      <th>...</th>\n",
       "      <td>...</td>\n",
       "      <td>...</td>\n",
       "      <td>...</td>\n",
       "      <td>...</td>\n",
       "      <td>...</td>\n",
       "      <td>...</td>\n",
       "      <td>...</td>\n",
       "      <td>...</td>\n",
       "      <td>...</td>\n",
       "      <td>...</td>\n",
       "    </tr>\n",
       "    <tr>\n",
       "      <th>21224377</th>\n",
       "      <td>21315512</td>\n",
       "      <td>2019-10-16 13:13:16 UTC</td>\n",
       "      <td>view</td>\n",
       "      <td>12703516</td>\n",
       "      <td>2053013553559896355</td>\n",
       "      <td>NaN</td>\n",
       "      <td>continental</td>\n",
       "      <td>157.53</td>\n",
       "      <td>521388327</td>\n",
       "      <td>ed112838-018a-47fb-9f48-687e6c0b99d4</td>\n",
       "    </tr>\n",
       "    <tr>\n",
       "      <th>21224378</th>\n",
       "      <td>14281888</td>\n",
       "      <td>2019-10-11 20:24:27 UTC</td>\n",
       "      <td>view</td>\n",
       "      <td>1004250</td>\n",
       "      <td>2053013555631882655</td>\n",
       "      <td>electronics.smartphone</td>\n",
       "      <td>apple</td>\n",
       "      <td>814.64</td>\n",
       "      <td>514341869</td>\n",
       "      <td>d50e86d9-8871-4562-ae97-332069f43a06</td>\n",
       "    </tr>\n",
       "    <tr>\n",
       "      <th>21224379</th>\n",
       "      <td>906055</td>\n",
       "      <td>2019-10-01 15:59:23 UTC</td>\n",
       "      <td>view</td>\n",
       "      <td>22800104</td>\n",
       "      <td>2053013560463721151</td>\n",
       "      <td>NaN</td>\n",
       "      <td>weifeng</td>\n",
       "      <td>16.73</td>\n",
       "      <td>544992104</td>\n",
       "      <td>a95ef75f-055a-4943-91d9-d50ad09941ef</td>\n",
       "    </tr>\n",
       "    <tr>\n",
       "      <th>21224380</th>\n",
       "      <td>11580434</td>\n",
       "      <td>2019-10-10 02:12:26 UTC</td>\n",
       "      <td>view</td>\n",
       "      <td>1004834</td>\n",
       "      <td>2053013555631882655</td>\n",
       "      <td>electronics.smartphone</td>\n",
       "      <td>samsung</td>\n",
       "      <td>170.92</td>\n",
       "      <td>545294859</td>\n",
       "      <td>fd44937e-b3d3-4d15-b441-4410c564eda0</td>\n",
       "    </tr>\n",
       "    <tr>\n",
       "      <th>21224381</th>\n",
       "      <td>10658781</td>\n",
       "      <td>2019-10-09 08:45:51 UTC</td>\n",
       "      <td>view</td>\n",
       "      <td>22700045</td>\n",
       "      <td>2053013556168753601</td>\n",
       "      <td>NaN</td>\n",
       "      <td>total</td>\n",
       "      <td>30.86</td>\n",
       "      <td>516330456</td>\n",
       "      <td>4a27a29d-abb0-48ca-86dc-0c748d69e581</td>\n",
       "    </tr>\n",
       "  </tbody>\n",
       "</table>\n",
       "<p>21224382 rows × 10 columns</p>\n",
       "</div>"
      ],
      "text/plain": [
       "          Unnamed: 0               event_time event_type  product_id  \\\n",
       "0           40314660  2019-10-30 07:37:25 UTC       view    13901154   \n",
       "1            2338187  2019-10-02 18:32:55 UTC       view     4801946   \n",
       "2            5052611  2019-10-05 03:05:49 UTC       view     2300244   \n",
       "3            3182699  2019-10-03 15:11:16 UTC       view     4802587   \n",
       "4           27866997  2019-10-21 02:28:29 UTC       view     1003304   \n",
       "...              ...                      ...        ...         ...   \n",
       "21224377    21315512  2019-10-16 13:13:16 UTC       view    12703516   \n",
       "21224378    14281888  2019-10-11 20:24:27 UTC       view     1004250   \n",
       "21224379      906055  2019-10-01 15:59:23 UTC       view    22800104   \n",
       "21224380    11580434  2019-10-10 02:12:26 UTC       view     1004834   \n",
       "21224381    10658781  2019-10-09 08:45:51 UTC       view    22700045   \n",
       "\n",
       "                  category_id                   category_code        brand  \\\n",
       "0         2053013557343158789  construction.components.faucet      genebre   \n",
       "1         2053013554658804075     electronics.audio.headphone        apple   \n",
       "2         2053013560530830019        electronics.camera.video        sjcam   \n",
       "3         2053013554658804075     electronics.audio.headphone         ergo   \n",
       "4         2053013555631882655          electronics.smartphone        apple   \n",
       "...                       ...                             ...          ...   \n",
       "21224377  2053013553559896355                             NaN  continental   \n",
       "21224378  2053013555631882655          electronics.smartphone        apple   \n",
       "21224379  2053013560463721151                             NaN      weifeng   \n",
       "21224380  2053013555631882655          electronics.smartphone      samsung   \n",
       "21224381  2053013556168753601                             NaN        total   \n",
       "\n",
       "           price    user_id                          user_session  \n",
       "0         127.96  527374947  1c147519-8b26-4aa0-bc78-b593fb16ae87  \n",
       "1          25.45  525642970  7e7b0311-0a76-4888-b915-6c2a240b67bb  \n",
       "2         213.56  554631275  7c3b8b60-d7fa-4c9c-87b0-6b2f753d8807  \n",
       "3           6.41  519968351  1629fd4b-1669-48e7-876b-ac3a9676d8d8  \n",
       "4         577.66  519451311  4aa7ae59-de22-4411-aadf-d69ef2b11e82  \n",
       "...          ...        ...                                   ...  \n",
       "21224377  157.53  521388327  ed112838-018a-47fb-9f48-687e6c0b99d4  \n",
       "21224378  814.64  514341869  d50e86d9-8871-4562-ae97-332069f43a06  \n",
       "21224379   16.73  544992104  a95ef75f-055a-4943-91d9-d50ad09941ef  \n",
       "21224380  170.92  545294859  fd44937e-b3d3-4d15-b441-4410c564eda0  \n",
       "21224381   30.86  516330456  4a27a29d-abb0-48ca-86dc-0c748d69e581  \n",
       "\n",
       "[21224382 rows x 10 columns]"
      ]
     },
     "execution_count": 11,
     "metadata": {},
     "output_type": "execute_result"
    }
   ],
   "source": [
    "# Saved sample set to make loading data faster\n",
    "cb_sample = pd.read_csv('/kaggle/input/e-commerce-event-data/cb_sample.csv')\n",
    "cb_sample"
   ]
  },
  {
   "cell_type": "code",
   "execution_count": 12,
   "id": "a483c28c",
   "metadata": {
    "execution": {
     "iopub.execute_input": "2024-03-07T01:09:34.232862Z",
     "iopub.status.busy": "2024-03-07T01:09:34.231553Z",
     "iopub.status.idle": "2024-03-07T01:09:36.256449Z",
     "shell.execute_reply": "2024-03-07T01:09:36.254592Z"
    },
    "papermill": {
     "duration": 2.045044,
     "end_time": "2024-03-07T01:09:36.260856",
     "exception": false,
     "start_time": "2024-03-07T01:09:34.215812",
     "status": "completed"
    },
    "tags": []
   },
   "outputs": [
    {
     "data": {
      "text/html": [
       "<div>\n",
       "<style scoped>\n",
       "    .dataframe tbody tr th:only-of-type {\n",
       "        vertical-align: middle;\n",
       "    }\n",
       "\n",
       "    .dataframe tbody tr th {\n",
       "        vertical-align: top;\n",
       "    }\n",
       "\n",
       "    .dataframe thead th {\n",
       "        text-align: right;\n",
       "    }\n",
       "</style>\n",
       "<table border=\"1\" class=\"dataframe\">\n",
       "  <thead>\n",
       "    <tr style=\"text-align: right;\">\n",
       "      <th></th>\n",
       "      <th>unique_users</th>\n",
       "    </tr>\n",
       "  </thead>\n",
       "  <tbody>\n",
       "    <tr>\n",
       "      <th>0</th>\n",
       "      <td>2531962</td>\n",
       "    </tr>\n",
       "  </tbody>\n",
       "</table>\n",
       "</div>"
      ],
      "text/plain": [
       "   unique_users\n",
       "0       2531962"
      ]
     },
     "execution_count": 12,
     "metadata": {},
     "output_type": "execute_result"
    }
   ],
   "source": [
    "# Choosing to use dataset with even number of users. \n",
    "# Event-level data so massive dataset with 42 million rows. \n",
    "# Let us explore the data a bit more to see right now how much it can be used for interview q's as well as for practical app of article\n",
    "\n",
    "query = \"\"\"\n",
    "select count(distinct user_id) as unique_users\n",
    "from cb_sample\n",
    "\"\"\"\n",
    "\n",
    "duckdb.query(query).df()"
   ]
  },
  {
   "cell_type": "code",
   "execution_count": 13,
   "id": "f6a287bd",
   "metadata": {
    "execution": {
     "iopub.execute_input": "2024-03-07T01:09:36.293340Z",
     "iopub.status.busy": "2024-03-07T01:09:36.292949Z",
     "iopub.status.idle": "2024-03-07T01:09:36.621059Z",
     "shell.execute_reply": "2024-03-07T01:09:36.619607Z"
    },
    "papermill": {
     "duration": 0.346906,
     "end_time": "2024-03-07T01:09:36.623988",
     "exception": false,
     "start_time": "2024-03-07T01:09:36.277082",
     "status": "completed"
    },
    "tags": []
   },
   "outputs": [
    {
     "data": {
      "text/html": [
       "<div>\n",
       "<style scoped>\n",
       "    .dataframe tbody tr th:only-of-type {\n",
       "        vertical-align: middle;\n",
       "    }\n",
       "\n",
       "    .dataframe tbody tr th {\n",
       "        vertical-align: top;\n",
       "    }\n",
       "\n",
       "    .dataframe thead th {\n",
       "        text-align: right;\n",
       "    }\n",
       "</style>\n",
       "<table border=\"1\" class=\"dataframe\">\n",
       "  <thead>\n",
       "    <tr style=\"text-align: right;\">\n",
       "      <th></th>\n",
       "      <th>event_type</th>\n",
       "      <th>total</th>\n",
       "    </tr>\n",
       "  </thead>\n",
       "  <tbody>\n",
       "    <tr>\n",
       "      <th>0</th>\n",
       "      <td>view</td>\n",
       "      <td>20389114</td>\n",
       "    </tr>\n",
       "    <tr>\n",
       "      <th>1</th>\n",
       "      <td>cart</td>\n",
       "      <td>463911</td>\n",
       "    </tr>\n",
       "    <tr>\n",
       "      <th>2</th>\n",
       "      <td>purchase</td>\n",
       "      <td>371357</td>\n",
       "    </tr>\n",
       "  </tbody>\n",
       "</table>\n",
       "</div>"
      ],
      "text/plain": [
       "  event_type     total\n",
       "0       view  20389114\n",
       "1       cart    463911\n",
       "2   purchase    371357"
      ]
     },
     "execution_count": 13,
     "metadata": {},
     "output_type": "execute_result"
    }
   ],
   "source": [
    "query = \"\"\"\n",
    "select event_type\n",
    ", count(*) as total\n",
    "from cb_sample\n",
    "group by 1\n",
    "order by 2 desc\n",
    "\"\"\"\n",
    "\n",
    "duckdb.query(query).df() # Typical funnel (inverted triangle)"
   ]
  },
  {
   "cell_type": "code",
   "execution_count": 14,
   "id": "d4ccd995",
   "metadata": {
    "execution": {
     "iopub.execute_input": "2024-03-07T01:09:36.653612Z",
     "iopub.status.busy": "2024-03-07T01:09:36.653199Z",
     "iopub.status.idle": "2024-03-07T01:09:40.590897Z",
     "shell.execute_reply": "2024-03-07T01:09:40.589893Z"
    },
    "papermill": {
     "duration": 3.955462,
     "end_time": "2024-03-07T01:09:40.593204",
     "exception": false,
     "start_time": "2024-03-07T01:09:36.637742",
     "status": "completed"
    },
    "tags": []
   },
   "outputs": [
    {
     "data": {
      "text/plain": [
       "event_type\n",
       "view        0.960646\n",
       "cart        0.021857\n",
       "purchase    0.017497\n",
       "Name: proportion, dtype: float64"
      ]
     },
     "execution_count": 14,
     "metadata": {},
     "output_type": "execute_result"
    }
   ],
   "source": [
    "cb_sample['event_type'].value_counts(normalize=True) # Great. The proportion of events is same from sample to original dataset"
   ]
  },
  {
   "cell_type": "code",
   "execution_count": 15,
   "id": "9b34f92c",
   "metadata": {
    "execution": {
     "iopub.execute_input": "2024-03-07T01:09:40.624012Z",
     "iopub.status.busy": "2024-03-07T01:09:40.622589Z",
     "iopub.status.idle": "2024-03-07T01:09:42.081441Z",
     "shell.execute_reply": "2024-03-07T01:09:42.080139Z"
    },
    "papermill": {
     "duration": 1.47727,
     "end_time": "2024-03-07T01:09:42.084230",
     "exception": false,
     "start_time": "2024-03-07T01:09:40.606960",
     "status": "completed"
    },
    "tags": []
   },
   "outputs": [
    {
     "data": {
      "text/plain": [
       "2531962"
      ]
     },
     "execution_count": 15,
     "metadata": {},
     "output_type": "execute_result"
    }
   ],
   "source": [
    "# Need to create user table with experient group assignment. Then join this to event table\n",
    "\n",
    "query = \"\"\"\n",
    "select distinct user_id\n",
    "from cb_sample\n",
    "\"\"\"\n",
    "\n",
    "users = duckdb.query(query).df()\n",
    "len(users)"
   ]
  },
  {
   "cell_type": "code",
   "execution_count": 16,
   "id": "bca5fc02",
   "metadata": {
    "execution": {
     "iopub.execute_input": "2024-03-07T01:09:42.114747Z",
     "iopub.status.busy": "2024-03-07T01:09:42.114363Z",
     "iopub.status.idle": "2024-03-07T01:09:44.062027Z",
     "shell.execute_reply": "2024-03-07T01:09:44.060889Z"
    },
    "papermill": {
     "duration": 1.965528,
     "end_time": "2024-03-07T01:09:44.064446",
     "exception": false,
     "start_time": "2024-03-07T01:09:42.098918",
     "status": "completed"
    },
    "tags": []
   },
   "outputs": [
    {
     "data": {
      "text/html": [
       "<div>\n",
       "<style scoped>\n",
       "    .dataframe tbody tr th:only-of-type {\n",
       "        vertical-align: middle;\n",
       "    }\n",
       "\n",
       "    .dataframe tbody tr th {\n",
       "        vertical-align: top;\n",
       "    }\n",
       "\n",
       "    .dataframe thead th {\n",
       "        text-align: right;\n",
       "    }\n",
       "</style>\n",
       "<table border=\"1\" class=\"dataframe\">\n",
       "  <thead>\n",
       "    <tr style=\"text-align: right;\">\n",
       "      <th></th>\n",
       "      <th>user_id</th>\n",
       "      <th>count_star()</th>\n",
       "    </tr>\n",
       "  </thead>\n",
       "  <tbody>\n",
       "    <tr>\n",
       "      <th>0</th>\n",
       "      <td>520932432</td>\n",
       "      <td>1</td>\n",
       "    </tr>\n",
       "    <tr>\n",
       "      <th>1</th>\n",
       "      <td>539973712</td>\n",
       "      <td>1</td>\n",
       "    </tr>\n",
       "    <tr>\n",
       "      <th>2</th>\n",
       "      <td>515732150</td>\n",
       "      <td>1</td>\n",
       "    </tr>\n",
       "    <tr>\n",
       "      <th>3</th>\n",
       "      <td>549607746</td>\n",
       "      <td>1</td>\n",
       "    </tr>\n",
       "    <tr>\n",
       "      <th>4</th>\n",
       "      <td>561477882</td>\n",
       "      <td>1</td>\n",
       "    </tr>\n",
       "    <tr>\n",
       "      <th>...</th>\n",
       "      <td>...</td>\n",
       "      <td>...</td>\n",
       "    </tr>\n",
       "    <tr>\n",
       "      <th>2531957</th>\n",
       "      <td>512505687</td>\n",
       "      <td>1413</td>\n",
       "    </tr>\n",
       "    <tr>\n",
       "      <th>2531958</th>\n",
       "      <td>513021392</td>\n",
       "      <td>1458</td>\n",
       "    </tr>\n",
       "    <tr>\n",
       "      <th>2531959</th>\n",
       "      <td>526731152</td>\n",
       "      <td>1466</td>\n",
       "    </tr>\n",
       "    <tr>\n",
       "      <th>2531960</th>\n",
       "      <td>512365995</td>\n",
       "      <td>1975</td>\n",
       "    </tr>\n",
       "    <tr>\n",
       "      <th>2531961</th>\n",
       "      <td>512475445</td>\n",
       "      <td>3747</td>\n",
       "    </tr>\n",
       "  </tbody>\n",
       "</table>\n",
       "<p>2531962 rows × 2 columns</p>\n",
       "</div>"
      ],
      "text/plain": [
       "           user_id  count_star()\n",
       "0        520932432             1\n",
       "1        539973712             1\n",
       "2        515732150             1\n",
       "3        549607746             1\n",
       "4        561477882             1\n",
       "...            ...           ...\n",
       "2531957  512505687          1413\n",
       "2531958  513021392          1458\n",
       "2531959  526731152          1466\n",
       "2531960  512365995          1975\n",
       "2531961  512475445          3747\n",
       "\n",
       "[2531962 rows x 2 columns]"
      ]
     },
     "execution_count": 16,
     "metadata": {},
     "output_type": "execute_result"
    }
   ],
   "source": [
    "# Number of users is uneven. so need to get rid of one user\n",
    "query = \"\"\"\n",
    "select user_id\n",
    ", count(*)\n",
    "from cb_sample\n",
    "group by 1\n",
    "order by 2 asc\n",
    "\"\"\"\n",
    "\n",
    "duckdb.query(query).df()"
   ]
  },
  {
   "cell_type": "code",
   "execution_count": 17,
   "id": "a7cde5b6",
   "metadata": {
    "execution": {
     "iopub.execute_input": "2024-03-07T01:09:44.096799Z",
     "iopub.status.busy": "2024-03-07T01:09:44.095654Z",
     "iopub.status.idle": "2024-03-07T01:09:44.100737Z",
     "shell.execute_reply": "2024-03-07T01:09:44.099658Z"
    },
    "papermill": {
     "duration": 0.024244,
     "end_time": "2024-03-07T01:09:44.103508",
     "exception": false,
     "start_time": "2024-03-07T01:09:44.079264",
     "status": "completed"
    },
    "tags": []
   },
   "outputs": [],
   "source": [
    "# Creating even number of users.\n",
    "# USER_ID MAY NEED TO BE MODIFIED DUE TO RANDOM SAMPLING \n",
    "\n",
    "# query = \"\"\"\n",
    "# select distinct user_id\n",
    "# from cb_sample\n",
    "# where user_id != 537261383\n",
    "# \"\"\"\n",
    "\n",
    "# users = duckdb.query(query).df()\n",
    "# len(users)"
   ]
  },
  {
   "cell_type": "code",
   "execution_count": 18,
   "id": "409878f6",
   "metadata": {
    "execution": {
     "iopub.execute_input": "2024-03-07T01:09:44.135039Z",
     "iopub.status.busy": "2024-03-07T01:09:44.134592Z",
     "iopub.status.idle": "2024-03-07T01:09:44.624468Z",
     "shell.execute_reply": "2024-03-07T01:09:44.623196Z"
    },
    "papermill": {
     "duration": 0.508363,
     "end_time": "2024-03-07T01:09:44.627279",
     "exception": false,
     "start_time": "2024-03-07T01:09:44.118916",
     "status": "completed"
    },
    "tags": []
   },
   "outputs": [],
   "source": [
    "# Create list of even amont of ctl and test labels, randomize the labels and append to users table\n",
    "\n",
    "half_length = len(users) // 2\n",
    "experiment_group = ['control'] * half_length + ['test'] * half_length\n",
    "np.random.shuffle(experiment_group)\n",
    "users['experiment_group'] = experiment_group"
   ]
  },
  {
   "cell_type": "code",
   "execution_count": 19,
   "id": "682599ed",
   "metadata": {
    "execution": {
     "iopub.execute_input": "2024-03-07T01:09:44.658204Z",
     "iopub.status.busy": "2024-03-07T01:09:44.657775Z",
     "iopub.status.idle": "2024-03-07T01:09:44.719446Z",
     "shell.execute_reply": "2024-03-07T01:09:44.718538Z"
    },
    "papermill": {
     "duration": 0.08041,
     "end_time": "2024-03-07T01:09:44.722105",
     "exception": false,
     "start_time": "2024-03-07T01:09:44.641695",
     "status": "completed"
    },
    "tags": []
   },
   "outputs": [
    {
     "data": {
      "text/html": [
       "<div>\n",
       "<style scoped>\n",
       "    .dataframe tbody tr th:only-of-type {\n",
       "        vertical-align: middle;\n",
       "    }\n",
       "\n",
       "    .dataframe tbody tr th {\n",
       "        vertical-align: top;\n",
       "    }\n",
       "\n",
       "    .dataframe thead th {\n",
       "        text-align: right;\n",
       "    }\n",
       "</style>\n",
       "<table border=\"1\" class=\"dataframe\">\n",
       "  <thead>\n",
       "    <tr style=\"text-align: right;\">\n",
       "      <th></th>\n",
       "      <th>experiment_group</th>\n",
       "      <th>count</th>\n",
       "    </tr>\n",
       "  </thead>\n",
       "  <tbody>\n",
       "    <tr>\n",
       "      <th>0</th>\n",
       "      <td>test</td>\n",
       "      <td>1265981</td>\n",
       "    </tr>\n",
       "    <tr>\n",
       "      <th>1</th>\n",
       "      <td>control</td>\n",
       "      <td>1265981</td>\n",
       "    </tr>\n",
       "  </tbody>\n",
       "</table>\n",
       "</div>"
      ],
      "text/plain": [
       "  experiment_group    count\n",
       "0             test  1265981\n",
       "1          control  1265981"
      ]
     },
     "execution_count": 19,
     "metadata": {},
     "output_type": "execute_result"
    }
   ],
   "source": [
    "query = \"\"\"\n",
    "select experiment_group\n",
    ", count(*) as count\n",
    "from users\n",
    "group by 1\n",
    "\"\"\"\n",
    "\n",
    "duckdb.query(query).df()"
   ]
  },
  {
   "cell_type": "code",
   "execution_count": 20,
   "id": "1fe2e605",
   "metadata": {
    "execution": {
     "iopub.execute_input": "2024-03-07T01:09:44.754561Z",
     "iopub.status.busy": "2024-03-07T01:09:44.753841Z",
     "iopub.status.idle": "2024-03-07T01:10:26.688147Z",
     "shell.execute_reply": "2024-03-07T01:10:26.686709Z"
    },
    "papermill": {
     "duration": 41.969978,
     "end_time": "2024-03-07T01:10:26.707300",
     "exception": false,
     "start_time": "2024-03-07T01:09:44.737322",
     "status": "completed"
    },
    "tags": []
   },
   "outputs": [
    {
     "data": {
      "application/vnd.jupyter.widget-view+json": {
       "model_id": "1d8d9222c23146d79178891a4c06cedc",
       "version_major": 2,
       "version_minor": 0
      },
      "text/plain": [
       "FloatProgress(value=0.0, layout=Layout(width='auto'), style=ProgressStyle(bar_color='black'))"
      ]
     },
     "metadata": {},
     "output_type": "display_data"
    },
    {
     "data": {
      "text/plain": [
       "True"
      ]
     },
     "execution_count": 20,
     "metadata": {},
     "output_type": "execute_result"
    }
   ],
   "source": [
    "# join users table to event table\n",
    "query = \"\"\"\n",
    "select *\n",
    "from users u\n",
    "join cb_sample scb\n",
    "on u.user_id = scb.user_id\n",
    "\"\"\"\n",
    "\n",
    "df = duckdb.query(query).df()\n",
    "len(df) == len(cb_sample)"
   ]
  },
  {
   "cell_type": "code",
   "execution_count": 21,
   "id": "cb1f265d",
   "metadata": {
    "execution": {
     "iopub.execute_input": "2024-03-07T01:10:26.740906Z",
     "iopub.status.busy": "2024-03-07T01:10:26.740134Z",
     "iopub.status.idle": "2024-03-07T01:10:32.374572Z",
     "shell.execute_reply": "2024-03-07T01:10:32.373450Z"
    },
    "papermill": {
     "duration": 5.654213,
     "end_time": "2024-03-07T01:10:32.377291",
     "exception": false,
     "start_time": "2024-03-07T01:10:26.723078",
     "status": "completed"
    },
    "tags": []
   },
   "outputs": [
    {
     "data": {
      "application/vnd.jupyter.widget-view+json": {
       "model_id": "0ba59e2ff65847e0ab16863455628dc4",
       "version_major": 2,
       "version_minor": 0
      },
      "text/plain": [
       "FloatProgress(value=0.0, layout=Layout(width='auto'), style=ProgressStyle(bar_color='black'))"
      ]
     },
     "metadata": {},
     "output_type": "display_data"
    },
    {
     "data": {
      "text/html": [
       "<div>\n",
       "<style scoped>\n",
       "    .dataframe tbody tr th:only-of-type {\n",
       "        vertical-align: middle;\n",
       "    }\n",
       "\n",
       "    .dataframe tbody tr th {\n",
       "        vertical-align: top;\n",
       "    }\n",
       "\n",
       "    .dataframe thead th {\n",
       "        text-align: right;\n",
       "    }\n",
       "</style>\n",
       "<table border=\"1\" class=\"dataframe\">\n",
       "  <thead>\n",
       "    <tr style=\"text-align: right;\">\n",
       "      <th></th>\n",
       "      <th>experiment_group</th>\n",
       "      <th>user_id</th>\n",
       "      <th>total_views</th>\n",
       "      <th>total_cart</th>\n",
       "      <th>total_purchase</th>\n",
       "    </tr>\n",
       "  </thead>\n",
       "  <tbody>\n",
       "    <tr>\n",
       "      <th>0</th>\n",
       "      <td>control</td>\n",
       "      <td>515036954</td>\n",
       "      <td>390.0</td>\n",
       "      <td>1.0</td>\n",
       "      <td>1.0</td>\n",
       "    </tr>\n",
       "    <tr>\n",
       "      <th>1</th>\n",
       "      <td>control</td>\n",
       "      <td>544629459</td>\n",
       "      <td>15.0</td>\n",
       "      <td>0.0</td>\n",
       "      <td>0.0</td>\n",
       "    </tr>\n",
       "    <tr>\n",
       "      <th>2</th>\n",
       "      <td>control</td>\n",
       "      <td>559167266</td>\n",
       "      <td>10.0</td>\n",
       "      <td>0.0</td>\n",
       "      <td>0.0</td>\n",
       "    </tr>\n",
       "    <tr>\n",
       "      <th>3</th>\n",
       "      <td>control</td>\n",
       "      <td>558373696</td>\n",
       "      <td>32.0</td>\n",
       "      <td>0.0</td>\n",
       "      <td>0.0</td>\n",
       "    </tr>\n",
       "    <tr>\n",
       "      <th>4</th>\n",
       "      <td>test</td>\n",
       "      <td>512782815</td>\n",
       "      <td>8.0</td>\n",
       "      <td>0.0</td>\n",
       "      <td>0.0</td>\n",
       "    </tr>\n",
       "    <tr>\n",
       "      <th>...</th>\n",
       "      <td>...</td>\n",
       "      <td>...</td>\n",
       "      <td>...</td>\n",
       "      <td>...</td>\n",
       "      <td>...</td>\n",
       "    </tr>\n",
       "    <tr>\n",
       "      <th>2531957</th>\n",
       "      <td>test</td>\n",
       "      <td>565018368</td>\n",
       "      <td>1.0</td>\n",
       "      <td>0.0</td>\n",
       "      <td>0.0</td>\n",
       "    </tr>\n",
       "    <tr>\n",
       "      <th>2531958</th>\n",
       "      <td>test</td>\n",
       "      <td>548558681</td>\n",
       "      <td>1.0</td>\n",
       "      <td>0.0</td>\n",
       "      <td>0.0</td>\n",
       "    </tr>\n",
       "    <tr>\n",
       "      <th>2531959</th>\n",
       "      <td>test</td>\n",
       "      <td>563224845</td>\n",
       "      <td>1.0</td>\n",
       "      <td>0.0</td>\n",
       "      <td>0.0</td>\n",
       "    </tr>\n",
       "    <tr>\n",
       "      <th>2531960</th>\n",
       "      <td>test</td>\n",
       "      <td>519350557</td>\n",
       "      <td>1.0</td>\n",
       "      <td>0.0</td>\n",
       "      <td>0.0</td>\n",
       "    </tr>\n",
       "    <tr>\n",
       "      <th>2531961</th>\n",
       "      <td>control</td>\n",
       "      <td>520772730</td>\n",
       "      <td>1.0</td>\n",
       "      <td>0.0</td>\n",
       "      <td>0.0</td>\n",
       "    </tr>\n",
       "  </tbody>\n",
       "</table>\n",
       "<p>2531962 rows × 5 columns</p>\n",
       "</div>"
      ],
      "text/plain": [
       "        experiment_group    user_id  total_views  total_cart  total_purchase\n",
       "0                control  515036954        390.0         1.0             1.0\n",
       "1                control  544629459         15.0         0.0             0.0\n",
       "2                control  559167266         10.0         0.0             0.0\n",
       "3                control  558373696         32.0         0.0             0.0\n",
       "4                   test  512782815          8.0         0.0             0.0\n",
       "...                  ...        ...          ...         ...             ...\n",
       "2531957             test  565018368          1.0         0.0             0.0\n",
       "2531958             test  548558681          1.0         0.0             0.0\n",
       "2531959             test  563224845          1.0         0.0             0.0\n",
       "2531960             test  519350557          1.0         0.0             0.0\n",
       "2531961          control  520772730          1.0         0.0             0.0\n",
       "\n",
       "[2531962 rows x 5 columns]"
      ]
     },
     "execution_count": 21,
     "metadata": {},
     "output_type": "execute_result"
    }
   ],
   "source": [
    "query = \"\"\"\n",
    "select experiment_group\n",
    ", user_id\n",
    ", sum(case when event_type='view' then 1 else 0 end) as total_views\n",
    ", sum(case when event_type='cart'then 1 else 0 end) as total_cart\n",
    ", sum(case when event_type='purchase'then 1 else 0 end) as total_purchase\n",
    "from df\n",
    "group by 1,2\n",
    "\"\"\"\n",
    "\n",
    "events_agg = duckdb.query(query).df()\n",
    "events_agg"
   ]
  },
  {
   "cell_type": "code",
   "execution_count": 22,
   "id": "6394d8d7",
   "metadata": {
    "execution": {
     "iopub.execute_input": "2024-03-07T01:10:32.410805Z",
     "iopub.status.busy": "2024-03-07T01:10:32.410424Z",
     "iopub.status.idle": "2024-03-07T01:10:32.812051Z",
     "shell.execute_reply": "2024-03-07T01:10:32.810698Z"
    },
    "papermill": {
     "duration": 0.421675,
     "end_time": "2024-03-07T01:10:32.815144",
     "exception": false,
     "start_time": "2024-03-07T01:10:32.393469",
     "status": "completed"
    },
    "tags": []
   },
   "outputs": [],
   "source": [
    "# Split between experiment groups\n",
    "query = \"\"\"\n",
    "select *\n",
    "from events_agg\n",
    "where experiment_group = 'control'\n",
    "\"\"\"\n",
    "\n",
    "ctl_events_agg = duckdb.query(query).df()\n",
    "\n",
    "query = \"\"\"\n",
    "select *\n",
    "from events_agg\n",
    "where experiment_group = 'test'\n",
    "\"\"\"\n",
    "\n",
    "test_events_agg = duckdb.query(query).df()"
   ]
  },
  {
   "cell_type": "markdown",
   "id": "dcbddd90",
   "metadata": {
    "papermill": {
     "duration": 0.015004,
     "end_time": "2024-03-07T01:10:32.846041",
     "exception": false,
     "start_time": "2024-03-07T01:10:32.831037",
     "status": "completed"
    },
    "tags": []
   },
   "source": [
    "### Checking Distributions for Control and Experiment Groups"
   ]
  },
  {
   "cell_type": "code",
   "execution_count": 23,
   "id": "e458dd9b",
   "metadata": {
    "execution": {
     "iopub.execute_input": "2024-03-07T01:10:32.880366Z",
     "iopub.status.busy": "2024-03-07T01:10:32.879836Z",
     "iopub.status.idle": "2024-03-07T01:10:32.886395Z",
     "shell.execute_reply": "2024-03-07T01:10:32.884953Z"
    },
    "papermill": {
     "duration": 0.026564,
     "end_time": "2024-03-07T01:10:32.888749",
     "exception": false,
     "start_time": "2024-03-07T01:10:32.862185",
     "status": "completed"
    },
    "tags": []
   },
   "outputs": [],
   "source": [
    "def is_normal(data):\n",
    "    stat, p = shapiro(data)\n",
    "    alpha = 0.05\n",
    "    if p > alpha:\n",
    "        return 'Sample looks Gaussian (fail to reject H0)'\n",
    "    else:\n",
    "        return 'Sample does not look Gaussian (reject H0)'"
   ]
  },
  {
   "cell_type": "code",
   "execution_count": 24,
   "id": "8ec74806",
   "metadata": {
    "execution": {
     "iopub.execute_input": "2024-03-07T01:10:32.922398Z",
     "iopub.status.busy": "2024-03-07T01:10:32.921620Z",
     "iopub.status.idle": "2024-03-07T01:10:32.944780Z",
     "shell.execute_reply": "2024-03-07T01:10:32.943449Z"
    },
    "papermill": {
     "duration": 0.043178,
     "end_time": "2024-03-07T01:10:32.947593",
     "exception": false,
     "start_time": "2024-03-07T01:10:32.904415",
     "status": "completed"
    },
    "tags": []
   },
   "outputs": [
    {
     "data": {
      "text/html": [
       "<div>\n",
       "<style scoped>\n",
       "    .dataframe tbody tr th:only-of-type {\n",
       "        vertical-align: middle;\n",
       "    }\n",
       "\n",
       "    .dataframe tbody tr th {\n",
       "        vertical-align: top;\n",
       "    }\n",
       "\n",
       "    .dataframe thead th {\n",
       "        text-align: right;\n",
       "    }\n",
       "</style>\n",
       "<table border=\"1\" class=\"dataframe\">\n",
       "  <thead>\n",
       "    <tr style=\"text-align: right;\">\n",
       "      <th></th>\n",
       "      <th>total_views</th>\n",
       "      <th>total_cart</th>\n",
       "      <th>total_purchase</th>\n",
       "    </tr>\n",
       "  </thead>\n",
       "  <tbody>\n",
       "    <tr>\n",
       "      <th>0</th>\n",
       "      <td>390.0</td>\n",
       "      <td>1.0</td>\n",
       "      <td>1.0</td>\n",
       "    </tr>\n",
       "    <tr>\n",
       "      <th>1</th>\n",
       "      <td>15.0</td>\n",
       "      <td>0.0</td>\n",
       "      <td>0.0</td>\n",
       "    </tr>\n",
       "    <tr>\n",
       "      <th>2</th>\n",
       "      <td>10.0</td>\n",
       "      <td>0.0</td>\n",
       "      <td>0.0</td>\n",
       "    </tr>\n",
       "    <tr>\n",
       "      <th>3</th>\n",
       "      <td>32.0</td>\n",
       "      <td>0.0</td>\n",
       "      <td>0.0</td>\n",
       "    </tr>\n",
       "    <tr>\n",
       "      <th>4</th>\n",
       "      <td>16.0</td>\n",
       "      <td>0.0</td>\n",
       "      <td>0.0</td>\n",
       "    </tr>\n",
       "    <tr>\n",
       "      <th>...</th>\n",
       "      <td>...</td>\n",
       "      <td>...</td>\n",
       "      <td>...</td>\n",
       "    </tr>\n",
       "    <tr>\n",
       "      <th>1265976</th>\n",
       "      <td>1.0</td>\n",
       "      <td>0.0</td>\n",
       "      <td>0.0</td>\n",
       "    </tr>\n",
       "    <tr>\n",
       "      <th>1265977</th>\n",
       "      <td>1.0</td>\n",
       "      <td>0.0</td>\n",
       "      <td>0.0</td>\n",
       "    </tr>\n",
       "    <tr>\n",
       "      <th>1265978</th>\n",
       "      <td>1.0</td>\n",
       "      <td>0.0</td>\n",
       "      <td>0.0</td>\n",
       "    </tr>\n",
       "    <tr>\n",
       "      <th>1265979</th>\n",
       "      <td>1.0</td>\n",
       "      <td>0.0</td>\n",
       "      <td>0.0</td>\n",
       "    </tr>\n",
       "    <tr>\n",
       "      <th>1265980</th>\n",
       "      <td>1.0</td>\n",
       "      <td>0.0</td>\n",
       "      <td>0.0</td>\n",
       "    </tr>\n",
       "  </tbody>\n",
       "</table>\n",
       "<p>1265981 rows × 3 columns</p>\n",
       "</div>"
      ],
      "text/plain": [
       "         total_views  total_cart  total_purchase\n",
       "0              390.0         1.0             1.0\n",
       "1               15.0         0.0             0.0\n",
       "2               10.0         0.0             0.0\n",
       "3               32.0         0.0             0.0\n",
       "4               16.0         0.0             0.0\n",
       "...              ...         ...             ...\n",
       "1265976          1.0         0.0             0.0\n",
       "1265977          1.0         0.0             0.0\n",
       "1265978          1.0         0.0             0.0\n",
       "1265979          1.0         0.0             0.0\n",
       "1265980          1.0         0.0             0.0\n",
       "\n",
       "[1265981 rows x 3 columns]"
      ]
     },
     "execution_count": 24,
     "metadata": {},
     "output_type": "execute_result"
    }
   ],
   "source": [
    "# only get events columns\n",
    "event_cols = ctl_events_agg[['total_views', 'total_cart', 'total_purchase']]\n",
    "event_cols"
   ]
  },
  {
   "cell_type": "code",
   "execution_count": 25,
   "id": "eb324343",
   "metadata": {
    "execution": {
     "iopub.execute_input": "2024-03-07T01:10:32.981891Z",
     "iopub.status.busy": "2024-03-07T01:10:32.981172Z",
     "iopub.status.idle": "2024-03-07T01:10:33.429375Z",
     "shell.execute_reply": "2024-03-07T01:10:33.428114Z"
    },
    "papermill": {
     "duration": 0.467914,
     "end_time": "2024-03-07T01:10:33.432113",
     "exception": false,
     "start_time": "2024-03-07T01:10:32.964199",
     "status": "completed"
    },
    "tags": []
   },
   "outputs": [
    {
     "name": "stderr",
     "output_type": "stream",
     "text": [
      "/opt/conda/lib/python3.10/site-packages/scipy/stats/_morestats.py:1882: UserWarning: p-value may not be accurate for N > 5000.\n",
      "  warnings.warn(\"p-value may not be accurate for N > 5000.\")\n"
     ]
    },
    {
     "name": "stdout",
     "output_type": "stream",
     "text": [
      "Control total_views Distribution: Sample does not look Gaussian (reject H0)\n",
      "Test total_views Distribution: Sample does not look Gaussian (reject H0)\n",
      "Control total_cart Distribution: Sample does not look Gaussian (reject H0)\n",
      "Test total_cart Distribution: Sample does not look Gaussian (reject H0)\n",
      "Control total_purchase Distribution: Sample does not look Gaussian (reject H0)\n",
      "Test total_purchase Distribution: Sample does not look Gaussian (reject H0)\n"
     ]
    }
   ],
   "source": [
    "for i in range(0,len(list(event_cols))):\n",
    "    \n",
    "    col = list(event_cols)[i]\n",
    "    \n",
    "    print('Control', col, 'Distribution:', is_normal(ctl_events_agg[col]))\n",
    "\n",
    "    print('Test', col, 'Distribution:',is_normal(test_events_agg[col]))"
   ]
  },
  {
   "cell_type": "markdown",
   "id": "5767389c",
   "metadata": {
    "papermill": {
     "duration": 0.019197,
     "end_time": "2024-03-07T01:10:33.467380",
     "exception": false,
     "start_time": "2024-03-07T01:10:33.448183",
     "status": "completed"
    },
    "tags": []
   },
   "source": [
    "None of the distributions are normal. So cannot use the t-test for statistical significance."
   ]
  },
  {
   "cell_type": "markdown",
   "id": "2023dc2b",
   "metadata": {
    "papermill": {
     "duration": 0.016103,
     "end_time": "2024-03-07T01:10:33.499892",
     "exception": false,
     "start_time": "2024-03-07T01:10:33.483789",
     "status": "completed"
    },
    "tags": []
   },
   "source": [
    "### First Quick Pass of CI on One Experiment Test Group's Behavior Metric"
   ]
  },
  {
   "cell_type": "code",
   "execution_count": 26,
   "id": "9ed1f439",
   "metadata": {
    "execution": {
     "iopub.execute_input": "2024-03-07T01:10:33.536247Z",
     "iopub.status.busy": "2024-03-07T01:10:33.535468Z",
     "iopub.status.idle": "2024-03-07T01:10:35.773583Z",
     "shell.execute_reply": "2024-03-07T01:10:35.772467Z"
    },
    "papermill": {
     "duration": 2.258884,
     "end_time": "2024-03-07T01:10:35.776266",
     "exception": false,
     "start_time": "2024-03-07T01:10:33.517382",
     "status": "completed"
    },
    "tags": []
   },
   "outputs": [
    {
     "name": "stdout",
     "output_type": "stream",
     "text": [
      "The confidence interval is: (8.018272440205267, 8.077736899587352)\n"
     ]
    },
    {
     "data": {
      "image/png": "[encoded data removed]",
      "text/plain": [
       "<Figure size 640x480 with 1 Axes>"
      ]
     },
     "metadata": {},
     "output_type": "display_data"
    }
   ],
   "source": [
    "# Create confidence interval with the new data (Ctl group's views)\n",
    "\n",
    "# Let's assume you have some data in a Python list\n",
    "ctl_user_views = ctl_events_agg['total_views']\n",
    "\n",
    "# Calculate the mean and standard error\n",
    "mean = np.mean(ctl_user_views)\n",
    "standard_error = scipy.stats.sem(ctl_user_views)\n",
    "\n",
    "# Define the confidence level to be 95%\n",
    "confidence_level = 0.95\n",
    "\n",
    "# Calculate the confidence interval\n",
    "confidence_interval = scipy.stats.t.interval(confidence_level, len(ctl_user_views)-1, loc=mean, scale=standard_error)\n",
    "\n",
    "print(f\"The confidence interval is: {confidence_interval}\")\n",
    "\n",
    "# Plot the CI intervals\n",
    "\n",
    "# Create a figure and a subplot\n",
    "fig, ax = plt.subplots()\n",
    "\n",
    "# Plot the mean as a red line\n",
    "ax.axhline(mean, color='red')\n",
    "\n",
    "# Plot the confidence interval as a blue band\n",
    "ax.fill_between(range(len(ctl_user_views)), confidence_interval[0], confidence_interval[1], color='blue', alpha=0.2)\n",
    "\n",
    "# Plot the data points\n",
    "ax.plot(data, 'ko')\n",
    "\n",
    "# Show the plot\n",
    "plt.title(\"CI for Total Views\")\n",
    "plt.show()"
   ]
  },
  {
   "cell_type": "markdown",
   "id": "c1b8972e",
   "metadata": {
    "papermill": {
     "duration": 0.016004,
     "end_time": "2024-03-07T01:10:35.809282",
     "exception": false,
     "start_time": "2024-03-07T01:10:35.793278",
     "status": "completed"
    },
    "tags": []
   },
   "source": [
    "# Statistical Testing Methods\n",
    "\n",
    "## User Average Metrics\n",
    "### Distributions are non-normal --> Use Mann Whitney U Test"
   ]
  },
  {
   "cell_type": "code",
   "execution_count": 27,
   "id": "d72e076f",
   "metadata": {
    "execution": {
     "iopub.execute_input": "2024-03-07T01:10:35.845250Z",
     "iopub.status.busy": "2024-03-07T01:10:35.844868Z",
     "iopub.status.idle": "2024-03-07T01:10:41.730808Z",
     "shell.execute_reply": "2024-03-07T01:10:41.729692Z"
    },
    "papermill": {
     "duration": 5.906425,
     "end_time": "2024-03-07T01:10:41.733200",
     "exception": false,
     "start_time": "2024-03-07T01:10:35.826775",
     "status": "completed"
    },
    "tags": []
   },
   "outputs": [
    {
     "data": {
      "application/vnd.jupyter.widget-view+json": {
       "model_id": "a5bb3a6f54134b5f85f717df58063376",
       "version_major": 2,
       "version_minor": 0
      },
      "text/plain": [
       "FloatProgress(value=0.0, layout=Layout(width='auto'), style=ProgressStyle(bar_color='black'))"
      ]
     },
     "metadata": {},
     "output_type": "display_data"
    },
    {
     "data": {
      "text/html": [
       "<div>\n",
       "<style scoped>\n",
       "    .dataframe tbody tr th:only-of-type {\n",
       "        vertical-align: middle;\n",
       "    }\n",
       "\n",
       "    .dataframe tbody tr th {\n",
       "        vertical-align: top;\n",
       "    }\n",
       "\n",
       "    .dataframe thead th {\n",
       "        text-align: right;\n",
       "    }\n",
       "</style>\n",
       "<table border=\"1\" class=\"dataframe\">\n",
       "  <thead>\n",
       "    <tr style=\"text-align: right;\">\n",
       "      <th></th>\n",
       "      <th>experiment_group</th>\n",
       "      <th>date</th>\n",
       "      <th>views_per_user</th>\n",
       "      <th>carts_per_user</th>\n",
       "      <th>purchases_per_user</th>\n",
       "    </tr>\n",
       "  </thead>\n",
       "  <tbody>\n",
       "    <tr>\n",
       "      <th>0</th>\n",
       "      <td>control</td>\n",
       "      <td>2019-10-21</td>\n",
       "      <td>3.750218</td>\n",
       "      <td>0.100116</td>\n",
       "      <td>0.069805</td>\n",
       "    </tr>\n",
       "    <tr>\n",
       "      <th>1</th>\n",
       "      <td>control</td>\n",
       "      <td>2019-10-08</td>\n",
       "      <td>3.775728</td>\n",
       "      <td>0.051808</td>\n",
       "      <td>0.064511</td>\n",
       "    </tr>\n",
       "    <tr>\n",
       "      <th>2</th>\n",
       "      <td>test</td>\n",
       "      <td>2019-10-02</td>\n",
       "      <td>3.919181</td>\n",
       "      <td>0.057720</td>\n",
       "      <td>0.065190</td>\n",
       "    </tr>\n",
       "    <tr>\n",
       "      <th>3</th>\n",
       "      <td>test</td>\n",
       "      <td>2019-10-06</td>\n",
       "      <td>4.034788</td>\n",
       "      <td>0.104402</td>\n",
       "      <td>0.070898</td>\n",
       "    </tr>\n",
       "    <tr>\n",
       "      <th>4</th>\n",
       "      <td>test</td>\n",
       "      <td>2019-10-30</td>\n",
       "      <td>3.821188</td>\n",
       "      <td>0.055735</td>\n",
       "      <td>0.068989</td>\n",
       "    </tr>\n",
       "    <tr>\n",
       "      <th>...</th>\n",
       "      <td>...</td>\n",
       "      <td>...</td>\n",
       "      <td>...</td>\n",
       "      <td>...</td>\n",
       "      <td>...</td>\n",
       "    </tr>\n",
       "    <tr>\n",
       "      <th>57</th>\n",
       "      <td>control</td>\n",
       "      <td>2019-10-05</td>\n",
       "      <td>4.022459</td>\n",
       "      <td>0.111952</td>\n",
       "      <td>0.072039</td>\n",
       "    </tr>\n",
       "    <tr>\n",
       "      <th>58</th>\n",
       "      <td>test</td>\n",
       "      <td>2019-10-24</td>\n",
       "      <td>3.793476</td>\n",
       "      <td>0.109322</td>\n",
       "      <td>0.073205</td>\n",
       "    </tr>\n",
       "    <tr>\n",
       "      <th>59</th>\n",
       "      <td>test</td>\n",
       "      <td>2019-10-22</td>\n",
       "      <td>3.814761</td>\n",
       "      <td>0.104273</td>\n",
       "      <td>0.072893</td>\n",
       "    </tr>\n",
       "    <tr>\n",
       "      <th>60</th>\n",
       "      <td>control</td>\n",
       "      <td>2019-10-30</td>\n",
       "      <td>3.824639</td>\n",
       "      <td>0.054274</td>\n",
       "      <td>0.068311</td>\n",
       "    </tr>\n",
       "    <tr>\n",
       "      <th>61</th>\n",
       "      <td>test</td>\n",
       "      <td>2019-10-27</td>\n",
       "      <td>4.108396</td>\n",
       "      <td>0.107060</td>\n",
       "      <td>0.073456</td>\n",
       "    </tr>\n",
       "  </tbody>\n",
       "</table>\n",
       "<p>62 rows × 5 columns</p>\n",
       "</div>"
      ],
      "text/plain": [
       "   experiment_group        date  views_per_user  carts_per_user  \\\n",
       "0           control  2019-10-21        3.750218        0.100116   \n",
       "1           control  2019-10-08        3.775728        0.051808   \n",
       "2              test  2019-10-02        3.919181        0.057720   \n",
       "3              test  2019-10-06        4.034788        0.104402   \n",
       "4              test  2019-10-30        3.821188        0.055735   \n",
       "..              ...         ...             ...             ...   \n",
       "57          control  2019-10-05        4.022459        0.111952   \n",
       "58             test  2019-10-24        3.793476        0.109322   \n",
       "59             test  2019-10-22        3.814761        0.104273   \n",
       "60          control  2019-10-30        3.824639        0.054274   \n",
       "61             test  2019-10-27        4.108396        0.107060   \n",
       "\n",
       "    purchases_per_user  \n",
       "0             0.069805  \n",
       "1             0.064511  \n",
       "2             0.065190  \n",
       "3             0.070898  \n",
       "4             0.068989  \n",
       "..                 ...  \n",
       "57            0.072039  \n",
       "58            0.073205  \n",
       "59            0.072893  \n",
       "60            0.068311  \n",
       "61            0.073456  \n",
       "\n",
       "[62 rows x 5 columns]"
      ]
     },
     "execution_count": 27,
     "metadata": {},
     "output_type": "execute_result"
    }
   ],
   "source": [
    "# Now let us aggregate data at randomization unit to build CI interval\n",
    "# Simulating real biz A/B test data\n",
    "\n",
    "# Calculate avg views/carts/purchase per user for each experiment group\n",
    "query = \"\"\"\n",
    "select experiment_group\n",
    ", event_time[:10] as date\n",
    ", sum(case when event_type = 'view' then 1 else 0 end)/count(distinct user_id) as views_per_user\n",
    ", sum(case when event_type = 'cart' then 1 else 0 end)/count(distinct user_id) as carts_per_user\n",
    ", sum(case when event_type = 'purchase' then 1 else 0 end)/count(distinct user_id) as purchases_per_user\n",
    "from df\n",
    "group by 1,2\n",
    "\"\"\"\n",
    "\n",
    "user_avg_metric = duckdb.query(query).df()\n",
    "user_avg_metric"
   ]
  },
  {
   "cell_type": "code",
   "execution_count": 28,
   "id": "2e8453a5",
   "metadata": {
    "execution": {
     "iopub.execute_input": "2024-03-07T01:10:41.768680Z",
     "iopub.status.busy": "2024-03-07T01:10:41.768258Z",
     "iopub.status.idle": "2024-03-07T01:10:41.783087Z",
     "shell.execute_reply": "2024-03-07T01:10:41.781893Z"
    },
    "papermill": {
     "duration": 0.03589,
     "end_time": "2024-03-07T01:10:41.785854",
     "exception": false,
     "start_time": "2024-03-07T01:10:41.749964",
     "status": "completed"
    },
    "tags": []
   },
   "outputs": [],
   "source": [
    "control = duckdb.query(\"select * from user_avg_metric where experiment_group = 'control'\").df()\n",
    "test = duckdb.query(\"select * from user_avg_metric where experiment_group = 'test'\").df()"
   ]
  },
  {
   "cell_type": "code",
   "execution_count": 29,
   "id": "648938f4",
   "metadata": {
    "execution": {
     "iopub.execute_input": "2024-03-07T01:10:41.821902Z",
     "iopub.status.busy": "2024-03-07T01:10:41.821524Z",
     "iopub.status.idle": "2024-03-07T01:10:41.836936Z",
     "shell.execute_reply": "2024-03-07T01:10:41.835501Z"
    },
    "papermill": {
     "duration": 0.036997,
     "end_time": "2024-03-07T01:10:41.840212",
     "exception": false,
     "start_time": "2024-03-07T01:10:41.803215",
     "status": "completed"
    },
    "tags": []
   },
   "outputs": [
    {
     "name": "stdout",
     "output_type": "stream",
     "text": [
      "Metric: views_per_user\n",
      "We do not have enough evidence to reject Ho. Therefore, there is no significant statistical difference between two experiment groups' metric of interest.\n",
      "Metric: carts_per_user\n",
      "We do not have enough evidence to reject Ho. Therefore, there is no significant statistical difference between two experiment groups' metric of interest.\n",
      "Metric: purchases_per_user\n",
      "We do not have enough evidence to reject Ho. Therefore, there is no significant statistical difference between two experiment groups' metric of interest.\n"
     ]
    }
   ],
   "source": [
    "# Metrics are skewed so using Mann Whitney U test to determine statistical significance\n",
    "\n",
    "def run_mann_whitney_u_test(df1, df2, col):\n",
    "    # Extract the two data samples\n",
    "    data1 = df1[col]\n",
    "    data2 = df2[col]\n",
    "\n",
    "    # Perform the Mann-Whitney U test\n",
    "    stat, p = mannwhitneyu(data1, data2)\n",
    "\n",
    "    alpha = 0.05\n",
    "    if p<alpha:\n",
    "        print(\"We can reject Ho in favor of Ha. Therefore there is statistical significant difference between experiment groups in favor of treatment group.\")\n",
    "    else:\n",
    "        print(\"We do not have enough evidence to reject Ho. Therefore, there is no significant statistical difference between two experiment groups' metric of interest.\")\n",
    "\n",
    "columns = list(user_avg_metric)[2:]\n",
    "for c in columns:\n",
    "    print('Metric:', c)\n",
    "    run_mann_whitney_u_test(control, test, c)"
   ]
  },
  {
   "cell_type": "markdown",
   "id": "1288e59a",
   "metadata": {
    "papermill": {
     "duration": 0.017234,
     "end_time": "2024-03-07T01:10:41.874532",
     "exception": false,
     "start_time": "2024-03-07T01:10:41.857298",
     "status": "completed"
    },
    "tags": []
   },
   "source": [
    "## User-level Conversion Metrics"
   ]
  },
  {
   "cell_type": "code",
   "execution_count": 30,
   "id": "53d75ce7",
   "metadata": {
    "execution": {
     "iopub.execute_input": "2024-03-07T01:10:41.980167Z",
     "iopub.status.busy": "2024-03-07T01:10:41.979186Z",
     "iopub.status.idle": "2024-03-07T01:10:41.997690Z",
     "shell.execute_reply": "2024-03-07T01:10:41.996586Z"
    },
    "papermill": {
     "duration": 0.039866,
     "end_time": "2024-03-07T01:10:42.000179",
     "exception": false,
     "start_time": "2024-03-07T01:10:41.960313",
     "status": "completed"
    },
    "tags": []
   },
   "outputs": [
    {
     "data": {
      "text/html": [
       "<div>\n",
       "<style scoped>\n",
       "    .dataframe tbody tr th:only-of-type {\n",
       "        vertical-align: middle;\n",
       "    }\n",
       "\n",
       "    .dataframe tbody tr th {\n",
       "        vertical-align: top;\n",
       "    }\n",
       "\n",
       "    .dataframe thead th {\n",
       "        text-align: right;\n",
       "    }\n",
       "</style>\n",
       "<table border=\"1\" class=\"dataframe\">\n",
       "  <thead>\n",
       "    <tr style=\"text-align: right;\">\n",
       "      <th></th>\n",
       "      <th>experiment_group</th>\n",
       "      <th>user_id</th>\n",
       "      <th>total_views</th>\n",
       "      <th>total_cart</th>\n",
       "      <th>total_purchase</th>\n",
       "    </tr>\n",
       "  </thead>\n",
       "  <tbody>\n",
       "    <tr>\n",
       "      <th>0</th>\n",
       "      <td>control</td>\n",
       "      <td>515036954</td>\n",
       "      <td>390.0</td>\n",
       "      <td>1.0</td>\n",
       "      <td>1.0</td>\n",
       "    </tr>\n",
       "    <tr>\n",
       "      <th>1</th>\n",
       "      <td>control</td>\n",
       "      <td>544629459</td>\n",
       "      <td>15.0</td>\n",
       "      <td>0.0</td>\n",
       "      <td>0.0</td>\n",
       "    </tr>\n",
       "    <tr>\n",
       "      <th>2</th>\n",
       "      <td>control</td>\n",
       "      <td>559167266</td>\n",
       "      <td>10.0</td>\n",
       "      <td>0.0</td>\n",
       "      <td>0.0</td>\n",
       "    </tr>\n",
       "    <tr>\n",
       "      <th>3</th>\n",
       "      <td>control</td>\n",
       "      <td>558373696</td>\n",
       "      <td>32.0</td>\n",
       "      <td>0.0</td>\n",
       "      <td>0.0</td>\n",
       "    </tr>\n",
       "    <tr>\n",
       "      <th>4</th>\n",
       "      <td>test</td>\n",
       "      <td>512782815</td>\n",
       "      <td>8.0</td>\n",
       "      <td>0.0</td>\n",
       "      <td>0.0</td>\n",
       "    </tr>\n",
       "    <tr>\n",
       "      <th>...</th>\n",
       "      <td>...</td>\n",
       "      <td>...</td>\n",
       "      <td>...</td>\n",
       "      <td>...</td>\n",
       "      <td>...</td>\n",
       "    </tr>\n",
       "    <tr>\n",
       "      <th>2531957</th>\n",
       "      <td>test</td>\n",
       "      <td>565018368</td>\n",
       "      <td>1.0</td>\n",
       "      <td>0.0</td>\n",
       "      <td>0.0</td>\n",
       "    </tr>\n",
       "    <tr>\n",
       "      <th>2531958</th>\n",
       "      <td>test</td>\n",
       "      <td>548558681</td>\n",
       "      <td>1.0</td>\n",
       "      <td>0.0</td>\n",
       "      <td>0.0</td>\n",
       "    </tr>\n",
       "    <tr>\n",
       "      <th>2531959</th>\n",
       "      <td>test</td>\n",
       "      <td>563224845</td>\n",
       "      <td>1.0</td>\n",
       "      <td>0.0</td>\n",
       "      <td>0.0</td>\n",
       "    </tr>\n",
       "    <tr>\n",
       "      <th>2531960</th>\n",
       "      <td>test</td>\n",
       "      <td>519350557</td>\n",
       "      <td>1.0</td>\n",
       "      <td>0.0</td>\n",
       "      <td>0.0</td>\n",
       "    </tr>\n",
       "    <tr>\n",
       "      <th>2531961</th>\n",
       "      <td>control</td>\n",
       "      <td>520772730</td>\n",
       "      <td>1.0</td>\n",
       "      <td>0.0</td>\n",
       "      <td>0.0</td>\n",
       "    </tr>\n",
       "  </tbody>\n",
       "</table>\n",
       "<p>2531962 rows × 5 columns</p>\n",
       "</div>"
      ],
      "text/plain": [
       "        experiment_group    user_id  total_views  total_cart  total_purchase\n",
       "0                control  515036954        390.0         1.0             1.0\n",
       "1                control  544629459         15.0         0.0             0.0\n",
       "2                control  559167266         10.0         0.0             0.0\n",
       "3                control  558373696         32.0         0.0             0.0\n",
       "4                   test  512782815          8.0         0.0             0.0\n",
       "...                  ...        ...          ...         ...             ...\n",
       "2531957             test  565018368          1.0         0.0             0.0\n",
       "2531958             test  548558681          1.0         0.0             0.0\n",
       "2531959             test  563224845          1.0         0.0             0.0\n",
       "2531960             test  519350557          1.0         0.0             0.0\n",
       "2531961          control  520772730          1.0         0.0             0.0\n",
       "\n",
       "[2531962 rows x 5 columns]"
      ]
     },
     "execution_count": 30,
     "metadata": {},
     "output_type": "execute_result"
    }
   ],
   "source": [
    "# User events aggregated\n",
    "events_agg"
   ]
  },
  {
   "cell_type": "code",
   "execution_count": 31,
   "id": "15a8336a",
   "metadata": {
    "execution": {
     "iopub.execute_input": "2024-03-07T01:10:42.038017Z",
     "iopub.status.busy": "2024-03-07T01:10:42.037639Z",
     "iopub.status.idle": "2024-03-07T01:10:42.505905Z",
     "shell.execute_reply": "2024-03-07T01:10:42.504609Z"
    },
    "papermill": {
     "duration": 0.490032,
     "end_time": "2024-03-07T01:10:42.508746",
     "exception": false,
     "start_time": "2024-03-07T01:10:42.018714",
     "status": "completed"
    },
    "tags": []
   },
   "outputs": [
    {
     "data": {
      "text/html": [
       "<div>\n",
       "<style scoped>\n",
       "    .dataframe tbody tr th:only-of-type {\n",
       "        vertical-align: middle;\n",
       "    }\n",
       "\n",
       "    .dataframe tbody tr th {\n",
       "        vertical-align: top;\n",
       "    }\n",
       "\n",
       "    .dataframe thead th {\n",
       "        text-align: right;\n",
       "    }\n",
       "</style>\n",
       "<table border=\"1\" class=\"dataframe\">\n",
       "  <thead>\n",
       "    <tr style=\"text-align: right;\">\n",
       "      <th></th>\n",
       "      <th>experiment_group</th>\n",
       "      <th>user_id</th>\n",
       "      <th>total_views</th>\n",
       "      <th>total_cart</th>\n",
       "      <th>total_purchase</th>\n",
       "      <th>conversion</th>\n",
       "    </tr>\n",
       "  </thead>\n",
       "  <tbody>\n",
       "    <tr>\n",
       "      <th>0</th>\n",
       "      <td>control</td>\n",
       "      <td>515036954</td>\n",
       "      <td>390.0</td>\n",
       "      <td>1.0</td>\n",
       "      <td>1.0</td>\n",
       "      <td>0</td>\n",
       "    </tr>\n",
       "    <tr>\n",
       "      <th>1</th>\n",
       "      <td>control</td>\n",
       "      <td>544629459</td>\n",
       "      <td>15.0</td>\n",
       "      <td>0.0</td>\n",
       "      <td>0.0</td>\n",
       "      <td>0</td>\n",
       "    </tr>\n",
       "    <tr>\n",
       "      <th>2</th>\n",
       "      <td>control</td>\n",
       "      <td>559167266</td>\n",
       "      <td>10.0</td>\n",
       "      <td>0.0</td>\n",
       "      <td>0.0</td>\n",
       "      <td>0</td>\n",
       "    </tr>\n",
       "    <tr>\n",
       "      <th>3</th>\n",
       "      <td>control</td>\n",
       "      <td>558373696</td>\n",
       "      <td>32.0</td>\n",
       "      <td>0.0</td>\n",
       "      <td>0.0</td>\n",
       "      <td>0</td>\n",
       "    </tr>\n",
       "    <tr>\n",
       "      <th>4</th>\n",
       "      <td>test</td>\n",
       "      <td>512782815</td>\n",
       "      <td>8.0</td>\n",
       "      <td>0.0</td>\n",
       "      <td>0.0</td>\n",
       "      <td>0</td>\n",
       "    </tr>\n",
       "  </tbody>\n",
       "</table>\n",
       "</div>"
      ],
      "text/plain": [
       "  experiment_group    user_id  total_views  total_cart  total_purchase  \\\n",
       "0          control  515036954        390.0         1.0             1.0   \n",
       "1          control  544629459         15.0         0.0             0.0   \n",
       "2          control  559167266         10.0         0.0             0.0   \n",
       "3          control  558373696         32.0         0.0             0.0   \n",
       "4             test  512782815          8.0         0.0             0.0   \n",
       "\n",
       "   conversion  \n",
       "0           0  \n",
       "1           0  \n",
       "2           0  \n",
       "3           0  \n",
       "4           0  "
      ]
     },
     "execution_count": 31,
     "metadata": {},
     "output_type": "execute_result"
    }
   ],
   "source": [
    "# Need to make a new column to change user as either making a purchase (at least one) -> 1 or not -> 0.\n",
    "user_conversion = duckdb.query(\"select *, case when total_purchase >1 then 1 else 0 end as conversion from events_agg\").df()\n",
    "user_conversion.head()"
   ]
  },
  {
   "cell_type": "code",
   "execution_count": null,
   "id": "b5b3dffc",
   "metadata": {
    "papermill": {
     "duration": 0.017608,
     "end_time": "2024-03-07T01:10:42.544121",
     "exception": false,
     "start_time": "2024-03-07T01:10:42.526513",
     "status": "completed"
    },
    "tags": []
   },
   "outputs": [],
   "source": []
  }
 ],
 "metadata": {
  "kaggle": {
   "accelerator": "none",
   "dataSources": [
    {
     "datasetId": 4551461,
     "sourceId": 7778215,
     "sourceType": "datasetVersion"
    },
    {
     "datasetId": 411512,
     "sourceId": 835452,
     "sourceType": "datasetVersion"
    }
   ],
   "dockerImageVersionId": 30664,
   "isGpuEnabled": false,
   "isInternetEnabled": true,
   "language": "python",
   "sourceType": "notebook"
  },
  "kernelspec": {
   "display_name": "Python 3",
   "language": "python",
   "name": "python3"
  },
  "language_info": {
   "codemirror_mode": {
    "name": "ipython",
    "version": 3
   },
   "file_extension": ".py",
   "mimetype": "text/x-python",
   "name": "python",
   "nbconvert_exporter": "python",
   "pygments_lexer": "ipython3",
   "version": "3.10.13"
  },
  "papermill": {
   "default_parameters": {},
   "duration": 209.701282,
   "end_time": "2024-03-07T01:10:46.289488",
   "environment_variables": {},
   "exception": null,
   "input_path": "__notebook__.ipynb",
   "output_path": "__notebook__.ipynb",
   "parameters": {},
   "start_time": "2024-03-07T01:07:16.588206",
   "version": "2.5.0"
  },
  "widgets": {
   "application/vnd.jupyter.widget-state+json": {
    "state": {
     "0271d67035b7482fae5ccd8bfbbb7bdc": {
      "model_module": "@jupyter-widgets/base",
      "model_module_version": "1.2.0",
      "model_name": "LayoutModel",
      "state": {
       "_model_module": "@jupyter-widgets/base",
       "_model_module_version": "1.2.0",
       "_model_name": "LayoutModel",
       "_view_count": null,
       "_view_module": "@jupyter-widgets/base",
       "_view_module_version": "1.2.0",
       "_view_name": "LayoutView",
       "align_content": null,
       "align_items": null,
       "align_self": null,
       "border": null,
       "bottom": null,
       "display": null,
       "flex": null,
       "flex_flow": null,
       "grid_area": null,
       "grid_auto_columns": null,
       "grid_auto_flow": null,
       "grid_auto_rows": null,
       "grid_column": null,
       "grid_gap": null,
       "grid_row": null,
       "grid_template_areas": null,
       "grid_template_columns": null,
       "grid_template_rows": null,
       "height": null,
       "justify_content": null,
       "justify_items": null,
       "left": null,
       "margin": null,
       "max_height": null,
       "max_width": null,
       "min_height": null,
       "min_width": null,
       "object_fit": null,
       "object_position": null,
       "order": null,
       "overflow": null,
       "overflow_x": null,
       "overflow_y": null,
       "padding": null,
       "right": null,
       "top": null,
       "visibility": null,
       "width": "auto"
      }
     },
     "0ba59e2ff65847e0ab16863455628dc4": {
      "model_module": "@jupyter-widgets/controls",
      "model_module_version": "1.5.0",
      "model_name": "FloatProgressModel",
      "state": {
       "_dom_classes": [],
       "_model_module": "@jupyter-widgets/controls",
       "_model_module_version": "1.5.0",
       "_model_name": "FloatProgressModel",
       "_view_count": null,
       "_view_module": "@jupyter-widgets/controls",
       "_view_module_version": "1.5.0",
       "_view_name": "ProgressView",
       "bar_style": "",
       "description": "",
       "description_tooltip": null,
       "layout": "IPY_MODEL_0271d67035b7482fae5ccd8bfbbb7bdc",
       "max": 100.0,
       "min": 0.0,
       "orientation": "horizontal",
       "style": "IPY_MODEL_5790a411ed2947db91df1a84c02cb6b5",
       "value": 100.0
      }
     },
     "1d8d9222c23146d79178891a4c06cedc": {
      "model_module": "@jupyter-widgets/controls",
      "model_module_version": "1.5.0",
      "model_name": "FloatProgressModel",
      "state": {
       "_dom_classes": [],
       "_model_module": "@jupyter-widgets/controls",
       "_model_module_version": "1.5.0",
       "_model_name": "FloatProgressModel",
       "_view_count": null,
       "_view_module": "@jupyter-widgets/controls",
       "_view_module_version": "1.5.0",
       "_view_name": "ProgressView",
       "bar_style": "",
       "description": "",
       "description_tooltip": null,
       "layout": "IPY_MODEL_2cce783727fb486ab74a7ccc3e6a4c6a",
       "max": 100.0,
       "min": 0.0,
       "orientation": "horizontal",
       "style": "IPY_MODEL_e4b48c1babfb4adc97bd81bc9efcfc5d",
       "value": 100.0
      }
     },
     "2cce783727fb486ab74a7ccc3e6a4c6a": {
      "model_module": "@jupyter-widgets/base",
      "model_module_version": "1.2.0",
      "model_name": "LayoutModel",
      "state": {
       "_model_module": "@jupyter-widgets/base",
       "_model_module_version": "1.2.0",
       "_model_name": "LayoutModel",
       "_view_count": null,
       "_view_module": "@jupyter-widgets/base",
       "_view_module_version": "1.2.0",
       "_view_name": "LayoutView",
       "align_content": null,
       "align_items": null,
       "align_self": null,
       "border": null,
       "bottom": null,
       "display": null,
       "flex": null,
       "flex_flow": null,
       "grid_area": null,
       "grid_auto_columns": null,
       "grid_auto_flow": null,
       "grid_auto_rows": null,
       "grid_column": null,
       "grid_gap": null,
       "grid_row": null,
       "grid_template_areas": null,
       "grid_template_columns": null,
       "grid_template_rows": null,
       "height": null,
       "justify_content": null,
       "justify_items": null,
       "left": null,
       "margin": null,
       "max_height": null,
       "max_width": null,
       "min_height": null,
       "min_width": null,
       "object_fit": null,
       "object_position": null,
       "order": null,
       "overflow": null,
       "overflow_x": null,
       "overflow_y": null,
       "padding": null,
       "right": null,
       "top": null,
       "visibility": null,
       "width": "auto"
      }
     },
     "5790a411ed2947db91df1a84c02cb6b5": {
      "model_module": "@jupyter-widgets/controls",
      "model_module_version": "1.5.0",
      "model_name": "ProgressStyleModel",
      "state": {
       "_model_module": "@jupyter-widgets/controls",
       "_model_module_version": "1.5.0",
       "_model_name": "ProgressStyleModel",
       "_view_count": null,
       "_view_module": "@jupyter-widgets/base",
       "_view_module_version": "1.2.0",
       "_view_name": "StyleView",
       "bar_color": "black",
       "description_width": ""
      }
     },
     "9109b99c04ad441ea6c65c94e9426f48": {
      "model_module": "@jupyter-widgets/base",
      "model_module_version": "1.2.0",
      "model_name": "LayoutModel",
      "state": {
       "_model_module": "@jupyter-widgets/base",
       "_model_module_version": "1.2.0",
       "_model_name": "LayoutModel",
       "_view_count": null,
       "_view_module": "@jupyter-widgets/base",
       "_view_module_version": "1.2.0",
       "_view_name": "LayoutView",
       "align_content": null,
       "align_items": null,
       "align_self": null,
       "border": null,
       "bottom": null,
       "display": null,
       "flex": null,
       "flex_flow": null,
       "grid_area": null,
       "grid_auto_columns": null,
       "grid_auto_flow": null,
       "grid_auto_rows": null,
       "grid_column": null,
       "grid_gap": null,
       "grid_row": null,
       "grid_template_areas": null,
       "grid_template_columns": null,
       "grid_template_rows": null,
       "height": null,
       "justify_content": null,
       "justify_items": null,
       "left": null,
       "margin": null,
       "max_height": null,
       "max_width": null,
       "min_height": null,
       "min_width": null,
       "object_fit": null,
       "object_position": null,
       "order": null,
       "overflow": null,
       "overflow_x": null,
       "overflow_y": null,
       "padding": null,
       "right": null,
       "top": null,
       "visibility": null,
       "width": "auto"
      }
     },
     "9e1f4e09364a4bc1958d1a98edb0c29a": {
      "model_module": "@jupyter-widgets/controls",
      "model_module_version": "1.5.0",
      "model_name": "ProgressStyleModel",
      "state": {
       "_model_module": "@jupyter-widgets/controls",
       "_model_module_version": "1.5.0",
       "_model_name": "ProgressStyleModel",
       "_view_count": null,
       "_view_module": "@jupyter-widgets/base",
       "_view_module_version": "1.2.0",
       "_view_name": "StyleView",
       "bar_color": "black",
       "description_width": ""
      }
     },
     "a5bb3a6f54134b5f85f717df58063376": {
      "model_module": "@jupyter-widgets/controls",
      "model_module_version": "1.5.0",
      "model_name": "FloatProgressModel",
      "state": {
       "_dom_classes": [],
       "_model_module": "@jupyter-widgets/controls",
       "_model_module_version": "1.5.0",
       "_model_name": "FloatProgressModel",
       "_view_count": null,
       "_view_module": "@jupyter-widgets/controls",
       "_view_module_version": "1.5.0",
       "_view_name": "ProgressView",
       "bar_style": "",
       "description": "",
       "description_tooltip": null,
       "layout": "IPY_MODEL_9109b99c04ad441ea6c65c94e9426f48",
       "max": 100.0,
       "min": 0.0,
       "orientation": "horizontal",
       "style": "IPY_MODEL_9e1f4e09364a4bc1958d1a98edb0c29a",
       "value": 100.0
      }
     },
     "e4b48c1babfb4adc97bd81bc9efcfc5d": {
      "model_module": "@jupyter-widgets/controls",
      "model_module_version": "1.5.0",
      "model_name": "ProgressStyleModel",
      "state": {
       "_model_module": "@jupyter-widgets/controls",
       "_model_module_version": "1.5.0",
       "_model_name": "ProgressStyleModel",
       "_view_count": null,
       "_view_module": "@jupyter-widgets/base",
       "_view_module_version": "1.2.0",
       "_view_name": "StyleView",
       "bar_color": "black",
       "description_width": ""
      }
     }
    },
    "version_major": 2,
    "version_minor": 0
   }
  }
 },
 "nbformat": 4,
 "nbformat_minor": 5
}
