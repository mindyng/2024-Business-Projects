{
 "cells": [
  {
   "cell_type": "markdown",
   "id": "22babac5",
   "metadata": {
    "_cell_guid": "b1076dfc-b9ad-4769-8c92-a6c4dae69d19",
    "_uuid": "8f2839f25d086af736a60e9eeb907d3b93b6e0e5",
    "papermill": {
     "duration": 0.005294,
     "end_time": "2024-02-27T23:58:33.296843",
     "exception": false,
     "start_time": "2024-02-27T23:58:33.291549",
     "status": "completed"
    },
    "tags": []
   },
   "source": [
    "# Objective: \n",
    "\n",
    "Experimentation is key to innovation at big tech companies. And to measure its success, there needs to be statistical rigor and not just lift in the test group.\n",
    "\n",
    "After helping to build out v0 experimentation framework at Mercari, I wanted to dig deeper into A/B testing advancements when it comes to more rigorous and modern techniques. \n",
    "\n",
    "This notebook serves as a Python code application of this [Towards Data Science article](https://towardsdatascience.com/how-to-select-the-right-statistical-tests-for-different-a-b-metrics-c8a1865851e) about how experimentation was done at TikTok as well as answers to [interview questions](https://prepfully.com/interview-questions/stitch-fix/data-scientist?page=3) from Stitch Fix's Data Scientist team."
   ]
  },
  {
   "cell_type": "code",
   "execution_count": 1,
   "id": "36d4c623",
   "metadata": {
    "execution": {
     "iopub.execute_input": "2024-02-27T23:58:33.309176Z",
     "iopub.status.busy": "2024-02-27T23:58:33.308703Z",
     "iopub.status.idle": "2024-02-27T23:58:51.385022Z",
     "shell.execute_reply": "2024-02-27T23:58:51.383584Z"
    },
    "papermill": {
     "duration": 18.085652,
     "end_time": "2024-02-27T23:58:51.387798",
     "exception": false,
     "start_time": "2024-02-27T23:58:33.302146",
     "status": "completed"
    },
    "tags": []
   },
   "outputs": [],
   "source": [
    "!pip install duckdb jupysql --quiet"
   ]
  },
  {
   "cell_type": "code",
   "execution_count": 2,
   "id": "bd7af82f",
   "metadata": {
    "execution": {
     "iopub.execute_input": "2024-02-27T23:58:51.400096Z",
     "iopub.status.busy": "2024-02-27T23:58:51.399673Z",
     "iopub.status.idle": "2024-02-27T23:58:55.162758Z",
     "shell.execute_reply": "2024-02-27T23:58:55.161356Z"
    },
    "papermill": {
     "duration": 3.772604,
     "end_time": "2024-02-27T23:58:55.165455",
     "exception": false,
     "start_time": "2024-02-27T23:58:51.392851",
     "status": "completed"
    },
    "tags": []
   },
   "outputs": [
    {
     "name": "stdout",
     "output_type": "stream",
     "text": [
      "Deploy Shiny apps for free on Ploomber Cloud! Learn more: https://ploomber.io/s/signup\n"
     ]
    }
   ],
   "source": [
    "import numpy as np\n",
    "import pandas as pd\n",
    "from scipy import stats\n",
    "import scipy.stats\n",
    "import matplotlib.pyplot as plt\n",
    "\n",
    "import duckdb\n",
    "\n",
    "%load_ext sql\n",
    "conn = duckdb.connect()\n",
    "%sql conn --alias duckdb"
   ]
  },
  {
   "cell_type": "markdown",
   "id": "563d346c",
   "metadata": {
    "papermill": {
     "duration": 0.004885,
     "end_time": "2024-02-27T23:58:55.175638",
     "exception": false,
     "start_time": "2024-02-27T23:58:55.170753",
     "status": "completed"
    },
    "tags": []
   },
   "source": [
    "# Stitch Fix DS Interview Questions for Experimentation \n",
    "(and maybe look into coding questions)"
   ]
  },
  {
   "cell_type": "code",
   "execution_count": 3,
   "id": "11cda3a1",
   "metadata": {
    "execution": {
     "iopub.execute_input": "2024-02-27T23:58:55.189584Z",
     "iopub.status.busy": "2024-02-27T23:58:55.188448Z",
     "iopub.status.idle": "2024-02-27T23:58:55.203807Z",
     "shell.execute_reply": "2024-02-27T23:58:55.202193Z"
    },
    "papermill": {
     "duration": 0.025313,
     "end_time": "2024-02-27T23:58:55.206642",
     "exception": false,
     "start_time": "2024-02-27T23:58:55.181329",
     "status": "completed"
    },
    "tags": []
   },
   "outputs": [
    {
     "name": "stdout",
     "output_type": "stream",
     "text": [
      "Sample Mean: 5.2981137118582105\n",
      "Standard Error of the Mean (SEM): 0.19302578810818985\n",
      "Confidence Interval (95.0%): (4.915108671015617, 5.681118752700804)\n"
     ]
    }
   ],
   "source": [
    "# What is the Python code for calculating the confidence intervals for a mean?\n",
    "\n",
    "#ChatGPT 3.5\n",
    "\n",
    "# Generate some sample datanp.random.seed(42)  # For reproducibility\n",
    "data = np.random.normal(loc=5, scale=2, size=100)  # Sample data with mean 5 and standard deviation 2\n",
    "\n",
    "# Calculate mean and standard error of the mean (SEM)\n",
    "mean = np.mean(data)\n",
    "sem = stats.sem(data)\n",
    "\n",
    "# Define confidence level (e.g., 95%)\n",
    "confidence_level = 0.95\n",
    "\n",
    "# Calculate margin of error\n",
    "margin_of_error = sem * stats.t.ppf((1 + confidence_level) / 2, len(data) - 1)\n",
    "\n",
    "# Calculate confidence interval\n",
    "confidence_interval = (mean - margin_of_error, mean + margin_of_error)\n",
    "\n",
    "print(\"Sample Mean:\", mean)\n",
    "print(\"Standard Error of the Mean (SEM):\", sem)\n",
    "print(f\"Confidence Interval ({confidence_level * 100}%):\", confidence_interval)\n"
   ]
  },
  {
   "cell_type": "code",
   "execution_count": 4,
   "id": "b6c03b5b",
   "metadata": {
    "execution": {
     "iopub.execute_input": "2024-02-27T23:58:55.219767Z",
     "iopub.status.busy": "2024-02-27T23:58:55.219284Z",
     "iopub.status.idle": "2024-02-27T23:58:55.228683Z",
     "shell.execute_reply": "2024-02-27T23:58:55.227286Z"
    },
    "papermill": {
     "duration": 0.018799,
     "end_time": "2024-02-27T23:58:55.231003",
     "exception": false,
     "start_time": "2024-02-27T23:58:55.212204",
     "status": "completed"
    },
    "tags": []
   },
   "outputs": [
    {
     "name": "stdout",
     "output_type": "stream",
     "text": [
      "The confidence interval is: (3.3341494103866087, 7.665850589613392)\n"
     ]
    }
   ],
   "source": [
    "#ChatGPT 4.0 Turbo:\n",
    "\n",
    "# Let's assume you have some data in a Python list\n",
    "data = [1, 2, 3, 4, 5, 6, 7, 8, 9, 10]\n",
    "\n",
    "# Calculate the mean and standard error\n",
    "mean = np.mean(data)\n",
    "standard_error = scipy.stats.sem(data)\n",
    "\n",
    "# Define the confidence level to be 95%\n",
    "confidence_level = 0.95\n",
    "\n",
    "# Calculate the confidence interval\n",
    "confidence_interval = scipy.stats.t.interval(confidence_level, len(data)-1, loc=mean, scale=standard_error)\n",
    "\n",
    "print(f\"The confidence interval is: {confidence_interval}\")"
   ]
  },
  {
   "cell_type": "code",
   "execution_count": 5,
   "id": "f3259818",
   "metadata": {
    "execution": {
     "iopub.execute_input": "2024-02-27T23:58:55.244956Z",
     "iopub.status.busy": "2024-02-27T23:58:55.243814Z",
     "iopub.status.idle": "2024-02-27T23:58:55.491756Z",
     "shell.execute_reply": "2024-02-27T23:58:55.490144Z"
    },
    "papermill": {
     "duration": 0.258217,
     "end_time": "2024-02-27T23:58:55.494898",
     "exception": false,
     "start_time": "2024-02-27T23:58:55.236681",
     "status": "completed"
    },
    "tags": []
   },
   "outputs": [
    {
     "data": {
      "image/png": "[encoded data removed]",
      "text/plain": [
       "<Figure size 640x480 with 1 Axes>"
      ]
     },
     "metadata": {},
     "output_type": "display_data"
    }
   ],
   "source": [
    "# Plot the CI intervals\n",
    "\n",
    "# Create a figure and a subplot\n",
    "fig, ax = plt.subplots()\n",
    "\n",
    "# Plot the mean as a red line\n",
    "ax.axhline(mean, color='red')\n",
    "\n",
    "# Plot the confidence interval as a blue band\n",
    "ax.fill_between(range(len(data)), confidence_interval[0], confidence_interval[1], color='blue', alpha=0.2)\n",
    "\n",
    "# Plot the data points\n",
    "ax.plot(data, 'ko')\n",
    "\n",
    "# Show the plot\n",
    "plt.show()"
   ]
  },
  {
   "cell_type": "code",
   "execution_count": 6,
   "id": "b62ec9eb",
   "metadata": {
    "execution": {
     "iopub.execute_input": "2024-02-27T23:58:55.509215Z",
     "iopub.status.busy": "2024-02-27T23:58:55.508728Z",
     "iopub.status.idle": "2024-02-28T00:01:41.694116Z",
     "shell.execute_reply": "2024-02-28T00:01:41.693129Z"
    },
    "papermill": {
     "duration": 166.201568,
     "end_time": "2024-02-28T00:01:41.702477",
     "exception": false,
     "start_time": "2024-02-27T23:58:55.500909",
     "status": "completed"
    },
    "tags": []
   },
   "outputs": [
    {
     "data": {
      "text/html": [
       "<div>\n",
       "<style scoped>\n",
       "    .dataframe tbody tr th:only-of-type {\n",
       "        vertical-align: middle;\n",
       "    }\n",
       "\n",
       "    .dataframe tbody tr th {\n",
       "        vertical-align: top;\n",
       "    }\n",
       "\n",
       "    .dataframe thead th {\n",
       "        text-align: right;\n",
       "    }\n",
       "</style>\n",
       "<table border=\"1\" class=\"dataframe\">\n",
       "  <thead>\n",
       "    <tr style=\"text-align: right;\">\n",
       "      <th></th>\n",
       "      <th>event_time</th>\n",
       "      <th>event_type</th>\n",
       "      <th>product_id</th>\n",
       "      <th>category_id</th>\n",
       "      <th>category_code</th>\n",
       "      <th>brand</th>\n",
       "      <th>price</th>\n",
       "      <th>user_id</th>\n",
       "      <th>user_session</th>\n",
       "    </tr>\n",
       "  </thead>\n",
       "  <tbody>\n",
       "    <tr>\n",
       "      <th>0</th>\n",
       "      <td>2019-10-01 00:00:00 UTC</td>\n",
       "      <td>view</td>\n",
       "      <td>44600062</td>\n",
       "      <td>2103807459595387724</td>\n",
       "      <td>NaN</td>\n",
       "      <td>shiseido</td>\n",
       "      <td>35.79</td>\n",
       "      <td>541312140</td>\n",
       "      <td>72d76fde-8bb3-4e00-8c23-a032dfed738c</td>\n",
       "    </tr>\n",
       "    <tr>\n",
       "      <th>1</th>\n",
       "      <td>2019-10-01 00:00:00 UTC</td>\n",
       "      <td>view</td>\n",
       "      <td>3900821</td>\n",
       "      <td>2053013552326770905</td>\n",
       "      <td>appliances.environment.water_heater</td>\n",
       "      <td>aqua</td>\n",
       "      <td>33.20</td>\n",
       "      <td>554748717</td>\n",
       "      <td>9333dfbd-b87a-4708-9857-6336556b0fcc</td>\n",
       "    </tr>\n",
       "    <tr>\n",
       "      <th>2</th>\n",
       "      <td>2019-10-01 00:00:01 UTC</td>\n",
       "      <td>view</td>\n",
       "      <td>17200506</td>\n",
       "      <td>2053013559792632471</td>\n",
       "      <td>furniture.living_room.sofa</td>\n",
       "      <td>NaN</td>\n",
       "      <td>543.10</td>\n",
       "      <td>519107250</td>\n",
       "      <td>566511c2-e2e3-422b-b695-cf8e6e792ca8</td>\n",
       "    </tr>\n",
       "    <tr>\n",
       "      <th>3</th>\n",
       "      <td>2019-10-01 00:00:01 UTC</td>\n",
       "      <td>view</td>\n",
       "      <td>1307067</td>\n",
       "      <td>2053013558920217191</td>\n",
       "      <td>computers.notebook</td>\n",
       "      <td>lenovo</td>\n",
       "      <td>251.74</td>\n",
       "      <td>550050854</td>\n",
       "      <td>7c90fc70-0e80-4590-96f3-13c02c18c713</td>\n",
       "    </tr>\n",
       "    <tr>\n",
       "      <th>4</th>\n",
       "      <td>2019-10-01 00:00:04 UTC</td>\n",
       "      <td>view</td>\n",
       "      <td>1004237</td>\n",
       "      <td>2053013555631882655</td>\n",
       "      <td>electronics.smartphone</td>\n",
       "      <td>apple</td>\n",
       "      <td>1081.98</td>\n",
       "      <td>535871217</td>\n",
       "      <td>c6bd7419-2748-4c56-95b4-8cec9ff8b80d</td>\n",
       "    </tr>\n",
       "    <tr>\n",
       "      <th>...</th>\n",
       "      <td>...</td>\n",
       "      <td>...</td>\n",
       "      <td>...</td>\n",
       "      <td>...</td>\n",
       "      <td>...</td>\n",
       "      <td>...</td>\n",
       "      <td>...</td>\n",
       "      <td>...</td>\n",
       "      <td>...</td>\n",
       "    </tr>\n",
       "    <tr>\n",
       "      <th>42448759</th>\n",
       "      <td>2019-10-31 23:59:58 UTC</td>\n",
       "      <td>view</td>\n",
       "      <td>2300275</td>\n",
       "      <td>2053013560530830019</td>\n",
       "      <td>electronics.camera.video</td>\n",
       "      <td>gopro</td>\n",
       "      <td>527.40</td>\n",
       "      <td>537931532</td>\n",
       "      <td>22c57267-da98-4f28-9a9c-18bb5b385193</td>\n",
       "    </tr>\n",
       "    <tr>\n",
       "      <th>42448760</th>\n",
       "      <td>2019-10-31 23:59:58 UTC</td>\n",
       "      <td>view</td>\n",
       "      <td>10800172</td>\n",
       "      <td>2053013554994348409</td>\n",
       "      <td>NaN</td>\n",
       "      <td>redmond</td>\n",
       "      <td>61.75</td>\n",
       "      <td>527322328</td>\n",
       "      <td>5054190a-46cb-4211-a8f1-16fc1a060ed8</td>\n",
       "    </tr>\n",
       "    <tr>\n",
       "      <th>42448761</th>\n",
       "      <td>2019-10-31 23:59:58 UTC</td>\n",
       "      <td>view</td>\n",
       "      <td>5701038</td>\n",
       "      <td>2053013553970938175</td>\n",
       "      <td>auto.accessories.player</td>\n",
       "      <td>kenwood</td>\n",
       "      <td>128.70</td>\n",
       "      <td>566280422</td>\n",
       "      <td>05b6c62b-992f-4e8e-91f7-961bcb4719cd</td>\n",
       "    </tr>\n",
       "    <tr>\n",
       "      <th>42448762</th>\n",
       "      <td>2019-10-31 23:59:59 UTC</td>\n",
       "      <td>view</td>\n",
       "      <td>21407424</td>\n",
       "      <td>2053013561579406073</td>\n",
       "      <td>electronics.clocks</td>\n",
       "      <td>tissot</td>\n",
       "      <td>689.85</td>\n",
       "      <td>513118352</td>\n",
       "      <td>4c14bf2a-2820-4504-929d-046356a5a204</td>\n",
       "    </tr>\n",
       "    <tr>\n",
       "      <th>42448763</th>\n",
       "      <td>2019-10-31 23:59:59 UTC</td>\n",
       "      <td>view</td>\n",
       "      <td>13300120</td>\n",
       "      <td>2053013557166998015</td>\n",
       "      <td>NaN</td>\n",
       "      <td>swisshome</td>\n",
       "      <td>155.73</td>\n",
       "      <td>525266378</td>\n",
       "      <td>6e57d2d7-6022-46e6-81d6-fa77f14cefd8</td>\n",
       "    </tr>\n",
       "  </tbody>\n",
       "</table>\n",
       "<p>42448764 rows × 9 columns</p>\n",
       "</div>"
      ],
      "text/plain": [
       "                       event_time event_type  product_id          category_id  \\\n",
       "0         2019-10-01 00:00:00 UTC       view    44600062  2103807459595387724   \n",
       "1         2019-10-01 00:00:00 UTC       view     3900821  2053013552326770905   \n",
       "2         2019-10-01 00:00:01 UTC       view    17200506  2053013559792632471   \n",
       "3         2019-10-01 00:00:01 UTC       view     1307067  2053013558920217191   \n",
       "4         2019-10-01 00:00:04 UTC       view     1004237  2053013555631882655   \n",
       "...                           ...        ...         ...                  ...   \n",
       "42448759  2019-10-31 23:59:58 UTC       view     2300275  2053013560530830019   \n",
       "42448760  2019-10-31 23:59:58 UTC       view    10800172  2053013554994348409   \n",
       "42448761  2019-10-31 23:59:58 UTC       view     5701038  2053013553970938175   \n",
       "42448762  2019-10-31 23:59:59 UTC       view    21407424  2053013561579406073   \n",
       "42448763  2019-10-31 23:59:59 UTC       view    13300120  2053013557166998015   \n",
       "\n",
       "                                category_code      brand    price    user_id  \\\n",
       "0                                         NaN   shiseido    35.79  541312140   \n",
       "1         appliances.environment.water_heater       aqua    33.20  554748717   \n",
       "2                  furniture.living_room.sofa        NaN   543.10  519107250   \n",
       "3                          computers.notebook     lenovo   251.74  550050854   \n",
       "4                      electronics.smartphone      apple  1081.98  535871217   \n",
       "...                                       ...        ...      ...        ...   \n",
       "42448759             electronics.camera.video      gopro   527.40  537931532   \n",
       "42448760                                  NaN    redmond    61.75  527322328   \n",
       "42448761              auto.accessories.player    kenwood   128.70  566280422   \n",
       "42448762                   electronics.clocks     tissot   689.85  513118352   \n",
       "42448763                                  NaN  swisshome   155.73  525266378   \n",
       "\n",
       "                                  user_session  \n",
       "0         72d76fde-8bb3-4e00-8c23-a032dfed738c  \n",
       "1         9333dfbd-b87a-4708-9857-6336556b0fcc  \n",
       "2         566511c2-e2e3-422b-b695-cf8e6e792ca8  \n",
       "3         7c90fc70-0e80-4590-96f3-13c02c18c713  \n",
       "4         c6bd7419-2748-4c56-95b4-8cec9ff8b80d  \n",
       "...                                        ...  \n",
       "42448759  22c57267-da98-4f28-9a9c-18bb5b385193  \n",
       "42448760  5054190a-46cb-4211-a8f1-16fc1a060ed8  \n",
       "42448761  05b6c62b-992f-4e8e-91f7-961bcb4719cd  \n",
       "42448762  4c14bf2a-2820-4504-929d-046356a5a204  \n",
       "42448763  6e57d2d7-6022-46e6-81d6-fa77f14cefd8  \n",
       "\n",
       "[42448764 rows x 9 columns]"
      ]
     },
     "execution_count": 6,
     "metadata": {},
     "output_type": "execute_result"
    }
   ],
   "source": [
    "# Let us use some more realistic data from e-commerce store (which is what TikTok article referenced as well as similar to current Stitch Fix biz model - Freestyle)\n",
    "cust_behav = pd.read_csv('/kaggle/input/ecommerce-behavior-data-from-multi-category-store/2019-Oct.csv')\n",
    "cust_behav"
   ]
  },
  {
   "cell_type": "code",
   "execution_count": 7,
   "id": "9de80cbb",
   "metadata": {
    "execution": {
     "iopub.execute_input": "2024-02-28T00:01:41.718272Z",
     "iopub.status.busy": "2024-02-28T00:01:41.717296Z",
     "iopub.status.idle": "2024-02-28T00:01:41.722524Z",
     "shell.execute_reply": "2024-02-28T00:01:41.721189Z"
    },
    "papermill": {
     "duration": 0.016082,
     "end_time": "2024-02-28T00:01:41.725040",
     "exception": false,
     "start_time": "2024-02-28T00:01:41.708958",
     "status": "completed"
    },
    "tags": []
   },
   "outputs": [],
   "source": [
    "# %%timeit\n",
    "\n",
    "# cust_behav2 = pd.read_csv('/kaggle/input/ecommerce-behavior-data-from-multi-category-store/2019-Nov.csv')\n",
    "# cust_behav2"
   ]
  },
  {
   "cell_type": "code",
   "execution_count": 8,
   "id": "48aa7ba4",
   "metadata": {
    "execution": {
     "iopub.execute_input": "2024-02-28T00:01:41.740030Z",
     "iopub.status.busy": "2024-02-28T00:01:41.739090Z",
     "iopub.status.idle": "2024-02-28T00:02:03.768318Z",
     "shell.execute_reply": "2024-02-28T00:02:03.767011Z"
    },
    "papermill": {
     "duration": 22.039438,
     "end_time": "2024-02-28T00:02:03.771020",
     "exception": false,
     "start_time": "2024-02-28T00:01:41.731582",
     "status": "completed"
    },
    "tags": []
   },
   "outputs": [],
   "source": [
    "# Will reduce the dataset to 80% and see if notebook crashes\n",
    "cb_sample = cust_behav.sample(frac=0.54)"
   ]
  },
  {
   "cell_type": "code",
   "execution_count": 9,
   "id": "f6291f89",
   "metadata": {
    "execution": {
     "iopub.execute_input": "2024-02-28T00:02:03.786092Z",
     "iopub.status.busy": "2024-02-28T00:02:03.785685Z",
     "iopub.status.idle": "2024-02-28T00:02:05.307839Z",
     "shell.execute_reply": "2024-02-28T00:02:05.306440Z"
    },
    "papermill": {
     "duration": 1.533443,
     "end_time": "2024-02-28T00:02:05.310470",
     "exception": false,
     "start_time": "2024-02-28T00:02:03.777027",
     "status": "completed"
    },
    "tags": []
   },
   "outputs": [
    {
     "data": {
      "text/html": [
       "<div>\n",
       "<style scoped>\n",
       "    .dataframe tbody tr th:only-of-type {\n",
       "        vertical-align: middle;\n",
       "    }\n",
       "\n",
       "    .dataframe tbody tr th {\n",
       "        vertical-align: top;\n",
       "    }\n",
       "\n",
       "    .dataframe thead th {\n",
       "        text-align: right;\n",
       "    }\n",
       "</style>\n",
       "<table border=\"1\" class=\"dataframe\">\n",
       "  <thead>\n",
       "    <tr style=\"text-align: right;\">\n",
       "      <th></th>\n",
       "      <th>unique_users</th>\n",
       "    </tr>\n",
       "  </thead>\n",
       "  <tbody>\n",
       "    <tr>\n",
       "      <th>0</th>\n",
       "      <td>2586788</td>\n",
       "    </tr>\n",
       "  </tbody>\n",
       "</table>\n",
       "</div>"
      ],
      "text/plain": [
       "   unique_users\n",
       "0       2586788"
      ]
     },
     "execution_count": 9,
     "metadata": {},
     "output_type": "execute_result"
    }
   ],
   "source": [
    "# Choosing to use dataset with even number of users. \n",
    "# Event-level data so massive dataset with 42 million rows. \n",
    "# Let us explore the data a bit more to see right now how much it can be used for interview q's as well as for practical app of article\n",
    "\n",
    "query = \"\"\"\n",
    "select count(distinct user_id) as unique_users\n",
    "from cb_sample\n",
    "\"\"\"\n",
    "\n",
    "duckdb.query(query).df()"
   ]
  },
  {
   "cell_type": "code",
   "execution_count": 10,
   "id": "3ebf5be8",
   "metadata": {
    "execution": {
     "iopub.execute_input": "2024-02-28T00:02:05.324098Z",
     "iopub.status.busy": "2024-02-28T00:02:05.323699Z",
     "iopub.status.idle": "2024-02-28T00:02:05.782380Z",
     "shell.execute_reply": "2024-02-28T00:02:05.781140Z"
    },
    "papermill": {
     "duration": 0.468269,
     "end_time": "2024-02-28T00:02:05.784784",
     "exception": false,
     "start_time": "2024-02-28T00:02:05.316515",
     "status": "completed"
    },
    "tags": []
   },
   "outputs": [
    {
     "data": {
      "text/html": [
       "<div>\n",
       "<style scoped>\n",
       "    .dataframe tbody tr th:only-of-type {\n",
       "        vertical-align: middle;\n",
       "    }\n",
       "\n",
       "    .dataframe tbody tr th {\n",
       "        vertical-align: top;\n",
       "    }\n",
       "\n",
       "    .dataframe thead th {\n",
       "        text-align: right;\n",
       "    }\n",
       "</style>\n",
       "<table border=\"1\" class=\"dataframe\">\n",
       "  <thead>\n",
       "    <tr style=\"text-align: right;\">\n",
       "      <th></th>\n",
       "      <th>event_type</th>\n",
       "      <th>total</th>\n",
       "    </tr>\n",
       "  </thead>\n",
       "  <tbody>\n",
       "    <tr>\n",
       "      <th>0</th>\n",
       "      <td>view</td>\n",
       "      <td>22021078</td>\n",
       "    </tr>\n",
       "    <tr>\n",
       "      <th>1</th>\n",
       "      <td>cart</td>\n",
       "      <td>499728</td>\n",
       "    </tr>\n",
       "    <tr>\n",
       "      <th>2</th>\n",
       "      <td>purchase</td>\n",
       "      <td>401527</td>\n",
       "    </tr>\n",
       "  </tbody>\n",
       "</table>\n",
       "</div>"
      ],
      "text/plain": [
       "  event_type     total\n",
       "0       view  22021078\n",
       "1       cart    499728\n",
       "2   purchase    401527"
      ]
     },
     "execution_count": 10,
     "metadata": {},
     "output_type": "execute_result"
    }
   ],
   "source": [
    "query = \"\"\"\n",
    "select event_type\n",
    ", count(*) as total\n",
    "from cb_sample\n",
    "group by 1\n",
    "order by 2 desc\n",
    "\"\"\"\n",
    "\n",
    "duckdb.query(query).df() # Typical funnel (inverted triangle)"
   ]
  },
  {
   "cell_type": "code",
   "execution_count": 11,
   "id": "c63d40e2",
   "metadata": {
    "execution": {
     "iopub.execute_input": "2024-02-28T00:02:05.799204Z",
     "iopub.status.busy": "2024-02-28T00:02:05.798811Z",
     "iopub.status.idle": "2024-02-28T00:02:07.307784Z",
     "shell.execute_reply": "2024-02-28T00:02:07.306321Z"
    },
    "papermill": {
     "duration": 1.519209,
     "end_time": "2024-02-28T00:02:07.310442",
     "exception": false,
     "start_time": "2024-02-28T00:02:05.791233",
     "status": "completed"
    },
    "tags": []
   },
   "outputs": [
    {
     "data": {
      "text/plain": [
       "2586788"
      ]
     },
     "execution_count": 11,
     "metadata": {},
     "output_type": "execute_result"
    }
   ],
   "source": [
    "# Need to create user table with experient group assignment. Then join this to event table\n",
    "\n",
    "query = \"\"\"\n",
    "select distinct user_id\n",
    "from cb_sample\n",
    "\"\"\"\n",
    "\n",
    "users = duckdb.query(query).df()\n",
    "len(users)"
   ]
  },
  {
   "cell_type": "code",
   "execution_count": 12,
   "id": "66410474",
   "metadata": {
    "execution": {
     "iopub.execute_input": "2024-02-28T00:02:07.324529Z",
     "iopub.status.busy": "2024-02-28T00:02:07.324155Z",
     "iopub.status.idle": "2024-02-28T00:02:07.795020Z",
     "shell.execute_reply": "2024-02-28T00:02:07.793517Z"
    },
    "papermill": {
     "duration": 0.480876,
     "end_time": "2024-02-28T00:02:07.797648",
     "exception": false,
     "start_time": "2024-02-28T00:02:07.316772",
     "status": "completed"
    },
    "tags": []
   },
   "outputs": [],
   "source": [
    "# Create list of even amont of ctl and test labels, randomize the labels and append to users table\n",
    "\n",
    "half_length = len(users) // 2\n",
    "experiment_group = ['control'] * half_length + ['test'] * half_length\n",
    "np.random.shuffle(experiment_group)\n",
    "users['experiment_group'] = experiment_group"
   ]
  },
  {
   "cell_type": "code",
   "execution_count": 13,
   "id": "8f23c709",
   "metadata": {
    "execution": {
     "iopub.execute_input": "2024-02-28T00:02:07.812077Z",
     "iopub.status.busy": "2024-02-28T00:02:07.811689Z",
     "iopub.status.idle": "2024-02-28T00:02:07.871289Z",
     "shell.execute_reply": "2024-02-28T00:02:07.870029Z"
    },
    "papermill": {
     "duration": 0.069747,
     "end_time": "2024-02-28T00:02:07.873750",
     "exception": false,
     "start_time": "2024-02-28T00:02:07.804003",
     "status": "completed"
    },
    "tags": []
   },
   "outputs": [
    {
     "data": {
      "text/html": [
       "<div>\n",
       "<style scoped>\n",
       "    .dataframe tbody tr th:only-of-type {\n",
       "        vertical-align: middle;\n",
       "    }\n",
       "\n",
       "    .dataframe tbody tr th {\n",
       "        vertical-align: top;\n",
       "    }\n",
       "\n",
       "    .dataframe thead th {\n",
       "        text-align: right;\n",
       "    }\n",
       "</style>\n",
       "<table border=\"1\" class=\"dataframe\">\n",
       "  <thead>\n",
       "    <tr style=\"text-align: right;\">\n",
       "      <th></th>\n",
       "      <th>experiment_group</th>\n",
       "      <th>count</th>\n",
       "    </tr>\n",
       "  </thead>\n",
       "  <tbody>\n",
       "    <tr>\n",
       "      <th>0</th>\n",
       "      <td>test</td>\n",
       "      <td>1293394</td>\n",
       "    </tr>\n",
       "    <tr>\n",
       "      <th>1</th>\n",
       "      <td>control</td>\n",
       "      <td>1293394</td>\n",
       "    </tr>\n",
       "  </tbody>\n",
       "</table>\n",
       "</div>"
      ],
      "text/plain": [
       "  experiment_group    count\n",
       "0             test  1293394\n",
       "1          control  1293394"
      ]
     },
     "execution_count": 13,
     "metadata": {},
     "output_type": "execute_result"
    }
   ],
   "source": [
    "query = \"\"\"\n",
    "select experiment_group\n",
    ", count(*) as count\n",
    "from users\n",
    "group by 1\n",
    "\"\"\"\n",
    "\n",
    "duckdb.query(query).df()"
   ]
  },
  {
   "cell_type": "code",
   "execution_count": 14,
   "id": "424d387f",
   "metadata": {
    "execution": {
     "iopub.execute_input": "2024-02-28T00:02:07.888871Z",
     "iopub.status.busy": "2024-02-28T00:02:07.887971Z",
     "iopub.status.idle": "2024-02-28T00:02:07.898968Z",
     "shell.execute_reply": "2024-02-28T00:02:07.897788Z"
    },
    "papermill": {
     "duration": 0.021143,
     "end_time": "2024-02-28T00:02:07.901379",
     "exception": false,
     "start_time": "2024-02-28T00:02:07.880236",
     "status": "completed"
    },
    "tags": []
   },
   "outputs": [
    {
     "data": {
      "text/html": [
       "<div>\n",
       "<style scoped>\n",
       "    .dataframe tbody tr th:only-of-type {\n",
       "        vertical-align: middle;\n",
       "    }\n",
       "\n",
       "    .dataframe tbody tr th {\n",
       "        vertical-align: top;\n",
       "    }\n",
       "\n",
       "    .dataframe thead th {\n",
       "        text-align: right;\n",
       "    }\n",
       "</style>\n",
       "<table border=\"1\" class=\"dataframe\">\n",
       "  <thead>\n",
       "    <tr style=\"text-align: right;\">\n",
       "      <th></th>\n",
       "      <th>user_id</th>\n",
       "      <th>experiment_group</th>\n",
       "    </tr>\n",
       "  </thead>\n",
       "  <tbody>\n",
       "    <tr>\n",
       "      <th>0</th>\n",
       "      <td>561504334</td>\n",
       "      <td>test</td>\n",
       "    </tr>\n",
       "    <tr>\n",
       "      <th>1</th>\n",
       "      <td>542079403</td>\n",
       "      <td>test</td>\n",
       "    </tr>\n",
       "    <tr>\n",
       "      <th>2</th>\n",
       "      <td>549689971</td>\n",
       "      <td>control</td>\n",
       "    </tr>\n",
       "    <tr>\n",
       "      <th>3</th>\n",
       "      <td>526027947</td>\n",
       "      <td>test</td>\n",
       "    </tr>\n",
       "    <tr>\n",
       "      <th>4</th>\n",
       "      <td>553669216</td>\n",
       "      <td>test</td>\n",
       "    </tr>\n",
       "  </tbody>\n",
       "</table>\n",
       "</div>"
      ],
      "text/plain": [
       "     user_id experiment_group\n",
       "0  561504334             test\n",
       "1  542079403             test\n",
       "2  549689971          control\n",
       "3  526027947             test\n",
       "4  553669216             test"
      ]
     },
     "execution_count": 14,
     "metadata": {},
     "output_type": "execute_result"
    }
   ],
   "source": [
    "users.head()"
   ]
  },
  {
   "cell_type": "code",
   "execution_count": 15,
   "id": "9810d2f9",
   "metadata": {
    "execution": {
     "iopub.execute_input": "2024-02-28T00:02:07.916888Z",
     "iopub.status.busy": "2024-02-28T00:02:07.916103Z",
     "iopub.status.idle": "2024-02-28T00:02:43.891652Z",
     "shell.execute_reply": "2024-02-28T00:02:43.890269Z"
    },
    "papermill": {
     "duration": 35.992685,
     "end_time": "2024-02-28T00:02:43.900893",
     "exception": false,
     "start_time": "2024-02-28T00:02:07.908208",
     "status": "completed"
    },
    "tags": []
   },
   "outputs": [
    {
     "data": {
      "application/vnd.jupyter.widget-view+json": {
       "model_id": "f6d815e994cd4eaa8919def841d896b4",
       "version_major": 2,
       "version_minor": 0
      },
      "text/plain": [
       "FloatProgress(value=0.0, layout=Layout(width='auto'), style=ProgressStyle(bar_color='black'))"
      ]
     },
     "metadata": {},
     "output_type": "display_data"
    },
    {
     "data": {
      "text/plain": [
       "True"
      ]
     },
     "execution_count": 15,
     "metadata": {},
     "output_type": "execute_result"
    }
   ],
   "source": [
    "# join users table to event table\n",
    "query = \"\"\"\n",
    "select *\n",
    "from users u\n",
    "join cb_sample scb\n",
    "on u.user_id = scb.user_id\n",
    "\"\"\"\n",
    "\n",
    "df = duckdb.query(query).df()\n",
    "len(df) == len(cb_sample)"
   ]
  },
  {
   "cell_type": "code",
   "execution_count": 16,
   "id": "cc687b8c",
   "metadata": {
    "execution": {
     "iopub.execute_input": "2024-02-28T00:02:43.916491Z",
     "iopub.status.busy": "2024-02-28T00:02:43.916081Z",
     "iopub.status.idle": "2024-02-28T00:02:46.709029Z",
     "shell.execute_reply": "2024-02-28T00:02:46.707900Z"
    },
    "papermill": {
     "duration": 2.803549,
     "end_time": "2024-02-28T00:02:46.711369",
     "exception": false,
     "start_time": "2024-02-28T00:02:43.907820",
     "status": "completed"
    },
    "tags": []
   },
   "outputs": [
    {
     "data": {
      "application/vnd.jupyter.widget-view+json": {
       "model_id": "68ed0bb446bb4e9fa646ece9a9de5051",
       "version_major": 2,
       "version_minor": 0
      },
      "text/plain": [
       "FloatProgress(value=0.0, layout=Layout(width='auto'), style=ProgressStyle(bar_color='black'))"
      ]
     },
     "metadata": {},
     "output_type": "display_data"
    },
    {
     "data": {
      "text/html": [
       "<div>\n",
       "<style scoped>\n",
       "    .dataframe tbody tr th:only-of-type {\n",
       "        vertical-align: middle;\n",
       "    }\n",
       "\n",
       "    .dataframe tbody tr th {\n",
       "        vertical-align: top;\n",
       "    }\n",
       "\n",
       "    .dataframe thead th {\n",
       "        text-align: right;\n",
       "    }\n",
       "</style>\n",
       "<table border=\"1\" class=\"dataframe\">\n",
       "  <thead>\n",
       "    <tr style=\"text-align: right;\">\n",
       "      <th></th>\n",
       "      <th>experiment_group</th>\n",
       "      <th>views_per_user</th>\n",
       "      <th>carts_per_user</th>\n",
       "      <th>purchases_per_user</th>\n",
       "    </tr>\n",
       "  </thead>\n",
       "  <tbody>\n",
       "    <tr>\n",
       "      <th>0</th>\n",
       "      <td>control</td>\n",
       "      <td>8.512728</td>\n",
       "      <td>0.193189</td>\n",
       "      <td>0.153842</td>\n",
       "    </tr>\n",
       "    <tr>\n",
       "      <th>1</th>\n",
       "      <td>test</td>\n",
       "      <td>8.513080</td>\n",
       "      <td>0.193181</td>\n",
       "      <td>0.156603</td>\n",
       "    </tr>\n",
       "  </tbody>\n",
       "</table>\n",
       "</div>"
      ],
      "text/plain": [
       "  experiment_group  views_per_user  carts_per_user  purchases_per_user\n",
       "0          control        8.512728        0.193189            0.153842\n",
       "1             test        8.513080        0.193181            0.156603"
      ]
     },
     "execution_count": 16,
     "metadata": {},
     "output_type": "execute_result"
    }
   ],
   "source": [
    "# Now let us aggregate data at randomization unit to build CI interval\n",
    "# Simulating real biz A/B test data\n",
    "\n",
    "# Calculate avg views/carts/purchase per user for each experiment group\n",
    "query = \"\"\"\n",
    "select experiment_group\n",
    ", sum(case when event_type = 'view' then 1 else 0 end)/count(distinct user_id) as views_per_user\n",
    ", sum(case when event_type = 'cart' then 1 else 0 end)/count(distinct user_id) as carts_per_user\n",
    ", sum(case when event_type = 'purchase' then 1 else 0 end)/count(distinct user_id) as purchases_per_user\n",
    "from df\n",
    "group by 1\n",
    "\"\"\"\n",
    "\n",
    "user_avg_metric = duckdb.query(query).df()\n",
    "user_avg_metric"
   ]
  },
  {
   "cell_type": "code",
   "execution_count": 17,
   "id": "3e803add",
   "metadata": {
    "execution": {
     "iopub.execute_input": "2024-02-28T00:02:46.728647Z",
     "iopub.status.busy": "2024-02-28T00:02:46.727938Z",
     "iopub.status.idle": "2024-02-28T00:02:46.732455Z",
     "shell.execute_reply": "2024-02-28T00:02:46.731689Z"
    },
    "papermill": {
     "duration": 0.015547,
     "end_time": "2024-02-28T00:02:46.734575",
     "exception": false,
     "start_time": "2024-02-28T00:02:46.719028",
     "status": "completed"
    },
    "tags": []
   },
   "outputs": [],
   "source": [
    "#Does this make sense?"
   ]
  }
 ],
 "metadata": {
  "kaggle": {
   "accelerator": "none",
   "dataSources": [
    {
     "datasetId": 411512,
     "sourceId": 835452,
     "sourceType": "datasetVersion"
    }
   ],
   "dockerImageVersionId": 30664,
   "isGpuEnabled": false,
   "isInternetEnabled": true,
   "language": "python",
   "sourceType": "notebook"
  },
  "kernelspec": {
   "display_name": "Python 3",
   "language": "python",
   "name": "python3"
  },
  "language_info": {
   "codemirror_mode": {
    "name": "ipython",
    "version": 3
   },
   "file_extension": ".py",
   "mimetype": "text/x-python",
   "name": "python",
   "nbconvert_exporter": "python",
   "pygments_lexer": "ipython3",
   "version": "3.10.13"
  },
  "papermill": {
   "default_parameters": {},
   "duration": 260.233697,
   "end_time": "2024-02-28T00:02:50.092031",
   "environment_variables": {},
   "exception": null,
   "input_path": "__notebook__.ipynb",
   "output_path": "__notebook__.ipynb",
   "parameters": {},
   "start_time": "2024-02-27T23:58:29.858334",
   "version": "2.5.0"
  },
  "widgets": {
   "application/vnd.jupyter.widget-state+json": {
    "state": {
     "2bf6d1f6152a4b688cf9b127bdaf18a5": {
      "model_module": "@jupyter-widgets/base",
      "model_module_version": "1.2.0",
      "model_name": "LayoutModel",
      "state": {
       "_model_module": "@jupyter-widgets/base",
       "_model_module_version": "1.2.0",
       "_model_name": "LayoutModel",
       "_view_count": null,
       "_view_module": "@jupyter-widgets/base",
       "_view_module_version": "1.2.0",
       "_view_name": "LayoutView",
       "align_content": null,
       "align_items": null,
       "align_self": null,
       "border": null,
       "bottom": null,
       "display": null,
       "flex": null,
       "flex_flow": null,
       "grid_area": null,
       "grid_auto_columns": null,
       "grid_auto_flow": null,
       "grid_auto_rows": null,
       "grid_column": null,
       "grid_gap": null,
       "grid_row": null,
       "grid_template_areas": null,
       "grid_template_columns": null,
       "grid_template_rows": null,
       "height": null,
       "justify_content": null,
       "justify_items": null,
       "left": null,
       "margin": null,
       "max_height": null,
       "max_width": null,
       "min_height": null,
       "min_width": null,
       "object_fit": null,
       "object_position": null,
       "order": null,
       "overflow": null,
       "overflow_x": null,
       "overflow_y": null,
       "padding": null,
       "right": null,
       "top": null,
       "visibility": null,
       "width": "auto"
      }
     },
     "5895f37024884647a11e06f2a7b2a600": {
      "model_module": "@jupyter-widgets/controls",
      "model_module_version": "1.5.0",
      "model_name": "ProgressStyleModel",
      "state": {
       "_model_module": "@jupyter-widgets/controls",
       "_model_module_version": "1.5.0",
       "_model_name": "ProgressStyleModel",
       "_view_count": null,
       "_view_module": "@jupyter-widgets/base",
       "_view_module_version": "1.2.0",
       "_view_name": "StyleView",
       "bar_color": "black",
       "description_width": ""
      }
     },
     "68ed0bb446bb4e9fa646ece9a9de5051": {
      "model_module": "@jupyter-widgets/controls",
      "model_module_version": "1.5.0",
      "model_name": "FloatProgressModel",
      "state": {
       "_dom_classes": [],
       "_model_module": "@jupyter-widgets/controls",
       "_model_module_version": "1.5.0",
       "_model_name": "FloatProgressModel",
       "_view_count": null,
       "_view_module": "@jupyter-widgets/controls",
       "_view_module_version": "1.5.0",
       "_view_name": "ProgressView",
       "bar_style": "",
       "description": "",
       "description_tooltip": null,
       "layout": "IPY_MODEL_d108b530984145ae83355136bb74ee37",
       "max": 100.0,
       "min": 0.0,
       "orientation": "horizontal",
       "style": "IPY_MODEL_c9d10b5754df4edbb71c054ceae7604d",
       "value": 100.0
      }
     },
     "c9d10b5754df4edbb71c054ceae7604d": {
      "model_module": "@jupyter-widgets/controls",
      "model_module_version": "1.5.0",
      "model_name": "ProgressStyleModel",
      "state": {
       "_model_module": "@jupyter-widgets/controls",
       "_model_module_version": "1.5.0",
       "_model_name": "ProgressStyleModel",
       "_view_count": null,
       "_view_module": "@jupyter-widgets/base",
       "_view_module_version": "1.2.0",
       "_view_name": "StyleView",
       "bar_color": "black",
       "description_width": ""
      }
     },
     "d108b530984145ae83355136bb74ee37": {
      "model_module": "@jupyter-widgets/base",
      "model_module_version": "1.2.0",
      "model_name": "LayoutModel",
      "state": {
       "_model_module": "@jupyter-widgets/base",
       "_model_module_version": "1.2.0",
       "_model_name": "LayoutModel",
       "_view_count": null,
       "_view_module": "@jupyter-widgets/base",
       "_view_module_version": "1.2.0",
       "_view_name": "LayoutView",
       "align_content": null,
       "align_items": null,
       "align_self": null,
       "border": null,
       "bottom": null,
       "display": null,
       "flex": null,
       "flex_flow": null,
       "grid_area": null,
       "grid_auto_columns": null,
       "grid_auto_flow": null,
       "grid_auto_rows": null,
       "grid_column": null,
       "grid_gap": null,
       "grid_row": null,
       "grid_template_areas": null,
       "grid_template_columns": null,
       "grid_template_rows": null,
       "height": null,
       "justify_content": null,
       "justify_items": null,
       "left": null,
       "margin": null,
       "max_height": null,
       "max_width": null,
       "min_height": null,
       "min_width": null,
       "object_fit": null,
       "object_position": null,
       "order": null,
       "overflow": null,
       "overflow_x": null,
       "overflow_y": null,
       "padding": null,
       "right": null,
       "top": null,
       "visibility": null,
       "width": "auto"
      }
     },
     "f6d815e994cd4eaa8919def841d896b4": {
      "model_module": "@jupyter-widgets/controls",
      "model_module_version": "1.5.0",
      "model_name": "FloatProgressModel",
      "state": {
       "_dom_classes": [],
       "_model_module": "@jupyter-widgets/controls",
       "_model_module_version": "1.5.0",
       "_model_name": "FloatProgressModel",
       "_view_count": null,
       "_view_module": "@jupyter-widgets/controls",
       "_view_module_version": "1.5.0",
       "_view_name": "ProgressView",
       "bar_style": "",
       "description": "",
       "description_tooltip": null,
       "layout": "IPY_MODEL_2bf6d1f6152a4b688cf9b127bdaf18a5",
       "max": 100.0,
       "min": 0.0,
       "orientation": "horizontal",
       "style": "IPY_MODEL_5895f37024884647a11e06f2a7b2a600",
       "value": 100.0
      }
     }
    },
    "version_major": 2,
    "version_minor": 0
   }
  }
 },
 "nbformat": 4,
 "nbformat_minor": 5
}
