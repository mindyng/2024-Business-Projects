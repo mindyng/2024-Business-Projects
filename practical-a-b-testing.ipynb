{
 "cells": [
  {
   "cell_type": "markdown",
   "id": "c9c26985",
   "metadata": {
    "_cell_guid": "b1076dfc-b9ad-4769-8c92-a6c4dae69d19",
    "_uuid": "8f2839f25d086af736a60e9eeb907d3b93b6e0e5",
    "papermill": {
     "duration": 0.012856,
     "end_time": "2024-03-09T02:39:10.911030",
     "exception": false,
     "start_time": "2024-03-09T02:39:10.898174",
     "status": "completed"
    },
    "tags": []
   },
   "source": [
    "# Objective: \n",
    "\n",
    "Experimentation is key to innovation at big tech companies. And to measure its success, there needs to be statistical rigor and not just lift in the test group.\n",
    "\n",
    "After helping to build out v0 experimentation framework at Mercari, I wanted to dig deeper into A/B testing advancements when it comes to more rigorous and modern techniques. \n",
    "\n",
    "This notebook serves as a Python code application of this [Towards Data Science article](https://towardsdatascience.com/how-to-select-the-right-statistical-tests-for-different-a-b-metrics-c8a1865851e) about how experimentation was done at TikTok as well as answers to [interview questions](https://prepfully.com/interview-questions/stitch-fix/data-scientist?page=3) from Stitch Fix's Data Scientist team."
   ]
  },
  {
   "cell_type": "code",
   "execution_count": 1,
   "id": "6731e856",
   "metadata": {
    "execution": {
     "iopub.execute_input": "2024-03-09T02:39:10.938320Z",
     "iopub.status.busy": "2024-03-09T02:39:10.937945Z",
     "iopub.status.idle": "2024-03-09T02:39:26.249947Z",
     "shell.execute_reply": "2024-03-09T02:39:26.248644Z"
    },
    "papermill": {
     "duration": 15.328746,
     "end_time": "2024-03-09T02:39:26.252500",
     "exception": false,
     "start_time": "2024-03-09T02:39:10.923754",
     "status": "completed"
    },
    "tags": []
   },
   "outputs": [],
   "source": [
    "!pip install duckdb jupysql --quiet #dask-expr"
   ]
  },
  {
   "cell_type": "code",
   "execution_count": 2,
   "id": "04ae7d38",
   "metadata": {
    "execution": {
     "iopub.execute_input": "2024-03-09T02:39:26.280873Z",
     "iopub.status.busy": "2024-03-09T02:39:26.280525Z",
     "iopub.status.idle": "2024-03-09T02:39:29.799115Z",
     "shell.execute_reply": "2024-03-09T02:39:29.796807Z"
    },
    "papermill": {
     "duration": 3.536271,
     "end_time": "2024-03-09T02:39:29.801864",
     "exception": false,
     "start_time": "2024-03-09T02:39:26.265593",
     "status": "completed"
    },
    "tags": []
   },
   "outputs": [
    {
     "name": "stdout",
     "output_type": "stream",
     "text": [
      "Deploy Dash apps for free on Ploomber Cloud! Learn more: https://ploomber.io/s/signup\n"
     ]
    }
   ],
   "source": [
    "# Data Maniupulation\n",
    "\n",
    "# import dask\n",
    "# dask.config.set({'dataframe.query-planning': True})\n",
    "# import dask.dataframe as dd\n",
    "\n",
    "import duckdb\n",
    "%load_ext sql\n",
    "conn = duckdb.connect()\n",
    "%sql conn --alias duckdb \n",
    "# import dask\n",
    "# dask.config.set({'dataframe.query-planning': True})\n",
    "# import dask.dataframe as dd\n",
    "\n",
    "import numpy as np\n",
    "import pandas as pd\n",
    "\n",
    "# Statistics\n",
    "from scipy import stats\n",
    "import scipy.stats\n",
    "\n",
    "# Test for Normality\n",
    "from scipy.stats import shapiro\n",
    "\n",
    "# Statistical Test\n",
    "from scipy.stats import mannwhitneyu\n",
    "\n",
    "# Visualizations\n",
    "import matplotlib.pyplot as plt\n",
    "import seaborn as sns"
   ]
  },
  {
   "cell_type": "markdown",
   "id": "843e0dbb",
   "metadata": {
    "papermill": {
     "duration": 0.013701,
     "end_time": "2024-03-09T02:39:29.830081",
     "exception": false,
     "start_time": "2024-03-09T02:39:29.816380",
     "status": "completed"
    },
    "tags": []
   },
   "source": [
    "# What is the Python code for calculating the confidence intervals for a mean?"
   ]
  },
  {
   "cell_type": "code",
   "execution_count": 3,
   "id": "83d8537b",
   "metadata": {
    "execution": {
     "iopub.execute_input": "2024-03-09T02:39:29.859458Z",
     "iopub.status.busy": "2024-03-09T02:39:29.858986Z",
     "iopub.status.idle": "2024-03-09T02:39:29.871616Z",
     "shell.execute_reply": "2024-03-09T02:39:29.869294Z"
    },
    "papermill": {
     "duration": 0.030643,
     "end_time": "2024-03-09T02:39:29.874121",
     "exception": false,
     "start_time": "2024-03-09T02:39:29.843478",
     "status": "completed"
    },
    "tags": []
   },
   "outputs": [
    {
     "name": "stdout",
     "output_type": "stream",
     "text": [
      "Sample Mean: 5.163712884369496\n",
      "Standard Error of the Mean (SEM): 0.1967924946371021\n",
      "Confidence Interval (95.0%): (4.773233880580877, 5.554191888158115)\n"
     ]
    }
   ],
   "source": [
    "#ChatGPT 3.5\n",
    "\n",
    "# Generate some sample datanp.random.seed(42)  # For reproducibility\n",
    "data = np.random.normal(loc=5, scale=2, size=100)  # Sample data with mean 5 and standard deviation 2\n",
    "\n",
    "# Calculate mean and standard error of the mean (SEM)\n",
    "mean = np.mean(data)\n",
    "sem = stats.sem(data)\n",
    "\n",
    "# Define confidence level (e.g., 95%)\n",
    "confidence_level = 0.95\n",
    "\n",
    "# Calculate margin of error\n",
    "margin_of_error = sem * stats.t.ppf((1 + confidence_level) / 2, len(data) - 1)\n",
    "\n",
    "# Calculate confidence interval\n",
    "confidence_interval = (mean - margin_of_error, mean + margin_of_error)\n",
    "\n",
    "print(\"Sample Mean:\", mean)\n",
    "print(\"Standard Error of the Mean (SEM):\", sem)\n",
    "print(f\"Confidence Interval ({confidence_level * 100}%):\", confidence_interval)\n"
   ]
  },
  {
   "cell_type": "code",
   "execution_count": 4,
   "id": "233f91b2",
   "metadata": {
    "execution": {
     "iopub.execute_input": "2024-03-09T02:39:29.902591Z",
     "iopub.status.busy": "2024-03-09T02:39:29.902224Z",
     "iopub.status.idle": "2024-03-09T02:39:29.910698Z",
     "shell.execute_reply": "2024-03-09T02:39:29.908988Z"
    },
    "papermill": {
     "duration": 0.025947,
     "end_time": "2024-03-09T02:39:29.913548",
     "exception": false,
     "start_time": "2024-03-09T02:39:29.887601",
     "status": "completed"
    },
    "tags": []
   },
   "outputs": [
    {
     "name": "stdout",
     "output_type": "stream",
     "text": [
      "The confidence interval is: (3.3341494103866087, 7.665850589613392)\n"
     ]
    }
   ],
   "source": [
    "#ChatGPT 4.0 Turbo:\n",
    "\n",
    "# Let's assume you have some data in a Python list\n",
    "data = [1, 2, 3, 4, 5, 6, 7, 8, 9, 10]\n",
    "\n",
    "# Calculate the mean and standard error\n",
    "mean = np.mean(data)\n",
    "standard_error = scipy.stats.sem(data)\n",
    "\n",
    "# Define the confidence level to be 95%\n",
    "confidence_level = 0.95\n",
    "\n",
    "# Calculate the confidence interval\n",
    "confidence_interval = scipy.stats.t.interval(confidence_level, len(data)-1, loc=mean, scale=standard_error)\n",
    "\n",
    "print(f\"The confidence interval is: {confidence_interval}\")"
   ]
  },
  {
   "cell_type": "code",
   "execution_count": 5,
   "id": "efae3f11",
   "metadata": {
    "execution": {
     "iopub.execute_input": "2024-03-09T02:39:29.942566Z",
     "iopub.status.busy": "2024-03-09T02:39:29.942202Z",
     "iopub.status.idle": "2024-03-09T02:39:30.122074Z",
     "shell.execute_reply": "2024-03-09T02:39:30.121135Z"
    },
    "papermill": {
     "duration": 0.197626,
     "end_time": "2024-03-09T02:39:30.124503",
     "exception": false,
     "start_time": "2024-03-09T02:39:29.926877",
     "status": "completed"
    },
    "tags": []
   },
   "outputs": [
    {
     "data": {
      "image/png": "[encoded data removed]",
      "text/plain": [
       "<Figure size 640x480 with 1 Axes>"
      ]
     },
     "metadata": {},
     "output_type": "display_data"
    }
   ],
   "source": [
    "# Plot the CI intervals\n",
    "\n",
    "# Create a figure and a subplot\n",
    "fig, ax = plt.subplots()\n",
    "\n",
    "# Plot the mean as a red line\n",
    "ax.axhline(mean, color='red')\n",
    "\n",
    "# Plot the confidence interval as a blue band\n",
    "ax.fill_between(range(len(data)), confidence_interval[0], confidence_interval[1], color='blue', alpha=0.2)\n",
    "\n",
    "# Plot the data points\n",
    "ax.plot(data, 'ko')\n",
    "\n",
    "# Show the plot\n",
    "plt.show()"
   ]
  },
  {
   "cell_type": "code",
   "execution_count": 6,
   "id": "ac590c79",
   "metadata": {
    "execution": {
     "iopub.execute_input": "2024-03-09T02:39:30.154402Z",
     "iopub.status.busy": "2024-03-09T02:39:30.154037Z",
     "iopub.status.idle": "2024-03-09T02:39:30.157906Z",
     "shell.execute_reply": "2024-03-09T02:39:30.156964Z"
    },
    "papermill": {
     "duration": 0.020342,
     "end_time": "2024-03-09T02:39:30.159862",
     "exception": false,
     "start_time": "2024-03-09T02:39:30.139520",
     "status": "completed"
    },
    "tags": []
   },
   "outputs": [],
   "source": [
    "# Trying to use whole dataframe without it crashing\n",
    "# cust_behav = dd.read_csv('/kaggle/input/ecommerce-behavior-data-from-multi-category-store/2019-Oct.csv')"
   ]
  },
  {
   "cell_type": "code",
   "execution_count": 7,
   "id": "9c1efe5b",
   "metadata": {
    "execution": {
     "iopub.execute_input": "2024-03-09T02:39:30.188336Z",
     "iopub.status.busy": "2024-03-09T02:39:30.187929Z",
     "iopub.status.idle": "2024-03-09T02:39:30.192051Z",
     "shell.execute_reply": "2024-03-09T02:39:30.191107Z"
    },
    "papermill": {
     "duration": 0.021285,
     "end_time": "2024-03-09T02:39:30.194510",
     "exception": false,
     "start_time": "2024-03-09T02:39:30.173225",
     "status": "completed"
    },
    "tags": []
   },
   "outputs": [],
   "source": [
    "# Let us use some more realistic data from e-commerce store (which is what TikTok article referenced as well as similar to current Stitch Fix biz model - Freestyle)\n",
    "# cust_behav = pd.read_csv('/kaggle/input/ecommerce-behavior-data-from-multi-category-store/2019-Oct.csv')\n",
    "# cust_behav"
   ]
  },
  {
   "cell_type": "code",
   "execution_count": 8,
   "id": "e57c0cac",
   "metadata": {
    "execution": {
     "iopub.execute_input": "2024-03-09T02:39:30.223152Z",
     "iopub.status.busy": "2024-03-09T02:39:30.222831Z",
     "iopub.status.idle": "2024-03-09T02:39:30.228552Z",
     "shell.execute_reply": "2024-03-09T02:39:30.227312Z"
    },
    "papermill": {
     "duration": 0.022488,
     "end_time": "2024-03-09T02:39:30.230798",
     "exception": false,
     "start_time": "2024-03-09T02:39:30.208310",
     "status": "completed"
    },
    "tags": []
   },
   "outputs": [],
   "source": [
    "# cust_behav['event_type'].value_counts(normalize=True)"
   ]
  },
  {
   "cell_type": "code",
   "execution_count": 9,
   "id": "e1e33b97",
   "metadata": {
    "execution": {
     "iopub.execute_input": "2024-03-09T02:39:30.258446Z",
     "iopub.status.busy": "2024-03-09T02:39:30.258040Z",
     "iopub.status.idle": "2024-03-09T02:39:30.263076Z",
     "shell.execute_reply": "2024-03-09T02:39:30.262053Z"
    },
    "papermill": {
     "duration": 0.021055,
     "end_time": "2024-03-09T02:39:30.264896",
     "exception": false,
     "start_time": "2024-03-09T02:39:30.243841",
     "status": "completed"
    },
    "tags": []
   },
   "outputs": [],
   "source": [
    "# %%timeit\n",
    "\n",
    "# cust_behav2 = pd.read_csv('/kaggle/input/ecommerce-behavior-data-from-multi-category-store/2019-Nov.csv')\n",
    "# cust_behav2"
   ]
  },
  {
   "cell_type": "code",
   "execution_count": 10,
   "id": "8a5ba2c8",
   "metadata": {
    "execution": {
     "iopub.execute_input": "2024-03-09T02:39:30.292383Z",
     "iopub.status.busy": "2024-03-09T02:39:30.291998Z",
     "iopub.status.idle": "2024-03-09T02:39:30.297377Z",
     "shell.execute_reply": "2024-03-09T02:39:30.295956Z"
    },
    "papermill": {
     "duration": 0.021608,
     "end_time": "2024-03-09T02:39:30.299595",
     "exception": false,
     "start_time": "2024-03-09T02:39:30.277987",
     "status": "completed"
    },
    "tags": []
   },
   "outputs": [],
   "source": [
    "# Will reduce the dataset to 80% and see if notebook crashes\n",
    "# cb_sample = cust_behav.sample(frac=0.50)"
   ]
  },
  {
   "cell_type": "code",
   "execution_count": 11,
   "id": "1916e535",
   "metadata": {
    "execution": {
     "iopub.execute_input": "2024-03-09T02:39:30.326963Z",
     "iopub.status.busy": "2024-03-09T02:39:30.326608Z",
     "iopub.status.idle": "2024-03-09T02:40:43.622595Z",
     "shell.execute_reply": "2024-03-09T02:40:43.621738Z"
    },
    "papermill": {
     "duration": 73.324948,
     "end_time": "2024-03-09T02:40:43.637562",
     "exception": false,
     "start_time": "2024-03-09T02:39:30.312614",
     "status": "completed"
    },
    "tags": []
   },
   "outputs": [
    {
     "data": {
      "text/html": [
       "<div>\n",
       "<style scoped>\n",
       "    .dataframe tbody tr th:only-of-type {\n",
       "        vertical-align: middle;\n",
       "    }\n",
       "\n",
       "    .dataframe tbody tr th {\n",
       "        vertical-align: top;\n",
       "    }\n",
       "\n",
       "    .dataframe thead th {\n",
       "        text-align: right;\n",
       "    }\n",
       "</style>\n",
       "<table border=\"1\" class=\"dataframe\">\n",
       "  <thead>\n",
       "    <tr style=\"text-align: right;\">\n",
       "      <th></th>\n",
       "      <th>Unnamed: 0</th>\n",
       "      <th>event_time</th>\n",
       "      <th>event_type</th>\n",
       "      <th>product_id</th>\n",
       "      <th>category_id</th>\n",
       "      <th>category_code</th>\n",
       "      <th>brand</th>\n",
       "      <th>price</th>\n",
       "      <th>user_id</th>\n",
       "      <th>user_session</th>\n",
       "    </tr>\n",
       "  </thead>\n",
       "  <tbody>\n",
       "    <tr>\n",
       "      <th>0</th>\n",
       "      <td>40314660</td>\n",
       "      <td>2019-10-30 07:37:25 UTC</td>\n",
       "      <td>view</td>\n",
       "      <td>13901154</td>\n",
       "      <td>2053013557343158789</td>\n",
       "      <td>construction.components.faucet</td>\n",
       "      <td>genebre</td>\n",
       "      <td>127.96</td>\n",
       "      <td>527374947</td>\n",
       "      <td>1c147519-8b26-4aa0-bc78-b593fb16ae87</td>\n",
       "    </tr>\n",
       "    <tr>\n",
       "      <th>1</th>\n",
       "      <td>2338187</td>\n",
       "      <td>2019-10-02 18:32:55 UTC</td>\n",
       "      <td>view</td>\n",
       "      <td>4801946</td>\n",
       "      <td>2053013554658804075</td>\n",
       "      <td>electronics.audio.headphone</td>\n",
       "      <td>apple</td>\n",
       "      <td>25.45</td>\n",
       "      <td>525642970</td>\n",
       "      <td>7e7b0311-0a76-4888-b915-6c2a240b67bb</td>\n",
       "    </tr>\n",
       "    <tr>\n",
       "      <th>2</th>\n",
       "      <td>5052611</td>\n",
       "      <td>2019-10-05 03:05:49 UTC</td>\n",
       "      <td>view</td>\n",
       "      <td>2300244</td>\n",
       "      <td>2053013560530830019</td>\n",
       "      <td>electronics.camera.video</td>\n",
       "      <td>sjcam</td>\n",
       "      <td>213.56</td>\n",
       "      <td>554631275</td>\n",
       "      <td>7c3b8b60-d7fa-4c9c-87b0-6b2f753d8807</td>\n",
       "    </tr>\n",
       "    <tr>\n",
       "      <th>3</th>\n",
       "      <td>3182699</td>\n",
       "      <td>2019-10-03 15:11:16 UTC</td>\n",
       "      <td>view</td>\n",
       "      <td>4802587</td>\n",
       "      <td>2053013554658804075</td>\n",
       "      <td>electronics.audio.headphone</td>\n",
       "      <td>ergo</td>\n",
       "      <td>6.41</td>\n",
       "      <td>519968351</td>\n",
       "      <td>1629fd4b-1669-48e7-876b-ac3a9676d8d8</td>\n",
       "    </tr>\n",
       "    <tr>\n",
       "      <th>4</th>\n",
       "      <td>27866997</td>\n",
       "      <td>2019-10-21 02:28:29 UTC</td>\n",
       "      <td>view</td>\n",
       "      <td>1003304</td>\n",
       "      <td>2053013555631882655</td>\n",
       "      <td>electronics.smartphone</td>\n",
       "      <td>apple</td>\n",
       "      <td>577.66</td>\n",
       "      <td>519451311</td>\n",
       "      <td>4aa7ae59-de22-4411-aadf-d69ef2b11e82</td>\n",
       "    </tr>\n",
       "    <tr>\n",
       "      <th>...</th>\n",
       "      <td>...</td>\n",
       "      <td>...</td>\n",
       "      <td>...</td>\n",
       "      <td>...</td>\n",
       "      <td>...</td>\n",
       "      <td>...</td>\n",
       "      <td>...</td>\n",
       "      <td>...</td>\n",
       "      <td>...</td>\n",
       "      <td>...</td>\n",
       "    </tr>\n",
       "    <tr>\n",
       "      <th>21224377</th>\n",
       "      <td>21315512</td>\n",
       "      <td>2019-10-16 13:13:16 UTC</td>\n",
       "      <td>view</td>\n",
       "      <td>12703516</td>\n",
       "      <td>2053013553559896355</td>\n",
       "      <td>NaN</td>\n",
       "      <td>continental</td>\n",
       "      <td>157.53</td>\n",
       "      <td>521388327</td>\n",
       "      <td>ed112838-018a-47fb-9f48-687e6c0b99d4</td>\n",
       "    </tr>\n",
       "    <tr>\n",
       "      <th>21224378</th>\n",
       "      <td>14281888</td>\n",
       "      <td>2019-10-11 20:24:27 UTC</td>\n",
       "      <td>view</td>\n",
       "      <td>1004250</td>\n",
       "      <td>2053013555631882655</td>\n",
       "      <td>electronics.smartphone</td>\n",
       "      <td>apple</td>\n",
       "      <td>814.64</td>\n",
       "      <td>514341869</td>\n",
       "      <td>d50e86d9-8871-4562-ae97-332069f43a06</td>\n",
       "    </tr>\n",
       "    <tr>\n",
       "      <th>21224379</th>\n",
       "      <td>906055</td>\n",
       "      <td>2019-10-01 15:59:23 UTC</td>\n",
       "      <td>view</td>\n",
       "      <td>22800104</td>\n",
       "      <td>2053013560463721151</td>\n",
       "      <td>NaN</td>\n",
       "      <td>weifeng</td>\n",
       "      <td>16.73</td>\n",
       "      <td>544992104</td>\n",
       "      <td>a95ef75f-055a-4943-91d9-d50ad09941ef</td>\n",
       "    </tr>\n",
       "    <tr>\n",
       "      <th>21224380</th>\n",
       "      <td>11580434</td>\n",
       "      <td>2019-10-10 02:12:26 UTC</td>\n",
       "      <td>view</td>\n",
       "      <td>1004834</td>\n",
       "      <td>2053013555631882655</td>\n",
       "      <td>electronics.smartphone</td>\n",
       "      <td>samsung</td>\n",
       "      <td>170.92</td>\n",
       "      <td>545294859</td>\n",
       "      <td>fd44937e-b3d3-4d15-b441-4410c564eda0</td>\n",
       "    </tr>\n",
       "    <tr>\n",
       "      <th>21224381</th>\n",
       "      <td>10658781</td>\n",
       "      <td>2019-10-09 08:45:51 UTC</td>\n",
       "      <td>view</td>\n",
       "      <td>22700045</td>\n",
       "      <td>2053013556168753601</td>\n",
       "      <td>NaN</td>\n",
       "      <td>total</td>\n",
       "      <td>30.86</td>\n",
       "      <td>516330456</td>\n",
       "      <td>4a27a29d-abb0-48ca-86dc-0c748d69e581</td>\n",
       "    </tr>\n",
       "  </tbody>\n",
       "</table>\n",
       "<p>21224382 rows × 10 columns</p>\n",
       "</div>"
      ],
      "text/plain": [
       "          Unnamed: 0               event_time event_type  product_id  \\\n",
       "0           40314660  2019-10-30 07:37:25 UTC       view    13901154   \n",
       "1            2338187  2019-10-02 18:32:55 UTC       view     4801946   \n",
       "2            5052611  2019-10-05 03:05:49 UTC       view     2300244   \n",
       "3            3182699  2019-10-03 15:11:16 UTC       view     4802587   \n",
       "4           27866997  2019-10-21 02:28:29 UTC       view     1003304   \n",
       "...              ...                      ...        ...         ...   \n",
       "21224377    21315512  2019-10-16 13:13:16 UTC       view    12703516   \n",
       "21224378    14281888  2019-10-11 20:24:27 UTC       view     1004250   \n",
       "21224379      906055  2019-10-01 15:59:23 UTC       view    22800104   \n",
       "21224380    11580434  2019-10-10 02:12:26 UTC       view     1004834   \n",
       "21224381    10658781  2019-10-09 08:45:51 UTC       view    22700045   \n",
       "\n",
       "                  category_id                   category_code        brand  \\\n",
       "0         2053013557343158789  construction.components.faucet      genebre   \n",
       "1         2053013554658804075     electronics.audio.headphone        apple   \n",
       "2         2053013560530830019        electronics.camera.video        sjcam   \n",
       "3         2053013554658804075     electronics.audio.headphone         ergo   \n",
       "4         2053013555631882655          electronics.smartphone        apple   \n",
       "...                       ...                             ...          ...   \n",
       "21224377  2053013553559896355                             NaN  continental   \n",
       "21224378  2053013555631882655          electronics.smartphone        apple   \n",
       "21224379  2053013560463721151                             NaN      weifeng   \n",
       "21224380  2053013555631882655          electronics.smartphone      samsung   \n",
       "21224381  2053013556168753601                             NaN        total   \n",
       "\n",
       "           price    user_id                          user_session  \n",
       "0         127.96  527374947  1c147519-8b26-4aa0-bc78-b593fb16ae87  \n",
       "1          25.45  525642970  7e7b0311-0a76-4888-b915-6c2a240b67bb  \n",
       "2         213.56  554631275  7c3b8b60-d7fa-4c9c-87b0-6b2f753d8807  \n",
       "3           6.41  519968351  1629fd4b-1669-48e7-876b-ac3a9676d8d8  \n",
       "4         577.66  519451311  4aa7ae59-de22-4411-aadf-d69ef2b11e82  \n",
       "...          ...        ...                                   ...  \n",
       "21224377  157.53  521388327  ed112838-018a-47fb-9f48-687e6c0b99d4  \n",
       "21224378  814.64  514341869  d50e86d9-8871-4562-ae97-332069f43a06  \n",
       "21224379   16.73  544992104  a95ef75f-055a-4943-91d9-d50ad09941ef  \n",
       "21224380  170.92  545294859  fd44937e-b3d3-4d15-b441-4410c564eda0  \n",
       "21224381   30.86  516330456  4a27a29d-abb0-48ca-86dc-0c748d69e581  \n",
       "\n",
       "[21224382 rows x 10 columns]"
      ]
     },
     "execution_count": 11,
     "metadata": {},
     "output_type": "execute_result"
    }
   ],
   "source": [
    "# Saved sample set to make loading data faster\n",
    "cb_sample = pd.read_csv('/kaggle/input/e-commerce-event-data/cb_sample.csv')\n",
    "cb_sample"
   ]
  },
  {
   "cell_type": "code",
   "execution_count": 12,
   "id": "8a24e034",
   "metadata": {
    "execution": {
     "iopub.execute_input": "2024-03-09T02:40:43.665733Z",
     "iopub.status.busy": "2024-03-09T02:40:43.665165Z",
     "iopub.status.idle": "2024-03-09T02:40:44.604601Z",
     "shell.execute_reply": "2024-03-09T02:40:44.603309Z"
    },
    "papermill": {
     "duration": 0.958464,
     "end_time": "2024-03-09T02:40:44.609102",
     "exception": false,
     "start_time": "2024-03-09T02:40:43.650638",
     "status": "completed"
    },
    "tags": []
   },
   "outputs": [
    {
     "data": {
      "text/html": [
       "<div>\n",
       "<style scoped>\n",
       "    .dataframe tbody tr th:only-of-type {\n",
       "        vertical-align: middle;\n",
       "    }\n",
       "\n",
       "    .dataframe tbody tr th {\n",
       "        vertical-align: top;\n",
       "    }\n",
       "\n",
       "    .dataframe thead th {\n",
       "        text-align: right;\n",
       "    }\n",
       "</style>\n",
       "<table border=\"1\" class=\"dataframe\">\n",
       "  <thead>\n",
       "    <tr style=\"text-align: right;\">\n",
       "      <th></th>\n",
       "      <th>unique_users</th>\n",
       "    </tr>\n",
       "  </thead>\n",
       "  <tbody>\n",
       "    <tr>\n",
       "      <th>0</th>\n",
       "      <td>2531962</td>\n",
       "    </tr>\n",
       "  </tbody>\n",
       "</table>\n",
       "</div>"
      ],
      "text/plain": [
       "   unique_users\n",
       "0       2531962"
      ]
     },
     "execution_count": 12,
     "metadata": {},
     "output_type": "execute_result"
    }
   ],
   "source": [
    "# Choosing to use dataset with even number of users. \n",
    "# Event-level data so massive dataset with 42 million rows. \n",
    "# Let us explore the data a bit more to see right now how much it can be used for interview q's as well as for practical app of article\n",
    "\n",
    "query = \"\"\"\n",
    "select count(distinct user_id) as unique_users\n",
    "from cb_sample\n",
    "\"\"\"\n",
    "\n",
    "duckdb.query(query).df()"
   ]
  },
  {
   "cell_type": "code",
   "execution_count": 13,
   "id": "e8d5727f",
   "metadata": {
    "execution": {
     "iopub.execute_input": "2024-03-09T02:40:44.640733Z",
     "iopub.status.busy": "2024-03-09T02:40:44.640379Z",
     "iopub.status.idle": "2024-03-09T02:40:44.904196Z",
     "shell.execute_reply": "2024-03-09T02:40:44.903151Z"
    },
    "papermill": {
     "duration": 0.280716,
     "end_time": "2024-03-09T02:40:44.906114",
     "exception": false,
     "start_time": "2024-03-09T02:40:44.625398",
     "status": "completed"
    },
    "tags": []
   },
   "outputs": [
    {
     "data": {
      "text/html": [
       "<div>\n",
       "<style scoped>\n",
       "    .dataframe tbody tr th:only-of-type {\n",
       "        vertical-align: middle;\n",
       "    }\n",
       "\n",
       "    .dataframe tbody tr th {\n",
       "        vertical-align: top;\n",
       "    }\n",
       "\n",
       "    .dataframe thead th {\n",
       "        text-align: right;\n",
       "    }\n",
       "</style>\n",
       "<table border=\"1\" class=\"dataframe\">\n",
       "  <thead>\n",
       "    <tr style=\"text-align: right;\">\n",
       "      <th></th>\n",
       "      <th>event_type</th>\n",
       "      <th>total</th>\n",
       "    </tr>\n",
       "  </thead>\n",
       "  <tbody>\n",
       "    <tr>\n",
       "      <th>0</th>\n",
       "      <td>view</td>\n",
       "      <td>20389114</td>\n",
       "    </tr>\n",
       "    <tr>\n",
       "      <th>1</th>\n",
       "      <td>cart</td>\n",
       "      <td>463911</td>\n",
       "    </tr>\n",
       "    <tr>\n",
       "      <th>2</th>\n",
       "      <td>purchase</td>\n",
       "      <td>371357</td>\n",
       "    </tr>\n",
       "  </tbody>\n",
       "</table>\n",
       "</div>"
      ],
      "text/plain": [
       "  event_type     total\n",
       "0       view  20389114\n",
       "1       cart    463911\n",
       "2   purchase    371357"
      ]
     },
     "execution_count": 13,
     "metadata": {},
     "output_type": "execute_result"
    }
   ],
   "source": [
    "query = \"\"\"\n",
    "select event_type\n",
    ", count(*) as total\n",
    "from cb_sample\n",
    "group by 1\n",
    "order by 2 desc\n",
    "\"\"\"\n",
    "\n",
    "duckdb.query(query).df() # Typical funnel (inverted triangle)"
   ]
  },
  {
   "cell_type": "code",
   "execution_count": 14,
   "id": "7d797b72",
   "metadata": {
    "execution": {
     "iopub.execute_input": "2024-03-09T02:40:44.934598Z",
     "iopub.status.busy": "2024-03-09T02:40:44.934199Z",
     "iopub.status.idle": "2024-03-09T02:40:46.073684Z",
     "shell.execute_reply": "2024-03-09T02:40:46.072341Z"
    },
    "papermill": {
     "duration": 1.156305,
     "end_time": "2024-03-09T02:40:46.075964",
     "exception": false,
     "start_time": "2024-03-09T02:40:44.919659",
     "status": "completed"
    },
    "tags": []
   },
   "outputs": [
    {
     "data": {
      "text/plain": [
       "event_type\n",
       "view        0.960646\n",
       "cart        0.021857\n",
       "purchase    0.017497\n",
       "Name: proportion, dtype: float64"
      ]
     },
     "execution_count": 14,
     "metadata": {},
     "output_type": "execute_result"
    }
   ],
   "source": [
    "cb_sample['event_type'].value_counts(normalize=True) # Great. The proportion of events is same from sample to original dataset"
   ]
  },
  {
   "cell_type": "code",
   "execution_count": 15,
   "id": "281cda15",
   "metadata": {
    "execution": {
     "iopub.execute_input": "2024-03-09T02:40:46.116719Z",
     "iopub.status.busy": "2024-03-09T02:40:46.116221Z",
     "iopub.status.idle": "2024-03-09T02:40:48.014235Z",
     "shell.execute_reply": "2024-03-09T02:40:48.011790Z"
    },
    "papermill": {
     "duration": 1.924596,
     "end_time": "2024-03-09T02:40:48.019128",
     "exception": false,
     "start_time": "2024-03-09T02:40:46.094532",
     "status": "completed"
    },
    "tags": []
   },
   "outputs": [
    {
     "data": {
      "text/plain": [
       "2531962"
      ]
     },
     "execution_count": 15,
     "metadata": {},
     "output_type": "execute_result"
    }
   ],
   "source": [
    "# Need to create user table with experient group assignment. Then join this to event table\n",
    "\n",
    "query = \"\"\"\n",
    "select distinct user_id\n",
    "from cb_sample\n",
    "\"\"\"\n",
    "\n",
    "users = duckdb.query(query).df()\n",
    "len(users)"
   ]
  },
  {
   "cell_type": "code",
   "execution_count": 16,
   "id": "7160efb1",
   "metadata": {
    "execution": {
     "iopub.execute_input": "2024-03-09T02:40:48.089878Z",
     "iopub.status.busy": "2024-03-09T02:40:48.089075Z",
     "iopub.status.idle": "2024-03-09T02:40:50.583967Z",
     "shell.execute_reply": "2024-03-09T02:40:50.581990Z"
    },
    "papermill": {
     "duration": 2.535182,
     "end_time": "2024-03-09T02:40:50.588102",
     "exception": false,
     "start_time": "2024-03-09T02:40:48.052920",
     "status": "completed"
    },
    "tags": []
   },
   "outputs": [
    {
     "data": {
      "application/vnd.jupyter.widget-view+json": {
       "model_id": "7a47cf41a53e44468ef83c7bf137b0ed",
       "version_major": 2,
       "version_minor": 0
      },
      "text/plain": [
       "FloatProgress(value=0.0, layout=Layout(width='auto'), style=ProgressStyle(bar_color='black'))"
      ]
     },
     "metadata": {},
     "output_type": "display_data"
    },
    {
     "data": {
      "text/html": [
       "<div>\n",
       "<style scoped>\n",
       "    .dataframe tbody tr th:only-of-type {\n",
       "        vertical-align: middle;\n",
       "    }\n",
       "\n",
       "    .dataframe tbody tr th {\n",
       "        vertical-align: top;\n",
       "    }\n",
       "\n",
       "    .dataframe thead th {\n",
       "        text-align: right;\n",
       "    }\n",
       "</style>\n",
       "<table border=\"1\" class=\"dataframe\">\n",
       "  <thead>\n",
       "    <tr style=\"text-align: right;\">\n",
       "      <th></th>\n",
       "      <th>user_id</th>\n",
       "      <th>count_star()</th>\n",
       "    </tr>\n",
       "  </thead>\n",
       "  <tbody>\n",
       "    <tr>\n",
       "      <th>0</th>\n",
       "      <td>520932432</td>\n",
       "      <td>1</td>\n",
       "    </tr>\n",
       "    <tr>\n",
       "      <th>1</th>\n",
       "      <td>539973712</td>\n",
       "      <td>1</td>\n",
       "    </tr>\n",
       "    <tr>\n",
       "      <th>2</th>\n",
       "      <td>515732150</td>\n",
       "      <td>1</td>\n",
       "    </tr>\n",
       "    <tr>\n",
       "      <th>3</th>\n",
       "      <td>549607746</td>\n",
       "      <td>1</td>\n",
       "    </tr>\n",
       "    <tr>\n",
       "      <th>4</th>\n",
       "      <td>561477882</td>\n",
       "      <td>1</td>\n",
       "    </tr>\n",
       "    <tr>\n",
       "      <th>...</th>\n",
       "      <td>...</td>\n",
       "      <td>...</td>\n",
       "    </tr>\n",
       "    <tr>\n",
       "      <th>2531957</th>\n",
       "      <td>512505687</td>\n",
       "      <td>1413</td>\n",
       "    </tr>\n",
       "    <tr>\n",
       "      <th>2531958</th>\n",
       "      <td>513021392</td>\n",
       "      <td>1458</td>\n",
       "    </tr>\n",
       "    <tr>\n",
       "      <th>2531959</th>\n",
       "      <td>526731152</td>\n",
       "      <td>1466</td>\n",
       "    </tr>\n",
       "    <tr>\n",
       "      <th>2531960</th>\n",
       "      <td>512365995</td>\n",
       "      <td>1975</td>\n",
       "    </tr>\n",
       "    <tr>\n",
       "      <th>2531961</th>\n",
       "      <td>512475445</td>\n",
       "      <td>3747</td>\n",
       "    </tr>\n",
       "  </tbody>\n",
       "</table>\n",
       "<p>2531962 rows × 2 columns</p>\n",
       "</div>"
      ],
      "text/plain": [
       "           user_id  count_star()\n",
       "0        520932432             1\n",
       "1        539973712             1\n",
       "2        515732150             1\n",
       "3        549607746             1\n",
       "4        561477882             1\n",
       "...            ...           ...\n",
       "2531957  512505687          1413\n",
       "2531958  513021392          1458\n",
       "2531959  526731152          1466\n",
       "2531960  512365995          1975\n",
       "2531961  512475445          3747\n",
       "\n",
       "[2531962 rows x 2 columns]"
      ]
     },
     "execution_count": 16,
     "metadata": {},
     "output_type": "execute_result"
    }
   ],
   "source": [
    "# Number of users is uneven. so need to get rid of one user\n",
    "query = \"\"\"\n",
    "select user_id\n",
    ", count(*)\n",
    "from cb_sample\n",
    "group by 1\n",
    "order by 2 asc\n",
    "\"\"\"\n",
    "\n",
    "duckdb.query(query).df()"
   ]
  },
  {
   "cell_type": "code",
   "execution_count": 17,
   "id": "64927073",
   "metadata": {
    "execution": {
     "iopub.execute_input": "2024-03-09T02:40:50.647893Z",
     "iopub.status.busy": "2024-03-09T02:40:50.647176Z",
     "iopub.status.idle": "2024-03-09T02:40:50.657009Z",
     "shell.execute_reply": "2024-03-09T02:40:50.655039Z"
    },
    "papermill": {
     "duration": 0.04545,
     "end_time": "2024-03-09T02:40:50.662442",
     "exception": false,
     "start_time": "2024-03-09T02:40:50.616992",
     "status": "completed"
    },
    "tags": []
   },
   "outputs": [],
   "source": [
    "# Creating even number of users.\n",
    "# USER_ID MAY NEED TO BE MODIFIED DUE TO RANDOM SAMPLING \n",
    "\n",
    "# query = \"\"\"\n",
    "# select distinct user_id\n",
    "# from cb_sample\n",
    "# where user_id != 537261383\n",
    "# \"\"\"\n",
    "\n",
    "# users = duckdb.query(query).df()\n",
    "# len(users)"
   ]
  },
  {
   "cell_type": "code",
   "execution_count": 18,
   "id": "c81f74a2",
   "metadata": {
    "execution": {
     "iopub.execute_input": "2024-03-09T02:40:50.738312Z",
     "iopub.status.busy": "2024-03-09T02:40:50.737596Z",
     "iopub.status.idle": "2024-03-09T02:40:51.264493Z",
     "shell.execute_reply": "2024-03-09T02:40:51.262818Z"
    },
    "papermill": {
     "duration": 0.566519,
     "end_time": "2024-03-09T02:40:51.267011",
     "exception": false,
     "start_time": "2024-03-09T02:40:50.700492",
     "status": "completed"
    },
    "tags": []
   },
   "outputs": [],
   "source": [
    "# Create list of even amont of ctl and test labels, randomize the labels and append to users table\n",
    "\n",
    "half_length = len(users) // 2\n",
    "experiment_group = ['control'] * half_length + ['test'] * half_length\n",
    "np.random.shuffle(experiment_group)\n",
    "users['experiment_group'] = experiment_group"
   ]
  },
  {
   "cell_type": "code",
   "execution_count": 19,
   "id": "97b0cc93",
   "metadata": {
    "execution": {
     "iopub.execute_input": "2024-03-09T02:40:51.368004Z",
     "iopub.status.busy": "2024-03-09T02:40:51.367631Z",
     "iopub.status.idle": "2024-03-09T02:40:51.422886Z",
     "shell.execute_reply": "2024-03-09T02:40:51.421932Z"
    },
    "papermill": {
     "duration": 0.143138,
     "end_time": "2024-03-09T02:40:51.425547",
     "exception": false,
     "start_time": "2024-03-09T02:40:51.282409",
     "status": "completed"
    },
    "tags": []
   },
   "outputs": [
    {
     "data": {
      "text/html": [
       "<div>\n",
       "<style scoped>\n",
       "    .dataframe tbody tr th:only-of-type {\n",
       "        vertical-align: middle;\n",
       "    }\n",
       "\n",
       "    .dataframe tbody tr th {\n",
       "        vertical-align: top;\n",
       "    }\n",
       "\n",
       "    .dataframe thead th {\n",
       "        text-align: right;\n",
       "    }\n",
       "</style>\n",
       "<table border=\"1\" class=\"dataframe\">\n",
       "  <thead>\n",
       "    <tr style=\"text-align: right;\">\n",
       "      <th></th>\n",
       "      <th>experiment_group</th>\n",
       "      <th>count</th>\n",
       "    </tr>\n",
       "  </thead>\n",
       "  <tbody>\n",
       "    <tr>\n",
       "      <th>0</th>\n",
       "      <td>test</td>\n",
       "      <td>1265981</td>\n",
       "    </tr>\n",
       "    <tr>\n",
       "      <th>1</th>\n",
       "      <td>control</td>\n",
       "      <td>1265981</td>\n",
       "    </tr>\n",
       "  </tbody>\n",
       "</table>\n",
       "</div>"
      ],
      "text/plain": [
       "  experiment_group    count\n",
       "0             test  1265981\n",
       "1          control  1265981"
      ]
     },
     "execution_count": 19,
     "metadata": {},
     "output_type": "execute_result"
    }
   ],
   "source": [
    "query = \"\"\"\n",
    "select experiment_group\n",
    ", count(*) as count\n",
    "from users\n",
    "group by 1\n",
    "\"\"\"\n",
    "\n",
    "duckdb.query(query).df()"
   ]
  },
  {
   "cell_type": "code",
   "execution_count": 20,
   "id": "94ca191e",
   "metadata": {
    "execution": {
     "iopub.execute_input": "2024-03-09T02:40:51.461432Z",
     "iopub.status.busy": "2024-03-09T02:40:51.461045Z",
     "iopub.status.idle": "2024-03-09T02:41:27.449998Z",
     "shell.execute_reply": "2024-03-09T02:41:27.448628Z"
    },
    "papermill": {
     "duration": 36.027608,
     "end_time": "2024-03-09T02:41:27.470510",
     "exception": false,
     "start_time": "2024-03-09T02:40:51.442902",
     "status": "completed"
    },
    "tags": []
   },
   "outputs": [
    {
     "data": {
      "application/vnd.jupyter.widget-view+json": {
       "model_id": "57fdf736dea144e5a056ba7f0ef196ef",
       "version_major": 2,
       "version_minor": 0
      },
      "text/plain": [
       "FloatProgress(value=0.0, layout=Layout(width='auto'), style=ProgressStyle(bar_color='black'))"
      ]
     },
     "metadata": {},
     "output_type": "display_data"
    },
    {
     "data": {
      "text/plain": [
       "True"
      ]
     },
     "execution_count": 20,
     "metadata": {},
     "output_type": "execute_result"
    }
   ],
   "source": [
    "# join users table to event table\n",
    "query = \"\"\"\n",
    "select *\n",
    "from users u\n",
    "join cb_sample scb\n",
    "on u.user_id = scb.user_id\n",
    "\"\"\"\n",
    "\n",
    "df = duckdb.query(query).df()\n",
    "len(df) == len(cb_sample)"
   ]
  },
  {
   "cell_type": "code",
   "execution_count": 21,
   "id": "881c5029",
   "metadata": {
    "execution": {
     "iopub.execute_input": "2024-03-09T02:41:27.501640Z",
     "iopub.status.busy": "2024-03-09T02:41:27.501207Z",
     "iopub.status.idle": "2024-03-09T02:41:30.450128Z",
     "shell.execute_reply": "2024-03-09T02:41:30.449117Z"
    },
    "papermill": {
     "duration": 2.967461,
     "end_time": "2024-03-09T02:41:30.452253",
     "exception": false,
     "start_time": "2024-03-09T02:41:27.484792",
     "status": "completed"
    },
    "tags": []
   },
   "outputs": [
    {
     "data": {
      "application/vnd.jupyter.widget-view+json": {
       "model_id": "7441e30595fb4eefb21bc9ea51da46c5",
       "version_major": 2,
       "version_minor": 0
      },
      "text/plain": [
       "FloatProgress(value=0.0, layout=Layout(width='auto'), style=ProgressStyle(bar_color='black'))"
      ]
     },
     "metadata": {},
     "output_type": "display_data"
    },
    {
     "data": {
      "text/html": [
       "<div>\n",
       "<style scoped>\n",
       "    .dataframe tbody tr th:only-of-type {\n",
       "        vertical-align: middle;\n",
       "    }\n",
       "\n",
       "    .dataframe tbody tr th {\n",
       "        vertical-align: top;\n",
       "    }\n",
       "\n",
       "    .dataframe thead th {\n",
       "        text-align: right;\n",
       "    }\n",
       "</style>\n",
       "<table border=\"1\" class=\"dataframe\">\n",
       "  <thead>\n",
       "    <tr style=\"text-align: right;\">\n",
       "      <th></th>\n",
       "      <th>experiment_group</th>\n",
       "      <th>user_id</th>\n",
       "      <th>total_views</th>\n",
       "      <th>total_cart</th>\n",
       "      <th>total_purchase</th>\n",
       "    </tr>\n",
       "  </thead>\n",
       "  <tbody>\n",
       "    <tr>\n",
       "      <th>0</th>\n",
       "      <td>control</td>\n",
       "      <td>516266655</td>\n",
       "      <td>73.0</td>\n",
       "      <td>1.0</td>\n",
       "      <td>0.0</td>\n",
       "    </tr>\n",
       "    <tr>\n",
       "      <th>1</th>\n",
       "      <td>control</td>\n",
       "      <td>557130803</td>\n",
       "      <td>12.0</td>\n",
       "      <td>0.0</td>\n",
       "      <td>0.0</td>\n",
       "    </tr>\n",
       "    <tr>\n",
       "      <th>2</th>\n",
       "      <td>test</td>\n",
       "      <td>518418918</td>\n",
       "      <td>8.0</td>\n",
       "      <td>0.0</td>\n",
       "      <td>0.0</td>\n",
       "    </tr>\n",
       "    <tr>\n",
       "      <th>3</th>\n",
       "      <td>control</td>\n",
       "      <td>541340268</td>\n",
       "      <td>90.0</td>\n",
       "      <td>0.0</td>\n",
       "      <td>1.0</td>\n",
       "    </tr>\n",
       "    <tr>\n",
       "      <th>4</th>\n",
       "      <td>test</td>\n",
       "      <td>531595195</td>\n",
       "      <td>19.0</td>\n",
       "      <td>0.0</td>\n",
       "      <td>0.0</td>\n",
       "    </tr>\n",
       "    <tr>\n",
       "      <th>...</th>\n",
       "      <td>...</td>\n",
       "      <td>...</td>\n",
       "      <td>...</td>\n",
       "      <td>...</td>\n",
       "      <td>...</td>\n",
       "    </tr>\n",
       "    <tr>\n",
       "      <th>2531957</th>\n",
       "      <td>test</td>\n",
       "      <td>545118917</td>\n",
       "      <td>1.0</td>\n",
       "      <td>0.0</td>\n",
       "      <td>0.0</td>\n",
       "    </tr>\n",
       "    <tr>\n",
       "      <th>2531958</th>\n",
       "      <td>test</td>\n",
       "      <td>540455717</td>\n",
       "      <td>1.0</td>\n",
       "      <td>0.0</td>\n",
       "      <td>0.0</td>\n",
       "    </tr>\n",
       "    <tr>\n",
       "      <th>2531959</th>\n",
       "      <td>control</td>\n",
       "      <td>561887937</td>\n",
       "      <td>1.0</td>\n",
       "      <td>0.0</td>\n",
       "      <td>0.0</td>\n",
       "    </tr>\n",
       "    <tr>\n",
       "      <th>2531960</th>\n",
       "      <td>test</td>\n",
       "      <td>516937884</td>\n",
       "      <td>1.0</td>\n",
       "      <td>0.0</td>\n",
       "      <td>0.0</td>\n",
       "    </tr>\n",
       "    <tr>\n",
       "      <th>2531961</th>\n",
       "      <td>control</td>\n",
       "      <td>525897096</td>\n",
       "      <td>1.0</td>\n",
       "      <td>0.0</td>\n",
       "      <td>0.0</td>\n",
       "    </tr>\n",
       "  </tbody>\n",
       "</table>\n",
       "<p>2531962 rows × 5 columns</p>\n",
       "</div>"
      ],
      "text/plain": [
       "        experiment_group    user_id  total_views  total_cart  total_purchase\n",
       "0                control  516266655         73.0         1.0             0.0\n",
       "1                control  557130803         12.0         0.0             0.0\n",
       "2                   test  518418918          8.0         0.0             0.0\n",
       "3                control  541340268         90.0         0.0             1.0\n",
       "4                   test  531595195         19.0         0.0             0.0\n",
       "...                  ...        ...          ...         ...             ...\n",
       "2531957             test  545118917          1.0         0.0             0.0\n",
       "2531958             test  540455717          1.0         0.0             0.0\n",
       "2531959          control  561887937          1.0         0.0             0.0\n",
       "2531960             test  516937884          1.0         0.0             0.0\n",
       "2531961          control  525897096          1.0         0.0             0.0\n",
       "\n",
       "[2531962 rows x 5 columns]"
      ]
     },
     "execution_count": 21,
     "metadata": {},
     "output_type": "execute_result"
    }
   ],
   "source": [
    "query = \"\"\"\n",
    "select experiment_group\n",
    ", user_id\n",
    ", sum(case when event_type='view' then 1 else 0 end) as total_views\n",
    ", sum(case when event_type='cart'then 1 else 0 end) as total_cart\n",
    ", sum(case when event_type='purchase'then 1 else 0 end) as total_purchase\n",
    "from df\n",
    "group by 1,2\n",
    "\"\"\"\n",
    "\n",
    "events_agg = duckdb.query(query).df()\n",
    "events_agg"
   ]
  },
  {
   "cell_type": "code",
   "execution_count": 22,
   "id": "708044b6",
   "metadata": {
    "execution": {
     "iopub.execute_input": "2024-03-09T02:41:30.485555Z",
     "iopub.status.busy": "2024-03-09T02:41:30.485111Z",
     "iopub.status.idle": "2024-03-09T02:41:30.783647Z",
     "shell.execute_reply": "2024-03-09T02:41:30.782589Z"
    },
    "papermill": {
     "duration": 0.318295,
     "end_time": "2024-03-09T02:41:30.785837",
     "exception": false,
     "start_time": "2024-03-09T02:41:30.467542",
     "status": "completed"
    },
    "tags": []
   },
   "outputs": [],
   "source": [
    "# Split between experiment groups\n",
    "query = \"\"\"\n",
    "select *\n",
    "from events_agg\n",
    "where experiment_group = 'control'\n",
    "\"\"\"\n",
    "\n",
    "ctl_events_agg = duckdb.query(query).df()\n",
    "\n",
    "query = \"\"\"\n",
    "select *\n",
    "from events_agg\n",
    "where experiment_group = 'test'\n",
    "\"\"\"\n",
    "\n",
    "test_events_agg = duckdb.query(query).df()"
   ]
  },
  {
   "cell_type": "markdown",
   "id": "45707d2c",
   "metadata": {
    "papermill": {
     "duration": 0.014641,
     "end_time": "2024-03-09T02:41:30.815478",
     "exception": false,
     "start_time": "2024-03-09T02:41:30.800837",
     "status": "completed"
    },
    "tags": []
   },
   "source": [
    "### Checking Distributions for Control and Experiment Groups"
   ]
  },
  {
   "cell_type": "code",
   "execution_count": 23,
   "id": "86286100",
   "metadata": {
    "execution": {
     "iopub.execute_input": "2024-03-09T02:41:30.847102Z",
     "iopub.status.busy": "2024-03-09T02:41:30.846789Z",
     "iopub.status.idle": "2024-03-09T02:41:30.851700Z",
     "shell.execute_reply": "2024-03-09T02:41:30.850679Z"
    },
    "papermill": {
     "duration": 0.022936,
     "end_time": "2024-03-09T02:41:30.853525",
     "exception": false,
     "start_time": "2024-03-09T02:41:30.830589",
     "status": "completed"
    },
    "tags": []
   },
   "outputs": [],
   "source": [
    "def is_normal(data):\n",
    "    stat, p = shapiro(data)\n",
    "    alpha = 0.05\n",
    "    if p > alpha:\n",
    "        return 'Sample looks Gaussian (fail to reject H0)'\n",
    "    else:\n",
    "        return 'Sample does not look Gaussian (reject H0)'"
   ]
  },
  {
   "cell_type": "code",
   "execution_count": 24,
   "id": "15506fff",
   "metadata": {
    "execution": {
     "iopub.execute_input": "2024-03-09T02:41:30.885062Z",
     "iopub.status.busy": "2024-03-09T02:41:30.884732Z",
     "iopub.status.idle": "2024-03-09T02:41:30.904834Z",
     "shell.execute_reply": "2024-03-09T02:41:30.903810Z"
    },
    "papermill": {
     "duration": 0.038289,
     "end_time": "2024-03-09T02:41:30.906813",
     "exception": false,
     "start_time": "2024-03-09T02:41:30.868524",
     "status": "completed"
    },
    "tags": []
   },
   "outputs": [
    {
     "data": {
      "text/html": [
       "<div>\n",
       "<style scoped>\n",
       "    .dataframe tbody tr th:only-of-type {\n",
       "        vertical-align: middle;\n",
       "    }\n",
       "\n",
       "    .dataframe tbody tr th {\n",
       "        vertical-align: top;\n",
       "    }\n",
       "\n",
       "    .dataframe thead th {\n",
       "        text-align: right;\n",
       "    }\n",
       "</style>\n",
       "<table border=\"1\" class=\"dataframe\">\n",
       "  <thead>\n",
       "    <tr style=\"text-align: right;\">\n",
       "      <th></th>\n",
       "      <th>total_views</th>\n",
       "      <th>total_cart</th>\n",
       "      <th>total_purchase</th>\n",
       "    </tr>\n",
       "  </thead>\n",
       "  <tbody>\n",
       "    <tr>\n",
       "      <th>0</th>\n",
       "      <td>73.0</td>\n",
       "      <td>1.0</td>\n",
       "      <td>0.0</td>\n",
       "    </tr>\n",
       "    <tr>\n",
       "      <th>1</th>\n",
       "      <td>12.0</td>\n",
       "      <td>0.0</td>\n",
       "      <td>0.0</td>\n",
       "    </tr>\n",
       "    <tr>\n",
       "      <th>2</th>\n",
       "      <td>90.0</td>\n",
       "      <td>0.0</td>\n",
       "      <td>1.0</td>\n",
       "    </tr>\n",
       "    <tr>\n",
       "      <th>3</th>\n",
       "      <td>9.0</td>\n",
       "      <td>0.0</td>\n",
       "      <td>0.0</td>\n",
       "    </tr>\n",
       "    <tr>\n",
       "      <th>4</th>\n",
       "      <td>315.0</td>\n",
       "      <td>1.0</td>\n",
       "      <td>0.0</td>\n",
       "    </tr>\n",
       "    <tr>\n",
       "      <th>...</th>\n",
       "      <td>...</td>\n",
       "      <td>...</td>\n",
       "      <td>...</td>\n",
       "    </tr>\n",
       "    <tr>\n",
       "      <th>1265976</th>\n",
       "      <td>1.0</td>\n",
       "      <td>0.0</td>\n",
       "      <td>0.0</td>\n",
       "    </tr>\n",
       "    <tr>\n",
       "      <th>1265977</th>\n",
       "      <td>1.0</td>\n",
       "      <td>0.0</td>\n",
       "      <td>0.0</td>\n",
       "    </tr>\n",
       "    <tr>\n",
       "      <th>1265978</th>\n",
       "      <td>1.0</td>\n",
       "      <td>0.0</td>\n",
       "      <td>0.0</td>\n",
       "    </tr>\n",
       "    <tr>\n",
       "      <th>1265979</th>\n",
       "      <td>1.0</td>\n",
       "      <td>0.0</td>\n",
       "      <td>0.0</td>\n",
       "    </tr>\n",
       "    <tr>\n",
       "      <th>1265980</th>\n",
       "      <td>1.0</td>\n",
       "      <td>0.0</td>\n",
       "      <td>0.0</td>\n",
       "    </tr>\n",
       "  </tbody>\n",
       "</table>\n",
       "<p>1265981 rows × 3 columns</p>\n",
       "</div>"
      ],
      "text/plain": [
       "         total_views  total_cart  total_purchase\n",
       "0               73.0         1.0             0.0\n",
       "1               12.0         0.0             0.0\n",
       "2               90.0         0.0             1.0\n",
       "3                9.0         0.0             0.0\n",
       "4              315.0         1.0             0.0\n",
       "...              ...         ...             ...\n",
       "1265976          1.0         0.0             0.0\n",
       "1265977          1.0         0.0             0.0\n",
       "1265978          1.0         0.0             0.0\n",
       "1265979          1.0         0.0             0.0\n",
       "1265980          1.0         0.0             0.0\n",
       "\n",
       "[1265981 rows x 3 columns]"
      ]
     },
     "execution_count": 24,
     "metadata": {},
     "output_type": "execute_result"
    }
   ],
   "source": [
    "# only get events columns\n",
    "event_cols = ctl_events_agg[['total_views', 'total_cart', 'total_purchase']]\n",
    "event_cols"
   ]
  },
  {
   "cell_type": "code",
   "execution_count": 25,
   "id": "6a43bd01",
   "metadata": {
    "execution": {
     "iopub.execute_input": "2024-03-09T02:41:30.939783Z",
     "iopub.status.busy": "2024-03-09T02:41:30.939408Z",
     "iopub.status.idle": "2024-03-09T02:41:31.267958Z",
     "shell.execute_reply": "2024-03-09T02:41:31.266258Z"
    },
    "papermill": {
     "duration": 0.348123,
     "end_time": "2024-03-09T02:41:31.270487",
     "exception": false,
     "start_time": "2024-03-09T02:41:30.922364",
     "status": "completed"
    },
    "tags": []
   },
   "outputs": [
    {
     "name": "stderr",
     "output_type": "stream",
     "text": [
      "/opt/conda/lib/python3.10/site-packages/scipy/stats/_morestats.py:1882: UserWarning: p-value may not be accurate for N > 5000.\n",
      "  warnings.warn(\"p-value may not be accurate for N > 5000.\")\n"
     ]
    },
    {
     "name": "stdout",
     "output_type": "stream",
     "text": [
      "Control total_views Distribution: Sample does not look Gaussian (reject H0)\n",
      "Test total_views Distribution: Sample does not look Gaussian (reject H0)\n",
      "Control total_cart Distribution: Sample does not look Gaussian (reject H0)\n",
      "Test total_cart Distribution: Sample does not look Gaussian (reject H0)\n",
      "Control total_purchase Distribution: Sample does not look Gaussian (reject H0)\n",
      "Test total_purchase Distribution: Sample does not look Gaussian (reject H0)\n"
     ]
    }
   ],
   "source": [
    "for i in range(0,len(list(event_cols))):\n",
    "    \n",
    "    col = list(event_cols)[i]\n",
    "    \n",
    "    print('Control', col, 'Distribution:', is_normal(ctl_events_agg[col]))\n",
    "\n",
    "    print('Test', col, 'Distribution:',is_normal(test_events_agg[col]))"
   ]
  },
  {
   "cell_type": "markdown",
   "id": "69af8c10",
   "metadata": {
    "papermill": {
     "duration": 0.014393,
     "end_time": "2024-03-09T02:41:31.300326",
     "exception": false,
     "start_time": "2024-03-09T02:41:31.285933",
     "status": "completed"
    },
    "tags": []
   },
   "source": [
    "None of the distributions are normal. So cannot use the t-test for statistical significance."
   ]
  },
  {
   "cell_type": "markdown",
   "id": "1840cdad",
   "metadata": {
    "papermill": {
     "duration": 0.015882,
     "end_time": "2024-03-09T02:41:31.331140",
     "exception": false,
     "start_time": "2024-03-09T02:41:31.315258",
     "status": "completed"
    },
    "tags": []
   },
   "source": [
    "### First Quick Pass of CI on One Experiment Test Group's Behavior Metric"
   ]
  },
  {
   "cell_type": "code",
   "execution_count": 26,
   "id": "ed677994",
   "metadata": {
    "execution": {
     "iopub.execute_input": "2024-03-09T02:41:31.363034Z",
     "iopub.status.busy": "2024-03-09T02:41:31.362730Z",
     "iopub.status.idle": "2024-03-09T02:41:33.026141Z",
     "shell.execute_reply": "2024-03-09T02:41:33.024995Z"
    },
    "papermill": {
     "duration": 1.681938,
     "end_time": "2024-03-09T02:41:33.028572",
     "exception": false,
     "start_time": "2024-03-09T02:41:31.346634",
     "status": "completed"
    },
    "tags": []
   },
   "outputs": [
    {
     "name": "stdout",
     "output_type": "stream",
     "text": [
      "The confidence interval is: (8.020527752307201, 8.081221010114986)\n"
     ]
    },
    {
     "data": {
      "image/png": "[encoded data removed]",
      "text/plain": [
       "<Figure size 640x480 with 1 Axes>"
      ]
     },
     "metadata": {},
     "output_type": "display_data"
    }
   ],
   "source": [
    "# Create confidence interval with the new data (Ctl group's views)\n",
    "\n",
    "# Let's assume you have some data in a Python list\n",
    "ctl_user_views = ctl_events_agg['total_views']\n",
    "\n",
    "# Calculate the mean and standard error\n",
    "mean = np.mean(ctl_user_views)\n",
    "standard_error = scipy.stats.sem(ctl_user_views)\n",
    "\n",
    "# Define the confidence level to be 95%\n",
    "confidence_level = 0.95\n",
    "\n",
    "# Calculate the confidence interval\n",
    "confidence_interval = scipy.stats.t.interval(confidence_level, len(ctl_user_views)-1, loc=mean, scale=standard_error)\n",
    "\n",
    "print(f\"The confidence interval is: {confidence_interval}\")\n",
    "\n",
    "# Plot the CI intervals\n",
    "\n",
    "# Create a figure and a subplot\n",
    "fig, ax = plt.subplots()\n",
    "\n",
    "# Plot the mean as a red line\n",
    "ax.axhline(mean, color='red')\n",
    "\n",
    "# Plot the confidence interval as a blue band\n",
    "ax.fill_between(range(len(ctl_user_views)), confidence_interval[0], confidence_interval[1], color='blue', alpha=0.2)\n",
    "\n",
    "# Plot the data points\n",
    "ax.plot(data, 'ko')\n",
    "\n",
    "# Show the plot\n",
    "plt.title(\"CI for Total Views\")\n",
    "plt.show()"
   ]
  },
  {
   "cell_type": "markdown",
   "id": "a60259fa",
   "metadata": {
    "papermill": {
     "duration": 0.015679,
     "end_time": "2024-03-09T02:41:33.060417",
     "exception": false,
     "start_time": "2024-03-09T02:41:33.044738",
     "status": "completed"
    },
    "tags": []
   },
   "source": [
    "# Statistical Testing Methods\n",
    "\n",
    "## User Average Metrics\n",
    "### Distributions are non-normal --> Use Mann Whitney U Test"
   ]
  },
  {
   "cell_type": "code",
   "execution_count": 27,
   "id": "a0850800",
   "metadata": {
    "execution": {
     "iopub.execute_input": "2024-03-09T02:41:33.095452Z",
     "iopub.status.busy": "2024-03-09T02:41:33.095043Z",
     "iopub.status.idle": "2024-03-09T02:41:36.191861Z",
     "shell.execute_reply": "2024-03-09T02:41:36.190780Z"
    },
    "papermill": {
     "duration": 3.116894,
     "end_time": "2024-03-09T02:41:36.193721",
     "exception": false,
     "start_time": "2024-03-09T02:41:33.076827",
     "status": "completed"
    },
    "tags": []
   },
   "outputs": [
    {
     "data": {
      "application/vnd.jupyter.widget-view+json": {
       "model_id": "9404890a95054a7db9cd3ea624bb0282",
       "version_major": 2,
       "version_minor": 0
      },
      "text/plain": [
       "FloatProgress(value=0.0, layout=Layout(width='auto'), style=ProgressStyle(bar_color='black'))"
      ]
     },
     "metadata": {},
     "output_type": "display_data"
    },
    {
     "data": {
      "text/html": [
       "<div>\n",
       "<style scoped>\n",
       "    .dataframe tbody tr th:only-of-type {\n",
       "        vertical-align: middle;\n",
       "    }\n",
       "\n",
       "    .dataframe tbody tr th {\n",
       "        vertical-align: top;\n",
       "    }\n",
       "\n",
       "    .dataframe thead th {\n",
       "        text-align: right;\n",
       "    }\n",
       "</style>\n",
       "<table border=\"1\" class=\"dataframe\">\n",
       "  <thead>\n",
       "    <tr style=\"text-align: right;\">\n",
       "      <th></th>\n",
       "      <th>experiment_group</th>\n",
       "      <th>date</th>\n",
       "      <th>views_per_user</th>\n",
       "      <th>carts_per_user</th>\n",
       "      <th>purchases_per_user</th>\n",
       "    </tr>\n",
       "  </thead>\n",
       "  <tbody>\n",
       "    <tr>\n",
       "      <th>0</th>\n",
       "      <td>control</td>\n",
       "      <td>2019-10-07</td>\n",
       "      <td>3.862376</td>\n",
       "      <td>0.057876</td>\n",
       "      <td>0.071901</td>\n",
       "    </tr>\n",
       "    <tr>\n",
       "      <th>1</th>\n",
       "      <td>test</td>\n",
       "      <td>2019-10-30</td>\n",
       "      <td>3.817393</td>\n",
       "      <td>0.057048</td>\n",
       "      <td>0.069308</td>\n",
       "    </tr>\n",
       "    <tr>\n",
       "      <th>2</th>\n",
       "      <td>test</td>\n",
       "      <td>2019-10-18</td>\n",
       "      <td>3.855881</td>\n",
       "      <td>0.110197</td>\n",
       "      <td>0.070408</td>\n",
       "    </tr>\n",
       "    <tr>\n",
       "      <th>3</th>\n",
       "      <td>control</td>\n",
       "      <td>2019-10-08</td>\n",
       "      <td>3.771505</td>\n",
       "      <td>0.051163</td>\n",
       "      <td>0.064618</td>\n",
       "    </tr>\n",
       "    <tr>\n",
       "      <th>4</th>\n",
       "      <td>control</td>\n",
       "      <td>2019-10-24</td>\n",
       "      <td>3.810253</td>\n",
       "      <td>0.110217</td>\n",
       "      <td>0.074383</td>\n",
       "    </tr>\n",
       "    <tr>\n",
       "      <th>...</th>\n",
       "      <td>...</td>\n",
       "      <td>...</td>\n",
       "      <td>...</td>\n",
       "      <td>...</td>\n",
       "      <td>...</td>\n",
       "    </tr>\n",
       "    <tr>\n",
       "      <th>57</th>\n",
       "      <td>test</td>\n",
       "      <td>2019-10-01</td>\n",
       "      <td>3.941837</td>\n",
       "      <td>0.056080</td>\n",
       "      <td>0.063228</td>\n",
       "    </tr>\n",
       "    <tr>\n",
       "      <th>58</th>\n",
       "      <td>test</td>\n",
       "      <td>2019-10-29</td>\n",
       "      <td>3.874167</td>\n",
       "      <td>0.057153</td>\n",
       "      <td>0.064859</td>\n",
       "    </tr>\n",
       "    <tr>\n",
       "      <th>59</th>\n",
       "      <td>control</td>\n",
       "      <td>2019-10-04</td>\n",
       "      <td>3.953875</td>\n",
       "      <td>0.126661</td>\n",
       "      <td>0.078547</td>\n",
       "    </tr>\n",
       "    <tr>\n",
       "      <th>60</th>\n",
       "      <td>control</td>\n",
       "      <td>2019-10-23</td>\n",
       "      <td>3.773388</td>\n",
       "      <td>0.103972</td>\n",
       "      <td>0.072236</td>\n",
       "    </tr>\n",
       "    <tr>\n",
       "      <th>61</th>\n",
       "      <td>test</td>\n",
       "      <td>2019-10-12</td>\n",
       "      <td>4.238421</td>\n",
       "      <td>0.061027</td>\n",
       "      <td>0.075607</td>\n",
       "    </tr>\n",
       "  </tbody>\n",
       "</table>\n",
       "<p>62 rows × 5 columns</p>\n",
       "</div>"
      ],
      "text/plain": [
       "   experiment_group        date  views_per_user  carts_per_user  \\\n",
       "0           control  2019-10-07        3.862376        0.057876   \n",
       "1              test  2019-10-30        3.817393        0.057048   \n",
       "2              test  2019-10-18        3.855881        0.110197   \n",
       "3           control  2019-10-08        3.771505        0.051163   \n",
       "4           control  2019-10-24        3.810253        0.110217   \n",
       "..              ...         ...             ...             ...   \n",
       "57             test  2019-10-01        3.941837        0.056080   \n",
       "58             test  2019-10-29        3.874167        0.057153   \n",
       "59          control  2019-10-04        3.953875        0.126661   \n",
       "60          control  2019-10-23        3.773388        0.103972   \n",
       "61             test  2019-10-12        4.238421        0.061027   \n",
       "\n",
       "    purchases_per_user  \n",
       "0             0.071901  \n",
       "1             0.069308  \n",
       "2             0.070408  \n",
       "3             0.064618  \n",
       "4             0.074383  \n",
       "..                 ...  \n",
       "57            0.063228  \n",
       "58            0.064859  \n",
       "59            0.078547  \n",
       "60            0.072236  \n",
       "61            0.075607  \n",
       "\n",
       "[62 rows x 5 columns]"
      ]
     },
     "execution_count": 27,
     "metadata": {},
     "output_type": "execute_result"
    }
   ],
   "source": [
    "# Now let us aggregate data at randomization unit to build CI interval\n",
    "# Simulating real biz A/B test data\n",
    "\n",
    "# Calculate avg views/carts/purchase per user for each experiment group\n",
    "query = \"\"\"\n",
    "select experiment_group\n",
    ", event_time[:10] as date\n",
    ", sum(case when event_type = 'view' then 1 else 0 end)/count(distinct user_id) as views_per_user\n",
    ", sum(case when event_type = 'cart' then 1 else 0 end)/count(distinct user_id) as carts_per_user\n",
    ", sum(case when event_type = 'purchase' then 1 else 0 end)/count(distinct user_id) as purchases_per_user\n",
    "from df\n",
    "group by 1,2\n",
    "\"\"\"\n",
    "\n",
    "user_avg_metric = duckdb.query(query).df()\n",
    "user_avg_metric"
   ]
  },
  {
   "cell_type": "code",
   "execution_count": 28,
   "id": "40b7a1fb",
   "metadata": {
    "execution": {
     "iopub.execute_input": "2024-03-09T02:41:36.227008Z",
     "iopub.status.busy": "2024-03-09T02:41:36.226629Z",
     "iopub.status.idle": "2024-03-09T02:41:36.258913Z",
     "shell.execute_reply": "2024-03-09T02:41:36.257988Z"
    },
    "papermill": {
     "duration": 0.051948,
     "end_time": "2024-03-09T02:41:36.261637",
     "exception": false,
     "start_time": "2024-03-09T02:41:36.209689",
     "status": "completed"
    },
    "tags": []
   },
   "outputs": [],
   "source": [
    "control = duckdb.query(\"select * from user_avg_metric where experiment_group = 'control'\").df()\n",
    "test = duckdb.query(\"select * from user_avg_metric where experiment_group = 'test'\").df()"
   ]
  },
  {
   "cell_type": "code",
   "execution_count": 29,
   "id": "aaa93e8a",
   "metadata": {
    "execution": {
     "iopub.execute_input": "2024-03-09T02:41:36.296442Z",
     "iopub.status.busy": "2024-03-09T02:41:36.296043Z",
     "iopub.status.idle": "2024-03-09T02:41:36.316570Z",
     "shell.execute_reply": "2024-03-09T02:41:36.315330Z"
    },
    "papermill": {
     "duration": 0.041035,
     "end_time": "2024-03-09T02:41:36.319285",
     "exception": false,
     "start_time": "2024-03-09T02:41:36.278250",
     "status": "completed"
    },
    "tags": []
   },
   "outputs": [
    {
     "name": "stdout",
     "output_type": "stream",
     "text": [
      "Metric: views_per_user\n",
      "We do not have enough evidence to reject Ho. Therefore, there is no significant statistical difference between two experiment groups' metric of interest.\n",
      "Metric: carts_per_user\n",
      "We do not have enough evidence to reject Ho. Therefore, there is no significant statistical difference between two experiment groups' metric of interest.\n",
      "Metric: purchases_per_user\n",
      "We do not have enough evidence to reject Ho. Therefore, there is no significant statistical difference between two experiment groups' metric of interest.\n"
     ]
    }
   ],
   "source": [
    "# Metrics are skewed so using Mann Whitney U test to determine statistical significance\n",
    "\n",
    "def run_mann_whitney_u_test(df1, df2, col):\n",
    "    # Extract the two data samples\n",
    "    data1 = df1[col]\n",
    "    data2 = df2[col]\n",
    "\n",
    "    # Perform the Mann-Whitney U test\n",
    "    stat, p = mannwhitneyu(data1, data2)\n",
    "\n",
    "    alpha = 0.05\n",
    "    if p<alpha:\n",
    "        print(\"We can reject Ho in favor of Ha. Therefore there is statistical significant difference between experiment groups in favor of treatment group.\")\n",
    "    else:\n",
    "        print(\"We do not have enough evidence to reject Ho. Therefore, there is no significant statistical difference between two experiment groups' metric of interest.\")\n",
    "\n",
    "columns = list(user_avg_metric)[2:]\n",
    "for c in columns:\n",
    "    print('Metric:', c)\n",
    "    run_mann_whitney_u_test(control, test, c)"
   ]
  },
  {
   "cell_type": "markdown",
   "id": "b1f76754",
   "metadata": {
    "papermill": {
     "duration": 0.019333,
     "end_time": "2024-03-09T02:41:36.363106",
     "exception": false,
     "start_time": "2024-03-09T02:41:36.343773",
     "status": "completed"
    },
    "tags": []
   },
   "source": [
    "___"
   ]
  },
  {
   "cell_type": "code",
   "execution_count": 30,
   "id": "4b94a1c2",
   "metadata": {
    "execution": {
     "iopub.execute_input": "2024-03-09T02:41:36.396226Z",
     "iopub.status.busy": "2024-03-09T02:41:36.395866Z",
     "iopub.status.idle": "2024-03-09T02:41:36.418291Z",
     "shell.execute_reply": "2024-03-09T02:41:36.417287Z"
    },
    "papermill": {
     "duration": 0.041601,
     "end_time": "2024-03-09T02:41:36.420651",
     "exception": false,
     "start_time": "2024-03-09T02:41:36.379050",
     "status": "completed"
    },
    "tags": []
   },
   "outputs": [],
   "source": [
    "# Click Through Rate using Mann Whitney U Test\n",
    "# TESTING- very small dataset\n",
    "\n",
    "control = pd.read_csv('/kaggle/input/example-dataset-for-ab-test/control_group.csv', sep=';')\n",
    "test = pd.read_csv('/kaggle/input/example-dataset-for-ab-test/test_group.csv', sep=';')"
   ]
  },
  {
   "cell_type": "code",
   "execution_count": 31,
   "id": "465ad31b",
   "metadata": {
    "execution": {
     "iopub.execute_input": "2024-03-09T02:41:36.457213Z",
     "iopub.status.busy": "2024-03-09T02:41:36.455692Z",
     "iopub.status.idle": "2024-03-09T02:41:36.490954Z",
     "shell.execute_reply": "2024-03-09T02:41:36.489277Z"
    },
    "papermill": {
     "duration": 0.055739,
     "end_time": "2024-03-09T02:41:36.493323",
     "exception": false,
     "start_time": "2024-03-09T02:41:36.437584",
     "status": "completed"
    },
    "tags": []
   },
   "outputs": [
    {
     "name": "stdout",
     "output_type": "stream",
     "text": [
      "<class 'pandas.core.frame.DataFrame'>\n",
      "Index: 60 entries, 0 to 29\n",
      "Data columns (total 10 columns):\n",
      " #   Column               Non-Null Count  Dtype         \n",
      "---  ------               --------------  -----         \n",
      " 0   Campaign Name        60 non-null     object        \n",
      " 1   Date                 60 non-null     datetime64[ns]\n",
      " 2   Spend [USD]          60 non-null     int64         \n",
      " 3   # of Impressions     60 non-null     float64       \n",
      " 4   Reach                60 non-null     float64       \n",
      " 5   # of Website Clicks  60 non-null     float64       \n",
      " 6   # of Searches        60 non-null     float64       \n",
      " 7   # of View Content    60 non-null     float64       \n",
      " 8   # of Add to Cart     60 non-null     float64       \n",
      " 9   # of Purchase        60 non-null     float64       \n",
      "dtypes: datetime64[ns](1), float64(7), int64(1), object(1)\n",
      "memory usage: 5.2+ KB\n"
     ]
    }
   ],
   "source": [
    "#Convert date to datetime\n",
    "control['Date'] = pd.to_datetime(control['Date'], format = '%d.%m.%Y')\n",
    "test['Date'] = pd.to_datetime(test['Date'], format = '%d.%m.%Y')\n",
    "\n",
    "#Fill missing values with mean\n",
    "control = round(control.fillna(control.mean(numeric_only=True)))\n",
    "\n",
    "#Concat both dataframes\n",
    "data = pd.concat([control, test], axis =0)\n",
    "\n",
    "data.info()"
   ]
  },
  {
   "cell_type": "code",
   "execution_count": 32,
   "id": "53ab203b",
   "metadata": {
    "execution": {
     "iopub.execute_input": "2024-03-09T02:41:36.528389Z",
     "iopub.status.busy": "2024-03-09T02:41:36.527080Z",
     "iopub.status.idle": "2024-03-09T02:41:36.544337Z",
     "shell.execute_reply": "2024-03-09T02:41:36.543684Z"
    },
    "papermill": {
     "duration": 0.036612,
     "end_time": "2024-03-09T02:41:36.546168",
     "exception": false,
     "start_time": "2024-03-09T02:41:36.509556",
     "status": "completed"
    },
    "tags": []
   },
   "outputs": [
    {
     "data": {
      "text/html": [
       "<div>\n",
       "<style scoped>\n",
       "    .dataframe tbody tr th:only-of-type {\n",
       "        vertical-align: middle;\n",
       "    }\n",
       "\n",
       "    .dataframe tbody tr th {\n",
       "        vertical-align: top;\n",
       "    }\n",
       "\n",
       "    .dataframe thead th {\n",
       "        text-align: right;\n",
       "    }\n",
       "</style>\n",
       "<table border=\"1\" class=\"dataframe\">\n",
       "  <thead>\n",
       "    <tr style=\"text-align: right;\">\n",
       "      <th></th>\n",
       "      <th>Campaign Name</th>\n",
       "      <th>Date</th>\n",
       "      <th>Spend [USD]</th>\n",
       "      <th># of Impressions</th>\n",
       "      <th>Reach</th>\n",
       "      <th># of Website Clicks</th>\n",
       "      <th># of Searches</th>\n",
       "      <th># of View Content</th>\n",
       "      <th># of Add to Cart</th>\n",
       "      <th># of Purchase</th>\n",
       "    </tr>\n",
       "  </thead>\n",
       "  <tbody>\n",
       "    <tr>\n",
       "      <th>0</th>\n",
       "      <td>Control Campaign</td>\n",
       "      <td>2019-08-01</td>\n",
       "      <td>2280</td>\n",
       "      <td>82702.0</td>\n",
       "      <td>56930.0</td>\n",
       "      <td>7016.0</td>\n",
       "      <td>2290.0</td>\n",
       "      <td>2159.0</td>\n",
       "      <td>1819.0</td>\n",
       "      <td>618.0</td>\n",
       "    </tr>\n",
       "    <tr>\n",
       "      <th>1</th>\n",
       "      <td>Control Campaign</td>\n",
       "      <td>2019-08-02</td>\n",
       "      <td>1757</td>\n",
       "      <td>121040.0</td>\n",
       "      <td>102513.0</td>\n",
       "      <td>8110.0</td>\n",
       "      <td>2033.0</td>\n",
       "      <td>1841.0</td>\n",
       "      <td>1219.0</td>\n",
       "      <td>511.0</td>\n",
       "    </tr>\n",
       "    <tr>\n",
       "      <th>2</th>\n",
       "      <td>Control Campaign</td>\n",
       "      <td>2019-08-03</td>\n",
       "      <td>2343</td>\n",
       "      <td>131711.0</td>\n",
       "      <td>110862.0</td>\n",
       "      <td>6508.0</td>\n",
       "      <td>1737.0</td>\n",
       "      <td>1549.0</td>\n",
       "      <td>1134.0</td>\n",
       "      <td>372.0</td>\n",
       "    </tr>\n",
       "    <tr>\n",
       "      <th>3</th>\n",
       "      <td>Control Campaign</td>\n",
       "      <td>2019-08-04</td>\n",
       "      <td>1940</td>\n",
       "      <td>72878.0</td>\n",
       "      <td>61235.0</td>\n",
       "      <td>3065.0</td>\n",
       "      <td>1042.0</td>\n",
       "      <td>982.0</td>\n",
       "      <td>1183.0</td>\n",
       "      <td>340.0</td>\n",
       "    </tr>\n",
       "    <tr>\n",
       "      <th>4</th>\n",
       "      <td>Control Campaign</td>\n",
       "      <td>2019-08-05</td>\n",
       "      <td>1835</td>\n",
       "      <td>109560.0</td>\n",
       "      <td>88845.0</td>\n",
       "      <td>5321.0</td>\n",
       "      <td>2221.0</td>\n",
       "      <td>1944.0</td>\n",
       "      <td>1300.0</td>\n",
       "      <td>523.0</td>\n",
       "    </tr>\n",
       "  </tbody>\n",
       "</table>\n",
       "</div>"
      ],
      "text/plain": [
       "      Campaign Name       Date  Spend [USD]  # of Impressions     Reach  \\\n",
       "0  Control Campaign 2019-08-01         2280           82702.0   56930.0   \n",
       "1  Control Campaign 2019-08-02         1757          121040.0  102513.0   \n",
       "2  Control Campaign 2019-08-03         2343          131711.0  110862.0   \n",
       "3  Control Campaign 2019-08-04         1940           72878.0   61235.0   \n",
       "4  Control Campaign 2019-08-05         1835          109560.0   88845.0   \n",
       "\n",
       "   # of Website Clicks  # of Searches  # of View Content  # of Add to Cart  \\\n",
       "0               7016.0         2290.0             2159.0            1819.0   \n",
       "1               8110.0         2033.0             1841.0            1219.0   \n",
       "2               6508.0         1737.0             1549.0            1134.0   \n",
       "3               3065.0         1042.0              982.0            1183.0   \n",
       "4               5321.0         2221.0             1944.0            1300.0   \n",
       "\n",
       "   # of Purchase  \n",
       "0          618.0  \n",
       "1          511.0  \n",
       "2          372.0  \n",
       "3          340.0  \n",
       "4          523.0  "
      ]
     },
     "execution_count": 32,
     "metadata": {},
     "output_type": "execute_result"
    }
   ],
   "source": [
    "data.head()"
   ]
  },
  {
   "cell_type": "code",
   "execution_count": 33,
   "id": "6472e3e5",
   "metadata": {
    "execution": {
     "iopub.execute_input": "2024-03-09T02:41:36.581084Z",
     "iopub.status.busy": "2024-03-09T02:41:36.580453Z",
     "iopub.status.idle": "2024-03-09T02:41:36.602869Z",
     "shell.execute_reply": "2024-03-09T02:41:36.601722Z"
    },
    "papermill": {
     "duration": 0.041919,
     "end_time": "2024-03-09T02:41:36.604865",
     "exception": false,
     "start_time": "2024-03-09T02:41:36.562946",
     "status": "completed"
    },
    "tags": []
   },
   "outputs": [],
   "source": [
    "data['CTR'] = round((data['# of Website Clicks']/ data['# of Impressions']), 2)\n",
    "\n",
    "ctr = data.groupby(['Campaign Name', 'Date'])['CTR'].mean().to_frame()\n",
    "\n",
    "#Create a pivot table\n",
    "ctr_pivot= ctr.pivot_table(columns= 'Campaign Name', index='Date', \n",
    "values = 'CTR')"
   ]
  },
  {
   "cell_type": "code",
   "execution_count": 34,
   "id": "10ac19aa",
   "metadata": {
    "execution": {
     "iopub.execute_input": "2024-03-09T02:41:36.639383Z",
     "iopub.status.busy": "2024-03-09T02:41:36.638687Z",
     "iopub.status.idle": "2024-03-09T02:41:36.654947Z",
     "shell.execute_reply": "2024-03-09T02:41:36.653408Z"
    },
    "papermill": {
     "duration": 0.036061,
     "end_time": "2024-03-09T02:41:36.657148",
     "exception": false,
     "start_time": "2024-03-09T02:41:36.621087",
     "status": "completed"
    },
    "tags": []
   },
   "outputs": [
    {
     "data": {
      "text/html": [
       "<div>\n",
       "<style scoped>\n",
       "    .dataframe tbody tr th:only-of-type {\n",
       "        vertical-align: middle;\n",
       "    }\n",
       "\n",
       "    .dataframe tbody tr th {\n",
       "        vertical-align: top;\n",
       "    }\n",
       "\n",
       "    .dataframe thead th {\n",
       "        text-align: right;\n",
       "    }\n",
       "</style>\n",
       "<table border=\"1\" class=\"dataframe\">\n",
       "  <thead>\n",
       "    <tr style=\"text-align: right;\">\n",
       "      <th></th>\n",
       "      <th>Campaign Name</th>\n",
       "      <th>Date</th>\n",
       "      <th>Spend [USD]</th>\n",
       "      <th># of Impressions</th>\n",
       "      <th>Reach</th>\n",
       "      <th># of Website Clicks</th>\n",
       "      <th># of Searches</th>\n",
       "      <th># of View Content</th>\n",
       "      <th># of Add to Cart</th>\n",
       "      <th># of Purchase</th>\n",
       "      <th>CTR</th>\n",
       "    </tr>\n",
       "  </thead>\n",
       "  <tbody>\n",
       "    <tr>\n",
       "      <th>0</th>\n",
       "      <td>Control Campaign</td>\n",
       "      <td>2019-08-01</td>\n",
       "      <td>2280</td>\n",
       "      <td>82702.0</td>\n",
       "      <td>56930.0</td>\n",
       "      <td>7016.0</td>\n",
       "      <td>2290.0</td>\n",
       "      <td>2159.0</td>\n",
       "      <td>1819.0</td>\n",
       "      <td>618.0</td>\n",
       "      <td>0.08</td>\n",
       "    </tr>\n",
       "    <tr>\n",
       "      <th>1</th>\n",
       "      <td>Control Campaign</td>\n",
       "      <td>2019-08-02</td>\n",
       "      <td>1757</td>\n",
       "      <td>121040.0</td>\n",
       "      <td>102513.0</td>\n",
       "      <td>8110.0</td>\n",
       "      <td>2033.0</td>\n",
       "      <td>1841.0</td>\n",
       "      <td>1219.0</td>\n",
       "      <td>511.0</td>\n",
       "      <td>0.07</td>\n",
       "    </tr>\n",
       "    <tr>\n",
       "      <th>2</th>\n",
       "      <td>Control Campaign</td>\n",
       "      <td>2019-08-03</td>\n",
       "      <td>2343</td>\n",
       "      <td>131711.0</td>\n",
       "      <td>110862.0</td>\n",
       "      <td>6508.0</td>\n",
       "      <td>1737.0</td>\n",
       "      <td>1549.0</td>\n",
       "      <td>1134.0</td>\n",
       "      <td>372.0</td>\n",
       "      <td>0.05</td>\n",
       "    </tr>\n",
       "    <tr>\n",
       "      <th>3</th>\n",
       "      <td>Control Campaign</td>\n",
       "      <td>2019-08-04</td>\n",
       "      <td>1940</td>\n",
       "      <td>72878.0</td>\n",
       "      <td>61235.0</td>\n",
       "      <td>3065.0</td>\n",
       "      <td>1042.0</td>\n",
       "      <td>982.0</td>\n",
       "      <td>1183.0</td>\n",
       "      <td>340.0</td>\n",
       "      <td>0.04</td>\n",
       "    </tr>\n",
       "    <tr>\n",
       "      <th>4</th>\n",
       "      <td>Control Campaign</td>\n",
       "      <td>2019-08-05</td>\n",
       "      <td>1835</td>\n",
       "      <td>109560.0</td>\n",
       "      <td>88845.0</td>\n",
       "      <td>5321.0</td>\n",
       "      <td>2221.0</td>\n",
       "      <td>1944.0</td>\n",
       "      <td>1300.0</td>\n",
       "      <td>523.0</td>\n",
       "      <td>0.05</td>\n",
       "    </tr>\n",
       "  </tbody>\n",
       "</table>\n",
       "</div>"
      ],
      "text/plain": [
       "      Campaign Name       Date  Spend [USD]  # of Impressions     Reach  \\\n",
       "0  Control Campaign 2019-08-01         2280           82702.0   56930.0   \n",
       "1  Control Campaign 2019-08-02         1757          121040.0  102513.0   \n",
       "2  Control Campaign 2019-08-03         2343          131711.0  110862.0   \n",
       "3  Control Campaign 2019-08-04         1940           72878.0   61235.0   \n",
       "4  Control Campaign 2019-08-05         1835          109560.0   88845.0   \n",
       "\n",
       "   # of Website Clicks  # of Searches  # of View Content  # of Add to Cart  \\\n",
       "0               7016.0         2290.0             2159.0            1819.0   \n",
       "1               8110.0         2033.0             1841.0            1219.0   \n",
       "2               6508.0         1737.0             1549.0            1134.0   \n",
       "3               3065.0         1042.0              982.0            1183.0   \n",
       "4               5321.0         2221.0             1944.0            1300.0   \n",
       "\n",
       "   # of Purchase   CTR  \n",
       "0          618.0  0.08  \n",
       "1          511.0  0.07  \n",
       "2          372.0  0.05  \n",
       "3          340.0  0.04  \n",
       "4          523.0  0.05  "
      ]
     },
     "execution_count": 34,
     "metadata": {},
     "output_type": "execute_result"
    }
   ],
   "source": [
    "data.head()"
   ]
  },
  {
   "cell_type": "code",
   "execution_count": 35,
   "id": "4b1dd245",
   "metadata": {
    "execution": {
     "iopub.execute_input": "2024-03-09T02:41:36.692633Z",
     "iopub.status.busy": "2024-03-09T02:41:36.692293Z",
     "iopub.status.idle": "2024-03-09T02:41:36.702467Z",
     "shell.execute_reply": "2024-03-09T02:41:36.701159Z"
    },
    "papermill": {
     "duration": 0.02964,
     "end_time": "2024-03-09T02:41:36.704430",
     "exception": false,
     "start_time": "2024-03-09T02:41:36.674790",
     "status": "completed"
    },
    "tags": []
   },
   "outputs": [
    {
     "data": {
      "text/html": [
       "<div>\n",
       "<style scoped>\n",
       "    .dataframe tbody tr th:only-of-type {\n",
       "        vertical-align: middle;\n",
       "    }\n",
       "\n",
       "    .dataframe tbody tr th {\n",
       "        vertical-align: top;\n",
       "    }\n",
       "\n",
       "    .dataframe thead th {\n",
       "        text-align: right;\n",
       "    }\n",
       "</style>\n",
       "<table border=\"1\" class=\"dataframe\">\n",
       "  <thead>\n",
       "    <tr style=\"text-align: right;\">\n",
       "      <th>Campaign Name</th>\n",
       "      <th>Control Campaign</th>\n",
       "      <th>Test Campaign</th>\n",
       "    </tr>\n",
       "    <tr>\n",
       "      <th>Date</th>\n",
       "      <th></th>\n",
       "      <th></th>\n",
       "    </tr>\n",
       "  </thead>\n",
       "  <tbody>\n",
       "    <tr>\n",
       "      <th>2019-08-01</th>\n",
       "      <td>0.08</td>\n",
       "      <td>0.08</td>\n",
       "    </tr>\n",
       "    <tr>\n",
       "      <th>2019-08-02</th>\n",
       "      <td>0.07</td>\n",
       "      <td>0.05</td>\n",
       "    </tr>\n",
       "    <tr>\n",
       "      <th>2019-08-03</th>\n",
       "      <td>0.05</td>\n",
       "      <td>0.11</td>\n",
       "    </tr>\n",
       "    <tr>\n",
       "      <th>2019-08-04</th>\n",
       "      <td>0.04</td>\n",
       "      <td>0.05</td>\n",
       "    </tr>\n",
       "    <tr>\n",
       "      <th>2019-08-05</th>\n",
       "      <td>0.05</td>\n",
       "      <td>0.05</td>\n",
       "    </tr>\n",
       "  </tbody>\n",
       "</table>\n",
       "</div>"
      ],
      "text/plain": [
       "Campaign Name  Control Campaign  Test Campaign\n",
       "Date                                          \n",
       "2019-08-01                 0.08           0.08\n",
       "2019-08-02                 0.07           0.05\n",
       "2019-08-03                 0.05           0.11\n",
       "2019-08-04                 0.04           0.05\n",
       "2019-08-05                 0.05           0.05"
      ]
     },
     "execution_count": 35,
     "metadata": {},
     "output_type": "execute_result"
    }
   ],
   "source": [
    "ctr_pivot[:5]"
   ]
  },
  {
   "cell_type": "code",
   "execution_count": 36,
   "id": "9b9e359f",
   "metadata": {
    "execution": {
     "iopub.execute_input": "2024-03-09T02:41:36.739768Z",
     "iopub.status.busy": "2024-03-09T02:41:36.739118Z",
     "iopub.status.idle": "2024-03-09T02:41:37.213873Z",
     "shell.execute_reply": "2024-03-09T02:41:37.212360Z"
    },
    "papermill": {
     "duration": 0.494996,
     "end_time": "2024-03-09T02:41:37.216155",
     "exception": false,
     "start_time": "2024-03-09T02:41:36.721159",
     "status": "completed"
    },
    "tags": []
   },
   "outputs": [
    {
     "data": {
      "image/png": "[encoded data removed]",
      "text/plain": [
       "<Figure size 1500x500 with 1 Axes>"
      ]
     },
     "metadata": {},
     "output_type": "display_data"
    }
   ],
   "source": [
    "#Plot the data as a line plot\n",
    "ctr_pivot.plot(kind='line', figsize=(15, 5), style='o--', markersize=6)\n",
    "\n",
    "#add title and axis labels\n",
    "plt.title('Monthly website clicks by Campaign')\n",
    "plt.xlabel('Date') # output is not right\n",
    "plt.ylabel('Click-through rates')\n",
    "plt.show()"
   ]
  },
  {
   "cell_type": "code",
   "execution_count": 37,
   "id": "88e4dfb7",
   "metadata": {
    "execution": {
     "iopub.execute_input": "2024-03-09T02:41:37.254133Z",
     "iopub.status.busy": "2024-03-09T02:41:37.253773Z",
     "iopub.status.idle": "2024-03-09T02:41:50.321853Z",
     "shell.execute_reply": "2024-03-09T02:41:50.320799Z"
    },
    "papermill": {
     "duration": 13.089977,
     "end_time": "2024-03-09T02:41:50.324329",
     "exception": false,
     "start_time": "2024-03-09T02:41:37.234352",
     "status": "completed"
    },
    "tags": []
   },
   "outputs": [
    {
     "name": "stdout",
     "output_type": "stream",
     "text": [
      "\u001b[31mERROR: pip's dependency resolver does not currently take into account all the packages that are installed. This behaviour is the source of the following dependency conflicts.\r\n",
      "keras-cv 0.8.2 requires keras-core, which is not installed.\r\n",
      "keras-nlp 0.8.1 requires keras-core, which is not installed.\r\n",
      "tensorflow-decision-forests 1.8.1 requires wurlitzer, which is not installed.\r\n",
      "google-cloud-bigquery 2.34.4 requires packaging<22.0dev,>=14.3, but you have packaging 23.2 which is incompatible.\r\n",
      "jupyterlab 4.1.2 requires jupyter-lsp>=2.0.0, but you have jupyter-lsp 1.5.1 which is incompatible.\r\n",
      "jupyterlab-lsp 5.0.3 requires jupyter-lsp>=2.0.0, but you have jupyter-lsp 1.5.1 which is incompatible.\r\n",
      "libpysal 4.9.2 requires shapely>=2.0.1, but you have shapely 1.8.5.post1 which is incompatible.\r\n",
      "momepy 0.7.0 requires shapely>=2, but you have shapely 1.8.5.post1 which is incompatible.\r\n",
      "osmnx 1.9.1 requires shapely>=2.0, but you have shapely 1.8.5.post1 which is incompatible.\r\n",
      "spopt 0.6.0 requires shapely>=2.0.1, but you have shapely 1.8.5.post1 which is incompatible.\r\n",
      "tensorflow 2.15.0 requires keras<2.16,>=2.15.0, but you have keras 3.0.5 which is incompatible.\r\n",
      "ydata-profiling 4.6.4 requires numpy<1.26,>=1.16.0, but you have numpy 1.26.4 which is incompatible.\u001b[0m\u001b[31m\r\n",
      "\u001b[0m"
     ]
    }
   ],
   "source": [
    "!pip install pingouin --quiet"
   ]
  },
  {
   "cell_type": "code",
   "execution_count": 38,
   "id": "f41f9d4c",
   "metadata": {
    "execution": {
     "iopub.execute_input": "2024-03-09T02:41:50.361690Z",
     "iopub.status.busy": "2024-03-09T02:41:50.361249Z",
     "iopub.status.idle": "2024-03-09T02:41:50.576625Z",
     "shell.execute_reply": "2024-03-09T02:41:50.575589Z"
    },
    "papermill": {
     "duration": 0.237398,
     "end_time": "2024-03-09T02:41:50.579727",
     "exception": false,
     "start_time": "2024-03-09T02:41:50.342329",
     "status": "completed"
    },
    "tags": []
   },
   "outputs": [
    {
     "name": "stdout",
     "output_type": "stream",
     "text": [
      "     U-val alternative     p-val       RBC      CLES\n",
      "MWU  699.0     greater  0.000109 -0.553333  0.776667\n"
     ]
    }
   ],
   "source": [
    "# Create a DatFrame with two columns Campaign name and CTR\n",
    "df_test = data[['Campaign Name', 'CTR']]\n",
    "\n",
    "# Reshape the DataFrame to a wide format\n",
    "df_wide = df_test.pivot(columns = 'Campaign Name', values='CTR')\n",
    "\n",
    "import pingouin as pg\n",
    "\n",
    "# Conduct a Mann-Whitney U test\n",
    "test_results = pg.mwu(x=df_wide['Test Campaign'],\n",
    "y=df_wide['Control Campaign'], alternative='greater')\n",
    "\n",
    "print(test_results)"
   ]
  },
  {
   "cell_type": "code",
   "execution_count": 39,
   "id": "dcef5c3c",
   "metadata": {
    "execution": {
     "iopub.execute_input": "2024-03-09T02:41:50.617336Z",
     "iopub.status.busy": "2024-03-09T02:41:50.616949Z",
     "iopub.status.idle": "2024-03-09T02:41:50.627889Z",
     "shell.execute_reply": "2024-03-09T02:41:50.626801Z"
    },
    "papermill": {
     "duration": 0.032211,
     "end_time": "2024-03-09T02:41:50.629834",
     "exception": false,
     "start_time": "2024-03-09T02:41:50.597623",
     "status": "completed"
    },
    "tags": []
   },
   "outputs": [
    {
     "data": {
      "text/html": [
       "<div>\n",
       "<style scoped>\n",
       "    .dataframe tbody tr th:only-of-type {\n",
       "        vertical-align: middle;\n",
       "    }\n",
       "\n",
       "    .dataframe tbody tr th {\n",
       "        vertical-align: top;\n",
       "    }\n",
       "\n",
       "    .dataframe thead th {\n",
       "        text-align: right;\n",
       "    }\n",
       "</style>\n",
       "<table border=\"1\" class=\"dataframe\">\n",
       "  <thead>\n",
       "    <tr style=\"text-align: right;\">\n",
       "      <th></th>\n",
       "      <th>Campaign Name</th>\n",
       "      <th>CTR</th>\n",
       "    </tr>\n",
       "  </thead>\n",
       "  <tbody>\n",
       "    <tr>\n",
       "      <th>0</th>\n",
       "      <td>Control Campaign</td>\n",
       "      <td>0.08</td>\n",
       "    </tr>\n",
       "    <tr>\n",
       "      <th>1</th>\n",
       "      <td>Control Campaign</td>\n",
       "      <td>0.07</td>\n",
       "    </tr>\n",
       "    <tr>\n",
       "      <th>2</th>\n",
       "      <td>Control Campaign</td>\n",
       "      <td>0.05</td>\n",
       "    </tr>\n",
       "    <tr>\n",
       "      <th>3</th>\n",
       "      <td>Control Campaign</td>\n",
       "      <td>0.04</td>\n",
       "    </tr>\n",
       "    <tr>\n",
       "      <th>4</th>\n",
       "      <td>Control Campaign</td>\n",
       "      <td>0.05</td>\n",
       "    </tr>\n",
       "  </tbody>\n",
       "</table>\n",
       "</div>"
      ],
      "text/plain": [
       "      Campaign Name   CTR\n",
       "0  Control Campaign  0.08\n",
       "1  Control Campaign  0.07\n",
       "2  Control Campaign  0.05\n",
       "3  Control Campaign  0.04\n",
       "4  Control Campaign  0.05"
      ]
     },
     "execution_count": 39,
     "metadata": {},
     "output_type": "execute_result"
    }
   ],
   "source": [
    "df_test[:5]"
   ]
  },
  {
   "cell_type": "code",
   "execution_count": 40,
   "id": "af35208f",
   "metadata": {
    "execution": {
     "iopub.execute_input": "2024-03-09T02:41:50.667865Z",
     "iopub.status.busy": "2024-03-09T02:41:50.667507Z",
     "iopub.status.idle": "2024-03-09T02:41:50.678558Z",
     "shell.execute_reply": "2024-03-09T02:41:50.677330Z"
    },
    "papermill": {
     "duration": 0.032637,
     "end_time": "2024-03-09T02:41:50.680621",
     "exception": false,
     "start_time": "2024-03-09T02:41:50.647984",
     "status": "completed"
    },
    "tags": []
   },
   "outputs": [
    {
     "data": {
      "text/html": [
       "<div>\n",
       "<style scoped>\n",
       "    .dataframe tbody tr th:only-of-type {\n",
       "        vertical-align: middle;\n",
       "    }\n",
       "\n",
       "    .dataframe tbody tr th {\n",
       "        vertical-align: top;\n",
       "    }\n",
       "\n",
       "    .dataframe thead th {\n",
       "        text-align: right;\n",
       "    }\n",
       "</style>\n",
       "<table border=\"1\" class=\"dataframe\">\n",
       "  <thead>\n",
       "    <tr style=\"text-align: right;\">\n",
       "      <th>Campaign Name</th>\n",
       "      <th>Control Campaign</th>\n",
       "      <th>Test Campaign</th>\n",
       "    </tr>\n",
       "  </thead>\n",
       "  <tbody>\n",
       "    <tr>\n",
       "      <th>0</th>\n",
       "      <td>0.08</td>\n",
       "      <td>0.08</td>\n",
       "    </tr>\n",
       "    <tr>\n",
       "      <th>1</th>\n",
       "      <td>0.07</td>\n",
       "      <td>0.05</td>\n",
       "    </tr>\n",
       "    <tr>\n",
       "      <th>2</th>\n",
       "      <td>0.05</td>\n",
       "      <td>0.11</td>\n",
       "    </tr>\n",
       "    <tr>\n",
       "      <th>3</th>\n",
       "      <td>0.04</td>\n",
       "      <td>0.05</td>\n",
       "    </tr>\n",
       "    <tr>\n",
       "      <th>4</th>\n",
       "      <td>0.05</td>\n",
       "      <td>0.05</td>\n",
       "    </tr>\n",
       "  </tbody>\n",
       "</table>\n",
       "</div>"
      ],
      "text/plain": [
       "Campaign Name  Control Campaign  Test Campaign\n",
       "0                          0.08           0.08\n",
       "1                          0.07           0.05\n",
       "2                          0.05           0.11\n",
       "3                          0.04           0.05\n",
       "4                          0.05           0.05"
      ]
     },
     "execution_count": 40,
     "metadata": {},
     "output_type": "execute_result"
    }
   ],
   "source": [
    "df_wide[:5]"
   ]
  },
  {
   "cell_type": "markdown",
   "id": "62a60e47",
   "metadata": {
    "papermill": {
     "duration": 0.018148,
     "end_time": "2024-03-09T02:41:50.717302",
     "exception": false,
     "start_time": "2024-03-09T02:41:50.699154",
     "status": "completed"
    },
    "tags": []
   },
   "source": [
    "___"
   ]
  },
  {
   "cell_type": "code",
   "execution_count": 41,
   "id": "24d39907",
   "metadata": {
    "execution": {
     "iopub.execute_input": "2024-03-09T02:41:50.756054Z",
     "iopub.status.busy": "2024-03-09T02:41:50.755703Z",
     "iopub.status.idle": "2024-03-09T02:41:50.761227Z",
     "shell.execute_reply": "2024-03-09T02:41:50.760309Z"
    },
    "papermill": {
     "duration": 0.02739,
     "end_time": "2024-03-09T02:41:50.763257",
     "exception": false,
     "start_time": "2024-03-09T02:41:50.735867",
     "status": "completed"
    },
    "tags": []
   },
   "outputs": [],
   "source": [
    "# Each row is for a different day and this is what is fed into the statistical test. So original attempt before test is right! :)\n",
    "\n",
    "# Now, need to make sure that we are thinking about straight metrics calculation, hypothesis testing with correct stat test to t-statistic to p-value to population PDF correctly to answer question \n",
    "# of whether or not Ho is rejectable or not. \n",
    "# Through original data inferring pop density mean with stat test to RJ Ho or not?"
   ]
  },
  {
   "cell_type": "markdown",
   "id": "fc5c47a4",
   "metadata": {
    "papermill": {
     "duration": 0.017825,
     "end_time": "2024-03-09T02:41:50.799678",
     "exception": false,
     "start_time": "2024-03-09T02:41:50.781853",
     "status": "completed"
    },
    "tags": []
   },
   "source": [
    "* Statistical test is needed to determine whether or not data that is provided/more extreme data would come from scenario in which Ho == True\n",
    "* test statistic: \n",
    "\n",
    "    * The test statistic is a numerical value calculated from sample data during a statistical hypothesis test.\n",
    "    * It quantifies the **distance** between the observed sample data and what we would expect under the null hypothesis.\n",
    "    * In essence, the test statistic summarizes how far our data deviates from the null hypothesis.\n",
    "Common examples of test statistics include the t-value, z-score, and F-statistic.\n",
    "    * The choice of test statistic depends on the type of test (e.g., t-tests, ANOVA, chi-square tests).\n",
    "* p-value:\n",
    "    * The p-value (probability value) is a crucial component in hypothesis testing.\n",
    "    * It represents the probability of obtaining the observed test statistic (or more extreme values) if the null hypothesis were true.\n",
    "    * A small p-value indicates that the observed data is unlikely to occur by chance alone under the null hypothesis.\n",
    "    * Conversely, a large p-value suggests that the observed data could reasonably occur even if the null hypothesis were true.\n",
    "    * Researchers typically compare the p-value to a predefined significance level (often 0.05) to make decisions about rejecting or failing to reject the null hypothesis.\n",
    "    \n",
    "Relationship:\n",
    "The test statistic and p-value are intimately connected:\n",
    "* The test statistic provides the raw information (e.g., t-value, z-score) about the sample data.\n",
    "* The p-value is derived from the test statistic and tells us how consistent the data is with the null hypothesis.\n",
    "\n",
    "The p-value is calculated based on the distribution of the test statistic under the null hypothesis.\n",
    "* If the p-value is small (typically less than 0.05), we reject the null hypothesis.\n",
    "* If the p-value is large, we fail to reject the null hypothesis.\n",
    "\n",
    "Interpretation:\n",
    "* Test Statistic: It’s a measure of the observed difference or effect.\n",
    "* P-Value: It’s a measure of the evidence against the null hypothesis.\n",
    "\n",
    "PDF/Probability Distribution Function:\n",
    "* Graphically, the test statistic corresponds to a specific point on the probability distribution function (PDF) associated with that test.\n",
    "* The PDF provides the context for interpreting the test statistic.\n",
    "* Different tests (e.g., t-tests, F-tests, chi-square tests) have their own corresponding distributions (e.g., t-distribution, F-distribution, chi-square distribution).\n",
    "* For example, in a t-test, the test statistic is the t-value, and its distribution is the t-distribution.\n",
    "\n",
    "    * p-value Representation:\n",
    "        * The p-value is a function of the chosen test statistic and is therefore a random variable.\n",
    "        * When we run a hypothesis test, we calculate the p-value based on the observed test statistic.\n",
    "        * Graphically, the p-value corresponds to an area in the tail of the relevant probability distribution.\n",
    "\n",
    "        Specifically:\n",
    "        * For a one-tailed test, the p-value is the area to the right of the test statistic.\n",
    "        * For a two-tailed test, the p-value is the combined area to the left and right of the test statistic.\n",
    "        * When the null hypothesis is true, the p-value follows a uniform distribution between 0 and 1.\n",
    "\n",
    "Statistical Power:\n",
    "* Statistical power is the probability that a hypothesis test can detect an effect in a sample when that effect truly exists in the population.\n",
    "* It represents the sensitivity of a test to detect specific effects.\n",
    "* In other words, how likely is the test to correctly identify an effect if it’s genuinely present?\n",
    "* Researchers typically aim for a statistical power of 80% or higher\n",
    "* Higher test statistics (farther from the null hypothesis) contribute to greater statistical power.\n",
    "* A larger test statistic increases the chances of correctly detecting an effect.\n",
    "* High power means a lower probability of making a Type II error (failing to detect a true effect).\n",
    "\n",
    "High power is desirable for several reasons:\n",
    "\n",
    "* Minimizing Type II Errors: High power reduces the risk of missing important effects. It ensures that we correctly identify real differences or relationships.\n",
    "* Efficient Resource Use: Adequate power allows researchers to detect effects with smaller sample sizes, saving time and resources."
   ]
  },
  {
   "cell_type": "markdown",
   "id": "4cc6e3e6",
   "metadata": {
    "papermill": {
     "duration": 0.017687,
     "end_time": "2024-03-09T02:41:50.835464",
     "exception": false,
     "start_time": "2024-03-09T02:41:50.817777",
     "status": "completed"
    },
    "tags": []
   },
   "source": [
    "## User-level Conversion Metrics"
   ]
  },
  {
   "cell_type": "code",
   "execution_count": 42,
   "id": "19df188b",
   "metadata": {
    "execution": {
     "iopub.execute_input": "2024-03-09T02:41:50.872711Z",
     "iopub.status.busy": "2024-03-09T02:41:50.872338Z",
     "iopub.status.idle": "2024-03-09T02:41:50.886051Z",
     "shell.execute_reply": "2024-03-09T02:41:50.885150Z"
    },
    "papermill": {
     "duration": 0.034908,
     "end_time": "2024-03-09T02:41:50.887994",
     "exception": false,
     "start_time": "2024-03-09T02:41:50.853086",
     "status": "completed"
    },
    "tags": []
   },
   "outputs": [
    {
     "data": {
      "text/html": [
       "<div>\n",
       "<style scoped>\n",
       "    .dataframe tbody tr th:only-of-type {\n",
       "        vertical-align: middle;\n",
       "    }\n",
       "\n",
       "    .dataframe tbody tr th {\n",
       "        vertical-align: top;\n",
       "    }\n",
       "\n",
       "    .dataframe thead th {\n",
       "        text-align: right;\n",
       "    }\n",
       "</style>\n",
       "<table border=\"1\" class=\"dataframe\">\n",
       "  <thead>\n",
       "    <tr style=\"text-align: right;\">\n",
       "      <th></th>\n",
       "      <th>experiment_group</th>\n",
       "      <th>user_id</th>\n",
       "      <th>total_views</th>\n",
       "      <th>total_cart</th>\n",
       "      <th>total_purchase</th>\n",
       "    </tr>\n",
       "  </thead>\n",
       "  <tbody>\n",
       "    <tr>\n",
       "      <th>0</th>\n",
       "      <td>control</td>\n",
       "      <td>516266655</td>\n",
       "      <td>73.0</td>\n",
       "      <td>1.0</td>\n",
       "      <td>0.0</td>\n",
       "    </tr>\n",
       "    <tr>\n",
       "      <th>1</th>\n",
       "      <td>control</td>\n",
       "      <td>557130803</td>\n",
       "      <td>12.0</td>\n",
       "      <td>0.0</td>\n",
       "      <td>0.0</td>\n",
       "    </tr>\n",
       "    <tr>\n",
       "      <th>2</th>\n",
       "      <td>test</td>\n",
       "      <td>518418918</td>\n",
       "      <td>8.0</td>\n",
       "      <td>0.0</td>\n",
       "      <td>0.0</td>\n",
       "    </tr>\n",
       "    <tr>\n",
       "      <th>3</th>\n",
       "      <td>control</td>\n",
       "      <td>541340268</td>\n",
       "      <td>90.0</td>\n",
       "      <td>0.0</td>\n",
       "      <td>1.0</td>\n",
       "    </tr>\n",
       "    <tr>\n",
       "      <th>4</th>\n",
       "      <td>test</td>\n",
       "      <td>531595195</td>\n",
       "      <td>19.0</td>\n",
       "      <td>0.0</td>\n",
       "      <td>0.0</td>\n",
       "    </tr>\n",
       "    <tr>\n",
       "      <th>...</th>\n",
       "      <td>...</td>\n",
       "      <td>...</td>\n",
       "      <td>...</td>\n",
       "      <td>...</td>\n",
       "      <td>...</td>\n",
       "    </tr>\n",
       "    <tr>\n",
       "      <th>2531957</th>\n",
       "      <td>test</td>\n",
       "      <td>545118917</td>\n",
       "      <td>1.0</td>\n",
       "      <td>0.0</td>\n",
       "      <td>0.0</td>\n",
       "    </tr>\n",
       "    <tr>\n",
       "      <th>2531958</th>\n",
       "      <td>test</td>\n",
       "      <td>540455717</td>\n",
       "      <td>1.0</td>\n",
       "      <td>0.0</td>\n",
       "      <td>0.0</td>\n",
       "    </tr>\n",
       "    <tr>\n",
       "      <th>2531959</th>\n",
       "      <td>control</td>\n",
       "      <td>561887937</td>\n",
       "      <td>1.0</td>\n",
       "      <td>0.0</td>\n",
       "      <td>0.0</td>\n",
       "    </tr>\n",
       "    <tr>\n",
       "      <th>2531960</th>\n",
       "      <td>test</td>\n",
       "      <td>516937884</td>\n",
       "      <td>1.0</td>\n",
       "      <td>0.0</td>\n",
       "      <td>0.0</td>\n",
       "    </tr>\n",
       "    <tr>\n",
       "      <th>2531961</th>\n",
       "      <td>control</td>\n",
       "      <td>525897096</td>\n",
       "      <td>1.0</td>\n",
       "      <td>0.0</td>\n",
       "      <td>0.0</td>\n",
       "    </tr>\n",
       "  </tbody>\n",
       "</table>\n",
       "<p>2531962 rows × 5 columns</p>\n",
       "</div>"
      ],
      "text/plain": [
       "        experiment_group    user_id  total_views  total_cart  total_purchase\n",
       "0                control  516266655         73.0         1.0             0.0\n",
       "1                control  557130803         12.0         0.0             0.0\n",
       "2                   test  518418918          8.0         0.0             0.0\n",
       "3                control  541340268         90.0         0.0             1.0\n",
       "4                   test  531595195         19.0         0.0             0.0\n",
       "...                  ...        ...          ...         ...             ...\n",
       "2531957             test  545118917          1.0         0.0             0.0\n",
       "2531958             test  540455717          1.0         0.0             0.0\n",
       "2531959          control  561887937          1.0         0.0             0.0\n",
       "2531960             test  516937884          1.0         0.0             0.0\n",
       "2531961          control  525897096          1.0         0.0             0.0\n",
       "\n",
       "[2531962 rows x 5 columns]"
      ]
     },
     "execution_count": 42,
     "metadata": {},
     "output_type": "execute_result"
    }
   ],
   "source": [
    "# User events aggregated\n",
    "events_agg"
   ]
  },
  {
   "cell_type": "code",
   "execution_count": 43,
   "id": "be57813f",
   "metadata": {
    "execution": {
     "iopub.execute_input": "2024-03-09T02:41:50.926853Z",
     "iopub.status.busy": "2024-03-09T02:41:50.926493Z",
     "iopub.status.idle": "2024-03-09T02:41:51.228748Z",
     "shell.execute_reply": "2024-03-09T02:41:51.227608Z"
    },
    "papermill": {
     "duration": 0.324244,
     "end_time": "2024-03-09T02:41:51.230733",
     "exception": false,
     "start_time": "2024-03-09T02:41:50.906489",
     "status": "completed"
    },
    "tags": []
   },
   "outputs": [
    {
     "data": {
      "text/html": [
       "<div>\n",
       "<style scoped>\n",
       "    .dataframe tbody tr th:only-of-type {\n",
       "        vertical-align: middle;\n",
       "    }\n",
       "\n",
       "    .dataframe tbody tr th {\n",
       "        vertical-align: top;\n",
       "    }\n",
       "\n",
       "    .dataframe thead th {\n",
       "        text-align: right;\n",
       "    }\n",
       "</style>\n",
       "<table border=\"1\" class=\"dataframe\">\n",
       "  <thead>\n",
       "    <tr style=\"text-align: right;\">\n",
       "      <th></th>\n",
       "      <th>experiment_group</th>\n",
       "      <th>user_id</th>\n",
       "      <th>total_views</th>\n",
       "      <th>total_cart</th>\n",
       "      <th>total_purchase</th>\n",
       "      <th>conversion</th>\n",
       "    </tr>\n",
       "  </thead>\n",
       "  <tbody>\n",
       "    <tr>\n",
       "      <th>0</th>\n",
       "      <td>control</td>\n",
       "      <td>516266655</td>\n",
       "      <td>73.0</td>\n",
       "      <td>1.0</td>\n",
       "      <td>0.0</td>\n",
       "      <td>0</td>\n",
       "    </tr>\n",
       "    <tr>\n",
       "      <th>1</th>\n",
       "      <td>control</td>\n",
       "      <td>557130803</td>\n",
       "      <td>12.0</td>\n",
       "      <td>0.0</td>\n",
       "      <td>0.0</td>\n",
       "      <td>0</td>\n",
       "    </tr>\n",
       "    <tr>\n",
       "      <th>2</th>\n",
       "      <td>test</td>\n",
       "      <td>518418918</td>\n",
       "      <td>8.0</td>\n",
       "      <td>0.0</td>\n",
       "      <td>0.0</td>\n",
       "      <td>0</td>\n",
       "    </tr>\n",
       "    <tr>\n",
       "      <th>3</th>\n",
       "      <td>control</td>\n",
       "      <td>541340268</td>\n",
       "      <td>90.0</td>\n",
       "      <td>0.0</td>\n",
       "      <td>1.0</td>\n",
       "      <td>0</td>\n",
       "    </tr>\n",
       "    <tr>\n",
       "      <th>4</th>\n",
       "      <td>test</td>\n",
       "      <td>531595195</td>\n",
       "      <td>19.0</td>\n",
       "      <td>0.0</td>\n",
       "      <td>0.0</td>\n",
       "      <td>0</td>\n",
       "    </tr>\n",
       "  </tbody>\n",
       "</table>\n",
       "</div>"
      ],
      "text/plain": [
       "  experiment_group    user_id  total_views  total_cart  total_purchase  \\\n",
       "0          control  516266655         73.0         1.0             0.0   \n",
       "1          control  557130803         12.0         0.0             0.0   \n",
       "2             test  518418918          8.0         0.0             0.0   \n",
       "3          control  541340268         90.0         0.0             1.0   \n",
       "4             test  531595195         19.0         0.0             0.0   \n",
       "\n",
       "   conversion  \n",
       "0           0  \n",
       "1           0  \n",
       "2           0  \n",
       "3           0  \n",
       "4           0  "
      ]
     },
     "execution_count": 43,
     "metadata": {},
     "output_type": "execute_result"
    }
   ],
   "source": [
    "# Need to make a new column to change user as either making a purchase (at least one) -> 1 or not -> 0.\n",
    "user_conversion = duckdb.query(\"select *, case when total_purchase >1 then 1 else 0 end as conversion from events_agg\").df()\n",
    "user_conversion.head()"
   ]
  },
  {
   "cell_type": "code",
   "execution_count": 44,
   "id": "f4fa978d",
   "metadata": {
    "execution": {
     "iopub.execute_input": "2024-03-09T02:41:51.267808Z",
     "iopub.status.busy": "2024-03-09T02:41:51.267466Z",
     "iopub.status.idle": "2024-03-09T02:41:51.277007Z",
     "shell.execute_reply": "2024-03-09T02:41:51.276166Z"
    },
    "papermill": {
     "duration": 0.030396,
     "end_time": "2024-03-09T02:41:51.279066",
     "exception": false,
     "start_time": "2024-03-09T02:41:51.248670",
     "status": "completed"
    },
    "tags": []
   },
   "outputs": [
    {
     "data": {
      "text/html": [
       "<div>\n",
       "<style scoped>\n",
       "    .dataframe tbody tr th:only-of-type {\n",
       "        vertical-align: middle;\n",
       "    }\n",
       "\n",
       "    .dataframe tbody tr th {\n",
       "        vertical-align: top;\n",
       "    }\n",
       "\n",
       "    .dataframe thead th {\n",
       "        text-align: right;\n",
       "    }\n",
       "</style>\n",
       "<table border=\"1\" class=\"dataframe\">\n",
       "  <thead>\n",
       "    <tr style=\"text-align: right;\">\n",
       "      <th></th>\n",
       "      <th>experiment_group</th>\n",
       "      <th>user_id</th>\n",
       "      <th>total_views</th>\n",
       "      <th>total_cart</th>\n",
       "      <th>total_purchase</th>\n",
       "      <th>conversion</th>\n",
       "    </tr>\n",
       "  </thead>\n",
       "  <tbody>\n",
       "    <tr>\n",
       "      <th>0</th>\n",
       "      <td>control</td>\n",
       "      <td>516266655</td>\n",
       "      <td>73.0</td>\n",
       "      <td>1.0</td>\n",
       "      <td>0.0</td>\n",
       "      <td>0</td>\n",
       "    </tr>\n",
       "    <tr>\n",
       "      <th>1</th>\n",
       "      <td>control</td>\n",
       "      <td>557130803</td>\n",
       "      <td>12.0</td>\n",
       "      <td>0.0</td>\n",
       "      <td>0.0</td>\n",
       "      <td>0</td>\n",
       "    </tr>\n",
       "  </tbody>\n",
       "</table>\n",
       "</div>"
      ],
      "text/plain": [
       "  experiment_group    user_id  total_views  total_cart  total_purchase  \\\n",
       "0          control  516266655         73.0         1.0             0.0   \n",
       "1          control  557130803         12.0         0.0             0.0   \n",
       "\n",
       "   conversion  \n",
       "0           0  \n",
       "1           0  "
      ]
     },
     "execution_count": 44,
     "metadata": {},
     "output_type": "execute_result"
    }
   ],
   "source": [
    "user_conversion.head(2)"
   ]
  },
  {
   "cell_type": "code",
   "execution_count": 45,
   "id": "63beaee9",
   "metadata": {
    "execution": {
     "iopub.execute_input": "2024-03-09T02:41:51.317182Z",
     "iopub.status.busy": "2024-03-09T02:41:51.316647Z",
     "iopub.status.idle": "2024-03-09T02:41:51.631345Z",
     "shell.execute_reply": "2024-03-09T02:41:51.630664Z"
    },
    "papermill": {
     "duration": 0.335188,
     "end_time": "2024-03-09T02:41:51.633070",
     "exception": false,
     "start_time": "2024-03-09T02:41:51.297882",
     "status": "completed"
    },
    "tags": []
   },
   "outputs": [
    {
     "data": {
      "text/html": [
       "<div>\n",
       "<style scoped>\n",
       "    .dataframe tbody tr th:only-of-type {\n",
       "        vertical-align: middle;\n",
       "    }\n",
       "\n",
       "    .dataframe tbody tr th {\n",
       "        vertical-align: top;\n",
       "    }\n",
       "\n",
       "    .dataframe thead th {\n",
       "        text-align: right;\n",
       "    }\n",
       "</style>\n",
       "<table border=\"1\" class=\"dataframe\">\n",
       "  <thead>\n",
       "    <tr style=\"text-align: right;\">\n",
       "      <th></th>\n",
       "      <th>experiment_group</th>\n",
       "      <th>percent_converted</th>\n",
       "    </tr>\n",
       "  </thead>\n",
       "  <tbody>\n",
       "    <tr>\n",
       "      <th>0</th>\n",
       "      <td>control</td>\n",
       "      <td>2.48</td>\n",
       "    </tr>\n",
       "    <tr>\n",
       "      <th>1</th>\n",
       "      <td>test</td>\n",
       "      <td>2.49</td>\n",
       "    </tr>\n",
       "  </tbody>\n",
       "</table>\n",
       "</div>"
      ],
      "text/plain": [
       "  experiment_group  percent_converted\n",
       "0          control               2.48\n",
       "1             test               2.49"
      ]
     },
     "execution_count": 45,
     "metadata": {},
     "output_type": "execute_result"
    }
   ],
   "source": [
    "# Convert or not by Experiment Group\n",
    "duckdb.query(\"select experiment_group, round(sum(conversion)/count(distinct user_id)*100,2) as percent_converted from user_conversion group by experiment_group\").df()"
   ]
  },
  {
   "cell_type": "code",
   "execution_count": 46,
   "id": "b7772460",
   "metadata": {
    "execution": {
     "iopub.execute_input": "2024-03-09T02:41:51.671550Z",
     "iopub.status.busy": "2024-03-09T02:41:51.671165Z",
     "iopub.status.idle": "2024-03-09T02:41:51.948373Z",
     "shell.execute_reply": "2024-03-09T02:41:51.947666Z"
    },
    "papermill": {
     "duration": 0.298575,
     "end_time": "2024-03-09T02:41:51.950255",
     "exception": false,
     "start_time": "2024-03-09T02:41:51.651680",
     "status": "completed"
    },
    "tags": []
   },
   "outputs": [
    {
     "name": "stderr",
     "output_type": "stream",
     "text": [
      "/tmp/ipykernel_18/3233805808.py:7: FutureWarning: The provided callable <function mean at 0x7eb0e020c3a0> is currently using SeriesGroupBy.mean. In a future version of pandas, the provided callable will be used directly. To keep current behavior pass the string \"mean\" instead.\n",
      "  conversion_rates = conversion_rates.agg([np.mean, std_p, se_p])\n"
     ]
    },
    {
     "data": {
      "text/html": [
       "<div>\n",
       "<style scoped>\n",
       "    .dataframe tbody tr th:only-of-type {\n",
       "        vertical-align: middle;\n",
       "    }\n",
       "\n",
       "    .dataframe tbody tr th {\n",
       "        vertical-align: top;\n",
       "    }\n",
       "\n",
       "    .dataframe thead th {\n",
       "        text-align: right;\n",
       "    }\n",
       "</style>\n",
       "<table border=\"1\" class=\"dataframe\">\n",
       "  <thead>\n",
       "    <tr style=\"text-align: right;\">\n",
       "      <th></th>\n",
       "      <th>conversion_rate</th>\n",
       "      <th>std_deviation</th>\n",
       "      <th>std_error</th>\n",
       "    </tr>\n",
       "    <tr>\n",
       "      <th>experiment_group</th>\n",
       "      <th></th>\n",
       "      <th></th>\n",
       "      <th></th>\n",
       "    </tr>\n",
       "  </thead>\n",
       "  <tbody>\n",
       "    <tr>\n",
       "      <th>control</th>\n",
       "      <td>0.024841</td>\n",
       "      <td>0.155640</td>\n",
       "      <td>0.000138</td>\n",
       "    </tr>\n",
       "    <tr>\n",
       "      <th>test</th>\n",
       "      <td>0.024852</td>\n",
       "      <td>0.155674</td>\n",
       "      <td>0.000138</td>\n",
       "    </tr>\n",
       "  </tbody>\n",
       "</table>\n",
       "</div>"
      ],
      "text/plain": [
       "                  conversion_rate  std_deviation  std_error\n",
       "experiment_group                                           \n",
       "control                  0.024841       0.155640   0.000138\n",
       "test                     0.024852       0.155674   0.000138"
      ]
     },
     "execution_count": 46,
     "metadata": {},
     "output_type": "execute_result"
    }
   ],
   "source": [
    "# Some other helpful statistics\n",
    "conversion_rates = user_conversion.groupby('experiment_group')['conversion']\n",
    "\n",
    "std_p = lambda x: np.std(x, ddof=0)\n",
    "se_p = lambda x: stats.sem(x, ddof=0) #measure of how much a sample's mean might differ from the population mean\n",
    "\n",
    "conversion_rates = conversion_rates.agg([np.mean, std_p, se_p])\n",
    "conversion_rates.columns = ['conversion_rate', 'std_deviation', 'std_error']\n",
    "conversion_rates"
   ]
  },
  {
   "cell_type": "markdown",
   "id": "3e8d3322",
   "metadata": {
    "papermill": {
     "duration": 0.019099,
     "end_time": "2024-03-09T02:41:51.988495",
     "exception": false,
     "start_time": "2024-03-09T02:41:51.969396",
     "status": "completed"
    },
    "tags": []
   },
   "source": [
    "Looks like both groups performed similarly with control winning by a bit: 2.49% versus 2.48%."
   ]
  },
  {
   "cell_type": "code",
   "execution_count": 47,
   "id": "d5f859b3",
   "metadata": {
    "execution": {
     "iopub.execute_input": "2024-03-09T02:41:52.030031Z",
     "iopub.status.busy": "2024-03-09T02:41:52.028916Z",
     "iopub.status.idle": "2024-03-09T02:42:13.380134Z",
     "shell.execute_reply": "2024-03-09T02:42:13.379195Z"
    },
    "papermill": {
     "duration": 21.374095,
     "end_time": "2024-03-09T02:42:13.382598",
     "exception": false,
     "start_time": "2024-03-09T02:41:52.008503",
     "status": "completed"
    },
    "tags": []
   },
   "outputs": [
    {
     "name": "stderr",
     "output_type": "stream",
     "text": [
      "/tmp/ipykernel_18/1853647684.py:3: FutureWarning: \n",
      "\n",
      "The `ci` parameter is deprecated. Use `errorbar=('ci', False)` for the same effect.\n",
      "\n",
      "  sns.barplot(x = user_conversion['experiment_group'], y=user_conversion['conversion'], ci=False)\n"
     ]
    },
    {
     "data": {
      "text/plain": [
       "Text(0, 0.5, 'Converted Proportion')"
      ]
     },
     "execution_count": 47,
     "metadata": {},
     "output_type": "execute_result"
    },
    {
     "data": {
      "image/png": "[encoded data removed]",
      "text/plain": [
       "<Figure size 800x600 with 1 Axes>"
      ]
     },
     "metadata": {},
     "output_type": "display_data"
    }
   ],
   "source": [
    "plt.figure(figsize=(8,6))\n",
    "\n",
    "sns.barplot(x = user_conversion['experiment_group'], y=user_conversion['conversion'], ci=False)\n",
    "\n",
    "plt.ylim(0, 0.07)\n",
    "plt.title('Conversion Rate by Experiment Group')\n",
    "plt.xlabel('Experiment Group')\n",
    "plt.ylabel('Converted Proportion')"
   ]
  },
  {
   "cell_type": "code",
   "execution_count": 48,
   "id": "7d263f1b",
   "metadata": {
    "execution": {
     "iopub.execute_input": "2024-03-09T02:42:13.426456Z",
     "iopub.status.busy": "2024-03-09T02:42:13.425096Z",
     "iopub.status.idle": "2024-03-09T02:42:13.932222Z",
     "shell.execute_reply": "2024-03-09T02:42:13.931057Z"
    },
    "papermill": {
     "duration": 0.53127,
     "end_time": "2024-03-09T02:42:13.934696",
     "exception": false,
     "start_time": "2024-03-09T02:42:13.403426",
     "status": "completed"
    },
    "tags": []
   },
   "outputs": [],
   "source": [
    "from statsmodels.stats.proportion import proportions_ztest, proportion_confint\n",
    "\n",
    "#get the target metric column\n",
    "control_results = user_conversion[user_conversion['experiment_group'] == 'control']['conversion']\n",
    "treatment_results = user_conversion[user_conversion['experiment_group'] == 'test']['conversion']"
   ]
  },
  {
   "cell_type": "code",
   "execution_count": 49,
   "id": "9b852200",
   "metadata": {
    "execution": {
     "iopub.execute_input": "2024-03-09T02:42:13.976743Z",
     "iopub.status.busy": "2024-03-09T02:42:13.976330Z",
     "iopub.status.idle": "2024-03-09T02:42:13.990058Z",
     "shell.execute_reply": "2024-03-09T02:42:13.988374Z"
    },
    "papermill": {
     "duration": 0.038296,
     "end_time": "2024-03-09T02:42:13.993049",
     "exception": false,
     "start_time": "2024-03-09T02:42:13.954753",
     "status": "completed"
    },
    "tags": []
   },
   "outputs": [
    {
     "name": "stdout",
     "output_type": "stream",
     "text": [
      "z statistic: -0.06\n",
      "p-value: 0.955\n",
      "ci 95% for control group: [0.025, 0.025]\n",
      "ci 95% for treatment group: [0.025, 0.025]\n"
     ]
    }
   ],
   "source": [
    "n_con = control_results.count()\n",
    "n_treat = treatment_results.count()\n",
    "successes = [control_results.sum(), treatment_results.sum()]\n",
    "nobs = [n_con, n_treat]\n",
    "\n",
    "z_stat, pval = proportions_ztest(successes, nobs=nobs)\n",
    "(lower_con, lower_treat), (upper_con, upper_treat) = proportion_confint(successes, nobs=nobs, alpha=0.05)\n",
    "\n",
    "print(f'z statistic: {z_stat:.2f}')\n",
    "print(f'p-value: {pval:.3f}')\n",
    "print(f'ci 95% for control group: [{lower_con:.3f}, {upper_con:.3f}]')\n",
    "print(f'ci 95% for treatment group: [{lower_treat:.3f}, {upper_treat:.3f}]')"
   ]
  },
  {
   "cell_type": "markdown",
   "id": "27285afc",
   "metadata": {
    "papermill": {
     "duration": 0.019232,
     "end_time": "2024-03-09T02:42:14.032040",
     "exception": false,
     "start_time": "2024-03-09T02:42:14.012808",
     "status": "completed"
    },
    "tags": []
   },
   "source": [
    "Both control and test CI's are the same and so overlap. There is no difference between the two. Also, the p-value is not below alpha = 0.05. So would fail to reject Ho."
   ]
  },
  {
   "cell_type": "markdown",
   "id": "a7c83f54",
   "metadata": {
    "papermill": {
     "duration": 0.020173,
     "end_time": "2024-03-09T02:42:14.071711",
     "exception": false,
     "start_time": "2024-03-09T02:42:14.051538",
     "status": "completed"
    },
    "tags": []
   },
   "source": [
    "## Event-level Conversion Metrics"
   ]
  },
  {
   "cell_type": "code",
   "execution_count": 50,
   "id": "76b75f38",
   "metadata": {
    "execution": {
     "iopub.execute_input": "2024-03-09T02:42:14.113089Z",
     "iopub.status.busy": "2024-03-09T02:42:14.112277Z",
     "iopub.status.idle": "2024-03-09T02:42:14.127455Z",
     "shell.execute_reply": "2024-03-09T02:42:14.126543Z"
    },
    "papermill": {
     "duration": 0.037831,
     "end_time": "2024-03-09T02:42:14.129238",
     "exception": false,
     "start_time": "2024-03-09T02:42:14.091407",
     "status": "completed"
    },
    "tags": []
   },
   "outputs": [
    {
     "data": {
      "text/html": [
       "<div>\n",
       "<style scoped>\n",
       "    .dataframe tbody tr th:only-of-type {\n",
       "        vertical-align: middle;\n",
       "    }\n",
       "\n",
       "    .dataframe tbody tr th {\n",
       "        vertical-align: top;\n",
       "    }\n",
       "\n",
       "    .dataframe thead th {\n",
       "        text-align: right;\n",
       "    }\n",
       "</style>\n",
       "<table border=\"1\" class=\"dataframe\">\n",
       "  <thead>\n",
       "    <tr style=\"text-align: right;\">\n",
       "      <th></th>\n",
       "      <th>user_id</th>\n",
       "      <th>experiment_group</th>\n",
       "      <th>Unnamed: 0</th>\n",
       "      <th>event_time</th>\n",
       "      <th>event_type</th>\n",
       "      <th>product_id</th>\n",
       "      <th>category_id</th>\n",
       "      <th>category_code</th>\n",
       "      <th>brand</th>\n",
       "      <th>price</th>\n",
       "      <th>user_id_1</th>\n",
       "      <th>user_session</th>\n",
       "    </tr>\n",
       "  </thead>\n",
       "  <tbody>\n",
       "    <tr>\n",
       "      <th>0</th>\n",
       "      <td>525642970</td>\n",
       "      <td>test</td>\n",
       "      <td>2338187</td>\n",
       "      <td>2019-10-02 18:32:55 UTC</td>\n",
       "      <td>view</td>\n",
       "      <td>4801946</td>\n",
       "      <td>2053013554658804075</td>\n",
       "      <td>electronics.audio.headphone</td>\n",
       "      <td>apple</td>\n",
       "      <td>25.45</td>\n",
       "      <td>525642970</td>\n",
       "      <td>7e7b0311-0a76-4888-b915-6c2a240b67bb</td>\n",
       "    </tr>\n",
       "    <tr>\n",
       "      <th>1</th>\n",
       "      <td>554631275</td>\n",
       "      <td>test</td>\n",
       "      <td>5052611</td>\n",
       "      <td>2019-10-05 03:05:49 UTC</td>\n",
       "      <td>view</td>\n",
       "      <td>2300244</td>\n",
       "      <td>2053013560530830019</td>\n",
       "      <td>electronics.camera.video</td>\n",
       "      <td>sjcam</td>\n",
       "      <td>213.56</td>\n",
       "      <td>554631275</td>\n",
       "      <td>7c3b8b60-d7fa-4c9c-87b0-6b2f753d8807</td>\n",
       "    </tr>\n",
       "    <tr>\n",
       "      <th>2</th>\n",
       "      <td>519968351</td>\n",
       "      <td>test</td>\n",
       "      <td>3182699</td>\n",
       "      <td>2019-10-03 15:11:16 UTC</td>\n",
       "      <td>view</td>\n",
       "      <td>4802587</td>\n",
       "      <td>2053013554658804075</td>\n",
       "      <td>electronics.audio.headphone</td>\n",
       "      <td>ergo</td>\n",
       "      <td>6.41</td>\n",
       "      <td>519968351</td>\n",
       "      <td>1629fd4b-1669-48e7-876b-ac3a9676d8d8</td>\n",
       "    </tr>\n",
       "    <tr>\n",
       "      <th>3</th>\n",
       "      <td>519451311</td>\n",
       "      <td>control</td>\n",
       "      <td>27866997</td>\n",
       "      <td>2019-10-21 02:28:29 UTC</td>\n",
       "      <td>view</td>\n",
       "      <td>1003304</td>\n",
       "      <td>2053013555631882655</td>\n",
       "      <td>electronics.smartphone</td>\n",
       "      <td>apple</td>\n",
       "      <td>577.66</td>\n",
       "      <td>519451311</td>\n",
       "      <td>4aa7ae59-de22-4411-aadf-d69ef2b11e82</td>\n",
       "    </tr>\n",
       "    <tr>\n",
       "      <th>4</th>\n",
       "      <td>514229043</td>\n",
       "      <td>control</td>\n",
       "      <td>13483574</td>\n",
       "      <td>2019-10-11 10:32:00 UTC</td>\n",
       "      <td>view</td>\n",
       "      <td>17302619</td>\n",
       "      <td>2053013553853497655</td>\n",
       "      <td>None</td>\n",
       "      <td>chanel</td>\n",
       "      <td>197.02</td>\n",
       "      <td>514229043</td>\n",
       "      <td>c3153441-6b7d-4c57-992b-4efe52de5fdc</td>\n",
       "    </tr>\n",
       "  </tbody>\n",
       "</table>\n",
       "</div>"
      ],
      "text/plain": [
       "     user_id experiment_group  Unnamed: 0               event_time event_type  \\\n",
       "0  525642970             test     2338187  2019-10-02 18:32:55 UTC       view   \n",
       "1  554631275             test     5052611  2019-10-05 03:05:49 UTC       view   \n",
       "2  519968351             test     3182699  2019-10-03 15:11:16 UTC       view   \n",
       "3  519451311          control    27866997  2019-10-21 02:28:29 UTC       view   \n",
       "4  514229043          control    13483574  2019-10-11 10:32:00 UTC       view   \n",
       "\n",
       "   product_id          category_id                category_code   brand  \\\n",
       "0     4801946  2053013554658804075  electronics.audio.headphone   apple   \n",
       "1     2300244  2053013560530830019     electronics.camera.video   sjcam   \n",
       "2     4802587  2053013554658804075  electronics.audio.headphone    ergo   \n",
       "3     1003304  2053013555631882655       electronics.smartphone   apple   \n",
       "4    17302619  2053013553853497655                         None  chanel   \n",
       "\n",
       "    price  user_id_1                          user_session  \n",
       "0   25.45  525642970  7e7b0311-0a76-4888-b915-6c2a240b67bb  \n",
       "1  213.56  554631275  7c3b8b60-d7fa-4c9c-87b0-6b2f753d8807  \n",
       "2    6.41  519968351  1629fd4b-1669-48e7-876b-ac3a9676d8d8  \n",
       "3  577.66  519451311  4aa7ae59-de22-4411-aadf-d69ef2b11e82  \n",
       "4  197.02  514229043  c3153441-6b7d-4c57-992b-4efe52de5fdc  "
      ]
     },
     "execution_count": 50,
     "metadata": {},
     "output_type": "execute_result"
    }
   ],
   "source": [
    "df.head()"
   ]
  },
  {
   "cell_type": "code",
   "execution_count": 51,
   "id": "3cc8492e",
   "metadata": {
    "execution": {
     "iopub.execute_input": "2024-03-09T02:42:14.171022Z",
     "iopub.status.busy": "2024-03-09T02:42:14.170665Z",
     "iopub.status.idle": "2024-03-09T02:42:17.010841Z",
     "shell.execute_reply": "2024-03-09T02:42:17.009144Z"
    },
    "papermill": {
     "duration": 2.864509,
     "end_time": "2024-03-09T02:42:17.013735",
     "exception": false,
     "start_time": "2024-03-09T02:42:14.149226",
     "status": "completed"
    },
    "tags": []
   },
   "outputs": [
    {
     "data": {
      "application/vnd.jupyter.widget-view+json": {
       "model_id": "237854b924904da6876d6eca37e01a84",
       "version_major": 2,
       "version_minor": 0
      },
      "text/plain": [
       "FloatProgress(value=0.0, layout=Layout(width='auto'), style=ProgressStyle(bar_color='black'))"
      ]
     },
     "metadata": {},
     "output_type": "display_data"
    },
    {
     "data": {
      "text/html": [
       "<div>\n",
       "<style scoped>\n",
       "    .dataframe tbody tr th:only-of-type {\n",
       "        vertical-align: middle;\n",
       "    }\n",
       "\n",
       "    .dataframe tbody tr th {\n",
       "        vertical-align: top;\n",
       "    }\n",
       "\n",
       "    .dataframe thead th {\n",
       "        text-align: right;\n",
       "    }\n",
       "</style>\n",
       "<table border=\"1\" class=\"dataframe\">\n",
       "  <thead>\n",
       "    <tr style=\"text-align: right;\">\n",
       "      <th></th>\n",
       "      <th>experiment_group</th>\n",
       "      <th>user_id</th>\n",
       "      <th>cart_rate</th>\n",
       "      <th>purchase_rate</th>\n",
       "    </tr>\n",
       "  </thead>\n",
       "  <tbody>\n",
       "    <tr>\n",
       "      <th>0</th>\n",
       "      <td>control</td>\n",
       "      <td>549060054</td>\n",
       "      <td>0.333333</td>\n",
       "      <td>1.25</td>\n",
       "    </tr>\n",
       "    <tr>\n",
       "      <th>1</th>\n",
       "      <td>test</td>\n",
       "      <td>515331054</td>\n",
       "      <td>0.000000</td>\n",
       "      <td>NaN</td>\n",
       "    </tr>\n",
       "    <tr>\n",
       "      <th>2</th>\n",
       "      <td>control</td>\n",
       "      <td>520244173</td>\n",
       "      <td>0.054545</td>\n",
       "      <td>1.00</td>\n",
       "    </tr>\n",
       "    <tr>\n",
       "      <th>3</th>\n",
       "      <td>test</td>\n",
       "      <td>554269012</td>\n",
       "      <td>0.142857</td>\n",
       "      <td>0.00</td>\n",
       "    </tr>\n",
       "    <tr>\n",
       "      <th>4</th>\n",
       "      <td>control</td>\n",
       "      <td>513583073</td>\n",
       "      <td>0.000000</td>\n",
       "      <td>NaN</td>\n",
       "    </tr>\n",
       "    <tr>\n",
       "      <th>...</th>\n",
       "      <td>...</td>\n",
       "      <td>...</td>\n",
       "      <td>...</td>\n",
       "      <td>...</td>\n",
       "    </tr>\n",
       "    <tr>\n",
       "      <th>2531957</th>\n",
       "      <td>control</td>\n",
       "      <td>517477743</td>\n",
       "      <td>0.000000</td>\n",
       "      <td>NaN</td>\n",
       "    </tr>\n",
       "    <tr>\n",
       "      <th>2531958</th>\n",
       "      <td>test</td>\n",
       "      <td>560554004</td>\n",
       "      <td>0.000000</td>\n",
       "      <td>NaN</td>\n",
       "    </tr>\n",
       "    <tr>\n",
       "      <th>2531959</th>\n",
       "      <td>control</td>\n",
       "      <td>551262457</td>\n",
       "      <td>0.000000</td>\n",
       "      <td>NaN</td>\n",
       "    </tr>\n",
       "    <tr>\n",
       "      <th>2531960</th>\n",
       "      <td>control</td>\n",
       "      <td>565676309</td>\n",
       "      <td>0.000000</td>\n",
       "      <td>NaN</td>\n",
       "    </tr>\n",
       "    <tr>\n",
       "      <th>2531961</th>\n",
       "      <td>test</td>\n",
       "      <td>535061765</td>\n",
       "      <td>0.000000</td>\n",
       "      <td>NaN</td>\n",
       "    </tr>\n",
       "  </tbody>\n",
       "</table>\n",
       "<p>2531962 rows × 4 columns</p>\n",
       "</div>"
      ],
      "text/plain": [
       "        experiment_group    user_id  cart_rate  purchase_rate\n",
       "0                control  549060054   0.333333           1.25\n",
       "1                   test  515331054   0.000000            NaN\n",
       "2                control  520244173   0.054545           1.00\n",
       "3                   test  554269012   0.142857           0.00\n",
       "4                control  513583073   0.000000            NaN\n",
       "...                  ...        ...        ...            ...\n",
       "2531957          control  517477743   0.000000            NaN\n",
       "2531958             test  560554004   0.000000            NaN\n",
       "2531959          control  551262457   0.000000            NaN\n",
       "2531960          control  565676309   0.000000            NaN\n",
       "2531961             test  535061765   0.000000            NaN\n",
       "\n",
       "[2531962 rows x 4 columns]"
      ]
     },
     "execution_count": 51,
     "metadata": {},
     "output_type": "execute_result"
    }
   ],
   "source": [
    "# CTR\n",
    "query = \"\"\"\n",
    "select experiment_group\n",
    ", user_id\n",
    ", IFNULL(sum(case when event_type = 'cart' then 1 else 0 end)*1.0/sum(case when event_type = 'view' then 1 else 0 end),0) as cart_rate\n",
    ", sum(case when event_type = 'purchase' then 1 else 0 end)*1.0/sum(case when event_type = 'cart' then 1 else 0 end) as purchase_rate\n",
    "from df\n",
    "group by 1,2\n",
    "\"\"\"\n",
    "\n",
    "user_rates = duckdb.query(query).df()\n",
    "user_rates"
   ]
  },
  {
   "cell_type": "code",
   "execution_count": 52,
   "id": "759bbbb0",
   "metadata": {
    "execution": {
     "iopub.execute_input": "2024-03-09T02:42:17.057687Z",
     "iopub.status.busy": "2024-03-09T02:42:17.057245Z",
     "iopub.status.idle": "2024-03-09T02:42:17.264857Z",
     "shell.execute_reply": "2024-03-09T02:42:17.263415Z"
    },
    "papermill": {
     "duration": 0.232287,
     "end_time": "2024-03-09T02:42:17.267117",
     "exception": false,
     "start_time": "2024-03-09T02:42:17.034830",
     "status": "completed"
    },
    "tags": []
   },
   "outputs": [
    {
     "data": {
      "text/html": [
       "<div>\n",
       "<style scoped>\n",
       "    .dataframe tbody tr th:only-of-type {\n",
       "        vertical-align: middle;\n",
       "    }\n",
       "\n",
       "    .dataframe tbody tr th {\n",
       "        vertical-align: top;\n",
       "    }\n",
       "\n",
       "    .dataframe thead th {\n",
       "        text-align: right;\n",
       "    }\n",
       "</style>\n",
       "<table border=\"1\" class=\"dataframe\">\n",
       "  <thead>\n",
       "    <tr style=\"text-align: right;\">\n",
       "      <th></th>\n",
       "      <th>user_id</th>\n",
       "      <th>event_type</th>\n",
       "    </tr>\n",
       "  </thead>\n",
       "  <tbody>\n",
       "    <tr>\n",
       "      <th>0</th>\n",
       "      <td>555550229</td>\n",
       "      <td>cart</td>\n",
       "    </tr>\n",
       "    <tr>\n",
       "      <th>1</th>\n",
       "      <td>557125368</td>\n",
       "      <td>view</td>\n",
       "    </tr>\n",
       "    <tr>\n",
       "      <th>2</th>\n",
       "      <td>557125368</td>\n",
       "      <td>view</td>\n",
       "    </tr>\n",
       "    <tr>\n",
       "      <th>3</th>\n",
       "      <td>557125368</td>\n",
       "      <td>view</td>\n",
       "    </tr>\n",
       "    <tr>\n",
       "      <th>4</th>\n",
       "      <td>557125368</td>\n",
       "      <td>view</td>\n",
       "    </tr>\n",
       "    <tr>\n",
       "      <th>5</th>\n",
       "      <td>557125368</td>\n",
       "      <td>view</td>\n",
       "    </tr>\n",
       "    <tr>\n",
       "      <th>6</th>\n",
       "      <td>557234978</td>\n",
       "      <td>view</td>\n",
       "    </tr>\n",
       "    <tr>\n",
       "      <th>7</th>\n",
       "      <td>557234978</td>\n",
       "      <td>view</td>\n",
       "    </tr>\n",
       "    <tr>\n",
       "      <th>8</th>\n",
       "      <td>557234978</td>\n",
       "      <td>view</td>\n",
       "    </tr>\n",
       "    <tr>\n",
       "      <th>9</th>\n",
       "      <td>557234978</td>\n",
       "      <td>view</td>\n",
       "    </tr>\n",
       "    <tr>\n",
       "      <th>10</th>\n",
       "      <td>557234978</td>\n",
       "      <td>view</td>\n",
       "    </tr>\n",
       "    <tr>\n",
       "      <th>11</th>\n",
       "      <td>559113073</td>\n",
       "      <td>view</td>\n",
       "    </tr>\n",
       "  </tbody>\n",
       "</table>\n",
       "</div>"
      ],
      "text/plain": [
       "      user_id event_type\n",
       "0   555550229       cart\n",
       "1   557125368       view\n",
       "2   557125368       view\n",
       "3   557125368       view\n",
       "4   557125368       view\n",
       "5   557125368       view\n",
       "6   557234978       view\n",
       "7   557234978       view\n",
       "8   557234978       view\n",
       "9   557234978       view\n",
       "10  557234978       view\n",
       "11  559113073       view"
      ]
     },
     "execution_count": 52,
     "metadata": {},
     "output_type": "execute_result"
    }
   ],
   "source": [
    "# what is causing NaN:\n",
    "# see what is in view, cart and purchase for couple of users creating NaN\n",
    "# hopefully all scenarios represented, 0 num/denom or both\n",
    "# is * 1.0 in numerator needed?\n",
    "\n",
    "# cart_rate = carts/views\n",
    "# purchase_rate = purchases/carts\n",
    "\n",
    "# 229: cart_rate: 1/0 = NaN \n",
    "# 368: cart_rate: 0/1= 0.0, purchase_rate: 0/0= NaN\n",
    "# 978: cart_rate: 0/1= 0.0, purchase_rate: 0/0= NaN\n",
    "# 073: cart_rate: 0/1= 0.0, purchase_rate: 0/0= NaN\n",
    "        \n",
    "# Division by 0 as denom or num and denom causes NaN \n",
    "# Division with 0 as numerator causes 0.0\n",
    "duckdb.query('select user_id, event_type from df where user_id in (557234978, 557125368, 559113073, 555550229) order by user_id').df()"
   ]
  },
  {
   "cell_type": "code",
   "execution_count": 53,
   "id": "7ee2faad",
   "metadata": {
    "execution": {
     "iopub.execute_input": "2024-03-09T02:42:17.311073Z",
     "iopub.status.busy": "2024-03-09T02:42:17.309780Z",
     "iopub.status.idle": "2024-03-09T02:42:17.369153Z",
     "shell.execute_reply": "2024-03-09T02:42:17.368251Z"
    },
    "papermill": {
     "duration": 0.083043,
     "end_time": "2024-03-09T02:42:17.371118",
     "exception": false,
     "start_time": "2024-03-09T02:42:17.288075",
     "status": "completed"
    },
    "tags": []
   },
   "outputs": [
    {
     "data": {
      "text/plain": [
       "0.09140658509092948"
      ]
     },
     "execution_count": 53,
     "metadata": {},
     "output_type": "execute_result"
    }
   ],
   "source": [
    "# percentage of non-NaN cart/purchase rates\n",
    "len(duckdb.query('select * from user_rates where cart_rate is NOT NULL AND purchase_rate IS NOT NULL').df())/len(user_rates)"
   ]
  },
  {
   "cell_type": "code",
   "execution_count": 54,
   "id": "d89b14c6",
   "metadata": {
    "execution": {
     "iopub.execute_input": "2024-03-09T02:42:17.416090Z",
     "iopub.status.busy": "2024-03-09T02:42:17.415716Z",
     "iopub.status.idle": "2024-03-09T02:42:17.468409Z",
     "shell.execute_reply": "2024-03-09T02:42:17.467224Z"
    },
    "papermill": {
     "duration": 0.077445,
     "end_time": "2024-03-09T02:42:17.470754",
     "exception": false,
     "start_time": "2024-03-09T02:42:17.393309",
     "status": "completed"
    },
    "tags": []
   },
   "outputs": [],
   "source": [
    "user_rates2 = duckdb.query('select * from user_rates where cart_rate is NOT NULL AND purchase_rate IS NOT NULL').df()"
   ]
  },
  {
   "cell_type": "code",
   "execution_count": 55,
   "id": "e948543b",
   "metadata": {
    "execution": {
     "iopub.execute_input": "2024-03-09T02:42:17.517821Z",
     "iopub.status.busy": "2024-03-09T02:42:17.517400Z",
     "iopub.status.idle": "2024-03-09T02:42:17.530289Z",
     "shell.execute_reply": "2024-03-09T02:42:17.529122Z"
    },
    "papermill": {
     "duration": 0.037709,
     "end_time": "2024-03-09T02:42:17.532055",
     "exception": false,
     "start_time": "2024-03-09T02:42:17.494346",
     "status": "completed"
    },
    "tags": []
   },
   "outputs": [
    {
     "data": {
      "text/html": [
       "<div>\n",
       "<style scoped>\n",
       "    .dataframe tbody tr th:only-of-type {\n",
       "        vertical-align: middle;\n",
       "    }\n",
       "\n",
       "    .dataframe tbody tr th {\n",
       "        vertical-align: top;\n",
       "    }\n",
       "\n",
       "    .dataframe thead th {\n",
       "        text-align: right;\n",
       "    }\n",
       "</style>\n",
       "<table border=\"1\" class=\"dataframe\">\n",
       "  <thead>\n",
       "    <tr style=\"text-align: right;\">\n",
       "      <th></th>\n",
       "      <th>experiment_group</th>\n",
       "      <th>user_id</th>\n",
       "      <th>cart_rate</th>\n",
       "      <th>purchase_rate</th>\n",
       "    </tr>\n",
       "  </thead>\n",
       "  <tbody>\n",
       "    <tr>\n",
       "      <th>0</th>\n",
       "      <td>control</td>\n",
       "      <td>549060054</td>\n",
       "      <td>0.333333</td>\n",
       "      <td>1.25</td>\n",
       "    </tr>\n",
       "    <tr>\n",
       "      <th>1</th>\n",
       "      <td>control</td>\n",
       "      <td>520244173</td>\n",
       "      <td>0.054545</td>\n",
       "      <td>1.00</td>\n",
       "    </tr>\n",
       "    <tr>\n",
       "      <th>2</th>\n",
       "      <td>test</td>\n",
       "      <td>554269012</td>\n",
       "      <td>0.142857</td>\n",
       "      <td>0.00</td>\n",
       "    </tr>\n",
       "    <tr>\n",
       "      <th>3</th>\n",
       "      <td>test</td>\n",
       "      <td>551725843</td>\n",
       "      <td>0.001433</td>\n",
       "      <td>1.00</td>\n",
       "    </tr>\n",
       "    <tr>\n",
       "      <th>4</th>\n",
       "      <td>control</td>\n",
       "      <td>513018474</td>\n",
       "      <td>0.019231</td>\n",
       "      <td>0.00</td>\n",
       "    </tr>\n",
       "    <tr>\n",
       "      <th>...</th>\n",
       "      <td>...</td>\n",
       "      <td>...</td>\n",
       "      <td>...</td>\n",
       "      <td>...</td>\n",
       "    </tr>\n",
       "    <tr>\n",
       "      <th>231433</th>\n",
       "      <td>test</td>\n",
       "      <td>556673438</td>\n",
       "      <td>0.000000</td>\n",
       "      <td>0.00</td>\n",
       "    </tr>\n",
       "    <tr>\n",
       "      <th>231434</th>\n",
       "      <td>test</td>\n",
       "      <td>541350880</td>\n",
       "      <td>0.000000</td>\n",
       "      <td>0.00</td>\n",
       "    </tr>\n",
       "    <tr>\n",
       "      <th>231435</th>\n",
       "      <td>test</td>\n",
       "      <td>545923885</td>\n",
       "      <td>0.000000</td>\n",
       "      <td>0.00</td>\n",
       "    </tr>\n",
       "    <tr>\n",
       "      <th>231436</th>\n",
       "      <td>test</td>\n",
       "      <td>540754488</td>\n",
       "      <td>0.000000</td>\n",
       "      <td>0.00</td>\n",
       "    </tr>\n",
       "    <tr>\n",
       "      <th>231437</th>\n",
       "      <td>control</td>\n",
       "      <td>517453264</td>\n",
       "      <td>0.000000</td>\n",
       "      <td>0.00</td>\n",
       "    </tr>\n",
       "  </tbody>\n",
       "</table>\n",
       "<p>231438 rows × 4 columns</p>\n",
       "</div>"
      ],
      "text/plain": [
       "       experiment_group    user_id  cart_rate  purchase_rate\n",
       "0               control  549060054   0.333333           1.25\n",
       "1               control  520244173   0.054545           1.00\n",
       "2                  test  554269012   0.142857           0.00\n",
       "3                  test  551725843   0.001433           1.00\n",
       "4               control  513018474   0.019231           0.00\n",
       "...                 ...        ...        ...            ...\n",
       "231433             test  556673438   0.000000           0.00\n",
       "231434             test  541350880   0.000000           0.00\n",
       "231435             test  545923885   0.000000           0.00\n",
       "231436             test  540754488   0.000000           0.00\n",
       "231437          control  517453264   0.000000           0.00\n",
       "\n",
       "[231438 rows x 4 columns]"
      ]
     },
     "execution_count": 55,
     "metadata": {},
     "output_type": "execute_result"
    }
   ],
   "source": [
    "user_rates2"
   ]
  },
  {
   "cell_type": "code",
   "execution_count": 56,
   "id": "ea53d3ef",
   "metadata": {
    "execution": {
     "iopub.execute_input": "2024-03-09T02:42:17.576431Z",
     "iopub.status.busy": "2024-03-09T02:42:17.575533Z",
     "iopub.status.idle": "2024-03-09T02:42:17.588396Z",
     "shell.execute_reply": "2024-03-09T02:42:17.587253Z"
    },
    "papermill": {
     "duration": 0.037244,
     "end_time": "2024-03-09T02:42:17.590289",
     "exception": false,
     "start_time": "2024-03-09T02:42:17.553045",
     "status": "completed"
    },
    "tags": []
   },
   "outputs": [
    {
     "data": {
      "text/html": [
       "<div>\n",
       "<style scoped>\n",
       "    .dataframe tbody tr th:only-of-type {\n",
       "        vertical-align: middle;\n",
       "    }\n",
       "\n",
       "    .dataframe tbody tr th {\n",
       "        vertical-align: top;\n",
       "    }\n",
       "\n",
       "    .dataframe thead th {\n",
       "        text-align: right;\n",
       "    }\n",
       "</style>\n",
       "<table border=\"1\" class=\"dataframe\">\n",
       "  <thead>\n",
       "    <tr style=\"text-align: right;\">\n",
       "      <th></th>\n",
       "      <th>experiment_group</th>\n",
       "      <th>user_id</th>\n",
       "      <th>cart_rate</th>\n",
       "      <th>purchase_rate</th>\n",
       "    </tr>\n",
       "  </thead>\n",
       "  <tbody>\n",
       "    <tr>\n",
       "      <th>0</th>\n",
       "      <td>control</td>\n",
       "      <td>549060054</td>\n",
       "      <td>0.333333</td>\n",
       "      <td>1.25</td>\n",
       "    </tr>\n",
       "    <tr>\n",
       "      <th>1</th>\n",
       "      <td>control</td>\n",
       "      <td>520244173</td>\n",
       "      <td>0.054545</td>\n",
       "      <td>1.00</td>\n",
       "    </tr>\n",
       "    <tr>\n",
       "      <th>2</th>\n",
       "      <td>test</td>\n",
       "      <td>554269012</td>\n",
       "      <td>0.142857</td>\n",
       "      <td>0.00</td>\n",
       "    </tr>\n",
       "    <tr>\n",
       "      <th>3</th>\n",
       "      <td>test</td>\n",
       "      <td>551725843</td>\n",
       "      <td>0.001433</td>\n",
       "      <td>1.00</td>\n",
       "    </tr>\n",
       "    <tr>\n",
       "      <th>4</th>\n",
       "      <td>control</td>\n",
       "      <td>513018474</td>\n",
       "      <td>0.019231</td>\n",
       "      <td>0.00</td>\n",
       "    </tr>\n",
       "    <tr>\n",
       "      <th>...</th>\n",
       "      <td>...</td>\n",
       "      <td>...</td>\n",
       "      <td>...</td>\n",
       "      <td>...</td>\n",
       "    </tr>\n",
       "    <tr>\n",
       "      <th>231433</th>\n",
       "      <td>test</td>\n",
       "      <td>556673438</td>\n",
       "      <td>0.000000</td>\n",
       "      <td>0.00</td>\n",
       "    </tr>\n",
       "    <tr>\n",
       "      <th>231434</th>\n",
       "      <td>test</td>\n",
       "      <td>541350880</td>\n",
       "      <td>0.000000</td>\n",
       "      <td>0.00</td>\n",
       "    </tr>\n",
       "    <tr>\n",
       "      <th>231435</th>\n",
       "      <td>test</td>\n",
       "      <td>545923885</td>\n",
       "      <td>0.000000</td>\n",
       "      <td>0.00</td>\n",
       "    </tr>\n",
       "    <tr>\n",
       "      <th>231436</th>\n",
       "      <td>test</td>\n",
       "      <td>540754488</td>\n",
       "      <td>0.000000</td>\n",
       "      <td>0.00</td>\n",
       "    </tr>\n",
       "    <tr>\n",
       "      <th>231437</th>\n",
       "      <td>control</td>\n",
       "      <td>517453264</td>\n",
       "      <td>0.000000</td>\n",
       "      <td>0.00</td>\n",
       "    </tr>\n",
       "  </tbody>\n",
       "</table>\n",
       "<p>231438 rows × 4 columns</p>\n",
       "</div>"
      ],
      "text/plain": [
       "       experiment_group    user_id  cart_rate  purchase_rate\n",
       "0               control  549060054   0.333333           1.25\n",
       "1               control  520244173   0.054545           1.00\n",
       "2                  test  554269012   0.142857           0.00\n",
       "3                  test  551725843   0.001433           1.00\n",
       "4               control  513018474   0.019231           0.00\n",
       "...                 ...        ...        ...            ...\n",
       "231433             test  556673438   0.000000           0.00\n",
       "231434             test  541350880   0.000000           0.00\n",
       "231435             test  545923885   0.000000           0.00\n",
       "231436             test  540754488   0.000000           0.00\n",
       "231437          control  517453264   0.000000           0.00\n",
       "\n",
       "[231438 rows x 4 columns]"
      ]
     },
     "execution_count": 56,
     "metadata": {},
     "output_type": "execute_result"
    }
   ],
   "source": [
    "user_rates2"
   ]
  },
  {
   "cell_type": "code",
   "execution_count": null,
   "id": "d1cb1215",
   "metadata": {
    "papermill": {
     "duration": 0.021405,
     "end_time": "2024-03-09T02:42:17.631976",
     "exception": false,
     "start_time": "2024-03-09T02:42:17.610571",
     "status": "completed"
    },
    "tags": []
   },
   "outputs": [],
   "source": []
  }
 ],
 "metadata": {
  "kaggle": {
   "accelerator": "none",
   "dataSources": [
    {
     "datasetId": 411512,
     "sourceId": 835452,
     "sourceType": "datasetVersion"
    },
    {
     "datasetId": 1626898,
     "sourceId": 2673810,
     "sourceType": "datasetVersion"
    },
    {
     "datasetId": 4551461,
     "sourceId": 7778215,
     "sourceType": "datasetVersion"
    }
   ],
   "dockerImageVersionId": 30664,
   "isGpuEnabled": false,
   "isInternetEnabled": true,
   "language": "python",
   "sourceType": "notebook"
  },
  "kernelspec": {
   "display_name": "Python 3",
   "language": "python",
   "name": "python3"
  },
  "language_info": {
   "codemirror_mode": {
    "name": "ipython",
    "version": 3
   },
   "file_extension": ".py",
   "mimetype": "text/x-python",
   "name": "python",
   "nbconvert_exporter": "python",
   "pygments_lexer": "ipython3",
   "version": "3.10.13"
  },
  "papermill": {
   "default_parameters": {},
   "duration": 192.630124,
   "end_time": "2024-03-09T02:42:20.979040",
   "environment_variables": {},
   "exception": null,
   "input_path": "__notebook__.ipynb",
   "output_path": "__notebook__.ipynb",
   "parameters": {},
   "start_time": "2024-03-09T02:39:08.348916",
   "version": "2.5.0"
  },
  "widgets": {
   "application/vnd.jupyter.widget-state+json": {
    "state": {
     "02f59360907d4255ad8a96102b1a5a59": {
      "model_module": "@jupyter-widgets/controls",
      "model_module_version": "1.5.0",
      "model_name": "ProgressStyleModel",
      "state": {
       "_model_module": "@jupyter-widgets/controls",
       "_model_module_version": "1.5.0",
       "_model_name": "ProgressStyleModel",
       "_view_count": null,
       "_view_module": "@jupyter-widgets/base",
       "_view_module_version": "1.2.0",
       "_view_name": "StyleView",
       "bar_color": "black",
       "description_width": ""
      }
     },
     "237854b924904da6876d6eca37e01a84": {
      "model_module": "@jupyter-widgets/controls",
      "model_module_version": "1.5.0",
      "model_name": "FloatProgressModel",
      "state": {
       "_dom_classes": [],
       "_model_module": "@jupyter-widgets/controls",
       "_model_module_version": "1.5.0",
       "_model_name": "FloatProgressModel",
       "_view_count": null,
       "_view_module": "@jupyter-widgets/controls",
       "_view_module_version": "1.5.0",
       "_view_name": "ProgressView",
       "bar_style": "",
       "description": "",
       "description_tooltip": null,
       "layout": "IPY_MODEL_9d95d96f9d19417ba3ccb63d3d1e4003",
       "max": 100.0,
       "min": 0.0,
       "orientation": "horizontal",
       "style": "IPY_MODEL_ad3631826dfe420bb6efd84cfa2ba6b1",
       "value": 100.0
      }
     },
     "53f716fcadf841b8b61396357abae18b": {
      "model_module": "@jupyter-widgets/controls",
      "model_module_version": "1.5.0",
      "model_name": "ProgressStyleModel",
      "state": {
       "_model_module": "@jupyter-widgets/controls",
       "_model_module_version": "1.5.0",
       "_model_name": "ProgressStyleModel",
       "_view_count": null,
       "_view_module": "@jupyter-widgets/base",
       "_view_module_version": "1.2.0",
       "_view_name": "StyleView",
       "bar_color": "black",
       "description_width": ""
      }
     },
     "57fdf736dea144e5a056ba7f0ef196ef": {
      "model_module": "@jupyter-widgets/controls",
      "model_module_version": "1.5.0",
      "model_name": "FloatProgressModel",
      "state": {
       "_dom_classes": [],
       "_model_module": "@jupyter-widgets/controls",
       "_model_module_version": "1.5.0",
       "_model_name": "FloatProgressModel",
       "_view_count": null,
       "_view_module": "@jupyter-widgets/controls",
       "_view_module_version": "1.5.0",
       "_view_name": "ProgressView",
       "bar_style": "",
       "description": "",
       "description_tooltip": null,
       "layout": "IPY_MODEL_6d5937ffcd6940ddbded04b68bc1c1f2",
       "max": 100.0,
       "min": 0.0,
       "orientation": "horizontal",
       "style": "IPY_MODEL_6fcd6e3f3297464cb53606b77756d6db",
       "value": 100.0
      }
     },
     "5d1694db7f9149c88e3411618290dc09": {
      "model_module": "@jupyter-widgets/base",
      "model_module_version": "1.2.0",
      "model_name": "LayoutModel",
      "state": {
       "_model_module": "@jupyter-widgets/base",
       "_model_module_version": "1.2.0",
       "_model_name": "LayoutModel",
       "_view_count": null,
       "_view_module": "@jupyter-widgets/base",
       "_view_module_version": "1.2.0",
       "_view_name": "LayoutView",
       "align_content": null,
       "align_items": null,
       "align_self": null,
       "border": null,
       "bottom": null,
       "display": null,
       "flex": null,
       "flex_flow": null,
       "grid_area": null,
       "grid_auto_columns": null,
       "grid_auto_flow": null,
       "grid_auto_rows": null,
       "grid_column": null,
       "grid_gap": null,
       "grid_row": null,
       "grid_template_areas": null,
       "grid_template_columns": null,
       "grid_template_rows": null,
       "height": null,
       "justify_content": null,
       "justify_items": null,
       "left": null,
       "margin": null,
       "max_height": null,
       "max_width": null,
       "min_height": null,
       "min_width": null,
       "object_fit": null,
       "object_position": null,
       "order": null,
       "overflow": null,
       "overflow_x": null,
       "overflow_y": null,
       "padding": null,
       "right": null,
       "top": null,
       "visibility": null,
       "width": "auto"
      }
     },
     "6d5937ffcd6940ddbded04b68bc1c1f2": {
      "model_module": "@jupyter-widgets/base",
      "model_module_version": "1.2.0",
      "model_name": "LayoutModel",
      "state": {
       "_model_module": "@jupyter-widgets/base",
       "_model_module_version": "1.2.0",
       "_model_name": "LayoutModel",
       "_view_count": null,
       "_view_module": "@jupyter-widgets/base",
       "_view_module_version": "1.2.0",
       "_view_name": "LayoutView",
       "align_content": null,
       "align_items": null,
       "align_self": null,
       "border": null,
       "bottom": null,
       "display": null,
       "flex": null,
       "flex_flow": null,
       "grid_area": null,
       "grid_auto_columns": null,
       "grid_auto_flow": null,
       "grid_auto_rows": null,
       "grid_column": null,
       "grid_gap": null,
       "grid_row": null,
       "grid_template_areas": null,
       "grid_template_columns": null,
       "grid_template_rows": null,
       "height": null,
       "justify_content": null,
       "justify_items": null,
       "left": null,
       "margin": null,
       "max_height": null,
       "max_width": null,
       "min_height": null,
       "min_width": null,
       "object_fit": null,
       "object_position": null,
       "order": null,
       "overflow": null,
       "overflow_x": null,
       "overflow_y": null,
       "padding": null,
       "right": null,
       "top": null,
       "visibility": null,
       "width": "auto"
      }
     },
     "6fcd6e3f3297464cb53606b77756d6db": {
      "model_module": "@jupyter-widgets/controls",
      "model_module_version": "1.5.0",
      "model_name": "ProgressStyleModel",
      "state": {
       "_model_module": "@jupyter-widgets/controls",
       "_model_module_version": "1.5.0",
       "_model_name": "ProgressStyleModel",
       "_view_count": null,
       "_view_module": "@jupyter-widgets/base",
       "_view_module_version": "1.2.0",
       "_view_name": "StyleView",
       "bar_color": "black",
       "description_width": ""
      }
     },
     "7441e30595fb4eefb21bc9ea51da46c5": {
      "model_module": "@jupyter-widgets/controls",
      "model_module_version": "1.5.0",
      "model_name": "FloatProgressModel",
      "state": {
       "_dom_classes": [],
       "_model_module": "@jupyter-widgets/controls",
       "_model_module_version": "1.5.0",
       "_model_name": "FloatProgressModel",
       "_view_count": null,
       "_view_module": "@jupyter-widgets/controls",
       "_view_module_version": "1.5.0",
       "_view_name": "ProgressView",
       "bar_style": "",
       "description": "",
       "description_tooltip": null,
       "layout": "IPY_MODEL_5d1694db7f9149c88e3411618290dc09",
       "max": 100.0,
       "min": 0.0,
       "orientation": "horizontal",
       "style": "IPY_MODEL_9e7b922eca214dd7847450870482a6db",
       "value": 100.0
      }
     },
     "7a47cf41a53e44468ef83c7bf137b0ed": {
      "model_module": "@jupyter-widgets/controls",
      "model_module_version": "1.5.0",
      "model_name": "FloatProgressModel",
      "state": {
       "_dom_classes": [],
       "_model_module": "@jupyter-widgets/controls",
       "_model_module_version": "1.5.0",
       "_model_name": "FloatProgressModel",
       "_view_count": null,
       "_view_module": "@jupyter-widgets/controls",
       "_view_module_version": "1.5.0",
       "_view_name": "ProgressView",
       "bar_style": "",
       "description": "",
       "description_tooltip": null,
       "layout": "IPY_MODEL_ad7829e6144b4204a910609c4d15086b",
       "max": 100.0,
       "min": 0.0,
       "orientation": "horizontal",
       "style": "IPY_MODEL_53f716fcadf841b8b61396357abae18b",
       "value": 100.0
      }
     },
     "8f7aa486103e4c7880e0d7fa331fa45b": {
      "model_module": "@jupyter-widgets/base",
      "model_module_version": "1.2.0",
      "model_name": "LayoutModel",
      "state": {
       "_model_module": "@jupyter-widgets/base",
       "_model_module_version": "1.2.0",
       "_model_name": "LayoutModel",
       "_view_count": null,
       "_view_module": "@jupyter-widgets/base",
       "_view_module_version": "1.2.0",
       "_view_name": "LayoutView",
       "align_content": null,
       "align_items": null,
       "align_self": null,
       "border": null,
       "bottom": null,
       "display": null,
       "flex": null,
       "flex_flow": null,
       "grid_area": null,
       "grid_auto_columns": null,
       "grid_auto_flow": null,
       "grid_auto_rows": null,
       "grid_column": null,
       "grid_gap": null,
       "grid_row": null,
       "grid_template_areas": null,
       "grid_template_columns": null,
       "grid_template_rows": null,
       "height": null,
       "justify_content": null,
       "justify_items": null,
       "left": null,
       "margin": null,
       "max_height": null,
       "max_width": null,
       "min_height": null,
       "min_width": null,
       "object_fit": null,
       "object_position": null,
       "order": null,
       "overflow": null,
       "overflow_x": null,
       "overflow_y": null,
       "padding": null,
       "right": null,
       "top": null,
       "visibility": null,
       "width": "auto"
      }
     },
     "9404890a95054a7db9cd3ea624bb0282": {
      "model_module": "@jupyter-widgets/controls",
      "model_module_version": "1.5.0",
      "model_name": "FloatProgressModel",
      "state": {
       "_dom_classes": [],
       "_model_module": "@jupyter-widgets/controls",
       "_model_module_version": "1.5.0",
       "_model_name": "FloatProgressModel",
       "_view_count": null,
       "_view_module": "@jupyter-widgets/controls",
       "_view_module_version": "1.5.0",
       "_view_name": "ProgressView",
       "bar_style": "",
       "description": "",
       "description_tooltip": null,
       "layout": "IPY_MODEL_8f7aa486103e4c7880e0d7fa331fa45b",
       "max": 100.0,
       "min": 0.0,
       "orientation": "horizontal",
       "style": "IPY_MODEL_02f59360907d4255ad8a96102b1a5a59",
       "value": 100.0
      }
     },
     "9d95d96f9d19417ba3ccb63d3d1e4003": {
      "model_module": "@jupyter-widgets/base",
      "model_module_version": "1.2.0",
      "model_name": "LayoutModel",
      "state": {
       "_model_module": "@jupyter-widgets/base",
       "_model_module_version": "1.2.0",
       "_model_name": "LayoutModel",
       "_view_count": null,
       "_view_module": "@jupyter-widgets/base",
       "_view_module_version": "1.2.0",
       "_view_name": "LayoutView",
       "align_content": null,
       "align_items": null,
       "align_self": null,
       "border": null,
       "bottom": null,
       "display": null,
       "flex": null,
       "flex_flow": null,
       "grid_area": null,
       "grid_auto_columns": null,
       "grid_auto_flow": null,
       "grid_auto_rows": null,
       "grid_column": null,
       "grid_gap": null,
       "grid_row": null,
       "grid_template_areas": null,
       "grid_template_columns": null,
       "grid_template_rows": null,
       "height": null,
       "justify_content": null,
       "justify_items": null,
       "left": null,
       "margin": null,
       "max_height": null,
       "max_width": null,
       "min_height": null,
       "min_width": null,
       "object_fit": null,
       "object_position": null,
       "order": null,
       "overflow": null,
       "overflow_x": null,
       "overflow_y": null,
       "padding": null,
       "right": null,
       "top": null,
       "visibility": null,
       "width": "auto"
      }
     },
     "9e7b922eca214dd7847450870482a6db": {
      "model_module": "@jupyter-widgets/controls",
      "model_module_version": "1.5.0",
      "model_name": "ProgressStyleModel",
      "state": {
       "_model_module": "@jupyter-widgets/controls",
       "_model_module_version": "1.5.0",
       "_model_name": "ProgressStyleModel",
       "_view_count": null,
       "_view_module": "@jupyter-widgets/base",
       "_view_module_version": "1.2.0",
       "_view_name": "StyleView",
       "bar_color": "black",
       "description_width": ""
      }
     },
     "ad3631826dfe420bb6efd84cfa2ba6b1": {
      "model_module": "@jupyter-widgets/controls",
      "model_module_version": "1.5.0",
      "model_name": "ProgressStyleModel",
      "state": {
       "_model_module": "@jupyter-widgets/controls",
       "_model_module_version": "1.5.0",
       "_model_name": "ProgressStyleModel",
       "_view_count": null,
       "_view_module": "@jupyter-widgets/base",
       "_view_module_version": "1.2.0",
       "_view_name": "StyleView",
       "bar_color": "black",
       "description_width": ""
      }
     },
     "ad7829e6144b4204a910609c4d15086b": {
      "model_module": "@jupyter-widgets/base",
      "model_module_version": "1.2.0",
      "model_name": "LayoutModel",
      "state": {
       "_model_module": "@jupyter-widgets/base",
       "_model_module_version": "1.2.0",
       "_model_name": "LayoutModel",
       "_view_count": null,
       "_view_module": "@jupyter-widgets/base",
       "_view_module_version": "1.2.0",
       "_view_name": "LayoutView",
       "align_content": null,
       "align_items": null,
       "align_self": null,
       "border": null,
       "bottom": null,
       "display": null,
       "flex": null,
       "flex_flow": null,
       "grid_area": null,
       "grid_auto_columns": null,
       "grid_auto_flow": null,
       "grid_auto_rows": null,
       "grid_column": null,
       "grid_gap": null,
       "grid_row": null,
       "grid_template_areas": null,
       "grid_template_columns": null,
       "grid_template_rows": null,
       "height": null,
       "justify_content": null,
       "justify_items": null,
       "left": null,
       "margin": null,
       "max_height": null,
       "max_width": null,
       "min_height": null,
       "min_width": null,
       "object_fit": null,
       "object_position": null,
       "order": null,
       "overflow": null,
       "overflow_x": null,
       "overflow_y": null,
       "padding": null,
       "right": null,
       "top": null,
       "visibility": null,
       "width": "auto"
      }
     }
    },
    "version_major": 2,
    "version_minor": 0
   }
  }
 },
 "nbformat": 4,
 "nbformat_minor": 5
}
