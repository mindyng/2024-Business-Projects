{
 "cells": [
  {
   "cell_type": "markdown",
   "id": "813566cb",
   "metadata": {
    "papermill": {
     "duration": 0.010075,
     "end_time": "2024-07-23T01:16:46.791424",
     "exception": false,
     "start_time": "2024-07-23T01:16:46.781349",
     "status": "completed"
    },
    "tags": []
   },
   "source": [
    "# Motivation:\n",
    "I recently got invited to the interview process for Data Science opportunity at GoFundMe. So that got me interested in their business model, how crowdfunding works and data science applications.\n",
    "\n",
    "Usually you start with the business question and then retrieve the data. However, since I am not a current worker for GoFundMe and therefore do not have access to their data warehouse/tooling, I am going to do my best to get as much data as I can. And then ask the business questions."
   ]
  },
  {
   "cell_type": "markdown",
   "id": "03157215",
   "metadata": {
    "papermill": {
     "duration": 0.009097,
     "end_time": "2024-07-23T01:16:46.810045",
     "exception": false,
     "start_time": "2024-07-23T01:16:46.800948",
     "status": "completed"
    },
    "tags": []
   },
   "source": [
    "# Roadmap for Project Completion\n",
    "* [ ] State the Business Problem\n",
    "* [ ] Get the data\n",
    "* [ ] Clean data\n",
    "* [ ] Perform EDA on data\n",
    "* [ ] Use data for ML\n",
    "* [ ] Insights\n",
    "* [ ] Business Recommendations\n",
    "* [ ] Blockers?\n",
    "* [ ] Fun, new algorithms?"
   ]
  },
  {
   "cell_type": "markdown",
   "id": "1f720a9f",
   "metadata": {
    "papermill": {
     "duration": 0.009047,
     "end_time": "2024-07-23T01:16:46.828456",
     "exception": false,
     "start_time": "2024-07-23T01:16:46.819409",
     "status": "completed"
    },
    "tags": []
   },
   "source": [
    "# Business Problem\n",
    "\n",
    "Let's start with something simple as:\n",
    "\n",
    "# Campaign Profiling: What defines campaign success?\n",
    "\n",
    "## Questions to Answer:\n",
    "1. Campaign profiling in the context of crowdfunding involves analyzing and categorizing various aspects of crowdfunding campaigns to understand their characteristics, performance, and potential success factors. This process can include examining campaign goals, funding amounts, backer demographics, promotional strategies, and outcomes. The insights gained from campaign profiling can help creators design more effective campaigns and provide valuable data for backers and platforms. Here are some key components of campaign profiling:\n",
    "\n",
    "### 1. **Campaign Goals and Objectives**\n",
    "   - **Funding Goal**: The amount of money the campaign aims to raise.\n",
    "   - **Project Description**: Details about the project or product being funded, including its purpose and benefits.\n",
    "\n",
    "### 2. **Campaign Duration**\n",
    "   - **Start and End Dates**: The time frame during which the campaign will be active.\n",
    "   - **Milestones**: Key points in the campaign timeline, such as launch date, halfway point, and deadline.\n",
    "\n",
    "### 4. **Promotional Strategies**\n",
    "   - **Marketing Channels**: The platforms and methods used to promote the campaign, such as social media, email newsletters, press releases, and influencer partnerships.\n",
    "   - **Content Strategy**: The type and frequency of content shared to engage potential backers, including videos, images, updates, and behind-the-scenes information.\n",
    "\n",
    "### 5. **Rewards and Incentives**\n",
    "   - **Reward Tiers**: Different levels of rewards offered to backers based on their contribution amounts.\n",
    "   - **Incentives for Higher Contributions**: Special perks or limited-edition items for backers who pledge more significant amounts.\n",
    "\n",
    "### 6. **Performance Metrics**\n",
    "   - **Funding Progress**: The amount of money raised at various points in the campaign.\n",
    "   - **Conversion Rates**: The percentage of visitors to the campaign page who become backers.\n",
    "   - **Average Pledge Amount**: The typical amount of money pledged by backers.\n",
    "\n",
    "### 7. **Success Factors**\n",
    "   - **Past Campaigns**: Analysis of previous successful campaigns to identify common elements and strategies.\n",
    "   - **Benchmarking**: Comparing the campaign’s performance against industry standards or similar projects.\n",
    "\n",
    "### 8. **Outcome Analysis**\n",
    "   - **Funded vs. Unfunded**: Determining whether the campaign reached its funding goal.\n",
    "   - **Post-Campaign Actions**: Steps taken after the campaign ends, such as fulfilling rewards, communicating with backers, and launching the product.\n",
    "   \n",
    "# Another analysis on other side of 2-sided marketplace:\n",
    "\n",
    "### 3. **Backer Demographics**\n",
    "   - **Target Audience**: The demographic characteristics of the backers, such as age, gender, location, and interests.\n",
    "   - **Backer Engagement**: The level of interaction and support from backers, including comments, shares, and repeat pledges."
   ]
  },
  {
   "cell_type": "markdown",
   "id": "65c28b20",
   "metadata": {
    "papermill": {
     "duration": 0.009028,
     "end_time": "2024-07-23T01:16:46.846861",
     "exception": false,
     "start_time": "2024-07-23T01:16:46.837833",
     "status": "completed"
    },
    "tags": []
   },
   "source": [
    "Campaign profiling in the context of crowdfunding involves analyzing and categorizing various aspects of crowdfunding campaigns to understand their characteristics, performance, and potential success factors. This process can include examining campaign goals, funding amounts, backer demographics, promotional strategies, and outcomes. The insights gained from campaign profiling can help creators design more effective campaigns and provide valuable data for backers and platforms. Here are some key components of campaign profiling:\n",
    "\n",
    "### 1. **Campaign Goals and Objectives**\n",
    "   - **Funding Goal**: The amount of money the campaign aims to raise.\n",
    "   - **Project Description**: Details about the project or product being funded, including its purpose and benefits.\n",
    "\n",
    "### 2. **Campaign Duration**\n",
    "   - **Start and End Dates**: The time frame during which the campaign will be active.\n",
    "   - **Milestones**: Key points in the campaign timeline, such as launch date, halfway point, and deadline.\n",
    "\n",
    "### 3. **Backer Demographics**\n",
    "   - **Target Audience**: The demographic characteristics of the backers, such as age, gender, location, and interests.\n",
    "   - **Backer Engagement**: The level of interaction and support from backers, including comments, shares, and repeat pledges.\n",
    "\n",
    "### 4. **Promotional Strategies**\n",
    "   - **Marketing Channels**: The platforms and methods used to promote the campaign, such as social media, email newsletters, press releases, and influencer partnerships.\n",
    "   - **Content Strategy**: The type and frequency of content shared to engage potential backers, including videos, images, updates, and behind-the-scenes information.\n",
    "\n",
    "### 5. **Rewards and Incentives**\n",
    "   - **Reward Tiers**: Different levels of rewards offered to backers based on their contribution amounts.\n",
    "   - **Incentives for Higher Contributions**: Special perks or limited-edition items for backers who pledge more significant amounts.\n",
    "\n",
    "### 6. **Performance Metrics**\n",
    "   - **Funding Progress**: The amount of money raised at various points in the campaign.\n",
    "   - **Conversion Rates**: The percentage of visitors to the campaign page who become backers.\n",
    "   - **Average Pledge Amount**: The typical amount of money pledged by backers.\n",
    "\n",
    "### 7. **Success Factors**\n",
    "   - **Past Campaigns**: Analysis of previous successful campaigns to identify common elements and strategies.\n",
    "   - **Benchmarking**: Comparing the campaign’s performance against industry standards or similar projects.\n",
    "\n",
    "### 8. **Outcome Analysis**\n",
    "   - **Funded vs. Unfunded**: Determining whether the campaign reached its funding goal.\n",
    "   - **Post-Campaign Actions**: Steps taken after the campaign ends, such as fulfilling rewards, communicating with backers, and launching the product.\n",
    "\n",
    "### Example of Campaign Profiling\n",
    "\n",
    "**Project**: A new smartwatch\n",
    "- **Funding Goal**: $100,000\n",
    "- **Duration**: 30 days\n",
    "- **Target Audience**: Tech enthusiasts aged 25-45\n",
    "- **Marketing Channels**: Facebook ads, Instagram influencers, email marketing\n",
    "- **Reward Tiers**: $50 for a thank you card, $200 for the smartwatch, $500 for a limited-edition smartwatch\n",
    "- **Performance Metrics**: Reached $50,000 in the first week, average pledge amount $150\n",
    "- **Success Factors**: High-quality video presentation, early bird discounts, strong social media presence\n",
    "\n",
    "By systematically analyzing these components, campaign profiling helps in identifying what works and what doesn’t, guiding future campaigns towards higher chances of success.\n",
    "\n",
    "### References:\n",
    "1. [Kickstarter's Campaign Analytics](https://www.kickstarter.com/help/stats)\n",
    "2. [Indiegogo's Campaign Dashboard](https://learn.indiegogo.com/how-to-run-a-campaign/dashboard/)\n",
    "3. [Crowdfunding Campaign Strategies](https://www.crowdfunding.com)"
   ]
  },
  {
   "cell_type": "code",
   "execution_count": 1,
   "id": "68c36fac",
   "metadata": {
    "execution": {
     "iopub.execute_input": "2024-07-23T01:16:46.867624Z",
     "iopub.status.busy": "2024-07-23T01:16:46.867138Z",
     "iopub.status.idle": "2024-07-23T01:17:09.058340Z",
     "shell.execute_reply": "2024-07-23T01:17:09.056729Z"
    },
    "papermill": {
     "duration": 22.205682,
     "end_time": "2024-07-23T01:17:09.061755",
     "exception": false,
     "start_time": "2024-07-23T01:16:46.856073",
     "status": "completed"
    },
    "tags": []
   },
   "outputs": [],
   "source": [
    "!pip install duckdb jupysql --quiet"
   ]
  },
  {
   "cell_type": "code",
   "execution_count": 2,
   "id": "a978c868",
   "metadata": {
    "execution": {
     "iopub.execute_input": "2024-07-23T01:17:09.084081Z",
     "iopub.status.busy": "2024-07-23T01:17:09.083527Z",
     "iopub.status.idle": "2024-07-23T01:17:14.774702Z",
     "shell.execute_reply": "2024-07-23T01:17:14.773345Z"
    },
    "papermill": {
     "duration": 5.706396,
     "end_time": "2024-07-23T01:17:14.778030",
     "exception": false,
     "start_time": "2024-07-23T01:17:09.071634",
     "status": "completed"
    },
    "tags": []
   },
   "outputs": [
    {
     "name": "stdout",
     "output_type": "stream",
     "text": [
      "Deploy Shiny apps for free on Ploomber Cloud! Learn more: https://ploomber.io/s/signup\n"
     ]
    }
   ],
   "source": [
    "import warnings\n",
    "warnings.simplefilter(action='ignore', category=FutureWarning)\n",
    "\n",
    "# Data manipulation\n",
    "import numpy as np\n",
    "import pandas as pd\n",
    "import duckdb\n",
    "%load_ext sql\n",
    "conn = duckdb.connect()\n",
    "%sql conn --alias duckdb\n",
    "\n",
    "#Visualizations\n",
    "import matplotlib.pyplot as plt\n",
    "import seaborn as sns\n",
    "import plotly.express as px"
   ]
  },
  {
   "cell_type": "markdown",
   "id": "29dddef1",
   "metadata": {
    "papermill": {
     "duration": 0.009422,
     "end_time": "2024-07-23T01:17:14.797192",
     "exception": false,
     "start_time": "2024-07-23T01:17:14.787770",
     "status": "completed"
    },
    "tags": []
   },
   "source": [
    "# Data Search\n",
    "\n",
    "1. start with the Kaggle datasets with crowdfunding datasets\n",
    "2. look at github repo's with the datasets. what level is the data at? campaign level hopefully\n",
    "3. if have time and really need more datapoints, scrape data using API scripts"
   ]
  },
  {
   "cell_type": "code",
   "execution_count": 3,
   "id": "585cfa3a",
   "metadata": {
    "execution": {
     "iopub.execute_input": "2024-07-23T01:17:14.819019Z",
     "iopub.status.busy": "2024-07-23T01:17:14.818171Z",
     "iopub.status.idle": "2024-07-23T01:17:14.865375Z",
     "shell.execute_reply": "2024-07-23T01:17:14.863924Z"
    },
    "papermill": {
     "duration": 0.06201,
     "end_time": "2024-07-23T01:17:14.868782",
     "exception": false,
     "start_time": "2024-07-23T01:17:14.806772",
     "status": "completed"
    },
    "tags": []
   },
   "outputs": [],
   "source": [
    "# Data Source: https://github.com/lmeninato/GoFundMe/blob/master/data-raw/GFM_data.csv\n",
    "# If I am up for scraping: https://github.com/gvsa123/GoFundMe/blob/master/gofund_links_scraper.py\n",
    "# Analytic Ideas: https://github.com/COGS108/FinalProjects-Sp23/blob/main/FinalProjectGroup_Sp23_Rise_and_Grind.ipynb\n",
    "# , https://crowdsourcingweek.com/blog/predict-crowdfunding-success/\n",
    "\n",
    "# column_names = ['Url', 'Category', 'Position', 'Title', 'Location', 'Amount_Raised', 'Goal', 'Number_of_Donators', 'Length_of_Fundraising',\t'FB_Shares', 'GFM_hearts',\t'Text', 'Latitude', 'Longitude']\n",
    "\n",
    "df = pd.read_csv('/kaggle/input/gofundme-datasets/GFM_data - GFM_data.csv')"
   ]
  },
  {
   "cell_type": "code",
   "execution_count": 4,
   "id": "32a39dfb",
   "metadata": {
    "execution": {
     "iopub.execute_input": "2024-07-23T01:17:14.892142Z",
     "iopub.status.busy": "2024-07-23T01:17:14.891681Z",
     "iopub.status.idle": "2024-07-23T01:17:14.939130Z",
     "shell.execute_reply": "2024-07-23T01:17:14.937837Z"
    },
    "papermill": {
     "duration": 0.062915,
     "end_time": "2024-07-23T01:17:14.941958",
     "exception": false,
     "start_time": "2024-07-23T01:17:14.879043",
     "status": "completed"
    },
    "tags": []
   },
   "outputs": [
    {
     "name": "stdout",
     "output_type": "stream",
     "text": [
      "<class 'pandas.core.frame.DataFrame'>\n",
      "RangeIndex: 1242 entries, 0 to 1241\n",
      "Data columns (total 14 columns):\n",
      " #   Column                 Non-Null Count  Dtype  \n",
      "---  ------                 --------------  -----  \n",
      " 0   Url                    1241 non-null   object \n",
      " 1   Category               1241 non-null   object \n",
      " 2   Position               1239 non-null   object \n",
      " 3   Title                  1239 non-null   object \n",
      " 4   Location               1235 non-null   object \n",
      " 5   Amount_Raised          1232 non-null   float64\n",
      " 6   Goal                   1232 non-null   object \n",
      " 7   Number_of_Donators     1232 non-null   object \n",
      " 8   Length_of_Fundraising  1231 non-null   object \n",
      " 9   FB_Shares              1194 non-null   object \n",
      " 10  GFM_hearts             1234 non-null   object \n",
      " 11  Text                   1237 non-null   object \n",
      " 12  Latitude               1235 non-null   float64\n",
      " 13  Longitude              1235 non-null   float64\n",
      "dtypes: float64(3), object(11)\n",
      "memory usage: 136.0+ KB\n"
     ]
    }
   ],
   "source": [
    "df.info()"
   ]
  },
  {
   "cell_type": "code",
   "execution_count": 5,
   "id": "8ee65dea",
   "metadata": {
    "execution": {
     "iopub.execute_input": "2024-07-23T01:17:14.964094Z",
     "iopub.status.busy": "2024-07-23T01:17:14.963656Z",
     "iopub.status.idle": "2024-07-23T01:17:14.977424Z",
     "shell.execute_reply": "2024-07-23T01:17:14.975996Z"
    },
    "papermill": {
     "duration": 0.028302,
     "end_time": "2024-07-23T01:17:14.980373",
     "exception": false,
     "start_time": "2024-07-23T01:17:14.952071",
     "status": "completed"
    },
    "tags": []
   },
   "outputs": [
    {
     "data": {
      "text/plain": [
       "Url                       1\n",
       "Category                  1\n",
       "Position                  3\n",
       "Title                     3\n",
       "Location                  7\n",
       "Amount_Raised            10\n",
       "Goal                     10\n",
       "Number_of_Donators       10\n",
       "Length_of_Fundraising    11\n",
       "FB_Shares                48\n",
       "GFM_hearts                8\n",
       "Text                      5\n",
       "Latitude                  7\n",
       "Longitude                 7\n",
       "dtype: int64"
      ]
     },
     "execution_count": 5,
     "metadata": {},
     "output_type": "execute_result"
    }
   ],
   "source": [
    "df.isnull().sum()#/len(df)"
   ]
  },
  {
   "cell_type": "code",
   "execution_count": 6,
   "id": "2b574aa1",
   "metadata": {
    "execution": {
     "iopub.execute_input": "2024-07-23T01:17:15.003543Z",
     "iopub.status.busy": "2024-07-23T01:17:15.003123Z",
     "iopub.status.idle": "2024-07-23T01:17:15.030205Z",
     "shell.execute_reply": "2024-07-23T01:17:15.028812Z"
    },
    "papermill": {
     "duration": 0.042228,
     "end_time": "2024-07-23T01:17:15.033127",
     "exception": false,
     "start_time": "2024-07-23T01:17:14.990899",
     "status": "completed"
    },
    "tags": []
   },
   "outputs": [
    {
     "data": {
      "text/html": [
       "<div>\n",
       "<style scoped>\n",
       "    .dataframe tbody tr th:only-of-type {\n",
       "        vertical-align: middle;\n",
       "    }\n",
       "\n",
       "    .dataframe tbody tr th {\n",
       "        vertical-align: top;\n",
       "    }\n",
       "\n",
       "    .dataframe thead th {\n",
       "        text-align: right;\n",
       "    }\n",
       "</style>\n",
       "<table border=\"1\" class=\"dataframe\">\n",
       "  <thead>\n",
       "    <tr style=\"text-align: right;\">\n",
       "      <th></th>\n",
       "      <th>Url</th>\n",
       "      <th>Category</th>\n",
       "      <th>Position</th>\n",
       "      <th>Title</th>\n",
       "      <th>Location</th>\n",
       "      <th>Amount_Raised</th>\n",
       "      <th>Goal</th>\n",
       "      <th>Number_of_Donators</th>\n",
       "      <th>Length_of_Fundraising</th>\n",
       "      <th>FB_Shares</th>\n",
       "      <th>GFM_hearts</th>\n",
       "      <th>Text</th>\n",
       "      <th>Latitude</th>\n",
       "      <th>Longitude</th>\n",
       "    </tr>\n",
       "  </thead>\n",
       "  <tbody>\n",
       "    <tr>\n",
       "      <th>0</th>\n",
       "      <td>https://www.gofundme.com/3ctqm-medical-bills-f...</td>\n",
       "      <td>Medical</td>\n",
       "      <td>0</td>\n",
       "      <td>92 Yr old Man Brutally Attacked.</td>\n",
       "      <td>LOS ANGELES, CA</td>\n",
       "      <td>327345.0</td>\n",
       "      <td>15,000</td>\n",
       "      <td>12,167</td>\n",
       "      <td>1 month</td>\n",
       "      <td>26k</td>\n",
       "      <td>12k</td>\n",
       "      <td>Rodolfo Rodriguez needs your help today! 92 Yr...</td>\n",
       "      <td>34.052234</td>\n",
       "      <td>-118.243685</td>\n",
       "    </tr>\n",
       "    <tr>\n",
       "      <th>1</th>\n",
       "      <td>https://www.gofundme.com/olivia-stoy-bone-marr...</td>\n",
       "      <td>Medical</td>\n",
       "      <td>0</td>\n",
       "      <td>Olivia Stoy:Transplant &amp; Liv it up!</td>\n",
       "      <td>ASHLEY, IN</td>\n",
       "      <td>316261.0</td>\n",
       "      <td>1.0M</td>\n",
       "      <td>5,598</td>\n",
       "      <td>3 months</td>\n",
       "      <td>12k</td>\n",
       "      <td>5.7k</td>\n",
       "      <td>Thomas Stoy needs your help today! Olivia Stoy...</td>\n",
       "      <td>41.527273</td>\n",
       "      <td>-85.065523</td>\n",
       "    </tr>\n",
       "    <tr>\n",
       "      <th>2</th>\n",
       "      <td>https://www.gofundme.com/autologous-Tcell-Tran...</td>\n",
       "      <td>Medical</td>\n",
       "      <td>1</td>\n",
       "      <td>AUTOLOGOUS T CELL TRANSPLANT</td>\n",
       "      <td>STATEN ISLAND, NY</td>\n",
       "      <td>241125.0</td>\n",
       "      <td>250,000</td>\n",
       "      <td>841</td>\n",
       "      <td>2 months</td>\n",
       "      <td>1.8k</td>\n",
       "      <td>836</td>\n",
       "      <td>Philip Defonte needs your help today! AUTOLOGO...</td>\n",
       "      <td>40.579532</td>\n",
       "      <td>-74.150201</td>\n",
       "    </tr>\n",
       "    <tr>\n",
       "      <th>3</th>\n",
       "      <td>https://www.gofundme.com/a-chance-of-rebirth</td>\n",
       "      <td>Medical</td>\n",
       "      <td>1</td>\n",
       "      <td>A chance of rebirth</td>\n",
       "      <td>DUBLIN, CA</td>\n",
       "      <td>237424.0</td>\n",
       "      <td>225,000</td>\n",
       "      <td>4,708</td>\n",
       "      <td>1 month</td>\n",
       "      <td>9.7k</td>\n",
       "      <td>4.7k</td>\n",
       "      <td>Sriram Kanniah needs your help today! A chance...</td>\n",
       "      <td>37.702152</td>\n",
       "      <td>-121.935792</td>\n",
       "    </tr>\n",
       "    <tr>\n",
       "      <th>4</th>\n",
       "      <td>https://www.gofundme.com/teamclaire</td>\n",
       "      <td>Medical</td>\n",
       "      <td>1</td>\n",
       "      <td>Claire Wineland Needs Our Help</td>\n",
       "      <td>GARDEN GROVE, CA</td>\n",
       "      <td>236590.0</td>\n",
       "      <td>225,000</td>\n",
       "      <td>8,393</td>\n",
       "      <td>2 months</td>\n",
       "      <td>6.4k</td>\n",
       "      <td>8.9k</td>\n",
       "      <td>Melissa Yeager needs your help today! Claire W...</td>\n",
       "      <td>33.774269</td>\n",
       "      <td>-117.937995</td>\n",
       "    </tr>\n",
       "  </tbody>\n",
       "</table>\n",
       "</div>"
      ],
      "text/plain": [
       "                                                 Url Category Position  \\\n",
       "0  https://www.gofundme.com/3ctqm-medical-bills-f...  Medical        0   \n",
       "1  https://www.gofundme.com/olivia-stoy-bone-marr...  Medical        0   \n",
       "2  https://www.gofundme.com/autologous-Tcell-Tran...  Medical        1   \n",
       "3       https://www.gofundme.com/a-chance-of-rebirth  Medical        1   \n",
       "4                https://www.gofundme.com/teamclaire  Medical        1   \n",
       "\n",
       "                                 Title           Location  Amount_Raised  \\\n",
       "0     92 Yr old Man Brutally Attacked.    LOS ANGELES, CA       327345.0   \n",
       "1  Olivia Stoy:Transplant & Liv it up!         ASHLEY, IN       316261.0   \n",
       "2         AUTOLOGOUS T CELL TRANSPLANT  STATEN ISLAND, NY       241125.0   \n",
       "3                  A chance of rebirth         DUBLIN, CA       237424.0   \n",
       "4       Claire Wineland Needs Our Help   GARDEN GROVE, CA       236590.0   \n",
       "\n",
       "      Goal Number_of_Donators Length_of_Fundraising FB_Shares GFM_hearts  \\\n",
       "0   15,000             12,167               1 month       26k        12k   \n",
       "1     1.0M              5,598              3 months       12k       5.7k   \n",
       "2  250,000                841              2 months      1.8k        836   \n",
       "3  225,000              4,708               1 month      9.7k       4.7k   \n",
       "4  225,000              8,393              2 months      6.4k       8.9k   \n",
       "\n",
       "                                                Text   Latitude   Longitude  \n",
       "0  Rodolfo Rodriguez needs your help today! 92 Yr...  34.052234 -118.243685  \n",
       "1  Thomas Stoy needs your help today! Olivia Stoy...  41.527273  -85.065523  \n",
       "2  Philip Defonte needs your help today! AUTOLOGO...  40.579532  -74.150201  \n",
       "3  Sriram Kanniah needs your help today! A chance...  37.702152 -121.935792  \n",
       "4  Melissa Yeager needs your help today! Claire W...  33.774269 -117.937995  "
      ]
     },
     "execution_count": 6,
     "metadata": {},
     "output_type": "execute_result"
    }
   ],
   "source": [
    "df.head()"
   ]
  },
  {
   "cell_type": "markdown",
   "id": "709ce514",
   "metadata": {
    "papermill": {
     "duration": 0.010683,
     "end_time": "2024-07-23T01:17:15.055993",
     "exception": false,
     "start_time": "2024-07-23T01:17:15.045310",
     "status": "completed"
    },
    "tags": []
   },
   "source": [
    "This dataset is pretty small in rows and columns. Will work on some relevant algorithms. And to get more confident conclusions, most likely will need to scrape the site."
   ]
  },
  {
   "cell_type": "markdown",
   "id": "99bfeeb5",
   "metadata": {
    "papermill": {
     "duration": 0.010633,
     "end_time": "2024-07-23T01:17:15.077206",
     "exception": false,
     "start_time": "2024-07-23T01:17:15.066573",
     "status": "completed"
    },
    "tags": []
   },
   "source": [
    "## Let's first create a flag with whether or not the fundraiser has reached its goal"
   ]
  },
  {
   "cell_type": "code",
   "execution_count": 7,
   "id": "31fedb1c",
   "metadata": {
    "execution": {
     "iopub.execute_input": "2024-07-23T01:17:15.100717Z",
     "iopub.status.busy": "2024-07-23T01:17:15.100301Z",
     "iopub.status.idle": "2024-07-23T01:17:15.109718Z",
     "shell.execute_reply": "2024-07-23T01:17:15.108282Z"
    },
    "papermill": {
     "duration": 0.024307,
     "end_time": "2024-07-23T01:17:15.112478",
     "exception": false,
     "start_time": "2024-07-23T01:17:15.088171",
     "status": "completed"
    },
    "tags": []
   },
   "outputs": [
    {
     "data": {
      "text/plain": [
       "array([<class 'str'>, <class 'float'>], dtype=object)"
      ]
     },
     "execution_count": 7,
     "metadata": {},
     "output_type": "execute_result"
    }
   ],
   "source": [
    "# check to see which type \n",
    "unique_types = df['Goal'].map(type).unique()\n",
    "unique_types"
   ]
  },
  {
   "cell_type": "code",
   "execution_count": 8,
   "id": "1a89de42",
   "metadata": {
    "execution": {
     "iopub.execute_input": "2024-07-23T01:17:15.137197Z",
     "iopub.status.busy": "2024-07-23T01:17:15.136787Z",
     "iopub.status.idle": "2024-07-23T01:17:15.164668Z",
     "shell.execute_reply": "2024-07-23T01:17:15.163398Z"
    },
    "papermill": {
     "duration": 0.043015,
     "end_time": "2024-07-23T01:17:15.167745",
     "exception": false,
     "start_time": "2024-07-23T01:17:15.124730",
     "status": "completed"
    },
    "tags": []
   },
   "outputs": [
    {
     "data": {
      "text/html": [
       "<div>\n",
       "<style scoped>\n",
       "    .dataframe tbody tr th:only-of-type {\n",
       "        vertical-align: middle;\n",
       "    }\n",
       "\n",
       "    .dataframe tbody tr th {\n",
       "        vertical-align: top;\n",
       "    }\n",
       "\n",
       "    .dataframe thead th {\n",
       "        text-align: right;\n",
       "    }\n",
       "</style>\n",
       "<table border=\"1\" class=\"dataframe\">\n",
       "  <thead>\n",
       "    <tr style=\"text-align: right;\">\n",
       "      <th></th>\n",
       "      <th>Url</th>\n",
       "      <th>Category</th>\n",
       "      <th>Position</th>\n",
       "      <th>Title</th>\n",
       "      <th>Location</th>\n",
       "      <th>Amount_Raised</th>\n",
       "      <th>Goal</th>\n",
       "      <th>Number_of_Donators</th>\n",
       "      <th>Length_of_Fundraising</th>\n",
       "      <th>FB_Shares</th>\n",
       "      <th>GFM_hearts</th>\n",
       "      <th>Text</th>\n",
       "      <th>Latitude</th>\n",
       "      <th>Longitude</th>\n",
       "    </tr>\n",
       "  </thead>\n",
       "  <tbody>\n",
       "    <tr>\n",
       "      <th>0</th>\n",
       "      <td>https://www.gofundme.com/3ctqm-medical-bills-f...</td>\n",
       "      <td>Medical</td>\n",
       "      <td>0</td>\n",
       "      <td>92 Yr old Man Brutally Attacked.</td>\n",
       "      <td>LOS ANGELES, CA</td>\n",
       "      <td>327345.0</td>\n",
       "      <td>15000.0</td>\n",
       "      <td>12,167</td>\n",
       "      <td>1 month</td>\n",
       "      <td>26k</td>\n",
       "      <td>12k</td>\n",
       "      <td>Rodolfo Rodriguez needs your help today! 92 Yr...</td>\n",
       "      <td>34.052234</td>\n",
       "      <td>-118.243685</td>\n",
       "    </tr>\n",
       "    <tr>\n",
       "      <th>1</th>\n",
       "      <td>https://www.gofundme.com/olivia-stoy-bone-marr...</td>\n",
       "      <td>Medical</td>\n",
       "      <td>0</td>\n",
       "      <td>Olivia Stoy:Transplant &amp; Liv it up!</td>\n",
       "      <td>ASHLEY, IN</td>\n",
       "      <td>316261.0</td>\n",
       "      <td>1000000.0</td>\n",
       "      <td>5,598</td>\n",
       "      <td>3 months</td>\n",
       "      <td>12k</td>\n",
       "      <td>5.7k</td>\n",
       "      <td>Thomas Stoy needs your help today! Olivia Stoy...</td>\n",
       "      <td>41.527273</td>\n",
       "      <td>-85.065523</td>\n",
       "    </tr>\n",
       "  </tbody>\n",
       "</table>\n",
       "</div>"
      ],
      "text/plain": [
       "                                                 Url Category Position  \\\n",
       "0  https://www.gofundme.com/3ctqm-medical-bills-f...  Medical        0   \n",
       "1  https://www.gofundme.com/olivia-stoy-bone-marr...  Medical        0   \n",
       "\n",
       "                                 Title         Location  Amount_Raised  \\\n",
       "0     92 Yr old Man Brutally Attacked.  LOS ANGELES, CA       327345.0   \n",
       "1  Olivia Stoy:Transplant & Liv it up!       ASHLEY, IN       316261.0   \n",
       "\n",
       "        Goal Number_of_Donators Length_of_Fundraising FB_Shares GFM_hearts  \\\n",
       "0    15000.0             12,167               1 month       26k        12k   \n",
       "1  1000000.0              5,598              3 months       12k       5.7k   \n",
       "\n",
       "                                                Text   Latitude   Longitude  \n",
       "0  Rodolfo Rodriguez needs your help today! 92 Yr...  34.052234 -118.243685  \n",
       "1  Thomas Stoy needs your help today! Olivia Stoy...  41.527273  -85.065523  "
      ]
     },
     "execution_count": 8,
     "metadata": {},
     "output_type": "execute_result"
    }
   ],
   "source": [
    "# Function to convert string with suffixes to float\n",
    "\n",
    "def convert_to_float(value):\n",
    "    if isinstance(value, float):\n",
    "        return value\n",
    "    if isinstance(value, str):\n",
    "        # Remove commas if present\n",
    "        value = value.replace(',', '')\n",
    "        \n",
    "        multiplier = 1\n",
    "        if value.endswith('B'):\n",
    "            multiplier = 1_000_000_000\n",
    "            value = value[:-1]\n",
    "        if value.endswith('M'):\n",
    "            multiplier = 1_000_000\n",
    "            value = value[:-1]\n",
    "        elif value.endswith('K'):\n",
    "            multiplier = 1_000\n",
    "            value = value[:-1]\n",
    "        try:\n",
    "            return float(value) * multiplier\n",
    "        except ValueError:\n",
    "            return None  # or you can handle this case differently\n",
    "    return None\n",
    "\n",
    "# Apply the conversion function\n",
    "df['Goal'] = df['Goal'].apply(convert_to_float)\n",
    "df.head(2)"
   ]
  },
  {
   "cell_type": "code",
   "execution_count": 9,
   "id": "408e843b",
   "metadata": {
    "execution": {
     "iopub.execute_input": "2024-07-23T01:17:15.192322Z",
     "iopub.status.busy": "2024-07-23T01:17:15.191919Z",
     "iopub.status.idle": "2024-07-23T01:17:15.250521Z",
     "shell.execute_reply": "2024-07-23T01:17:15.249112Z"
    },
    "papermill": {
     "duration": 0.074334,
     "end_time": "2024-07-23T01:17:15.253437",
     "exception": false,
     "start_time": "2024-07-23T01:17:15.179103",
     "status": "completed"
    },
    "tags": []
   },
   "outputs": [
    {
     "data": {
      "text/html": [
       "<div>\n",
       "<style scoped>\n",
       "    .dataframe tbody tr th:only-of-type {\n",
       "        vertical-align: middle;\n",
       "    }\n",
       "\n",
       "    .dataframe tbody tr th {\n",
       "        vertical-align: top;\n",
       "    }\n",
       "\n",
       "    .dataframe thead th {\n",
       "        text-align: right;\n",
       "    }\n",
       "</style>\n",
       "<table border=\"1\" class=\"dataframe\">\n",
       "  <thead>\n",
       "    <tr style=\"text-align: right;\">\n",
       "      <th></th>\n",
       "      <th>Url</th>\n",
       "      <th>Category</th>\n",
       "      <th>Position</th>\n",
       "      <th>Title</th>\n",
       "      <th>Location</th>\n",
       "      <th>Amount_Raised</th>\n",
       "      <th>Goal</th>\n",
       "      <th>Number_of_Donators</th>\n",
       "      <th>Length_of_Fundraising</th>\n",
       "      <th>FB_Shares</th>\n",
       "      <th>GFM_hearts</th>\n",
       "      <th>Text</th>\n",
       "      <th>Latitude</th>\n",
       "      <th>Longitude</th>\n",
       "      <th>goal_reached</th>\n",
       "    </tr>\n",
       "  </thead>\n",
       "  <tbody>\n",
       "    <tr>\n",
       "      <th>0</th>\n",
       "      <td>https://www.gofundme.com/3ctqm-medical-bills-f...</td>\n",
       "      <td>Medical</td>\n",
       "      <td>0</td>\n",
       "      <td>92 Yr old Man Brutally Attacked.</td>\n",
       "      <td>LOS ANGELES, CA</td>\n",
       "      <td>327345.0</td>\n",
       "      <td>15000.0</td>\n",
       "      <td>12,167</td>\n",
       "      <td>1 month</td>\n",
       "      <td>26k</td>\n",
       "      <td>12k</td>\n",
       "      <td>Rodolfo Rodriguez needs your help today! 92 Yr...</td>\n",
       "      <td>34.052234</td>\n",
       "      <td>-118.243685</td>\n",
       "      <td>0</td>\n",
       "    </tr>\n",
       "  </tbody>\n",
       "</table>\n",
       "</div>"
      ],
      "text/plain": [
       "                                                 Url Category Position  \\\n",
       "0  https://www.gofundme.com/3ctqm-medical-bills-f...  Medical        0   \n",
       "\n",
       "                              Title         Location  Amount_Raised     Goal  \\\n",
       "0  92 Yr old Man Brutally Attacked.  LOS ANGELES, CA       327345.0  15000.0   \n",
       "\n",
       "  Number_of_Donators Length_of_Fundraising FB_Shares GFM_hearts  \\\n",
       "0             12,167               1 month       26k        12k   \n",
       "\n",
       "                                                Text   Latitude   Longitude  \\\n",
       "0  Rodolfo Rodriguez needs your help today! 92 Yr...  34.052234 -118.243685   \n",
       "\n",
       "   goal_reached  \n",
       "0             0  "
      ]
     },
     "execution_count": 9,
     "metadata": {},
     "output_type": "execute_result"
    }
   ],
   "source": [
    "# Which campaigns reached their goal flag\n",
    "\n",
    "query = \"\"\"\n",
    "select *\n",
    ", case when goal >= amount_raised then 1 else 0 end as goal_reached\n",
    "from df\n",
    "\"\"\"\n",
    "\n",
    "df = duckdb.query(query).df()\n",
    "df.head(1)"
   ]
  },
  {
   "cell_type": "code",
   "execution_count": 10,
   "id": "fb6f0928",
   "metadata": {
    "execution": {
     "iopub.execute_input": "2024-07-23T01:17:15.277332Z",
     "iopub.status.busy": "2024-07-23T01:17:15.276946Z",
     "iopub.status.idle": "2024-07-23T01:17:15.499493Z",
     "shell.execute_reply": "2024-07-23T01:17:15.498031Z"
    },
    "papermill": {
     "duration": 0.239991,
     "end_time": "2024-07-23T01:17:15.504612",
     "exception": false,
     "start_time": "2024-07-23T01:17:15.264621",
     "status": "completed"
    },
    "tags": []
   },
   "outputs": [
    {
     "data": {
      "image/png": "[encoded data removed]",
      "text/plain": [
       "<Figure size 640x480 with 1 Axes>"
      ]
     },
     "metadata": {},
     "output_type": "display_data"
    }
   ],
   "source": [
    "goals_reached_vc = df['goal_reached'].value_counts()\n",
    "\n",
    "# Create a pie chart\n",
    "goals_reached_vc.plot(kind='pie', autopct='%1.1f%%', startangle=90, counterclock=False)\n",
    "\n",
    "# Remove y-axis label\n",
    "plt.ylabel('')\n",
    "\n",
    "# Set the title\n",
    "plt.title('Goals Reached (1) vs Goals Not Reached (0) Distribution')\n",
    "\n",
    "# Show the plot\n",
    "plt.show()"
   ]
  },
  {
   "cell_type": "code",
   "execution_count": 11,
   "id": "dc1bee1b",
   "metadata": {
    "execution": {
     "iopub.execute_input": "2024-07-23T01:17:15.549302Z",
     "iopub.status.busy": "2024-07-23T01:17:15.548875Z",
     "iopub.status.idle": "2024-07-23T01:17:15.563932Z",
     "shell.execute_reply": "2024-07-23T01:17:15.562561Z"
    },
    "papermill": {
     "duration": 0.037538,
     "end_time": "2024-07-23T01:17:15.566988",
     "exception": false,
     "start_time": "2024-07-23T01:17:15.529450",
     "status": "completed"
    },
    "tags": []
   },
   "outputs": [
    {
     "data": {
      "text/plain": [
       "count    1.232000e+03\n",
       "mean     7.874816e+04\n",
       "std      2.190597e+05\n",
       "min      1.000000e+00\n",
       "25%      1.000000e+04\n",
       "50%      2.500000e+04\n",
       "75%      7.500000e+04\n",
       "max      3.800000e+06\n",
       "Name: Goal, dtype: float64"
      ]
     },
     "execution_count": 11,
     "metadata": {},
     "output_type": "execute_result"
    }
   ],
   "source": [
    "# Let's break down campaigns into goal quantiles\n",
    "\n",
    "df['Goal'].describe()"
   ]
  },
  {
   "cell_type": "code",
   "execution_count": 12,
   "id": "cce2bdd8",
   "metadata": {
    "execution": {
     "iopub.execute_input": "2024-07-23T01:17:15.593177Z",
     "iopub.status.busy": "2024-07-23T01:17:15.592752Z",
     "iopub.status.idle": "2024-07-23T01:17:15.608390Z",
     "shell.execute_reply": "2024-07-23T01:17:15.607191Z"
    },
    "papermill": {
     "duration": 0.032417,
     "end_time": "2024-07-23T01:17:15.611612",
     "exception": false,
     "start_time": "2024-07-23T01:17:15.579195",
     "status": "completed"
    },
    "tags": []
   },
   "outputs": [],
   "source": [
    "df['goal_quantile'] = pd.qcut(df['Goal'], q=[0, .25, .5, .75, 1.], labels=['25th', '50th', '75th', '100th'])"
   ]
  },
  {
   "cell_type": "code",
   "execution_count": 13,
   "id": "837aaab2",
   "metadata": {
    "execution": {
     "iopub.execute_input": "2024-07-23T01:17:15.639316Z",
     "iopub.status.busy": "2024-07-23T01:17:15.638847Z",
     "iopub.status.idle": "2024-07-23T01:17:15.651730Z",
     "shell.execute_reply": "2024-07-23T01:17:15.650286Z"
    },
    "papermill": {
     "duration": 0.030607,
     "end_time": "2024-07-23T01:17:15.655135",
     "exception": false,
     "start_time": "2024-07-23T01:17:15.624528",
     "status": "completed"
    },
    "tags": []
   },
   "outputs": [
    {
     "data": {
      "text/plain": [
       "goal_quantile\n",
       "25th     387\n",
       "100th    295\n",
       "50th     289\n",
       "75th     261\n",
       "Name: count, dtype: int64"
      ]
     },
     "execution_count": 13,
     "metadata": {},
     "output_type": "execute_result"
    }
   ],
   "source": [
    "# For each reached goal and not reached goal, get distribution of quantiles\n",
    "df['goal_quantile'].value_counts()"
   ]
  },
  {
   "cell_type": "code",
   "execution_count": 14,
   "id": "f86474c2",
   "metadata": {
    "execution": {
     "iopub.execute_input": "2024-07-23T01:17:15.683253Z",
     "iopub.status.busy": "2024-07-23T01:17:15.682788Z",
     "iopub.status.idle": "2024-07-23T01:17:15.704421Z",
     "shell.execute_reply": "2024-07-23T01:17:15.703128Z"
    },
    "papermill": {
     "duration": 0.039478,
     "end_time": "2024-07-23T01:17:15.707211",
     "exception": false,
     "start_time": "2024-07-23T01:17:15.667733",
     "status": "completed"
    },
    "tags": []
   },
   "outputs": [
    {
     "data": {
      "text/html": [
       "<div>\n",
       "<style scoped>\n",
       "    .dataframe tbody tr th:only-of-type {\n",
       "        vertical-align: middle;\n",
       "    }\n",
       "\n",
       "    .dataframe tbody tr th {\n",
       "        vertical-align: top;\n",
       "    }\n",
       "\n",
       "    .dataframe thead th {\n",
       "        text-align: right;\n",
       "    }\n",
       "</style>\n",
       "<table border=\"1\" class=\"dataframe\">\n",
       "  <thead>\n",
       "    <tr style=\"text-align: right;\">\n",
       "      <th></th>\n",
       "      <th>Goal</th>\n",
       "      <th>goal_reached</th>\n",
       "      <th>goal_quantile</th>\n",
       "    </tr>\n",
       "  </thead>\n",
       "  <tbody>\n",
       "    <tr>\n",
       "      <th>683</th>\n",
       "      <td>12000.0</td>\n",
       "      <td>1</td>\n",
       "      <td>50th</td>\n",
       "    </tr>\n",
       "    <tr>\n",
       "      <th>961</th>\n",
       "      <td>55000.0</td>\n",
       "      <td>1</td>\n",
       "      <td>75th</td>\n",
       "    </tr>\n",
       "    <tr>\n",
       "      <th>769</th>\n",
       "      <td>10000.0</td>\n",
       "      <td>0</td>\n",
       "      <td>25th</td>\n",
       "    </tr>\n",
       "    <tr>\n",
       "      <th>1222</th>\n",
       "      <td>16000.0</td>\n",
       "      <td>1</td>\n",
       "      <td>50th</td>\n",
       "    </tr>\n",
       "    <tr>\n",
       "      <th>700</th>\n",
       "      <td>7000.0</td>\n",
       "      <td>0</td>\n",
       "      <td>25th</td>\n",
       "    </tr>\n",
       "    <tr>\n",
       "      <th>392</th>\n",
       "      <td>25000.0</td>\n",
       "      <td>1</td>\n",
       "      <td>50th</td>\n",
       "    </tr>\n",
       "    <tr>\n",
       "      <th>1210</th>\n",
       "      <td>30000.0</td>\n",
       "      <td>1</td>\n",
       "      <td>75th</td>\n",
       "    </tr>\n",
       "    <tr>\n",
       "      <th>703</th>\n",
       "      <td>7000.0</td>\n",
       "      <td>0</td>\n",
       "      <td>25th</td>\n",
       "    </tr>\n",
       "    <tr>\n",
       "      <th>307</th>\n",
       "      <td>58570.0</td>\n",
       "      <td>0</td>\n",
       "      <td>75th</td>\n",
       "    </tr>\n",
       "    <tr>\n",
       "      <th>702</th>\n",
       "      <td>7500.0</td>\n",
       "      <td>0</td>\n",
       "      <td>25th</td>\n",
       "    </tr>\n",
       "  </tbody>\n",
       "</table>\n",
       "</div>"
      ],
      "text/plain": [
       "         Goal  goal_reached goal_quantile\n",
       "683   12000.0             1          50th\n",
       "961   55000.0             1          75th\n",
       "769   10000.0             0          25th\n",
       "1222  16000.0             1          50th\n",
       "700    7000.0             0          25th\n",
       "392   25000.0             1          50th\n",
       "1210  30000.0             1          75th\n",
       "703    7000.0             0          25th\n",
       "307   58570.0             0          75th\n",
       "702    7500.0             0          25th"
      ]
     },
     "execution_count": 14,
     "metadata": {},
     "output_type": "execute_result"
    }
   ],
   "source": [
    "# Now per goal reached/not, what is the distribution of goal dollar amount/quantile\n",
    "df[['Goal', 'goal_reached', 'goal_quantile']].sample(n=10, random_state=10)"
   ]
  },
  {
   "cell_type": "code",
   "execution_count": 15,
   "id": "c5f2082e",
   "metadata": {
    "execution": {
     "iopub.execute_input": "2024-07-23T01:17:15.734936Z",
     "iopub.status.busy": "2024-07-23T01:17:15.734460Z",
     "iopub.status.idle": "2024-07-23T01:17:15.786301Z",
     "shell.execute_reply": "2024-07-23T01:17:15.784787Z"
    },
    "papermill": {
     "duration": 0.069658,
     "end_time": "2024-07-23T01:17:15.789491",
     "exception": false,
     "start_time": "2024-07-23T01:17:15.719833",
     "status": "completed"
    },
    "tags": []
   },
   "outputs": [
    {
     "data": {
      "text/html": [
       "<div>\n",
       "<style scoped>\n",
       "    .dataframe tbody tr th:only-of-type {\n",
       "        vertical-align: middle;\n",
       "    }\n",
       "\n",
       "    .dataframe tbody tr th {\n",
       "        vertical-align: top;\n",
       "    }\n",
       "\n",
       "    .dataframe thead th {\n",
       "        text-align: right;\n",
       "    }\n",
       "</style>\n",
       "<table border=\"1\" class=\"dataframe\">\n",
       "  <thead>\n",
       "    <tr style=\"text-align: right;\">\n",
       "      <th></th>\n",
       "      <th>goal_reached</th>\n",
       "      <th>Goal</th>\n",
       "      <th>unreached_total_goal_count</th>\n",
       "    </tr>\n",
       "  </thead>\n",
       "  <tbody>\n",
       "    <tr>\n",
       "      <th>0</th>\n",
       "      <td>0</td>\n",
       "      <td>10000.0</td>\n",
       "      <td>55</td>\n",
       "    </tr>\n",
       "    <tr>\n",
       "      <th>1</th>\n",
       "      <td>0</td>\n",
       "      <td>5000.0</td>\n",
       "      <td>36</td>\n",
       "    </tr>\n",
       "    <tr>\n",
       "      <th>2</th>\n",
       "      <td>0</td>\n",
       "      <td>15000.0</td>\n",
       "      <td>28</td>\n",
       "    </tr>\n",
       "    <tr>\n",
       "      <th>3</th>\n",
       "      <td>0</td>\n",
       "      <td>100000.0</td>\n",
       "      <td>26</td>\n",
       "    </tr>\n",
       "    <tr>\n",
       "      <th>4</th>\n",
       "      <td>0</td>\n",
       "      <td>25000.0</td>\n",
       "      <td>22</td>\n",
       "    </tr>\n",
       "    <tr>\n",
       "      <th>...</th>\n",
       "      <td>...</td>\n",
       "      <td>...</td>\n",
       "      <td>...</td>\n",
       "    </tr>\n",
       "    <tr>\n",
       "      <th>81</th>\n",
       "      <td>0</td>\n",
       "      <td>14780.0</td>\n",
       "      <td>1</td>\n",
       "    </tr>\n",
       "    <tr>\n",
       "      <th>82</th>\n",
       "      <td>0</td>\n",
       "      <td>10500.0</td>\n",
       "      <td>1</td>\n",
       "    </tr>\n",
       "    <tr>\n",
       "      <th>83</th>\n",
       "      <td>0</td>\n",
       "      <td>6200.0</td>\n",
       "      <td>1</td>\n",
       "    </tr>\n",
       "    <tr>\n",
       "      <th>84</th>\n",
       "      <td>0</td>\n",
       "      <td>13000.0</td>\n",
       "      <td>1</td>\n",
       "    </tr>\n",
       "    <tr>\n",
       "      <th>85</th>\n",
       "      <td>0</td>\n",
       "      <td>17280.0</td>\n",
       "      <td>1</td>\n",
       "    </tr>\n",
       "  </tbody>\n",
       "</table>\n",
       "<p>86 rows × 3 columns</p>\n",
       "</div>"
      ],
      "text/plain": [
       "    goal_reached      Goal  unreached_total_goal_count\n",
       "0              0   10000.0                          55\n",
       "1              0    5000.0                          36\n",
       "2              0   15000.0                          28\n",
       "3              0  100000.0                          26\n",
       "4              0   25000.0                          22\n",
       "..           ...       ...                         ...\n",
       "81             0   14780.0                           1\n",
       "82             0   10500.0                           1\n",
       "83             0    6200.0                           1\n",
       "84             0   13000.0                           1\n",
       "85             0   17280.0                           1\n",
       "\n",
       "[86 rows x 3 columns]"
      ]
     },
     "execution_count": 15,
     "metadata": {},
     "output_type": "execute_result"
    }
   ],
   "source": [
    "query = \"\"\"\n",
    "select goal_reached\n",
    ", goal\n",
    ", count(*) as unreached_total_goal_count\n",
    "from df\n",
    "where goal_reached = 0\n",
    "group by 1,2\n",
    "order by 3 desc\n",
    "\"\"\"\n",
    "\n",
    "duckdb.query(query).df()"
   ]
  },
  {
   "cell_type": "code",
   "execution_count": 16,
   "id": "b69cd9dd",
   "metadata": {
    "execution": {
     "iopub.execute_input": "2024-07-23T01:17:15.819041Z",
     "iopub.status.busy": "2024-07-23T01:17:15.818589Z",
     "iopub.status.idle": "2024-07-23T01:17:15.867449Z",
     "shell.execute_reply": "2024-07-23T01:17:15.866006Z"
    },
    "papermill": {
     "duration": 0.066768,
     "end_time": "2024-07-23T01:17:15.870021",
     "exception": false,
     "start_time": "2024-07-23T01:17:15.803253",
     "status": "completed"
    },
    "tags": []
   },
   "outputs": [
    {
     "data": {
      "text/html": [
       "<div>\n",
       "<style scoped>\n",
       "    .dataframe tbody tr th:only-of-type {\n",
       "        vertical-align: middle;\n",
       "    }\n",
       "\n",
       "    .dataframe tbody tr th {\n",
       "        vertical-align: top;\n",
       "    }\n",
       "\n",
       "    .dataframe thead th {\n",
       "        text-align: right;\n",
       "    }\n",
       "</style>\n",
       "<table border=\"1\" class=\"dataframe\">\n",
       "  <thead>\n",
       "    <tr style=\"text-align: right;\">\n",
       "      <th></th>\n",
       "      <th>goal_reached</th>\n",
       "      <th>Goal</th>\n",
       "      <th>reached_total_goal_count</th>\n",
       "    </tr>\n",
       "  </thead>\n",
       "  <tbody>\n",
       "    <tr>\n",
       "      <th>0</th>\n",
       "      <td>1</td>\n",
       "      <td>50000.0</td>\n",
       "      <td>68</td>\n",
       "    </tr>\n",
       "    <tr>\n",
       "      <th>1</th>\n",
       "      <td>1</td>\n",
       "      <td>100000.0</td>\n",
       "      <td>62</td>\n",
       "    </tr>\n",
       "    <tr>\n",
       "      <th>2</th>\n",
       "      <td>1</td>\n",
       "      <td>10000.0</td>\n",
       "      <td>58</td>\n",
       "    </tr>\n",
       "    <tr>\n",
       "      <th>3</th>\n",
       "      <td>1</td>\n",
       "      <td>25000.0</td>\n",
       "      <td>48</td>\n",
       "    </tr>\n",
       "    <tr>\n",
       "      <th>4</th>\n",
       "      <td>1</td>\n",
       "      <td>15000.0</td>\n",
       "      <td>45</td>\n",
       "    </tr>\n",
       "    <tr>\n",
       "      <th>...</th>\n",
       "      <td>...</td>\n",
       "      <td>...</td>\n",
       "      <td>...</td>\n",
       "    </tr>\n",
       "    <tr>\n",
       "      <th>114</th>\n",
       "      <td>1</td>\n",
       "      <td>32000.0</td>\n",
       "      <td>1</td>\n",
       "    </tr>\n",
       "    <tr>\n",
       "      <th>115</th>\n",
       "      <td>1</td>\n",
       "      <td>2000.0</td>\n",
       "      <td>1</td>\n",
       "    </tr>\n",
       "    <tr>\n",
       "      <th>116</th>\n",
       "      <td>1</td>\n",
       "      <td>38000.0</td>\n",
       "      <td>1</td>\n",
       "    </tr>\n",
       "    <tr>\n",
       "      <th>117</th>\n",
       "      <td>1</td>\n",
       "      <td>14000.0</td>\n",
       "      <td>1</td>\n",
       "    </tr>\n",
       "    <tr>\n",
       "      <th>118</th>\n",
       "      <td>1</td>\n",
       "      <td>1600000.0</td>\n",
       "      <td>1</td>\n",
       "    </tr>\n",
       "  </tbody>\n",
       "</table>\n",
       "<p>119 rows × 3 columns</p>\n",
       "</div>"
      ],
      "text/plain": [
       "     goal_reached       Goal  reached_total_goal_count\n",
       "0               1    50000.0                        68\n",
       "1               1   100000.0                        62\n",
       "2               1    10000.0                        58\n",
       "3               1    25000.0                        48\n",
       "4               1    15000.0                        45\n",
       "..            ...        ...                       ...\n",
       "114             1    32000.0                         1\n",
       "115             1     2000.0                         1\n",
       "116             1    38000.0                         1\n",
       "117             1    14000.0                         1\n",
       "118             1  1600000.0                         1\n",
       "\n",
       "[119 rows x 3 columns]"
      ]
     },
     "execution_count": 16,
     "metadata": {},
     "output_type": "execute_result"
    }
   ],
   "source": [
    "query = \"\"\"\n",
    "select goal_reached\n",
    ", goal\n",
    ", count(*) as reached_total_goal_count\n",
    "from df\n",
    "where goal_reached = 1\n",
    "group by 1,2\n",
    "order by 3 desc\n",
    "\"\"\"\n",
    "\n",
    "duckdb.query(query).df()"
   ]
  },
  {
   "cell_type": "code",
   "execution_count": 17,
   "id": "4b64ac21",
   "metadata": {
    "execution": {
     "iopub.execute_input": "2024-07-23T01:17:15.898414Z",
     "iopub.status.busy": "2024-07-23T01:17:15.898030Z",
     "iopub.status.idle": "2024-07-23T01:17:15.946464Z",
     "shell.execute_reply": "2024-07-23T01:17:15.945205Z"
    },
    "papermill": {
     "duration": 0.066049,
     "end_time": "2024-07-23T01:17:15.949453",
     "exception": false,
     "start_time": "2024-07-23T01:17:15.883404",
     "status": "completed"
    },
    "tags": []
   },
   "outputs": [
    {
     "data": {
      "text/html": [
       "<div>\n",
       "<style scoped>\n",
       "    .dataframe tbody tr th:only-of-type {\n",
       "        vertical-align: middle;\n",
       "    }\n",
       "\n",
       "    .dataframe tbody tr th {\n",
       "        vertical-align: top;\n",
       "    }\n",
       "\n",
       "    .dataframe thead th {\n",
       "        text-align: right;\n",
       "    }\n",
       "</style>\n",
       "<table border=\"1\" class=\"dataframe\">\n",
       "  <thead>\n",
       "    <tr style=\"text-align: right;\">\n",
       "      <th></th>\n",
       "      <th>goal_reached</th>\n",
       "      <th>goal_quantile</th>\n",
       "      <th>reached_total_quantile_count</th>\n",
       "    </tr>\n",
       "  </thead>\n",
       "  <tbody>\n",
       "    <tr>\n",
       "      <th>0</th>\n",
       "      <td>0</td>\n",
       "      <td>25th</td>\n",
       "      <td>225</td>\n",
       "    </tr>\n",
       "    <tr>\n",
       "      <th>1</th>\n",
       "      <td>0</td>\n",
       "      <td>50th</td>\n",
       "      <td>108</td>\n",
       "    </tr>\n",
       "    <tr>\n",
       "      <th>2</th>\n",
       "      <td>0</td>\n",
       "      <td>75th</td>\n",
       "      <td>59</td>\n",
       "    </tr>\n",
       "    <tr>\n",
       "      <th>3</th>\n",
       "      <td>0</td>\n",
       "      <td>100th</td>\n",
       "      <td>54</td>\n",
       "    </tr>\n",
       "    <tr>\n",
       "      <th>4</th>\n",
       "      <td>0</td>\n",
       "      <td>NaN</td>\n",
       "      <td>10</td>\n",
       "    </tr>\n",
       "    <tr>\n",
       "      <th>5</th>\n",
       "      <td>1</td>\n",
       "      <td>100th</td>\n",
       "      <td>241</td>\n",
       "    </tr>\n",
       "    <tr>\n",
       "      <th>6</th>\n",
       "      <td>1</td>\n",
       "      <td>75th</td>\n",
       "      <td>202</td>\n",
       "    </tr>\n",
       "    <tr>\n",
       "      <th>7</th>\n",
       "      <td>1</td>\n",
       "      <td>50th</td>\n",
       "      <td>181</td>\n",
       "    </tr>\n",
       "    <tr>\n",
       "      <th>8</th>\n",
       "      <td>1</td>\n",
       "      <td>25th</td>\n",
       "      <td>162</td>\n",
       "    </tr>\n",
       "  </tbody>\n",
       "</table>\n",
       "</div>"
      ],
      "text/plain": [
       "   goal_reached goal_quantile  reached_total_quantile_count\n",
       "0             0          25th                           225\n",
       "1             0          50th                           108\n",
       "2             0          75th                            59\n",
       "3             0         100th                            54\n",
       "4             0           NaN                            10\n",
       "5             1         100th                           241\n",
       "6             1          75th                           202\n",
       "7             1          50th                           181\n",
       "8             1          25th                           162"
      ]
     },
     "execution_count": 17,
     "metadata": {},
     "output_type": "execute_result"
    }
   ],
   "source": [
    "query = \"\"\"\n",
    "select goal_reached\n",
    ", goal_quantile\n",
    ", count(*) as reached_total_quantile_count\n",
    "from df\n",
    "group by 1,2\n",
    "order by 1,3 desc\n",
    "\"\"\"\n",
    "\n",
    "duckdb.query(query).df()"
   ]
  },
  {
   "cell_type": "code",
   "execution_count": 18,
   "id": "82727309",
   "metadata": {
    "execution": {
     "iopub.execute_input": "2024-07-23T01:17:15.980860Z",
     "iopub.status.busy": "2024-07-23T01:17:15.980359Z",
     "iopub.status.idle": "2024-07-23T01:17:16.329988Z",
     "shell.execute_reply": "2024-07-23T01:17:16.328391Z"
    },
    "papermill": {
     "duration": 0.367572,
     "end_time": "2024-07-23T01:17:16.332702",
     "exception": false,
     "start_time": "2024-07-23T01:17:15.965130",
     "status": "completed"
    },
    "tags": []
   },
   "outputs": [
    {
     "data": {
      "image/png": "[encoded data removed]",
      "text/plain": [
       "<Figure size 1000x600 with 1 Axes>"
      ]
     },
     "metadata": {},
     "output_type": "display_data"
    }
   ],
   "source": [
    "# Create a count plot for goal_quantile broken down by goal_reached\n",
    "plt.figure(figsize=(10, 6))\n",
    "sns.countplot(data=df, x=\"goal_quantile\", hue=\"goal_reached\", palette=\"viridis\")\n",
    "\n",
    "# Customize the plot\n",
    "plt.xlabel(\"Goal Quantile\")\n",
    "plt.ylabel(\"Count\")\n",
    "plt.title(\"Goal Quantile by Goal Reached\")\n",
    "\n",
    "# Show the plot\n",
    "plt.show()"
   ]
  },
  {
   "cell_type": "markdown",
   "id": "4a4eacb6",
   "metadata": {
    "papermill": {
     "duration": 0.013003,
     "end_time": "2024-07-23T01:17:16.359291",
     "exception": false,
     "start_time": "2024-07-23T01:17:16.346288",
     "status": "completed"
    },
    "tags": []
   },
   "source": [
    "Most campaigns that failed were in the low goal amount whereas most of the campaigns that reached their goal were in the 6-digit and beyond figures. For campaigns that failed, the highest amount of failures were in the low amount and tapered off with high goal amounts. The inverse was true for the campaigns that were successful where most were successful in the highest goal amounts and tapered off in total success as goal amount decreased."
   ]
  },
  {
   "cell_type": "code",
   "execution_count": 19,
   "id": "f7abcafb",
   "metadata": {
    "execution": {
     "iopub.execute_input": "2024-07-23T01:17:16.389172Z",
     "iopub.status.busy": "2024-07-23T01:17:16.388035Z",
     "iopub.status.idle": "2024-07-23T01:17:18.555089Z",
     "shell.execute_reply": "2024-07-23T01:17:18.553975Z"
    },
    "papermill": {
     "duration": 2.185182,
     "end_time": "2024-07-23T01:17:18.557908",
     "exception": false,
     "start_time": "2024-07-23T01:17:16.372726",
     "status": "completed"
    },
    "tags": []
   },
   "outputs": [
    {
     "data": {
      "text/html": [
       "        <script type=\"text/javascript\">\n",
       "        window.PlotlyConfig = {MathJaxConfig: 'local'};\n",
       "        if (window.MathJax && window.MathJax.Hub && window.MathJax.Hub.Config) {window.MathJax.Hub.Config({SVG: {font: \"STIX-Web\"}});}\n",
       "        if (typeof require !== 'undefined') {\n",
       "        require.undef(\"plotly\");\n",
       "        requirejs.config({\n",
       "            paths: {\n",
       "                'plotly': ['https://cdn.plot.ly/plotly-2.27.0.min']\n",
       "            }\n",
       "        });\n",
       "        require(['plotly'], function(Plotly) {\n",
       "            window._Plotly = Plotly;\n",
       "        });\n",
       "        }\n",
       "        </script>\n",
       "        "
      ]
     },
     "metadata": {},
     "output_type": "display_data"
    },
    {
     "data": {
      "text/html": [
       "<div>                            <div id=\"f07d0825-5127-45bb-a84f-9e813cefbd97\" class=\"plotly-graph-div\" style=\"height:525px; width:100%;\"></div>            <script type=\"text/javascript\">                require([\"plotly\"], function(Plotly) {                    window.PLOTLYENV=window.PLOTLYENV || {};                                    if (document.getElementById(\"f07d0825-5127-45bb-a84f-9e813cefbd97\")) {                    Plotly.newPlot(                        \"f07d0825-5127-45bb-a84f-9e813cefbd97\",                        [{\"alignmentgroup\":\"True\",\"box\":{\"visible\":false},\"hovertemplate\":\"goal_reached=%{x}\\u003cbr\\u003eGoal=%{y}\\u003cextra\\u003e\\u003c\\u002fextra\\u003e\",\"legendgroup\":\"\",\"marker\":{\"color\":\"#636efa\"},\"name\":\"\",\"offsetgroup\":\"\",\"orientation\":\"v\",\"scalegroup\":\"True\",\"showlegend\":false,\"x\":[0,1,1,0,0,1,1,1,1,1,1,1,0,1,1,0,1,0,0,0,1,1,1,1,0,0,1,1,1,0,1,1,1,0,1,0,1,0,0,1,1,0,0,0,0,1,0,0,0,0,1,0,0,0,0,1,1,0,1,1,1,1,1,0,1,1,0,1,1,1,1,1,0,0,0,1,1,1,1,0,0,1,0,0,1,1,1,0,1,0,1,1,1,1,0,0,1,1,0,0,0,1,0,1,0,0,1,1,0,1,1,1,1,1,1,1,1,1,0,0,0,0,1,1,0,1,1,1,1,1,1,1,0,1,0,0,0,1,0,0,1,1,0,0,1,1,0,0,1,1,1,0,1,0,1,1,1,1,1,1,0,1,1,1,1,1,0,0,1,1,1,1,1,1,0,0,0,0,0,1,0,0,0,1,1,1,0,1,1,0,1,1,1,1,0,1,1,1,1,0,1,1,1,1,1,1,1,0,1,0,1,1,1,1,0,1,1,1,1,0,0,0,1,1,1,0,1,1,0,1,1,1,1,1,1,1,1,1,0,1,1,1,1,1,0,1,1,0,1,1,0,1,1,0,1,0,1,1,0,1,0,1,0,0,1,1,1,1,1,1,1,1,1,1,1,0,0,1,1,1,1,1,0,1,1,1,0,0,1,0,0,1,1,1,1,1,0,0,1,0,0,1,0,1,0,1,1,0,0,0,0,1,1,0,1,1,1,1,1,0,0,1,1,1,1,1,1,0,0,1,1,0,1,0,1,1,1,1,1,1,1,0,1,0,0,1,0,0,1,0,0,0,1,1,1,1,1,1,1,1,1,1,0,1,0,1,1,1,1,0,0,1,1,1,0,1,1,1,0,1,1,0,1,1,1,0,0,1,1,0,1,0,1,1,1,1,1,0,1,1,1,0,1,1,1,0,1,1,0,1,1,1,1,1,0,1,1,1,1,1,0,1,0,1,1,1,1,0,1,1,1,1,1,1,1,0,1,1,1,1,1,1,1,0,1,0,0,0,1,1,0,0,0,1,1,0,1,0,0,1,1,0,1,0,0,1,0,1,1,1,0,0,1,0,1,0,1,1,1,1,0,1,0,1,1,1,1,0,0,1,0,1,0,0,0,1,1,0,1,1,1,0,1,0,1,0,1,1,1,0,1,1,1,1,0,1,1,1,0,1,0,0,1,0,1,0,1,1,0,1,1,1,1,0,0,0,1,0,1,1,0,1,1,1,1,1,1,1,1,0,1,1,0,1,1,1,1,1,1,1,1,0,1,1,1,1,1,1,1,1,1,1,1,1,1,1,1,1,1,1,1,0,1,1,0,1,1,1,0,1,0,1,0,1,1,0,1,1,0,1,0,0,0,0,1,1,1,1,0,0,1,1,0,0,0,1,1,0,1,1,0,1,1,1,1,0,1,1,1,1,1,1,1,0,1,0,1,1,1,1,0,1,1,1,1,0,1,1,1,1,1,0,0,0,1,1,0,0,1,1,1,0,1,0,0,1,1,0,0,0,0,0,1,0,1,1,0,1,0,0,0,1,1,1,0,0,1,1,1,1,1,1,1,0,0,1,0,1,1,0,0,1,0,0,1,1,0,1,1,0,1,0,1,0,1,0,0,0,1,0,0,0,1,1,0,1,0,0,0,0,0,0,0,1,0,0,1,1,1,1,0,1,0,1,1,0,0,1,1,1,1,1,1,1,1,0,1,0,1,0,0,1,1,0,1,0,1,0,1,0,0,1,1,1,1,1,1,1,0,1,1,1,1,1,1,1,1,0,1,1,1,1,0,1,0,1,1,0,1,1,1,1,1,1,1,1,1,0,1,1,1,1,0,1,1,1,1,1,0,1,1,0,0,1,1,1,1,0,1,1,0,0,1,0,0,1,0,1,0,0,0,1,1,0,0,0,1,1,1,1,1,1,1,0,0,1,0,1,1,0,1,0,1,1,1,1,1,0,1,1,0,1,1,1,0,1,0,1,0,1,1,0,1,0,1,1,1,0,1,0,1,1,1,1,1,1,1,1,1,1,1,1,1,1,1,1,1,1,0,0,1,0,0,1,1,1,0,1,0,1,1,0,1,0,0,1,1,1,0,1,0,1,1,0,1,1,1,1,1,0,1,1,1,0,1,1,1,0,1,1,1,0,1,0,0,1,0,1,1,1,1,1,0,1,0,1,1,1,1,1,1,1,1,1,1,0,1,1,0,0,0,1,0,1,1,0,1,0,1,1,1,1,0,1,1,0,1,0,0,1,1,1,1,1,1,1,1,0,1,1,0,1,0,0,0,1,1,1,1,1,1,1,0,1,1,1,1,1,1,1,1,1,0,1,0,0,1,0,0,0,1,0,0,1,0,0,1,1,0,0,1,0,0,0,0,0,1,1,0,0,1,1,1,0,1,0,1,1,0,1,0,1,1,1,0,1,1,0,1,1,0,1,0,1,1,0,0,0,0,1,0,1,0,0,1,0,1,0,1,1,0,0,1,1,0,0,0,0,1,0,0,0,1,0,1,0,1,0,1,1,1,0,1,0,0,1,0,0,1,1,1,0,0,1,1,1,0,0,1,1,1,1,1,0,0,0,1,0,1,0,1,1,1,1,0,1,0,1,0,1,1,0,1,0,0,1,0,1,0,0,0,1,0,1,0,1,1,0,0,0,0,1,0,1,1,1,1,0,1,1,0,0,1,1,0,0,1,0,0,0,0,1,0,1,1,1,0,1,1,0,1,1,1,1,0,1,0,1,1,0,1,1,1,0,0,1,1,1,1,0,1,0,0,0,0,0,1,0,1,1,1,1],\"x0\":\" \",\"xaxis\":\"x\",\"y\":[15000.0,1000000.0,250000.0,225000.0,225000.0,250000.0,275000.0,250000.0,250000.0,200000.0,200918.0,200000.0,90000.0,200000.0,200000.0,150000.0,200000.0,150000.0,150000.0,125000.0,200000.0,200000.0,250000.0,150000.0,130000.0,95000.0,400000.0,1500000.0,150000.0,100000.0,150000.0,650000.0,200000.0,100000.0,150000.0,80000.0,130000.0,100000.0,50000.0,125000.0,150000.0,75000.0,100000.0,100000.0,100000.0,300000.0,10000.0,100000.0,85000.0,50000.0,125000.0,100000.0,100000.0,100000.0,15000.0,125000.0,200000.0,100000.0,300000.0,100000.0,99000.0,150000.0,200000.0,75000.0,100000.0,100000.0,75000.0,1000000.0,150000.0,100000.0,100000.0,375000.0,15000.0,250000.0,200000.0,350000.0,250000.0,200000.0,400000.0,150000.0,175000.0,225000.0,5000.0,25000.0,500000.0,175000.0,150000.0,100000.0,150000.0,500000.0,200000.0,130000.0,200000.0,150000.0,100000.0,3000.0,150000.0,125000.0,110000.0,100000.0,100000.0,150000.0,100000.0,150000.0,20000.0,90000.0,350000.0,100000.0,60000.0,100000.0,100000.0,150000.0,100000.0,100000.0,120000.0,100000.0,100000.0,90000.0,15000.0,25000.0,25000.0,60000.0,150000.0,90000.0,50000.0,75000.0,75000.0,75000.0,75000.0,75000.0,70000.0,100000.0,50000.0,70000.0,75000.0,25000.0,60000.0,100000.0,15000.0,5000.0,100000.0,75000.0,1000.0,50000.0,75000.0,75000.0,1000.0,10000.0,350000.0,1000000.0,275000.0,75000.0,300000.0,5000.0,250000.0,250000.0,250000.0,200000.0,200000.0,200000.0,100000.0,250000.0,250000.0,500000.0,500000.0,200000.0,100000.0,100000.0,250000.0,150000.0,150000.0,150000.0,150000.0,270000.0,105000.0,15000.0,100000.0,100000.0,9000.0,250000.0,50000.0,100000.0,30000.0,100000.0,129000.0,200000.0,2000.0,300000.0,100000.0,75000.0,100000.0,90000.0,100000.0,85000.0,25000.0,95888.0,150000.0,200000.0,100000.0,75000.0,100000.0,85000.0,100000.0,100000.0,150000.0,100000.0,80000.0,50000.0,100000.0,10000.0,100000.0,80000.0,100000.0,75000.0,50000.0,100000.0,75000.0,250000.0,100000.0,50000.0,1000000.0,260000.0,1000000.0,200000.0,147000.0,80000.0,500000.0,100000.0,36000.0,100000.0,150000.0,75017.0,500000.0,50000.0,1000000.0,50000.0,250000.0,50000.0,10000.0,100000.0,40000.0,200000.0,750000.0,72000.0,25000.0,100000.0,35000.0,10000.0,35000.0,500000.0,6000.0,50000.0,100000.0,20000.0,50000.0,25000.0,55628.0,100000.0,18000.0,40000.0,25000.0,30000.0,25000.0,1.0,50000.0,1000000.0,50000.0,75000.0,250000.0,30000.0,30000.0,110000.0,50000.0,35000.0,40000.0,null,null,500000.0,100000.0,50000.0,30000.0,40000.0,20000.0,176000.0,50000.0,25000.0,14300.0,20575.0,50000.0,13100.0,20000.0,85000.0,500000.0,1000000.0,150000.0,250000.0,60000.0,150000.0,115000.0,15000.0,1.0,250000.0,50000.0,75000.0,50000.0,100000.0,100000.0,58570.0,null,50000.0,45000.0,75000.0,150000.0,40000.0,100000.0,50000.0,50000.0,50000.0,50000.0,1.0,2000.0,210000.0,100000.0,75000.0,50000.0,40000.0,60000.0,15000.0,30000.0,75000.0,50000.0,30000.0,50000.0,30000.0,75000.0,40000.0,31000.0,250000.0,50000.0,30000.0,40000.0,10000.0,75000.0,20000.0,25000.0,30000.0,25000.0,1.0,53000.0,2500.0,20000.0,10000.0,40000.0,25000.0,50000.0,25000.0,200000.0,25000.0,93922.0,80000.0,120000.0,28966.0,10000.0,30000.0,20000.0,30000.0,22500.0,500000.0,200000.0,100000.0,100000.0,50000.0,5000.0,5000.0,5000.0,5000.0,15000.0,60000.0,30000.0,120000.0,30000.0,17500.0,25000.0,100000.0,25000.0,5000.0,15000.0,28400.0,18888.0,15000.0,25000.0,13558.0,25000.0,250000.0,125000.0,20000.0,30000.0,9221.0,25000.0,50000.0,12000.0,10000.0,25000.0,20000.0,30000.0,10000.0,30000.0,108000.0,8500.0,15000.0,18000.0,15000.0,20000.0,14500.0,8000.0,10000.0,10000.0,20000.0,25000.0,20000.0,8000.0,10000.0,6500.0,25000.0,19000.0,15000.0,50000.0,7000.0,10000.0,200000.0,60000.0,7700.0,20000.0,52000.0,8000.0,5000.0,40000.0,100000.0,10000.0,10000.0,150000.0,15000.0,25000.0,6000.0,6200.0,5000.0,5000.0,5000.0,250000.0,3800000.0,1800000.0,125000.0,200000.0,250000.0,150000.0,100000.0,2000000.0,1.0,10000.0,250000.0,60000.0,50000.0,100000.0,null,1000.0,60000.0,15000.0,40000.0,50000.0,40000.0,20000.0,20000.0,100000.0,25000.0,70000.0,25000.0,100000.0,60000.0,60000.0,30000.0,19495.0,30000.0,20000.0,30000.0,200000.0,25000.0,25000.0,20000.0,20000.0,50000.0,15000.0,45000.0,18000.0,15000.0,20000.0,24000.0,20000.0,15000.0,100000.0,35000.0,20000.0,1000.0,25000.0,10000.0,30000.0,10000.0,25000.0,20000.0,25000.0,15000.0,40000.0,30000.0,30000.0,50000.0,10000.0,20000.0,25000.0,40000.0,6000.0,15000.0,18000.0,15000.0,20000.0,12000.0,15000.0,6000.0,18000.0,12500.0,7500.0,29000.0,10000.0,8000.0,10000.0,7000.0,5000.0,7000.0,15000.0,5000.0,7000.0,10000.0,6000.0,10000.0,6550.0,10000.0,6250.0,10000.0,6000.0,6500.0,15000.0,5000.0,10000.0,10000.0,4000.0,8000.0,6000.0,5000.0,5000.0,8000.0,10000.0,10000.0,4000.0,3000.0,6000.0,5000.0,15000.0,10000.0,7000.0,10000.0,4000.0,10000.0,5000.0,5500.0,7000.0,5000.0,6000.0,5000.0,7000.0,8000.0,5000.0,10000.0,5000.0,3000.0,6000.0,4142.0,3500.0,3500.0,5500.0,15000.0,2800.0,7500.0,3000.0,15000.0,3700.0,1000000.0,50000.0,40000.0,50000.0,40000.0,30000.0,50000.0,25000.0,25000.0,28000.0,30000.0,2000000.0,45000.0,52000.0,25000.0,21000.0,15000.0,35000.0,150000.0,20000.0,20000.0,26500.0,75000.0,25000.0,75000.0,35000.0,20000.0,15000.0,21000.0,25000.0,75000.0,200000.0,15000.0,25000.0,15000.0,30000.0,75000.0,20000.0,20000.0,16430.0,12000.0,18000.0,10000.0,50000.0,15000.0,25000.0,18000.0,14780.0,214000.0,15000.0,12500.0,20000.0,10000.0,50000.0,22500.0,50000.0,30000.0,15000.0,8000.0,10500.0,10000.0,18000.0,50000.0,10000.0,10000.0,18000.0,185000.0,40000.0,10000.0,11000.0,8000.0,10000.0,45000.0,40000.0,17500.0,25000.0,5000.0,15000.0,10000.0,35000.0,15000.0,20000.0,18000.0,11800.0,16000.0,4000.0,12000.0,10000.0,12000.0,12000.0,12000.0,10000.0,10000.0,15000.0,20000.0,11000.0,10000.0,10000.0,10000.0,15000.0,10000.0,8000.0,12000.0,8500.0,8500.0,10000.0,6500.0,7000.0,10000.0,7500.0,7000.0,10000.0,20000.0,7000.0,10000.0,10000.0,null,13500.0,6500.0,250000.0,5000.0,8000.0,7000.0,3000.0,3000.0,10000.0,4000.0,6000.0,2500.0,7500.0,17500.0,5500.0,7000.0,5000.0,6000.0,6000.0,3000.0,6000.0,5000.0,2000.0,6000.0,5000.0,5000.0,10000.0,200000.0,35000.0,50000.0,25000.0,25000.0,20000.0,300000.0,200000.0,3500.0,1.0,18000.0,450000.0,50000.0,60000.0,77700.0,25000.0,15000.0,154000.0,12000.0,390000.0,20000.0,30000.0,null,141.0,50000.0,250000.0,10287.0,41000.0,10000.0,16000.0,10000.0,60000.0,10000.0,null,20000.0,20000.0,11500.0,50000.0,32000.0,15000.0,30000.0,8500.0,50000.0,15000.0,8500.0,200000.0,50000.0,10000.0,50000.0,250000.0,7000.0,8000.0,40000.0,8100.0,11500.0,6500.0,25000.0,5000.0,25000.0,15000.0,6200.0,10000.0,20000.0,100000.0,10000.0,10000.0,6750.0,100000.0,10000.0,10000.0,5500.0,20000.0,7600.0,500000.0,500000.0,200000.0,250000.0,150000.0,150000.0,150000.0,150000.0,75000.0,200000.0,100000.0,75000.0,1000.0,100000.0,150000.0,100000.0,75000.0,12500.0,100000.0,60000.0,45000.0,1000.0,60000.0,50000.0,50000.0,100000.0,50000.0,60000.0,45000.0,40000.0,40000.0,55000.0,50000.0,50000.0,40000.0,10000.0,50000.0,46000.0,50000.0,60000.0,50000.0,50000.0,60000.0,25000.0,5000.0,150000.0,40000.0,50000.0,50000.0,20000.0,60000.0,25000.0,80000.0,50000.0,60000.0,50000.0,50000.0,35000.0,75000.0,50000.0,2500.0,35000.0,50000.0,100000.0,10000.0,50000.0,20000.0,50000.0,30000.0,50000.0,35000.0,30000.0,50000.0,6000.0,15000.0,20000.0,25000.0,5000.0,6000.0,5000.0,10000.0,6000.0,15000.0,10000.0,10000.0,6000.0,6800.0,8000.0,25000.0,5000.0,25000.0,5000.0,4600.0,5000.0,5000.0,30000.0,5500.0,5000.0,2000.0,2000.0,5000.0,1500.0,2000.0,5000.0,3000.0,10000.0,1500.0,10000.0,1.0,4500.0,5000.0,2000.0,5000.0,1500.0,2000.0,5000.0,6000.0,4000.0,2000.0,3000.0,2000.0,4000.0,3000.0,1000.0,5000.0,10000.0,10000.0,7000.0,1000000.0,2000.0,4200.0,10000.0,4000.0,1.0,5000.0,4000.0,6000.0,null,10000.0,5000.0,2500.0,2.0,2000.0,1000.0,102100.0,45000.0,25000.0,45000.0,65000.0,30000.0,90000.0,55000.0,25000.0,25000.0,19000.0,100000.0,25000.0,22000.0,20000.0,100000.0,40000.0,20000.0,20000.0,30000.0,40000.0,10000.0,21345.0,18000.0,15000.0,14750.0,1.0,15000.0,13000.0,16000.0,22000.0,13245.0,20000.0,15000.0,30000.0,25000.0,15000.0,50000.0,12000.0,15000.0,20000.0,12000.0,15000.0,10000.0,12000.0,40000.0,15000.0,15000.0,15000.0,40000.0,25000.0,20000.0,15000.0,10000.0,15000.0,50000.0,10000.0,35000.0,10000.0,15000.0,10000.0,30000.0,25000.0,16000.0,10000.0,25000.0,15000.0,30000.0,9000.0,40000.0,30000.0,10000.0,125000.0,188000.0,18000.0,25000.0,15000.0,38000.0,10000.0,100000.0,10000.0,5000.0,10000.0,null,1.0,8000.0,15000.0,7000.0,3000.0,7500.0,3500.0,5000.0,8000.0,8000.0,6000.0,5000.0,10000.0,2000.0,5000.0,5000.0,5000.0,4000.0,9000.0,7000.0,1.0,5000.0,8500.0,10000.0,10000.0,5750.0,100000.0,2000.0,5000.0,7000.0,null,7000.0,4500.0,6000.0,5000.0,5369.0,3000.0,5000.0,13000.0,4000.0,25000.0,7000.0,4000.0,13500.0,3000.0,5000.0,5000.0,3500.0,3500.0,1000.0,3000.0,5000.0,3000.0,50000.0,3000.0,3500.0,3100000.0,3500.0,3800.0,3000.0,2000000.0,250000.0,10000.0,33000.0,50000.0,25000.0,20000.0,10000.0,20000.0,1000.0,100000.0,17280.0,17000.0,15000.0,20000.0,15000.0,50000.0,3000.0,20000.0,10000.0,14000.0,20000.0,50000.0,11500.0,15000.0,10000.0,5000.0,25000.0,10000.0,10000.0,25000.0,25000.0,20000.0,10000.0,9610.0,10000.0,12000.0,60000.0,8000.0,5000.0,10000.0,12000.0,25000.0,10000.0,20000.0,7000.0,7500.0,5500.0,10000.0,2000.0,8000.0,3000.0,10000.0,7500.0,10000.0,10000.0,5000.0,12000.0,6500.0,20000.0,4500.0,25000.0,15000.0,6000.0,7000.0,5000.0,5000.0,8000.0,6000.0,7000.0,5500.0,6000.0,100000.0,250000.0,5000.0,100000.0,50000.0,1600000.0,50000.0,15000.0,40000.0,30000.0,30000.0,40000.0,5000.0,50000.0,60000.0,50000.0,30000.0,25000.0,30000.0,55000.0,10000.0,7700.0,100000.0,150000.0,1000.0,12000.0,75000.0,15000.0,18590.0,1000.0,10000.0,20000.0,12000.0,20000.0,20000.0,25000.0,7500.0,20000.0,20000.0,10000.0,30000.0,15000.0,30000.0,15000.0,12000.0,50000.0,12000.0,25000.0,25000.0,12000.0,75000.0,100000.0,16000.0,10000.0,6500.0,15000.0,50000.0,15000.0,20000.0,10000.0,12000.0,10000.0,10001.0,10000.0,10000.0,10000.0,20000.0,8000.0,15000.0,50000.0,15000.0,15000.0],\"y0\":\" \",\"yaxis\":\"y\",\"type\":\"violin\"}],                        {\"template\":{\"data\":{\"histogram2dcontour\":[{\"type\":\"histogram2dcontour\",\"colorbar\":{\"outlinewidth\":0,\"ticks\":\"\"},\"colorscale\":[[0.0,\"#0d0887\"],[0.1111111111111111,\"#46039f\"],[0.2222222222222222,\"#7201a8\"],[0.3333333333333333,\"#9c179e\"],[0.4444444444444444,\"#bd3786\"],[0.5555555555555556,\"#d8576b\"],[0.6666666666666666,\"#ed7953\"],[0.7777777777777778,\"#fb9f3a\"],[0.8888888888888888,\"#fdca26\"],[1.0,\"#f0f921\"]]}],\"choropleth\":[{\"type\":\"choropleth\",\"colorbar\":{\"outlinewidth\":0,\"ticks\":\"\"}}],\"histogram2d\":[{\"type\":\"histogram2d\",\"colorbar\":{\"outlinewidth\":0,\"ticks\":\"\"},\"colorscale\":[[0.0,\"#0d0887\"],[0.1111111111111111,\"#46039f\"],[0.2222222222222222,\"#7201a8\"],[0.3333333333333333,\"#9c179e\"],[0.4444444444444444,\"#bd3786\"],[0.5555555555555556,\"#d8576b\"],[0.6666666666666666,\"#ed7953\"],[0.7777777777777778,\"#fb9f3a\"],[0.8888888888888888,\"#fdca26\"],[1.0,\"#f0f921\"]]}],\"heatmap\":[{\"type\":\"heatmap\",\"colorbar\":{\"outlinewidth\":0,\"ticks\":\"\"},\"colorscale\":[[0.0,\"#0d0887\"],[0.1111111111111111,\"#46039f\"],[0.2222222222222222,\"#7201a8\"],[0.3333333333333333,\"#9c179e\"],[0.4444444444444444,\"#bd3786\"],[0.5555555555555556,\"#d8576b\"],[0.6666666666666666,\"#ed7953\"],[0.7777777777777778,\"#fb9f3a\"],[0.8888888888888888,\"#fdca26\"],[1.0,\"#f0f921\"]]}],\"heatmapgl\":[{\"type\":\"heatmapgl\",\"colorbar\":{\"outlinewidth\":0,\"ticks\":\"\"},\"colorscale\":[[0.0,\"#0d0887\"],[0.1111111111111111,\"#46039f\"],[0.2222222222222222,\"#7201a8\"],[0.3333333333333333,\"#9c179e\"],[0.4444444444444444,\"#bd3786\"],[0.5555555555555556,\"#d8576b\"],[0.6666666666666666,\"#ed7953\"],[0.7777777777777778,\"#fb9f3a\"],[0.8888888888888888,\"#fdca26\"],[1.0,\"#f0f921\"]]}],\"contourcarpet\":[{\"type\":\"contourcarpet\",\"colorbar\":{\"outlinewidth\":0,\"ticks\":\"\"}}],\"contour\":[{\"type\":\"contour\",\"colorbar\":{\"outlinewidth\":0,\"ticks\":\"\"},\"colorscale\":[[0.0,\"#0d0887\"],[0.1111111111111111,\"#46039f\"],[0.2222222222222222,\"#7201a8\"],[0.3333333333333333,\"#9c179e\"],[0.4444444444444444,\"#bd3786\"],[0.5555555555555556,\"#d8576b\"],[0.6666666666666666,\"#ed7953\"],[0.7777777777777778,\"#fb9f3a\"],[0.8888888888888888,\"#fdca26\"],[1.0,\"#f0f921\"]]}],\"surface\":[{\"type\":\"surface\",\"colorbar\":{\"outlinewidth\":0,\"ticks\":\"\"},\"colorscale\":[[0.0,\"#0d0887\"],[0.1111111111111111,\"#46039f\"],[0.2222222222222222,\"#7201a8\"],[0.3333333333333333,\"#9c179e\"],[0.4444444444444444,\"#bd3786\"],[0.5555555555555556,\"#d8576b\"],[0.6666666666666666,\"#ed7953\"],[0.7777777777777778,\"#fb9f3a\"],[0.8888888888888888,\"#fdca26\"],[1.0,\"#f0f921\"]]}],\"mesh3d\":[{\"type\":\"mesh3d\",\"colorbar\":{\"outlinewidth\":0,\"ticks\":\"\"}}],\"scatter\":[{\"fillpattern\":{\"fillmode\":\"overlay\",\"size\":10,\"solidity\":0.2},\"type\":\"scatter\"}],\"parcoords\":[{\"type\":\"parcoords\",\"line\":{\"colorbar\":{\"outlinewidth\":0,\"ticks\":\"\"}}}],\"scatterpolargl\":[{\"type\":\"scatterpolargl\",\"marker\":{\"colorbar\":{\"outlinewidth\":0,\"ticks\":\"\"}}}],\"bar\":[{\"error_x\":{\"color\":\"#2a3f5f\"},\"error_y\":{\"color\":\"#2a3f5f\"},\"marker\":{\"line\":{\"color\":\"#E5ECF6\",\"width\":0.5},\"pattern\":{\"fillmode\":\"overlay\",\"size\":10,\"solidity\":0.2}},\"type\":\"bar\"}],\"scattergeo\":[{\"type\":\"scattergeo\",\"marker\":{\"colorbar\":{\"outlinewidth\":0,\"ticks\":\"\"}}}],\"scatterpolar\":[{\"type\":\"scatterpolar\",\"marker\":{\"colorbar\":{\"outlinewidth\":0,\"ticks\":\"\"}}}],\"histogram\":[{\"marker\":{\"pattern\":{\"fillmode\":\"overlay\",\"size\":10,\"solidity\":0.2}},\"type\":\"histogram\"}],\"scattergl\":[{\"type\":\"scattergl\",\"marker\":{\"colorbar\":{\"outlinewidth\":0,\"ticks\":\"\"}}}],\"scatter3d\":[{\"type\":\"scatter3d\",\"line\":{\"colorbar\":{\"outlinewidth\":0,\"ticks\":\"\"}},\"marker\":{\"colorbar\":{\"outlinewidth\":0,\"ticks\":\"\"}}}],\"scattermapbox\":[{\"type\":\"scattermapbox\",\"marker\":{\"colorbar\":{\"outlinewidth\":0,\"ticks\":\"\"}}}],\"scatterternary\":[{\"type\":\"scatterternary\",\"marker\":{\"colorbar\":{\"outlinewidth\":0,\"ticks\":\"\"}}}],\"scattercarpet\":[{\"type\":\"scattercarpet\",\"marker\":{\"colorbar\":{\"outlinewidth\":0,\"ticks\":\"\"}}}],\"carpet\":[{\"aaxis\":{\"endlinecolor\":\"#2a3f5f\",\"gridcolor\":\"white\",\"linecolor\":\"white\",\"minorgridcolor\":\"white\",\"startlinecolor\":\"#2a3f5f\"},\"baxis\":{\"endlinecolor\":\"#2a3f5f\",\"gridcolor\":\"white\",\"linecolor\":\"white\",\"minorgridcolor\":\"white\",\"startlinecolor\":\"#2a3f5f\"},\"type\":\"carpet\"}],\"table\":[{\"cells\":{\"fill\":{\"color\":\"#EBF0F8\"},\"line\":{\"color\":\"white\"}},\"header\":{\"fill\":{\"color\":\"#C8D4E3\"},\"line\":{\"color\":\"white\"}},\"type\":\"table\"}],\"barpolar\":[{\"marker\":{\"line\":{\"color\":\"#E5ECF6\",\"width\":0.5},\"pattern\":{\"fillmode\":\"overlay\",\"size\":10,\"solidity\":0.2}},\"type\":\"barpolar\"}],\"pie\":[{\"automargin\":true,\"type\":\"pie\"}]},\"layout\":{\"autotypenumbers\":\"strict\",\"colorway\":[\"#636efa\",\"#EF553B\",\"#00cc96\",\"#ab63fa\",\"#FFA15A\",\"#19d3f3\",\"#FF6692\",\"#B6E880\",\"#FF97FF\",\"#FECB52\"],\"font\":{\"color\":\"#2a3f5f\"},\"hovermode\":\"closest\",\"hoverlabel\":{\"align\":\"left\"},\"paper_bgcolor\":\"white\",\"plot_bgcolor\":\"#E5ECF6\",\"polar\":{\"bgcolor\":\"#E5ECF6\",\"angularaxis\":{\"gridcolor\":\"white\",\"linecolor\":\"white\",\"ticks\":\"\"},\"radialaxis\":{\"gridcolor\":\"white\",\"linecolor\":\"white\",\"ticks\":\"\"}},\"ternary\":{\"bgcolor\":\"#E5ECF6\",\"aaxis\":{\"gridcolor\":\"white\",\"linecolor\":\"white\",\"ticks\":\"\"},\"baxis\":{\"gridcolor\":\"white\",\"linecolor\":\"white\",\"ticks\":\"\"},\"caxis\":{\"gridcolor\":\"white\",\"linecolor\":\"white\",\"ticks\":\"\"}},\"coloraxis\":{\"colorbar\":{\"outlinewidth\":0,\"ticks\":\"\"}},\"colorscale\":{\"sequential\":[[0.0,\"#0d0887\"],[0.1111111111111111,\"#46039f\"],[0.2222222222222222,\"#7201a8\"],[0.3333333333333333,\"#9c179e\"],[0.4444444444444444,\"#bd3786\"],[0.5555555555555556,\"#d8576b\"],[0.6666666666666666,\"#ed7953\"],[0.7777777777777778,\"#fb9f3a\"],[0.8888888888888888,\"#fdca26\"],[1.0,\"#f0f921\"]],\"sequentialminus\":[[0.0,\"#0d0887\"],[0.1111111111111111,\"#46039f\"],[0.2222222222222222,\"#7201a8\"],[0.3333333333333333,\"#9c179e\"],[0.4444444444444444,\"#bd3786\"],[0.5555555555555556,\"#d8576b\"],[0.6666666666666666,\"#ed7953\"],[0.7777777777777778,\"#fb9f3a\"],[0.8888888888888888,\"#fdca26\"],[1.0,\"#f0f921\"]],\"diverging\":[[0,\"#8e0152\"],[0.1,\"#c51b7d\"],[0.2,\"#de77ae\"],[0.3,\"#f1b6da\"],[0.4,\"#fde0ef\"],[0.5,\"#f7f7f7\"],[0.6,\"#e6f5d0\"],[0.7,\"#b8e186\"],[0.8,\"#7fbc41\"],[0.9,\"#4d9221\"],[1,\"#276419\"]]},\"xaxis\":{\"gridcolor\":\"white\",\"linecolor\":\"white\",\"ticks\":\"\",\"title\":{\"standoff\":15},\"zerolinecolor\":\"white\",\"automargin\":true,\"zerolinewidth\":2},\"yaxis\":{\"gridcolor\":\"white\",\"linecolor\":\"white\",\"ticks\":\"\",\"title\":{\"standoff\":15},\"zerolinecolor\":\"white\",\"automargin\":true,\"zerolinewidth\":2},\"scene\":{\"xaxis\":{\"backgroundcolor\":\"#E5ECF6\",\"gridcolor\":\"white\",\"linecolor\":\"white\",\"showbackground\":true,\"ticks\":\"\",\"zerolinecolor\":\"white\",\"gridwidth\":2},\"yaxis\":{\"backgroundcolor\":\"#E5ECF6\",\"gridcolor\":\"white\",\"linecolor\":\"white\",\"showbackground\":true,\"ticks\":\"\",\"zerolinecolor\":\"white\",\"gridwidth\":2},\"zaxis\":{\"backgroundcolor\":\"#E5ECF6\",\"gridcolor\":\"white\",\"linecolor\":\"white\",\"showbackground\":true,\"ticks\":\"\",\"zerolinecolor\":\"white\",\"gridwidth\":2}},\"shapedefaults\":{\"line\":{\"color\":\"#2a3f5f\"}},\"annotationdefaults\":{\"arrowcolor\":\"#2a3f5f\",\"arrowhead\":0,\"arrowwidth\":1},\"geo\":{\"bgcolor\":\"white\",\"landcolor\":\"#E5ECF6\",\"subunitcolor\":\"white\",\"showland\":true,\"showlakes\":true,\"lakecolor\":\"white\"},\"title\":{\"x\":0.05},\"mapbox\":{\"style\":\"light\"}}},\"xaxis\":{\"anchor\":\"y\",\"domain\":[0.0,1.0],\"title\":{\"text\":\"goal_reached\"}},\"yaxis\":{\"anchor\":\"x\",\"domain\":[0.0,1.0],\"title\":{\"text\":\"Goal\"}},\"legend\":{\"tracegroupgap\":0},\"title\":{\"text\":\"Goal Amount Distribution by Goal Reached\"},\"violinmode\":\"group\"},                        {\"responsive\": true}                    ).then(function(){\n",
       "                            \n",
       "var gd = document.getElementById('f07d0825-5127-45bb-a84f-9e813cefbd97');\n",
       "var x = new MutationObserver(function (mutations, observer) {{\n",
       "        var display = window.getComputedStyle(gd).display;\n",
       "        if (!display || display === 'none') {{\n",
       "            console.log([gd, 'removed!']);\n",
       "            Plotly.purge(gd);\n",
       "            observer.disconnect();\n",
       "        }}\n",
       "}});\n",
       "\n",
       "// Listen for the removal of the full notebook cells\n",
       "var notebookContainer = gd.closest('#notebook-container');\n",
       "if (notebookContainer) {{\n",
       "    x.observe(notebookContainer, {childList: true});\n",
       "}}\n",
       "\n",
       "// Listen for the clearing of the current output cell\n",
       "var outputEl = gd.closest('.output');\n",
       "if (outputEl) {{\n",
       "    x.observe(outputEl, {childList: true});\n",
       "}}\n",
       "\n",
       "                        })                };                });            </script>        </div>"
      ]
     },
     "metadata": {},
     "output_type": "display_data"
    }
   ],
   "source": [
    "# Would like to see density with violin plot\n",
    "fig = px.violin(df, x='goal_reached', y='Goal', title=\"Goal Amount Distribution by Goal Reached\")\n",
    "\n",
    "# Show the plot\n",
    "fig.show()"
   ]
  },
  {
   "cell_type": "code",
   "execution_count": 20,
   "id": "73228ae1",
   "metadata": {
    "execution": {
     "iopub.execute_input": "2024-07-23T01:17:18.588280Z",
     "iopub.status.busy": "2024-07-23T01:17:18.587867Z",
     "iopub.status.idle": "2024-07-23T01:17:18.665083Z",
     "shell.execute_reply": "2024-07-23T01:17:18.663776Z"
    },
    "papermill": {
     "duration": 0.095819,
     "end_time": "2024-07-23T01:17:18.667651",
     "exception": false,
     "start_time": "2024-07-23T01:17:18.571832",
     "status": "completed"
    },
    "tags": []
   },
   "outputs": [
    {
     "data": {
      "text/html": [
       "<div>                            <div id=\"ac977943-0434-44f1-92f2-58e92c8fa336\" class=\"plotly-graph-div\" style=\"height:525px; width:100%;\"></div>            <script type=\"text/javascript\">                require([\"plotly\"], function(Plotly) {                    window.PLOTLYENV=window.PLOTLYENV || {};                                    if (document.getElementById(\"ac977943-0434-44f1-92f2-58e92c8fa336\")) {                    Plotly.newPlot(                        \"ac977943-0434-44f1-92f2-58e92c8fa336\",                        [{\"alignmentgroup\":\"True\",\"box\":{\"visible\":false},\"hovertemplate\":\"goal_reached=%{x}\\u003cbr\\u003eGoal=%{y}\\u003cextra\\u003e\\u003c\\u002fextra\\u003e\",\"legendgroup\":\"\",\"marker\":{\"color\":\"#636efa\"},\"name\":\"\",\"offsetgroup\":\"\",\"orientation\":\"v\",\"scalegroup\":\"True\",\"showlegend\":false,\"x\":[0,1,0,0,1,1,1,1,1,1,1,0,1,1,0,1,0,0,0,1,1,1,1,0,0,1,1,0,1,1,1,0,1,0,1,0,0,1,1,0,0,0,0,1,0,0,0,0,1,0,0,0,0,1,1,0,1,1,1,1,1,0,1,1,0,1,1,1,1,0,0,0,1,1,1,1,0,0,1,0,0,1,1,1,0,1,0,1,1,1,1,0,0,1,1,0,0,0,1,0,1,0,0,1,1,0,1,1,1,1,1,1,1,1,1,0,0,0,0,1,1,0,1,1,1,1,1,1,1,0,1,0,0,0,1,0,0,1,1,0,0,1,1,0,0,1,1,0,1,0,1,1,1,1,1,1,0,1,1,1,1,1,0,0,1,1,1,1,1,1,0,0,0,0,0,1,0,0,0,1,1,1,0,1,1,0,1,1,1,1,0,1,1,1,1,0,1,1,1,1,1,1,1,0,1,0,1,1,1,1,0,1,1,1,1,0,0,1,1,0,1,1,0,1,1,1,1,1,1,1,1,0,1,1,1,1,0,1,1,0,1,1,0,1,1,0,1,0,1,1,0,1,0,1,0,0,1,1,1,1,1,1,1,1,1,1,1,1,1,1,1,0,1,1,1,0,0,1,0,0,1,1,1,1,0,0,1,0,0,1,0,1,0,1,1,0,0,0,1,1,0,1,1,1,1,1,0,0,1,1,1,1,1,1,0,0,1,1,0,1,0,1,1,1,1,1,1,1,0,1,0,0,1,0,0,1,0,0,0,1,1,1,1,1,1,1,1,1,1,0,1,0,1,1,1,1,0,0,1,1,1,0,1,1,1,0,1,1,0,1,1,1,0,0,1,1,0,1,0,1,1,1,1,1,0,1,1,1,0,1,1,1,0,1,1,0,1,1,1,1,1,0,1,1,1,1,1,0,1,0,1,1,1,1,0,1,1,1,1,1,1,1,0,1,1,1,1,1,1,1,0,1,0,0,0,1,0,0,1,1,0,0,0,1,1,0,1,0,1,0,1,1,1,0,0,1,0,1,0,1,1,1,1,0,1,0,1,1,1,1,0,0,1,0,1,0,0,0,1,1,0,1,1,1,0,1,0,1,0,1,1,1,0,1,1,1,1,0,1,1,1,0,1,0,0,1,0,1,0,1,1,0,1,1,1,1,0,0,0,1,0,1,1,0,1,1,1,1,1,1,1,1,0,1,1,0,1,1,1,1,1,1,1,1,0,1,1,1,1,1,1,1,1,1,1,1,1,1,1,1,1,1,1,1,0,1,1,0,1,1,1,0,1,0,1,0,1,0,1,1,0,1,0,0,0,0,1,1,1,0,0,1,1,0,0,0,1,1,0,1,1,0,1,1,1,1,0,1,1,1,1,1,1,1,0,1,0,1,1,1,1,0,1,1,1,1,0,1,1,1,1,1,0,0,0,1,1,0,0,1,1,1,0,1,0,0,1,1,0,0,0,0,0,1,0,1,1,0,1,0,0,0,1,1,1,0,0,1,1,1,1,1,1,1,0,0,1,0,1,1,0,0,1,0,0,1,1,0,1,1,1,0,1,0,1,0,0,0,1,0,0,0,1,1,0,1,0,0,0,0,0,0,0,1,0,0,1,1,1,1,0,1,0,1,1,0,0,1,1,1,1,1,1,1,1,0,1,0,1,0,1,1,0,1,0,1,0,1,0,1,1,1,1,1,1,1,0,1,1,1,1,1,1,1,1,0,1,1,1,1,0,1,0,1,1,0,1,1,1,1,1,1,1,1,1,0,1,1,1,1,0,1,1,1,1,1,0,1,1,0,0,1,1,1,1,0,1,1,0,0,1,0,0,1,0,1,0,0,0,1,1,0,0,0,1,1,1,1,1,1,1,0,0,1,0,1,1,0,1,0,1,1,1,1,1,0,1,1,0,1,1,1,0,1,0,1,0,1,1,0,1,0,1,1,1,0,1,0,1,1,1,1,1,1,1,1,1,1,1,1,1,1,1,1,1,1,0,0,1,0,0,1,1,1,0,1,0,1,1,0,1,0,0,1,1,1,0,1,0,1,1,0,1,1,1,1,0,1,1,1,0,1,1,1,1,1,1,0,1,0,0,1,0,1,1,1,1,1,0,1,0,1,1,1,1,1,1,1,1,1,1,0,1,1,0,0,0,1,0,1,1,0,1,0,1,1,1,1,0,1,1,0,1,0,0,1,1,1,1,1,1,1,1,0,1,1,0,1,0,0,0,1,1,1,1,1,1,1,0,1,1,1,1,1,1,1,1,1,0,1,0,0,1,0,0,1,0,0,1,0,0,1,1,0,0,1,0,0,0,0,0,1,1,0,0,1,1,1,0,1,0,1,1,1,0,1,1,1,0,1,1,0,1,1,0,1,0,1,1,0,0,0,0,1,0,1,0,0,0,1,0,1,0,0,1,1,0,0,0,0,1,0,0,0,1,0,1,0,1,0,1,1,1,0,1,0,0,1,0,0,1,1,1,0,0,1,1,1,0,0,1,1,1,1,1,0,0,0,1,0,1,0,1,1,1,1,0,1,0,1,0,1,1,0,1,0,0,1,0,1,0,0,0,1,0,1,0,1,0,0,0,0,1,0,1,1,1,1,0,1,1,0,0,1,1,0,0,1,0,0,0,0,1,0,1,1,1,0,1,1,0,1,1,1,1,0,1,0,1,1,0,1,1,1,0,0,1,1,1,1,0,1,0,0,0,0,0,1,0,1,1,1,1],\"x0\":\" \",\"xaxis\":\"x\",\"y\":[15000.0,250000.0,225000.0,225000.0,250000.0,275000.0,250000.0,250000.0,200000.0,200918.0,200000.0,90000.0,200000.0,200000.0,150000.0,200000.0,150000.0,150000.0,125000.0,200000.0,200000.0,250000.0,150000.0,130000.0,95000.0,400000.0,150000.0,100000.0,150000.0,650000.0,200000.0,100000.0,150000.0,80000.0,130000.0,100000.0,50000.0,125000.0,150000.0,75000.0,100000.0,100000.0,100000.0,300000.0,10000.0,100000.0,85000.0,50000.0,125000.0,100000.0,100000.0,100000.0,15000.0,125000.0,200000.0,100000.0,300000.0,100000.0,99000.0,150000.0,200000.0,75000.0,100000.0,100000.0,75000.0,150000.0,100000.0,100000.0,375000.0,15000.0,250000.0,200000.0,350000.0,250000.0,200000.0,400000.0,150000.0,175000.0,225000.0,5000.0,25000.0,500000.0,175000.0,150000.0,100000.0,150000.0,500000.0,200000.0,130000.0,200000.0,150000.0,100000.0,3000.0,150000.0,125000.0,110000.0,100000.0,100000.0,150000.0,100000.0,150000.0,20000.0,90000.0,350000.0,100000.0,60000.0,100000.0,100000.0,150000.0,100000.0,100000.0,120000.0,100000.0,100000.0,90000.0,15000.0,25000.0,25000.0,60000.0,150000.0,90000.0,50000.0,75000.0,75000.0,75000.0,75000.0,75000.0,70000.0,100000.0,50000.0,70000.0,75000.0,25000.0,60000.0,100000.0,15000.0,5000.0,100000.0,75000.0,1000.0,50000.0,75000.0,75000.0,1000.0,10000.0,350000.0,275000.0,75000.0,300000.0,5000.0,250000.0,250000.0,250000.0,200000.0,200000.0,200000.0,100000.0,250000.0,250000.0,500000.0,500000.0,200000.0,100000.0,100000.0,250000.0,150000.0,150000.0,150000.0,150000.0,270000.0,105000.0,15000.0,100000.0,100000.0,9000.0,250000.0,50000.0,100000.0,30000.0,100000.0,129000.0,200000.0,2000.0,300000.0,100000.0,75000.0,100000.0,90000.0,100000.0,85000.0,25000.0,95888.0,150000.0,200000.0,100000.0,75000.0,100000.0,85000.0,100000.0,100000.0,150000.0,100000.0,80000.0,50000.0,100000.0,10000.0,100000.0,80000.0,100000.0,75000.0,50000.0,100000.0,75000.0,250000.0,100000.0,50000.0,260000.0,200000.0,147000.0,80000.0,500000.0,100000.0,36000.0,100000.0,150000.0,75017.0,500000.0,50000.0,50000.0,250000.0,50000.0,10000.0,100000.0,40000.0,200000.0,72000.0,25000.0,100000.0,35000.0,10000.0,35000.0,500000.0,6000.0,50000.0,100000.0,20000.0,50000.0,25000.0,55628.0,100000.0,18000.0,40000.0,25000.0,30000.0,25000.0,1.0,50000.0,50000.0,75000.0,250000.0,30000.0,30000.0,110000.0,50000.0,35000.0,40000.0,500000.0,100000.0,50000.0,30000.0,40000.0,20000.0,176000.0,50000.0,25000.0,14300.0,20575.0,50000.0,13100.0,20000.0,85000.0,500000.0,150000.0,250000.0,60000.0,150000.0,115000.0,15000.0,1.0,250000.0,50000.0,75000.0,50000.0,100000.0,100000.0,58570.0,50000.0,45000.0,75000.0,150000.0,40000.0,100000.0,50000.0,50000.0,50000.0,50000.0,1.0,2000.0,210000.0,100000.0,75000.0,50000.0,40000.0,60000.0,15000.0,30000.0,75000.0,50000.0,30000.0,50000.0,30000.0,75000.0,40000.0,31000.0,250000.0,50000.0,30000.0,40000.0,10000.0,75000.0,20000.0,25000.0,30000.0,25000.0,1.0,53000.0,2500.0,20000.0,10000.0,40000.0,25000.0,50000.0,25000.0,200000.0,25000.0,93922.0,80000.0,120000.0,28966.0,10000.0,30000.0,20000.0,30000.0,22500.0,500000.0,200000.0,100000.0,100000.0,50000.0,5000.0,5000.0,5000.0,5000.0,15000.0,60000.0,30000.0,120000.0,30000.0,17500.0,25000.0,100000.0,25000.0,5000.0,15000.0,28400.0,18888.0,15000.0,25000.0,13558.0,25000.0,250000.0,125000.0,20000.0,30000.0,9221.0,25000.0,50000.0,12000.0,10000.0,25000.0,20000.0,30000.0,10000.0,30000.0,108000.0,8500.0,15000.0,18000.0,15000.0,20000.0,14500.0,8000.0,10000.0,10000.0,20000.0,25000.0,20000.0,8000.0,10000.0,6500.0,25000.0,19000.0,15000.0,50000.0,7000.0,10000.0,200000.0,60000.0,7700.0,20000.0,52000.0,8000.0,5000.0,40000.0,100000.0,10000.0,10000.0,150000.0,15000.0,25000.0,6000.0,6200.0,5000.0,5000.0,5000.0,250000.0,125000.0,200000.0,250000.0,150000.0,100000.0,1.0,10000.0,250000.0,60000.0,50000.0,100000.0,1000.0,60000.0,15000.0,40000.0,50000.0,40000.0,20000.0,20000.0,100000.0,25000.0,70000.0,25000.0,100000.0,60000.0,60000.0,30000.0,19495.0,30000.0,20000.0,30000.0,200000.0,25000.0,25000.0,20000.0,20000.0,50000.0,15000.0,45000.0,18000.0,15000.0,20000.0,24000.0,20000.0,15000.0,100000.0,35000.0,20000.0,1000.0,25000.0,10000.0,30000.0,10000.0,25000.0,20000.0,25000.0,15000.0,40000.0,30000.0,30000.0,50000.0,10000.0,20000.0,25000.0,40000.0,6000.0,15000.0,18000.0,15000.0,20000.0,12000.0,15000.0,6000.0,18000.0,12500.0,7500.0,29000.0,10000.0,8000.0,10000.0,7000.0,5000.0,7000.0,15000.0,5000.0,7000.0,10000.0,6000.0,10000.0,6550.0,10000.0,6250.0,10000.0,6000.0,6500.0,15000.0,5000.0,10000.0,10000.0,4000.0,8000.0,6000.0,5000.0,5000.0,8000.0,10000.0,10000.0,4000.0,3000.0,6000.0,5000.0,15000.0,10000.0,7000.0,10000.0,4000.0,10000.0,5000.0,5500.0,7000.0,5000.0,6000.0,5000.0,7000.0,8000.0,5000.0,10000.0,5000.0,3000.0,6000.0,4142.0,3500.0,3500.0,5500.0,15000.0,2800.0,7500.0,3000.0,15000.0,3700.0,50000.0,40000.0,50000.0,40000.0,30000.0,50000.0,25000.0,25000.0,28000.0,30000.0,45000.0,52000.0,25000.0,21000.0,15000.0,35000.0,150000.0,20000.0,20000.0,26500.0,75000.0,25000.0,75000.0,35000.0,20000.0,15000.0,21000.0,25000.0,75000.0,200000.0,15000.0,25000.0,15000.0,30000.0,75000.0,20000.0,20000.0,16430.0,12000.0,18000.0,10000.0,50000.0,15000.0,25000.0,18000.0,14780.0,214000.0,15000.0,12500.0,20000.0,10000.0,50000.0,22500.0,50000.0,30000.0,15000.0,8000.0,10500.0,10000.0,18000.0,50000.0,10000.0,10000.0,18000.0,185000.0,40000.0,10000.0,11000.0,8000.0,10000.0,45000.0,40000.0,17500.0,25000.0,5000.0,15000.0,10000.0,35000.0,15000.0,20000.0,18000.0,11800.0,16000.0,4000.0,12000.0,10000.0,12000.0,12000.0,12000.0,10000.0,10000.0,15000.0,20000.0,11000.0,10000.0,10000.0,10000.0,15000.0,10000.0,8000.0,12000.0,8500.0,8500.0,10000.0,6500.0,7000.0,10000.0,7500.0,7000.0,10000.0,20000.0,7000.0,10000.0,10000.0,13500.0,6500.0,250000.0,5000.0,8000.0,7000.0,3000.0,3000.0,10000.0,4000.0,6000.0,2500.0,7500.0,17500.0,5500.0,7000.0,5000.0,6000.0,6000.0,3000.0,6000.0,5000.0,2000.0,6000.0,5000.0,5000.0,10000.0,200000.0,35000.0,50000.0,25000.0,25000.0,20000.0,300000.0,200000.0,3500.0,1.0,18000.0,450000.0,50000.0,60000.0,77700.0,25000.0,15000.0,154000.0,12000.0,390000.0,20000.0,30000.0,141.0,50000.0,250000.0,10287.0,41000.0,10000.0,16000.0,10000.0,60000.0,10000.0,20000.0,20000.0,11500.0,50000.0,32000.0,15000.0,30000.0,8500.0,50000.0,15000.0,8500.0,200000.0,50000.0,10000.0,50000.0,250000.0,7000.0,8000.0,40000.0,8100.0,11500.0,6500.0,25000.0,5000.0,25000.0,15000.0,6200.0,10000.0,20000.0,100000.0,10000.0,10000.0,6750.0,100000.0,10000.0,10000.0,5500.0,20000.0,7600.0,500000.0,500000.0,200000.0,250000.0,150000.0,150000.0,150000.0,150000.0,75000.0,200000.0,100000.0,75000.0,1000.0,100000.0,150000.0,100000.0,75000.0,12500.0,100000.0,60000.0,45000.0,1000.0,60000.0,50000.0,50000.0,100000.0,50000.0,60000.0,45000.0,40000.0,40000.0,55000.0,50000.0,50000.0,40000.0,10000.0,50000.0,46000.0,50000.0,60000.0,50000.0,50000.0,60000.0,25000.0,5000.0,150000.0,40000.0,50000.0,50000.0,20000.0,60000.0,25000.0,80000.0,50000.0,60000.0,50000.0,50000.0,35000.0,75000.0,50000.0,2500.0,35000.0,50000.0,100000.0,10000.0,50000.0,20000.0,50000.0,30000.0,50000.0,35000.0,30000.0,50000.0,6000.0,15000.0,20000.0,25000.0,5000.0,6000.0,5000.0,10000.0,6000.0,15000.0,10000.0,10000.0,6000.0,6800.0,8000.0,25000.0,5000.0,25000.0,5000.0,4600.0,5000.0,5000.0,30000.0,5500.0,5000.0,2000.0,2000.0,5000.0,1500.0,2000.0,5000.0,3000.0,10000.0,1500.0,10000.0,1.0,4500.0,5000.0,2000.0,5000.0,1500.0,2000.0,5000.0,6000.0,4000.0,2000.0,3000.0,2000.0,4000.0,3000.0,1000.0,5000.0,10000.0,10000.0,7000.0,2000.0,4200.0,10000.0,4000.0,1.0,5000.0,4000.0,6000.0,10000.0,5000.0,2500.0,2.0,2000.0,1000.0,102100.0,45000.0,25000.0,45000.0,65000.0,30000.0,90000.0,55000.0,25000.0,25000.0,19000.0,100000.0,25000.0,22000.0,20000.0,100000.0,40000.0,20000.0,20000.0,30000.0,40000.0,10000.0,21345.0,18000.0,15000.0,14750.0,1.0,15000.0,13000.0,16000.0,22000.0,13245.0,20000.0,15000.0,30000.0,25000.0,15000.0,50000.0,12000.0,15000.0,20000.0,12000.0,15000.0,10000.0,12000.0,40000.0,15000.0,15000.0,15000.0,40000.0,25000.0,20000.0,15000.0,10000.0,15000.0,50000.0,10000.0,35000.0,10000.0,15000.0,10000.0,30000.0,25000.0,16000.0,10000.0,25000.0,15000.0,30000.0,9000.0,40000.0,30000.0,10000.0,125000.0,188000.0,18000.0,25000.0,15000.0,38000.0,10000.0,100000.0,10000.0,5000.0,10000.0,1.0,8000.0,15000.0,7000.0,3000.0,7500.0,3500.0,5000.0,8000.0,8000.0,6000.0,5000.0,10000.0,2000.0,5000.0,5000.0,5000.0,4000.0,9000.0,7000.0,1.0,5000.0,8500.0,10000.0,10000.0,5750.0,100000.0,2000.0,5000.0,7000.0,7000.0,4500.0,6000.0,5000.0,5369.0,3000.0,5000.0,13000.0,4000.0,25000.0,7000.0,4000.0,13500.0,3000.0,5000.0,5000.0,3500.0,3500.0,1000.0,3000.0,5000.0,3000.0,50000.0,3000.0,3500.0,3500.0,3800.0,3000.0,250000.0,10000.0,33000.0,50000.0,25000.0,20000.0,10000.0,20000.0,1000.0,100000.0,17280.0,17000.0,15000.0,20000.0,15000.0,50000.0,3000.0,20000.0,10000.0,14000.0,20000.0,50000.0,11500.0,15000.0,10000.0,5000.0,25000.0,10000.0,10000.0,25000.0,25000.0,20000.0,10000.0,9610.0,10000.0,12000.0,60000.0,8000.0,5000.0,10000.0,12000.0,25000.0,10000.0,20000.0,7000.0,7500.0,5500.0,10000.0,2000.0,8000.0,3000.0,10000.0,7500.0,10000.0,10000.0,5000.0,12000.0,6500.0,20000.0,4500.0,25000.0,15000.0,6000.0,7000.0,5000.0,5000.0,8000.0,6000.0,7000.0,5500.0,6000.0,100000.0,250000.0,5000.0,100000.0,50000.0,50000.0,15000.0,40000.0,30000.0,30000.0,40000.0,5000.0,50000.0,60000.0,50000.0,30000.0,25000.0,30000.0,55000.0,10000.0,7700.0,100000.0,150000.0,1000.0,12000.0,75000.0,15000.0,18590.0,1000.0,10000.0,20000.0,12000.0,20000.0,20000.0,25000.0,7500.0,20000.0,20000.0,10000.0,30000.0,15000.0,30000.0,15000.0,12000.0,50000.0,12000.0,25000.0,25000.0,12000.0,75000.0,100000.0,16000.0,10000.0,6500.0,15000.0,50000.0,15000.0,20000.0,10000.0,12000.0,10000.0,10001.0,10000.0,10000.0,10000.0,20000.0,8000.0,15000.0,50000.0,15000.0,15000.0],\"y0\":\" \",\"yaxis\":\"y\",\"type\":\"violin\"}],                        {\"template\":{\"data\":{\"histogram2dcontour\":[{\"type\":\"histogram2dcontour\",\"colorbar\":{\"outlinewidth\":0,\"ticks\":\"\"},\"colorscale\":[[0.0,\"#0d0887\"],[0.1111111111111111,\"#46039f\"],[0.2222222222222222,\"#7201a8\"],[0.3333333333333333,\"#9c179e\"],[0.4444444444444444,\"#bd3786\"],[0.5555555555555556,\"#d8576b\"],[0.6666666666666666,\"#ed7953\"],[0.7777777777777778,\"#fb9f3a\"],[0.8888888888888888,\"#fdca26\"],[1.0,\"#f0f921\"]]}],\"choropleth\":[{\"type\":\"choropleth\",\"colorbar\":{\"outlinewidth\":0,\"ticks\":\"\"}}],\"histogram2d\":[{\"type\":\"histogram2d\",\"colorbar\":{\"outlinewidth\":0,\"ticks\":\"\"},\"colorscale\":[[0.0,\"#0d0887\"],[0.1111111111111111,\"#46039f\"],[0.2222222222222222,\"#7201a8\"],[0.3333333333333333,\"#9c179e\"],[0.4444444444444444,\"#bd3786\"],[0.5555555555555556,\"#d8576b\"],[0.6666666666666666,\"#ed7953\"],[0.7777777777777778,\"#fb9f3a\"],[0.8888888888888888,\"#fdca26\"],[1.0,\"#f0f921\"]]}],\"heatmap\":[{\"type\":\"heatmap\",\"colorbar\":{\"outlinewidth\":0,\"ticks\":\"\"},\"colorscale\":[[0.0,\"#0d0887\"],[0.1111111111111111,\"#46039f\"],[0.2222222222222222,\"#7201a8\"],[0.3333333333333333,\"#9c179e\"],[0.4444444444444444,\"#bd3786\"],[0.5555555555555556,\"#d8576b\"],[0.6666666666666666,\"#ed7953\"],[0.7777777777777778,\"#fb9f3a\"],[0.8888888888888888,\"#fdca26\"],[1.0,\"#f0f921\"]]}],\"heatmapgl\":[{\"type\":\"heatmapgl\",\"colorbar\":{\"outlinewidth\":0,\"ticks\":\"\"},\"colorscale\":[[0.0,\"#0d0887\"],[0.1111111111111111,\"#46039f\"],[0.2222222222222222,\"#7201a8\"],[0.3333333333333333,\"#9c179e\"],[0.4444444444444444,\"#bd3786\"],[0.5555555555555556,\"#d8576b\"],[0.6666666666666666,\"#ed7953\"],[0.7777777777777778,\"#fb9f3a\"],[0.8888888888888888,\"#fdca26\"],[1.0,\"#f0f921\"]]}],\"contourcarpet\":[{\"type\":\"contourcarpet\",\"colorbar\":{\"outlinewidth\":0,\"ticks\":\"\"}}],\"contour\":[{\"type\":\"contour\",\"colorbar\":{\"outlinewidth\":0,\"ticks\":\"\"},\"colorscale\":[[0.0,\"#0d0887\"],[0.1111111111111111,\"#46039f\"],[0.2222222222222222,\"#7201a8\"],[0.3333333333333333,\"#9c179e\"],[0.4444444444444444,\"#bd3786\"],[0.5555555555555556,\"#d8576b\"],[0.6666666666666666,\"#ed7953\"],[0.7777777777777778,\"#fb9f3a\"],[0.8888888888888888,\"#fdca26\"],[1.0,\"#f0f921\"]]}],\"surface\":[{\"type\":\"surface\",\"colorbar\":{\"outlinewidth\":0,\"ticks\":\"\"},\"colorscale\":[[0.0,\"#0d0887\"],[0.1111111111111111,\"#46039f\"],[0.2222222222222222,\"#7201a8\"],[0.3333333333333333,\"#9c179e\"],[0.4444444444444444,\"#bd3786\"],[0.5555555555555556,\"#d8576b\"],[0.6666666666666666,\"#ed7953\"],[0.7777777777777778,\"#fb9f3a\"],[0.8888888888888888,\"#fdca26\"],[1.0,\"#f0f921\"]]}],\"mesh3d\":[{\"type\":\"mesh3d\",\"colorbar\":{\"outlinewidth\":0,\"ticks\":\"\"}}],\"scatter\":[{\"fillpattern\":{\"fillmode\":\"overlay\",\"size\":10,\"solidity\":0.2},\"type\":\"scatter\"}],\"parcoords\":[{\"type\":\"parcoords\",\"line\":{\"colorbar\":{\"outlinewidth\":0,\"ticks\":\"\"}}}],\"scatterpolargl\":[{\"type\":\"scatterpolargl\",\"marker\":{\"colorbar\":{\"outlinewidth\":0,\"ticks\":\"\"}}}],\"bar\":[{\"error_x\":{\"color\":\"#2a3f5f\"},\"error_y\":{\"color\":\"#2a3f5f\"},\"marker\":{\"line\":{\"color\":\"#E5ECF6\",\"width\":0.5},\"pattern\":{\"fillmode\":\"overlay\",\"size\":10,\"solidity\":0.2}},\"type\":\"bar\"}],\"scattergeo\":[{\"type\":\"scattergeo\",\"marker\":{\"colorbar\":{\"outlinewidth\":0,\"ticks\":\"\"}}}],\"scatterpolar\":[{\"type\":\"scatterpolar\",\"marker\":{\"colorbar\":{\"outlinewidth\":0,\"ticks\":\"\"}}}],\"histogram\":[{\"marker\":{\"pattern\":{\"fillmode\":\"overlay\",\"size\":10,\"solidity\":0.2}},\"type\":\"histogram\"}],\"scattergl\":[{\"type\":\"scattergl\",\"marker\":{\"colorbar\":{\"outlinewidth\":0,\"ticks\":\"\"}}}],\"scatter3d\":[{\"type\":\"scatter3d\",\"line\":{\"colorbar\":{\"outlinewidth\":0,\"ticks\":\"\"}},\"marker\":{\"colorbar\":{\"outlinewidth\":0,\"ticks\":\"\"}}}],\"scattermapbox\":[{\"type\":\"scattermapbox\",\"marker\":{\"colorbar\":{\"outlinewidth\":0,\"ticks\":\"\"}}}],\"scatterternary\":[{\"type\":\"scatterternary\",\"marker\":{\"colorbar\":{\"outlinewidth\":0,\"ticks\":\"\"}}}],\"scattercarpet\":[{\"type\":\"scattercarpet\",\"marker\":{\"colorbar\":{\"outlinewidth\":0,\"ticks\":\"\"}}}],\"carpet\":[{\"aaxis\":{\"endlinecolor\":\"#2a3f5f\",\"gridcolor\":\"white\",\"linecolor\":\"white\",\"minorgridcolor\":\"white\",\"startlinecolor\":\"#2a3f5f\"},\"baxis\":{\"endlinecolor\":\"#2a3f5f\",\"gridcolor\":\"white\",\"linecolor\":\"white\",\"minorgridcolor\":\"white\",\"startlinecolor\":\"#2a3f5f\"},\"type\":\"carpet\"}],\"table\":[{\"cells\":{\"fill\":{\"color\":\"#EBF0F8\"},\"line\":{\"color\":\"white\"}},\"header\":{\"fill\":{\"color\":\"#C8D4E3\"},\"line\":{\"color\":\"white\"}},\"type\":\"table\"}],\"barpolar\":[{\"marker\":{\"line\":{\"color\":\"#E5ECF6\",\"width\":0.5},\"pattern\":{\"fillmode\":\"overlay\",\"size\":10,\"solidity\":0.2}},\"type\":\"barpolar\"}],\"pie\":[{\"automargin\":true,\"type\":\"pie\"}]},\"layout\":{\"autotypenumbers\":\"strict\",\"colorway\":[\"#636efa\",\"#EF553B\",\"#00cc96\",\"#ab63fa\",\"#FFA15A\",\"#19d3f3\",\"#FF6692\",\"#B6E880\",\"#FF97FF\",\"#FECB52\"],\"font\":{\"color\":\"#2a3f5f\"},\"hovermode\":\"closest\",\"hoverlabel\":{\"align\":\"left\"},\"paper_bgcolor\":\"white\",\"plot_bgcolor\":\"#E5ECF6\",\"polar\":{\"bgcolor\":\"#E5ECF6\",\"angularaxis\":{\"gridcolor\":\"white\",\"linecolor\":\"white\",\"ticks\":\"\"},\"radialaxis\":{\"gridcolor\":\"white\",\"linecolor\":\"white\",\"ticks\":\"\"}},\"ternary\":{\"bgcolor\":\"#E5ECF6\",\"aaxis\":{\"gridcolor\":\"white\",\"linecolor\":\"white\",\"ticks\":\"\"},\"baxis\":{\"gridcolor\":\"white\",\"linecolor\":\"white\",\"ticks\":\"\"},\"caxis\":{\"gridcolor\":\"white\",\"linecolor\":\"white\",\"ticks\":\"\"}},\"coloraxis\":{\"colorbar\":{\"outlinewidth\":0,\"ticks\":\"\"}},\"colorscale\":{\"sequential\":[[0.0,\"#0d0887\"],[0.1111111111111111,\"#46039f\"],[0.2222222222222222,\"#7201a8\"],[0.3333333333333333,\"#9c179e\"],[0.4444444444444444,\"#bd3786\"],[0.5555555555555556,\"#d8576b\"],[0.6666666666666666,\"#ed7953\"],[0.7777777777777778,\"#fb9f3a\"],[0.8888888888888888,\"#fdca26\"],[1.0,\"#f0f921\"]],\"sequentialminus\":[[0.0,\"#0d0887\"],[0.1111111111111111,\"#46039f\"],[0.2222222222222222,\"#7201a8\"],[0.3333333333333333,\"#9c179e\"],[0.4444444444444444,\"#bd3786\"],[0.5555555555555556,\"#d8576b\"],[0.6666666666666666,\"#ed7953\"],[0.7777777777777778,\"#fb9f3a\"],[0.8888888888888888,\"#fdca26\"],[1.0,\"#f0f921\"]],\"diverging\":[[0,\"#8e0152\"],[0.1,\"#c51b7d\"],[0.2,\"#de77ae\"],[0.3,\"#f1b6da\"],[0.4,\"#fde0ef\"],[0.5,\"#f7f7f7\"],[0.6,\"#e6f5d0\"],[0.7,\"#b8e186\"],[0.8,\"#7fbc41\"],[0.9,\"#4d9221\"],[1,\"#276419\"]]},\"xaxis\":{\"gridcolor\":\"white\",\"linecolor\":\"white\",\"ticks\":\"\",\"title\":{\"standoff\":15},\"zerolinecolor\":\"white\",\"automargin\":true,\"zerolinewidth\":2},\"yaxis\":{\"gridcolor\":\"white\",\"linecolor\":\"white\",\"ticks\":\"\",\"title\":{\"standoff\":15},\"zerolinecolor\":\"white\",\"automargin\":true,\"zerolinewidth\":2},\"scene\":{\"xaxis\":{\"backgroundcolor\":\"#E5ECF6\",\"gridcolor\":\"white\",\"linecolor\":\"white\",\"showbackground\":true,\"ticks\":\"\",\"zerolinecolor\":\"white\",\"gridwidth\":2},\"yaxis\":{\"backgroundcolor\":\"#E5ECF6\",\"gridcolor\":\"white\",\"linecolor\":\"white\",\"showbackground\":true,\"ticks\":\"\",\"zerolinecolor\":\"white\",\"gridwidth\":2},\"zaxis\":{\"backgroundcolor\":\"#E5ECF6\",\"gridcolor\":\"white\",\"linecolor\":\"white\",\"showbackground\":true,\"ticks\":\"\",\"zerolinecolor\":\"white\",\"gridwidth\":2}},\"shapedefaults\":{\"line\":{\"color\":\"#2a3f5f\"}},\"annotationdefaults\":{\"arrowcolor\":\"#2a3f5f\",\"arrowhead\":0,\"arrowwidth\":1},\"geo\":{\"bgcolor\":\"white\",\"landcolor\":\"#E5ECF6\",\"subunitcolor\":\"white\",\"showland\":true,\"showlakes\":true,\"lakecolor\":\"white\"},\"title\":{\"x\":0.05},\"mapbox\":{\"style\":\"light\"}}},\"xaxis\":{\"anchor\":\"y\",\"domain\":[0.0,1.0],\"title\":{\"text\":\"goal_reached\"}},\"yaxis\":{\"anchor\":\"x\",\"domain\":[0.0,1.0],\"title\":{\"text\":\"Goal\"}},\"legend\":{\"tracegroupgap\":0},\"title\":{\"text\":\"Goal Amount by Goal Reached Within 3 SD\"},\"violinmode\":\"group\"},                        {\"responsive\": true}                    ).then(function(){\n",
       "                            \n",
       "var gd = document.getElementById('ac977943-0434-44f1-92f2-58e92c8fa336');\n",
       "var x = new MutationObserver(function (mutations, observer) {{\n",
       "        var display = window.getComputedStyle(gd).display;\n",
       "        if (!display || display === 'none') {{\n",
       "            console.log([gd, 'removed!']);\n",
       "            Plotly.purge(gd);\n",
       "            observer.disconnect();\n",
       "        }}\n",
       "}});\n",
       "\n",
       "// Listen for the removal of the full notebook cells\n",
       "var notebookContainer = gd.closest('#notebook-container');\n",
       "if (notebookContainer) {{\n",
       "    x.observe(notebookContainer, {childList: true});\n",
       "}}\n",
       "\n",
       "// Listen for the clearing of the current output cell\n",
       "var outputEl = gd.closest('.output');\n",
       "if (outputEl) {{\n",
       "    x.observe(outputEl, {childList: true});\n",
       "}}\n",
       "\n",
       "                        })                };                });            </script>        </div>"
      ]
     },
     "metadata": {},
     "output_type": "display_data"
    }
   ],
   "source": [
    "# Calculate median and standard deviation\n",
    "median = df['Goal'].median()\n",
    "std_dev = df['Goal'].std()\n",
    "\n",
    "# Filter the data to keep only rows within 3 standard deviations of the median\n",
    "filtered_data = df[(df['Goal'] >= median - 3 * std_dev) & (df['Goal'] <= median + 3 * std_dev)]\n",
    "\n",
    "fig = px.violin(filtered_data, x='goal_reached', y='Goal', title=\"Goal Amount by Goal Reached Within 3 SD\")\n",
    "\n",
    "# Show the plot\n",
    "fig.show()"
   ]
  },
  {
   "cell_type": "markdown",
   "id": "76a1b0bc",
   "metadata": {
    "papermill": {
     "duration": 0.015097,
     "end_time": "2024-07-23T01:17:18.703380",
     "exception": false,
     "start_time": "2024-07-23T01:17:18.688283",
     "status": "completed"
    },
    "tags": []
   },
   "source": [
    "Now we see not only that the campaigns that did not reach their goal had the lower goal amounts, but they also had less variance compared to campaigns that had did reach or went beyond their goal amount. Campaigns that were successful had less small amount goals and higher variance. \n",
    "\n",
    "Looks like most donors went after those campaigns that needed most help, which makes sense."
   ]
  },
  {
   "cell_type": "code",
   "execution_count": null,
   "id": "fcad1654",
   "metadata": {
    "papermill": {
     "duration": 0.014633,
     "end_time": "2024-07-23T01:17:18.733281",
     "exception": false,
     "start_time": "2024-07-23T01:17:18.718648",
     "status": "completed"
    },
    "tags": []
   },
   "outputs": [],
   "source": []
  }
 ],
 "metadata": {
  "kaggle": {
   "accelerator": "none",
   "dataSources": [
    {
     "datasetId": 5400524,
     "sourceId": 8971103,
     "sourceType": "datasetVersion"
    }
   ],
   "dockerImageVersionId": 30746,
   "isGpuEnabled": false,
   "isInternetEnabled": true,
   "language": "python",
   "sourceType": "notebook"
  },
  "kernelspec": {
   "display_name": "Python 3",
   "language": "python",
   "name": "python3"
  },
  "language_info": {
   "codemirror_mode": {
    "name": "ipython",
    "version": 3
   },
   "file_extension": ".py",
   "mimetype": "text/x-python",
   "name": "python",
   "nbconvert_exporter": "python",
   "pygments_lexer": "ipython3",
   "version": "3.10.13"
  },
  "papermill": {
   "default_parameters": {},
   "duration": 36.786595,
   "end_time": "2024-07-23T01:17:20.073756",
   "environment_variables": {},
   "exception": null,
   "input_path": "__notebook__.ipynb",
   "output_path": "__notebook__.ipynb",
   "parameters": {},
   "start_time": "2024-07-23T01:16:43.287161",
   "version": "2.5.0"
  }
 },
 "nbformat": 4,
 "nbformat_minor": 5
}
